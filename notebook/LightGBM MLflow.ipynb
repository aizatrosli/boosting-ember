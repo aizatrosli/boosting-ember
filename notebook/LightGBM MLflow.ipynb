{
 "cells": [
  {
   "cell_type": "code",
   "execution_count": 1,
   "id": "f065fa54",
   "metadata": {},
   "outputs": [
    {
     "data": {
      "text/plain": [
       "True"
      ]
     },
     "execution_count": 1,
     "metadata": {},
     "output_type": "execute_result"
    }
   ],
   "source": [
    "import shap\n",
    "import joblib\n",
    "import sys,os,time,platform\n",
    "\n",
    "if platform.node() == 'aizat-fyp':\n",
    "    sys.path.append(r'/home/aizat/ember')\n",
    "    sys.path.append(r'/home/aizat/OneDrive/Master Project/Workspace/boosting-ember')\n",
    "    datasetpath = '/home/aizat/OneDrive/Master Project/Workspace/dataset/ember2018'\n",
    "else:\n",
    "    sys.path.append(r'/root/ember')\n",
    "    sys.path.append(r'/root/boosting-ember')\n",
    "    datasetpath = '/root/dataset/ember2018/'\n",
    "import mlflow    \n",
    "import ember\n",
    "import pandas as pd\n",
    "import numpy as np\n",
    "import lightgbm as lgb\n",
    "import boostember\n",
    "from boostember.features_extended import *\n",
    "\n",
    "boostember.mlflowsetup('https://raw.githubusercontent.com/aizatrosli/boosting-ember/main/mlflow?token=ACRLNIPCA745DENP3KF3XEDAQ7TKE')\n"
   ]
  },
  {
   "cell_type": "code",
   "execution_count": 2,
   "id": "54597835",
   "metadata": {},
   "outputs": [
    {
     "name": "stdout",
     "output_type": "stream",
     "text": [
      "WARNING: EMBER feature version 2 were computed using lief version 0.9.0-\n",
      "WARNING:   lief version 0.11.4-dd13711 found instead. There may be slight inconsistencies\n",
      "WARNING:   in the feature calculations.\n"
     ]
    },
    {
     "data": {
      "text/plain": [
       "((600000, 2381), (600000,))"
      ]
     },
     "execution_count": 2,
     "metadata": {},
     "output_type": "execute_result"
    }
   ],
   "source": [
    "X_train, y_train, X_test, y_test = ember.read_vectorized_features(datasetpath)\n",
    "delunlabel = (y_train != -1)\n",
    "\n",
    "X_train = X_train[delunlabel]\n",
    "#X_train = pd.DataFrame(X_train, columns=emberfeaturesheader())\n",
    "y_train = y_train[delunlabel]\n",
    "X_train.shape, y_train.shape"
   ]
  },
  {
   "cell_type": "code",
   "execution_count": 3,
   "id": "9e901650",
   "metadata": {},
   "outputs": [],
   "source": [
    "mlflow.set_tracking_uri(\"https://atlascompanion.live/\")\n",
    "#mlflow.create_experiment(\"\", artifact_location=\"gs://mlflow_aizat\")\n",
    "mlflow.set_experiment(\"Demo\")"
   ]
  },
  {
   "cell_type": "code",
   "execution_count": 4,
   "id": "7ee1c34d",
   "metadata": {},
   "outputs": [],
   "source": [
    "def fetch_logged_data(run_id):\n",
    "    client = mlflow.tracking.MlflowClient()\n",
    "    data = client.get_run(run_id).data\n",
    "    tags = {k: v for k, v in data.tags.items() if not k.startswith(\"mlflow.\")}\n",
    "    artifacts = [f.path for f in client.list_artifacts(run_id, \"model\")]\n",
    "    return data.params, data.metrics, tags, artifacts\n",
    "\n",
    "model = joblib.load('./model/defaultparams_11_4.pkl')"
   ]
  },
  {
   "cell_type": "code",
   "execution_count": 5,
   "id": "abc933de",
   "metadata": {
    "scrolled": true
   },
   "outputs": [
    {
     "name": "stderr",
     "output_type": "stream",
     "text": [
      "2021/04/20 20:50:24 WARNING mlflow.utils.autologging_utils: You are using an unsupported version of lightgbm. If you encounter errors during autologging, try upgrading / downgrading lightgbm to a supported version, or try upgrading MLflow.\n",
      "Found `num_iterations` in params. Will use it instead of argument\n",
      "Found `early_stopping_round` in params. Will use it instead of argument\n"
     ]
    },
    {
     "name": "stdout",
     "output_type": "stream",
     "text": [
      "[LightGBM] [Info] Number of positive: 300000, number of negative: 300000\n",
      "[LightGBM] [Warning] Auto-choosing col-wise multi-threading, the overhead of testing was 3.633904 seconds.\n",
      "You can set `force_col_wise=true` to remove the overhead.\n",
      "[LightGBM] [Info] Total Bins 212057\n",
      "[LightGBM] [Info] Number of data points in the train set: 600000, number of used features: 2333\n",
      "[LightGBM] [Info] [binary:BoostFromScore]: pavg=0.500000 -> initscore=0.000000\n"
     ]
    }
   ],
   "source": [
    "mlflow.lightgbm.autolog()\n",
    "with mlflow.start_run(run_name=\"demo_ember_lightgbm\") as run:\n",
    "    mlflow.set_tags({\"description\": \"Demo\",\n",
    "        \"model\": \"lightgbm\",\n",
    "        \"summary\": \"pretrained params\"})\n",
    "    lgbm_dataset = lgb.Dataset(X_train, y_train)\n",
    "    lgbm_model = lgb.train(model.params, lgbm_dataset)\n",
    "    params, metrics, tags, artifacts = fetch_logged_data(run.info.run_id)"
   ]
  },
  {
   "cell_type": "code",
   "execution_count": 8,
   "id": "f53ef399",
   "metadata": {},
   "outputs": [],
   "source": [
    "def yield_artifacts(run_id, path=None):\n",
    "    \"\"\"Yield all artifacts in the specified run\"\"\"\n",
    "    client = mlflow.tracking.MlflowClient()\n",
    "    for item in client.list_artifacts(run_id, path):\n",
    "        if item.is_dir:\n",
    "            yield from yield_artifacts(run_id, item.path)\n",
    "        else:\n",
    "            yield item.path\n",
    "\n",
    "\n",
    "def fetch_logged_data(run_id):\n",
    "    \"\"\"Fetch params, metrics, tags, and artifacts in the specified run\"\"\"\n",
    "    client = mlflow.tracking.MlflowClient()\n",
    "    data = client.get_run(run_id).data\n",
    "    # Exclude system tags: https://www.mlflow.org/docs/latest/tracking.html#system-tags\n",
    "    tags = {k: v for k, v in data.tags.items() if not k.startswith(\"mlflow.\")}\n",
    "    artifacts = list(yield_artifacts(run_id))\n",
    "    return {\n",
    "        \"params\": data.params,\n",
    "        \"metrics\": data.metrics,\n",
    "        \"tags\": tags,\n",
    "        \"artifacts\": artifacts,\n",
    "    }"
   ]
  },
  {
   "cell_type": "code",
   "execution_count": 11,
   "id": "9c8f7c33",
   "metadata": {},
   "outputs": [
    {
     "name": "stderr",
     "output_type": "stream",
     "text": [
      "2021/04/21 06:34:23 WARNING mlflow.utils.autologging_utils: You are using an unsupported version of lightgbm. If you encounter errors during autologging, try upgrading / downgrading lightgbm to a supported version, or try upgrading MLflow.\n"
     ]
    },
    {
     "name": "stdout",
     "output_type": "stream",
     "text": [
      "Fitting 3 folds for each of 12 candidates, totalling 36 fits\n"
     ]
    },
    {
     "name": "stderr",
     "output_type": "stream",
     "text": [
      "Found `num_iterations` in params. Will use it instead of argument\n"
     ]
    },
    {
     "name": "stdout",
     "output_type": "stream",
     "text": [
      "[LightGBM] [Warning] feature_fraction is set=0.5, colsample_bytree=1.0 will be ignored. Current value: feature_fraction=0.5\n",
      "[LightGBM] [Warning] bagging_fraction is set=0.5, subsample=1.0 will be ignored. Current value: bagging_fraction=0.5\n",
      "[CV 1/3] END bagging_fraction=0.5, boosting_type=goss, feature_fraction=0.5, learning_rate=0.05, num_iterations=1000, num_leaves=512, objective=binary; total time= 4.0min\n"
     ]
    },
    {
     "name": "stderr",
     "output_type": "stream",
     "text": [
      "Found `num_iterations` in params. Will use it instead of argument\n"
     ]
    },
    {
     "name": "stdout",
     "output_type": "stream",
     "text": [
      "[LightGBM] [Warning] feature_fraction is set=0.5, colsample_bytree=1.0 will be ignored. Current value: feature_fraction=0.5\n",
      "[LightGBM] [Warning] bagging_fraction is set=0.5, subsample=1.0 will be ignored. Current value: bagging_fraction=0.5\n",
      "[CV 2/3] END bagging_fraction=0.5, boosting_type=goss, feature_fraction=0.5, learning_rate=0.05, num_iterations=1000, num_leaves=512, objective=binary; total time= 9.0min\n"
     ]
    },
    {
     "name": "stderr",
     "output_type": "stream",
     "text": [
      "Found `num_iterations` in params. Will use it instead of argument\n"
     ]
    },
    {
     "name": "stdout",
     "output_type": "stream",
     "text": [
      "[LightGBM] [Warning] feature_fraction is set=0.5, colsample_bytree=1.0 will be ignored. Current value: feature_fraction=0.5\n",
      "[LightGBM] [Warning] bagging_fraction is set=0.5, subsample=1.0 will be ignored. Current value: bagging_fraction=0.5\n",
      "[CV 3/3] END bagging_fraction=0.5, boosting_type=goss, feature_fraction=0.5, learning_rate=0.05, num_iterations=1000, num_leaves=512, objective=binary; total time= 8.4min\n"
     ]
    },
    {
     "name": "stderr",
     "output_type": "stream",
     "text": [
      "Found `num_iterations` in params. Will use it instead of argument\n"
     ]
    },
    {
     "name": "stdout",
     "output_type": "stream",
     "text": [
      "[LightGBM] [Warning] feature_fraction is set=0.5, colsample_bytree=1.0 will be ignored. Current value: feature_fraction=0.5\n",
      "[LightGBM] [Warning] bagging_fraction is set=0.5, subsample=1.0 will be ignored. Current value: bagging_fraction=0.5\n",
      "[CV 1/3] END bagging_fraction=0.5, boosting_type=goss, feature_fraction=0.5, learning_rate=0.05, num_iterations=1000, num_leaves=1024, objective=binary; total time= 4.3min\n"
     ]
    },
    {
     "name": "stderr",
     "output_type": "stream",
     "text": [
      "Found `num_iterations` in params. Will use it instead of argument\n"
     ]
    },
    {
     "name": "stdout",
     "output_type": "stream",
     "text": [
      "[LightGBM] [Warning] feature_fraction is set=0.5, colsample_bytree=1.0 will be ignored. Current value: feature_fraction=0.5\n",
      "[LightGBM] [Warning] bagging_fraction is set=0.5, subsample=1.0 will be ignored. Current value: bagging_fraction=0.5\n",
      "[CV 2/3] END bagging_fraction=0.5, boosting_type=goss, feature_fraction=0.5, learning_rate=0.05, num_iterations=1000, num_leaves=1024, objective=binary; total time= 7.7min\n"
     ]
    },
    {
     "name": "stderr",
     "output_type": "stream",
     "text": [
      "Found `num_iterations` in params. Will use it instead of argument\n"
     ]
    },
    {
     "name": "stdout",
     "output_type": "stream",
     "text": [
      "[LightGBM] [Warning] feature_fraction is set=0.5, colsample_bytree=1.0 will be ignored. Current value: feature_fraction=0.5\n",
      "[LightGBM] [Warning] bagging_fraction is set=0.5, subsample=1.0 will be ignored. Current value: bagging_fraction=0.5\n",
      "[CV 3/3] END bagging_fraction=0.5, boosting_type=goss, feature_fraction=0.5, learning_rate=0.05, num_iterations=1000, num_leaves=1024, objective=binary; total time=10.8min\n"
     ]
    },
    {
     "name": "stderr",
     "output_type": "stream",
     "text": [
      "Found `num_iterations` in params. Will use it instead of argument\n"
     ]
    },
    {
     "name": "stdout",
     "output_type": "stream",
     "text": [
      "[LightGBM] [Warning] feature_fraction is set=0.5, colsample_bytree=1.0 will be ignored. Current value: feature_fraction=0.5\n",
      "[LightGBM] [Warning] bagging_fraction is set=0.5, subsample=1.0 will be ignored. Current value: bagging_fraction=0.5\n",
      "[CV 1/3] END bagging_fraction=0.5, boosting_type=goss, feature_fraction=0.5, learning_rate=0.05, num_iterations=1000, num_leaves=2048, objective=binary; total time= 6.1min\n"
     ]
    },
    {
     "name": "stderr",
     "output_type": "stream",
     "text": [
      "Found `num_iterations` in params. Will use it instead of argument\n"
     ]
    },
    {
     "name": "stdout",
     "output_type": "stream",
     "text": [
      "[LightGBM] [Warning] feature_fraction is set=0.5, colsample_bytree=1.0 will be ignored. Current value: feature_fraction=0.5\n",
      "[LightGBM] [Warning] bagging_fraction is set=0.5, subsample=1.0 will be ignored. Current value: bagging_fraction=0.5\n",
      "[CV 2/3] END bagging_fraction=0.5, boosting_type=goss, feature_fraction=0.5, learning_rate=0.05, num_iterations=1000, num_leaves=2048, objective=binary; total time= 9.0min\n"
     ]
    },
    {
     "name": "stderr",
     "output_type": "stream",
     "text": [
      "Found `num_iterations` in params. Will use it instead of argument\n"
     ]
    },
    {
     "name": "stdout",
     "output_type": "stream",
     "text": [
      "[LightGBM] [Warning] feature_fraction is set=0.5, colsample_bytree=1.0 will be ignored. Current value: feature_fraction=0.5\n",
      "[LightGBM] [Warning] bagging_fraction is set=0.5, subsample=1.0 will be ignored. Current value: bagging_fraction=0.5\n",
      "[CV 3/3] END bagging_fraction=0.5, boosting_type=goss, feature_fraction=0.5, learning_rate=0.05, num_iterations=1000, num_leaves=2048, objective=binary; total time=12.1min\n"
     ]
    },
    {
     "name": "stderr",
     "output_type": "stream",
     "text": [
      "Found `num_iterations` in params. Will use it instead of argument\n"
     ]
    },
    {
     "name": "stdout",
     "output_type": "stream",
     "text": [
      "[LightGBM] [Warning] feature_fraction is set=0.5, colsample_bytree=1.0 will be ignored. Current value: feature_fraction=0.5\n",
      "[LightGBM] [Warning] bagging_fraction is set=0.5, subsample=1.0 will be ignored. Current value: bagging_fraction=0.5\n",
      "[CV 1/3] END bagging_fraction=0.5, boosting_type=goss, feature_fraction=0.5, learning_rate=0.05, num_iterations=1000, num_leaves=4096, objective=binary; total time= 6.2min\n"
     ]
    },
    {
     "name": "stderr",
     "output_type": "stream",
     "text": [
      "Found `num_iterations` in params. Will use it instead of argument\n"
     ]
    },
    {
     "name": "stdout",
     "output_type": "stream",
     "text": [
      "[LightGBM] [Warning] feature_fraction is set=0.5, colsample_bytree=1.0 will be ignored. Current value: feature_fraction=0.5\n",
      "[LightGBM] [Warning] bagging_fraction is set=0.5, subsample=1.0 will be ignored. Current value: bagging_fraction=0.5\n",
      "[CV 2/3] END bagging_fraction=0.5, boosting_type=goss, feature_fraction=0.5, learning_rate=0.05, num_iterations=1000, num_leaves=4096, objective=binary; total time=11.9min\n"
     ]
    },
    {
     "name": "stderr",
     "output_type": "stream",
     "text": [
      "Found `num_iterations` in params. Will use it instead of argument\n"
     ]
    },
    {
     "name": "stdout",
     "output_type": "stream",
     "text": [
      "[LightGBM] [Warning] feature_fraction is set=0.5, colsample_bytree=1.0 will be ignored. Current value: feature_fraction=0.5\n",
      "[LightGBM] [Warning] bagging_fraction is set=0.5, subsample=1.0 will be ignored. Current value: bagging_fraction=0.5\n",
      "[CV 3/3] END bagging_fraction=0.5, boosting_type=goss, feature_fraction=0.5, learning_rate=0.05, num_iterations=1000, num_leaves=4096, objective=binary; total time=15.4min\n"
     ]
    },
    {
     "name": "stderr",
     "output_type": "stream",
     "text": [
      "Found `num_iterations` in params. Will use it instead of argument\n"
     ]
    },
    {
     "name": "stdout",
     "output_type": "stream",
     "text": [
      "[LightGBM] [Warning] feature_fraction is set=0.5, colsample_bytree=1.0 will be ignored. Current value: feature_fraction=0.5\n",
      "[LightGBM] [Warning] bagging_fraction is set=0.5, subsample=1.0 will be ignored. Current value: bagging_fraction=0.5\n",
      "[CV 1/3] END bagging_fraction=0.5, boosting_type=gbdt, feature_fraction=0.5, learning_rate=0.05, num_iterations=1000, num_leaves=512, objective=binary; total time= 4.6min\n"
     ]
    },
    {
     "name": "stderr",
     "output_type": "stream",
     "text": [
      "Found `num_iterations` in params. Will use it instead of argument\n"
     ]
    },
    {
     "name": "stdout",
     "output_type": "stream",
     "text": [
      "[LightGBM] [Warning] feature_fraction is set=0.5, colsample_bytree=1.0 will be ignored. Current value: feature_fraction=0.5\n",
      "[LightGBM] [Warning] bagging_fraction is set=0.5, subsample=1.0 will be ignored. Current value: bagging_fraction=0.5\n",
      "[CV 2/3] END bagging_fraction=0.5, boosting_type=gbdt, feature_fraction=0.5, learning_rate=0.05, num_iterations=1000, num_leaves=512, objective=binary; total time= 8.8min\n"
     ]
    },
    {
     "name": "stderr",
     "output_type": "stream",
     "text": [
      "Found `num_iterations` in params. Will use it instead of argument\n"
     ]
    },
    {
     "name": "stdout",
     "output_type": "stream",
     "text": [
      "[LightGBM] [Warning] feature_fraction is set=0.5, colsample_bytree=1.0 will be ignored. Current value: feature_fraction=0.5\n",
      "[LightGBM] [Warning] bagging_fraction is set=0.5, subsample=1.0 will be ignored. Current value: bagging_fraction=0.5\n",
      "[CV 3/3] END bagging_fraction=0.5, boosting_type=gbdt, feature_fraction=0.5, learning_rate=0.05, num_iterations=1000, num_leaves=512, objective=binary; total time=11.4min\n"
     ]
    },
    {
     "name": "stderr",
     "output_type": "stream",
     "text": [
      "Found `num_iterations` in params. Will use it instead of argument\n"
     ]
    },
    {
     "name": "stdout",
     "output_type": "stream",
     "text": [
      "[LightGBM] [Warning] feature_fraction is set=0.5, colsample_bytree=1.0 will be ignored. Current value: feature_fraction=0.5\n",
      "[LightGBM] [Warning] bagging_fraction is set=0.5, subsample=1.0 will be ignored. Current value: bagging_fraction=0.5\n",
      "[CV 1/3] END bagging_fraction=0.5, boosting_type=gbdt, feature_fraction=0.5, learning_rate=0.05, num_iterations=1000, num_leaves=1024, objective=binary; total time= 4.8min\n"
     ]
    },
    {
     "name": "stderr",
     "output_type": "stream",
     "text": [
      "Found `num_iterations` in params. Will use it instead of argument\n"
     ]
    },
    {
     "name": "stdout",
     "output_type": "stream",
     "text": [
      "[LightGBM] [Warning] feature_fraction is set=0.5, colsample_bytree=1.0 will be ignored. Current value: feature_fraction=0.5\n",
      "[LightGBM] [Warning] bagging_fraction is set=0.5, subsample=1.0 will be ignored. Current value: bagging_fraction=0.5\n",
      "[CV 2/3] END bagging_fraction=0.5, boosting_type=gbdt, feature_fraction=0.5, learning_rate=0.05, num_iterations=1000, num_leaves=1024, objective=binary; total time=10.2min\n"
     ]
    },
    {
     "name": "stderr",
     "output_type": "stream",
     "text": [
      "Found `num_iterations` in params. Will use it instead of argument\n"
     ]
    },
    {
     "name": "stdout",
     "output_type": "stream",
     "text": [
      "[LightGBM] [Warning] feature_fraction is set=0.5, colsample_bytree=1.0 will be ignored. Current value: feature_fraction=0.5\n",
      "[LightGBM] [Warning] bagging_fraction is set=0.5, subsample=1.0 will be ignored. Current value: bagging_fraction=0.5\n",
      "[CV 3/3] END bagging_fraction=0.5, boosting_type=gbdt, feature_fraction=0.5, learning_rate=0.05, num_iterations=1000, num_leaves=1024, objective=binary; total time=15.2min\n"
     ]
    },
    {
     "name": "stderr",
     "output_type": "stream",
     "text": [
      "Found `num_iterations` in params. Will use it instead of argument\n"
     ]
    },
    {
     "name": "stdout",
     "output_type": "stream",
     "text": [
      "[LightGBM] [Warning] feature_fraction is set=0.5, colsample_bytree=1.0 will be ignored. Current value: feature_fraction=0.5\n",
      "[LightGBM] [Warning] bagging_fraction is set=0.5, subsample=1.0 will be ignored. Current value: bagging_fraction=0.5\n",
      "[CV 1/3] END bagging_fraction=0.5, boosting_type=gbdt, feature_fraction=0.5, learning_rate=0.05, num_iterations=1000, num_leaves=2048, objective=binary; total time= 6.6min\n"
     ]
    },
    {
     "name": "stderr",
     "output_type": "stream",
     "text": [
      "Found `num_iterations` in params. Will use it instead of argument\n"
     ]
    },
    {
     "name": "stdout",
     "output_type": "stream",
     "text": [
      "[LightGBM] [Warning] feature_fraction is set=0.5, colsample_bytree=1.0 will be ignored. Current value: feature_fraction=0.5\n",
      "[LightGBM] [Warning] bagging_fraction is set=0.5, subsample=1.0 will be ignored. Current value: bagging_fraction=0.5\n",
      "[CV 2/3] END bagging_fraction=0.5, boosting_type=gbdt, feature_fraction=0.5, learning_rate=0.05, num_iterations=1000, num_leaves=2048, objective=binary; total time=11.2min\n"
     ]
    },
    {
     "name": "stderr",
     "output_type": "stream",
     "text": [
      "Found `num_iterations` in params. Will use it instead of argument\n"
     ]
    },
    {
     "name": "stdout",
     "output_type": "stream",
     "text": [
      "[LightGBM] [Warning] feature_fraction is set=0.5, colsample_bytree=1.0 will be ignored. Current value: feature_fraction=0.5\n",
      "[LightGBM] [Warning] bagging_fraction is set=0.5, subsample=1.0 will be ignored. Current value: bagging_fraction=0.5\n",
      "[CV 3/3] END bagging_fraction=0.5, boosting_type=gbdt, feature_fraction=0.5, learning_rate=0.05, num_iterations=1000, num_leaves=2048, objective=binary; total time=16.4min\n"
     ]
    },
    {
     "name": "stderr",
     "output_type": "stream",
     "text": [
      "Found `num_iterations` in params. Will use it instead of argument\n"
     ]
    },
    {
     "name": "stdout",
     "output_type": "stream",
     "text": [
      "[LightGBM] [Warning] feature_fraction is set=0.5, colsample_bytree=1.0 will be ignored. Current value: feature_fraction=0.5\n",
      "[LightGBM] [Warning] bagging_fraction is set=0.5, subsample=1.0 will be ignored. Current value: bagging_fraction=0.5\n",
      "[CV 1/3] END bagging_fraction=0.5, boosting_type=gbdt, feature_fraction=0.5, learning_rate=0.05, num_iterations=1000, num_leaves=4096, objective=binary; total time= 9.5min\n"
     ]
    },
    {
     "name": "stderr",
     "output_type": "stream",
     "text": [
      "Found `num_iterations` in params. Will use it instead of argument\n"
     ]
    },
    {
     "name": "stdout",
     "output_type": "stream",
     "text": [
      "[LightGBM] [Warning] feature_fraction is set=0.5, colsample_bytree=1.0 will be ignored. Current value: feature_fraction=0.5\n",
      "[LightGBM] [Warning] bagging_fraction is set=0.5, subsample=1.0 will be ignored. Current value: bagging_fraction=0.5\n",
      "[CV 2/3] END bagging_fraction=0.5, boosting_type=gbdt, feature_fraction=0.5, learning_rate=0.05, num_iterations=1000, num_leaves=4096, objective=binary; total time=14.5min\n"
     ]
    },
    {
     "name": "stderr",
     "output_type": "stream",
     "text": [
      "Found `num_iterations` in params. Will use it instead of argument\n"
     ]
    },
    {
     "name": "stdout",
     "output_type": "stream",
     "text": [
      "[LightGBM] [Warning] feature_fraction is set=0.5, colsample_bytree=1.0 will be ignored. Current value: feature_fraction=0.5\n",
      "[LightGBM] [Warning] bagging_fraction is set=0.5, subsample=1.0 will be ignored. Current value: bagging_fraction=0.5\n",
      "[CV 3/3] END bagging_fraction=0.5, boosting_type=gbdt, feature_fraction=0.5, learning_rate=0.05, num_iterations=1000, num_leaves=4096, objective=binary; total time=18.9min\n"
     ]
    },
    {
     "name": "stderr",
     "output_type": "stream",
     "text": [
      "Found `num_iterations` in params. Will use it instead of argument\n"
     ]
    },
    {
     "name": "stdout",
     "output_type": "stream",
     "text": [
      "[LightGBM] [Warning] feature_fraction is set=0.5, colsample_bytree=1.0 will be ignored. Current value: feature_fraction=0.5\n",
      "[LightGBM] [Warning] bagging_fraction is set=0.5, subsample=1.0 will be ignored. Current value: bagging_fraction=0.5\n",
      "[CV 1/3] END bagging_fraction=0.5, boosting_type=dart, feature_fraction=0.5, learning_rate=0.05, num_iterations=1000, num_leaves=512, objective=binary; total time= 8.4min\n"
     ]
    },
    {
     "name": "stderr",
     "output_type": "stream",
     "text": [
      "Found `num_iterations` in params. Will use it instead of argument\n"
     ]
    },
    {
     "name": "stdout",
     "output_type": "stream",
     "text": [
      "[LightGBM] [Warning] feature_fraction is set=0.5, colsample_bytree=1.0 will be ignored. Current value: feature_fraction=0.5\n",
      "[LightGBM] [Warning] bagging_fraction is set=0.5, subsample=1.0 will be ignored. Current value: bagging_fraction=0.5\n",
      "[CV 2/3] END bagging_fraction=0.5, boosting_type=dart, feature_fraction=0.5, learning_rate=0.05, num_iterations=1000, num_leaves=512, objective=binary; total time=14.1min\n"
     ]
    },
    {
     "name": "stderr",
     "output_type": "stream",
     "text": [
      "Found `num_iterations` in params. Will use it instead of argument\n"
     ]
    },
    {
     "name": "stdout",
     "output_type": "stream",
     "text": [
      "[LightGBM] [Warning] feature_fraction is set=0.5, colsample_bytree=1.0 will be ignored. Current value: feature_fraction=0.5\n",
      "[LightGBM] [Warning] bagging_fraction is set=0.5, subsample=1.0 will be ignored. Current value: bagging_fraction=0.5\n",
      "[CV 3/3] END bagging_fraction=0.5, boosting_type=dart, feature_fraction=0.5, learning_rate=0.05, num_iterations=1000, num_leaves=512, objective=binary; total time=19.8min\n"
     ]
    },
    {
     "name": "stderr",
     "output_type": "stream",
     "text": [
      "Found `num_iterations` in params. Will use it instead of argument\n"
     ]
    },
    {
     "name": "stdout",
     "output_type": "stream",
     "text": [
      "[LightGBM] [Warning] feature_fraction is set=0.5, colsample_bytree=1.0 will be ignored. Current value: feature_fraction=0.5\n",
      "[LightGBM] [Warning] bagging_fraction is set=0.5, subsample=1.0 will be ignored. Current value: bagging_fraction=0.5\n",
      "[CV 1/3] END bagging_fraction=0.5, boosting_type=dart, feature_fraction=0.5, learning_rate=0.05, num_iterations=1000, num_leaves=1024, objective=binary; total time=12.6min\n"
     ]
    },
    {
     "name": "stderr",
     "output_type": "stream",
     "text": [
      "Found `num_iterations` in params. Will use it instead of argument\n"
     ]
    },
    {
     "name": "stdout",
     "output_type": "stream",
     "text": [
      "[LightGBM] [Warning] feature_fraction is set=0.5, colsample_bytree=1.0 will be ignored. Current value: feature_fraction=0.5\n",
      "[LightGBM] [Warning] bagging_fraction is set=0.5, subsample=1.0 will be ignored. Current value: bagging_fraction=0.5\n",
      "[CV 2/3] END bagging_fraction=0.5, boosting_type=dart, feature_fraction=0.5, learning_rate=0.05, num_iterations=1000, num_leaves=1024, objective=binary; total time=20.1min\n"
     ]
    },
    {
     "name": "stderr",
     "output_type": "stream",
     "text": [
      "Found `num_iterations` in params. Will use it instead of argument\n"
     ]
    },
    {
     "name": "stdout",
     "output_type": "stream",
     "text": [
      "[LightGBM] [Warning] feature_fraction is set=0.5, colsample_bytree=1.0 will be ignored. Current value: feature_fraction=0.5\n",
      "[LightGBM] [Warning] bagging_fraction is set=0.5, subsample=1.0 will be ignored. Current value: bagging_fraction=0.5\n",
      "[CV 3/3] END bagging_fraction=0.5, boosting_type=dart, feature_fraction=0.5, learning_rate=0.05, num_iterations=1000, num_leaves=1024, objective=binary; total time=27.2min\n"
     ]
    },
    {
     "name": "stderr",
     "output_type": "stream",
     "text": [
      "Found `num_iterations` in params. Will use it instead of argument\n"
     ]
    },
    {
     "name": "stdout",
     "output_type": "stream",
     "text": [
      "[LightGBM] [Warning] feature_fraction is set=0.5, colsample_bytree=1.0 will be ignored. Current value: feature_fraction=0.5\n",
      "[LightGBM] [Warning] bagging_fraction is set=0.5, subsample=1.0 will be ignored. Current value: bagging_fraction=0.5\n",
      "[CV 1/3] END bagging_fraction=0.5, boosting_type=dart, feature_fraction=0.5, learning_rate=0.05, num_iterations=1000, num_leaves=2048, objective=binary; total time=21.8min\n"
     ]
    },
    {
     "name": "stderr",
     "output_type": "stream",
     "text": [
      "Found `num_iterations` in params. Will use it instead of argument\n"
     ]
    },
    {
     "name": "stdout",
     "output_type": "stream",
     "text": [
      "[LightGBM] [Warning] feature_fraction is set=0.5, colsample_bytree=1.0 will be ignored. Current value: feature_fraction=0.5\n",
      "[LightGBM] [Warning] bagging_fraction is set=0.5, subsample=1.0 will be ignored. Current value: bagging_fraction=0.5\n",
      "[CV 2/3] END bagging_fraction=0.5, boosting_type=dart, feature_fraction=0.5, learning_rate=0.05, num_iterations=1000, num_leaves=2048, objective=binary; total time=30.7min\n"
     ]
    },
    {
     "name": "stderr",
     "output_type": "stream",
     "text": [
      "Found `num_iterations` in params. Will use it instead of argument\n"
     ]
    },
    {
     "name": "stdout",
     "output_type": "stream",
     "text": [
      "[LightGBM] [Warning] feature_fraction is set=0.5, colsample_bytree=1.0 will be ignored. Current value: feature_fraction=0.5\n",
      "[LightGBM] [Warning] bagging_fraction is set=0.5, subsample=1.0 will be ignored. Current value: bagging_fraction=0.5\n",
      "[CV 3/3] END bagging_fraction=0.5, boosting_type=dart, feature_fraction=0.5, learning_rate=0.05, num_iterations=1000, num_leaves=2048, objective=binary; total time=39.2min\n"
     ]
    },
    {
     "name": "stderr",
     "output_type": "stream",
     "text": [
      "Found `num_iterations` in params. Will use it instead of argument\n"
     ]
    },
    {
     "name": "stdout",
     "output_type": "stream",
     "text": [
      "[LightGBM] [Warning] feature_fraction is set=0.5, colsample_bytree=1.0 will be ignored. Current value: feature_fraction=0.5\n",
      "[LightGBM] [Warning] bagging_fraction is set=0.5, subsample=1.0 will be ignored. Current value: bagging_fraction=0.5\n",
      "[CV 1/3] END bagging_fraction=0.5, boosting_type=dart, feature_fraction=0.5, learning_rate=0.05, num_iterations=1000, num_leaves=4096, objective=binary; total time=35.5min\n"
     ]
    },
    {
     "name": "stderr",
     "output_type": "stream",
     "text": [
      "Found `num_iterations` in params. Will use it instead of argument\n"
     ]
    },
    {
     "name": "stdout",
     "output_type": "stream",
     "text": [
      "[LightGBM] [Warning] feature_fraction is set=0.5, colsample_bytree=1.0 will be ignored. Current value: feature_fraction=0.5\n",
      "[LightGBM] [Warning] bagging_fraction is set=0.5, subsample=1.0 will be ignored. Current value: bagging_fraction=0.5\n",
      "[CV 2/3] END bagging_fraction=0.5, boosting_type=dart, feature_fraction=0.5, learning_rate=0.05, num_iterations=1000, num_leaves=4096, objective=binary; total time=48.9min\n"
     ]
    },
    {
     "name": "stderr",
     "output_type": "stream",
     "text": [
      "Found `num_iterations` in params. Will use it instead of argument\n"
     ]
    },
    {
     "name": "stdout",
     "output_type": "stream",
     "text": [
      "[LightGBM] [Warning] feature_fraction is set=0.5, colsample_bytree=1.0 will be ignored. Current value: feature_fraction=0.5\n",
      "[LightGBM] [Warning] bagging_fraction is set=0.5, subsample=1.0 will be ignored. Current value: bagging_fraction=0.5\n",
      "[CV 3/3] END bagging_fraction=0.5, boosting_type=dart, feature_fraction=0.5, learning_rate=0.05, num_iterations=1000, num_leaves=4096, objective=binary; total time=57.6min\n",
      "[LightGBM] [Warning] feature_fraction is set=0.5, colsample_bytree=1.0 will be ignored. Current value: feature_fraction=0.5\n",
      "[LightGBM] [Warning] bagging_fraction is set=0.5, subsample=1.0 will be ignored. Current value: bagging_fraction=0.5\n"
     ]
    },
    {
     "name": "stderr",
     "output_type": "stream",
     "text": [
      "Found `num_iterations` in params. Will use it instead of argument\n",
      "2021/04/21 16:34:16 WARNING mlflow.utils.autologging_utils: MLflow autologging encountered a warning: \"/root/anaconda3/envs/fyp/lib/python3.8/site-packages/mlflow/sklearn/__init__.py:866: UserWarning: Logging to MLflow failed: cannot pickle 'generator' object\"\n"
     ]
    },
    {
     "name": "stdout",
     "output_type": "stream",
     "text": [
      "========== parent run ==========\n",
      "\n",
      "---------- logged params ----------\n",
      "{'cv': '<generator object TimeSeriesSplit.split at 0x7f0571860ba0>', 'error_score': 'nan', 'estimator': 'LGBMClassifier()', 'n_jobs': '1', 'param_grid': \"{'boosting_type': ['goss', 'gbdt', 'dart'], 'objective': ['binary'], 'num_iterations': [1000], 'learning_rate': [0.05], 'num_leaves': [512, 1024, 2048, 4096], 'feature_fraction': [0.5], 'bagging_fraction': [0.5]}\", 'pre_dispatch': '2*n_jobs', 'refit': 'True', 'return_train_score': 'False', 'scoring': 'make_scorer(roc_auc_score, max_fpr=0.005)', 'verbose': '3', 'best_bagging_fraction': '0.5', 'best_boosting_type': 'gbdt', 'best_feature_fraction': '0.5', 'best_learning_rate': '0.05', 'best_num_iterations': '1000', 'best_num_leaves': '4096', 'best_objective': 'binary'}\n",
      "\n",
      "========== child runs ==========\n",
      "\n",
      "                              run_id params.boosting_type params.objective  \\\n",
      "0   36db7b14af6d4c08a0e0aa25ec0972b1                 goss           binary   \n",
      "1   5624fe6d1e2249eca81db08f2c9645ae                 gbdt           binary   \n",
      "2   75d01962ab0d43d3a7f8dec356ebb346                 gbdt           binary   \n",
      "3   9ada5eb249e44f01a027bea06614567e                 goss           binary   \n",
      "4   aae4a6a8eb7b48daadb16a11d655d091                 gbdt           binary   \n",
      "5   ac8bb4910c0a42d88c0e64586d604da6                 dart           binary   \n",
      "6   b2400e64c830415099b704e1f63d64b2                 dart           binary   \n",
      "7   badf4bbce5304a4f9937f1c75b1e9f27                 goss           binary   \n",
      "8   bbbafb0746d84ab5ab8c824bffd9712d                 dart           binary   \n",
      "9   c7cdbefbfbea459fa7c5e45ce996146f                 dart           binary   \n",
      "10  c82f2287807c4c659e1ae68155359f9d                 goss           binary   \n",
      "11  e3238bdd2b9a4b32a2672d5176216d9d                 gbdt           binary   \n",
      "\n",
      "   params.num_iterations params.learning_rate params.num_leaves  \\\n",
      "0                   1000                 0.05               512   \n",
      "1                   1000                 0.05              4096   \n",
      "2                   1000                 0.05               512   \n",
      "3                   1000                 0.05              1024   \n",
      "4                   1000                 0.05              1024   \n",
      "5                   1000                 0.05              2048   \n",
      "6                   1000                 0.05              1024   \n",
      "7                   1000                 0.05              2048   \n",
      "8                   1000                 0.05              4096   \n",
      "9                   1000                 0.05               512   \n",
      "10                  1000                 0.05              4096   \n",
      "11                  1000                 0.05              2048   \n",
      "\n",
      "   params.feature_fraction params.bagging_fraction  metrics.mean_test_score  \n",
      "0                      0.5                     0.5                 0.569946  \n",
      "1                      0.5                     0.5                 0.571586  \n",
      "2                      0.5                     0.5                 0.569438  \n",
      "3                      0.5                     0.5                 0.570906  \n",
      "4                      0.5                     0.5                 0.570058  \n",
      "5                      0.5                     0.5                 0.570688  \n",
      "6                      0.5                     0.5                 0.569499  \n",
      "7                      0.5                     0.5                 0.571322  \n",
      "8                      0.5                     0.5                 0.571454  \n",
      "9                      0.5                     0.5                 0.565421  \n",
      "10                     0.5                     0.5                 0.571057  \n",
      "11                     0.5                     0.5                 0.571431  \n",
      "\n",
      "---------- logged metrics ----------\n",
      "{'training_score': 0.9999983333333333, 'training_precision_score': 0.9999983333388889, 'training_recall_score': 0.9999983333333333, 'training_f1_score': 0.9999983333333333, 'training_accuracy_score': 0.9999983333333333, 'training_log_loss': 2.6000140611222817e-06, 'training_roc_auc_score': 0.9999999999944444, 'best_cv_score': 0.5715855753744571}\n",
      "\n",
      "========== child runs ==========\n",
      "\n",
      "                              run_id params.boosting_type params.objective  \\\n",
      "0   36db7b14af6d4c08a0e0aa25ec0972b1                 goss           binary   \n",
      "1   5624fe6d1e2249eca81db08f2c9645ae                 gbdt           binary   \n",
      "2   75d01962ab0d43d3a7f8dec356ebb346                 gbdt           binary   \n",
      "3   9ada5eb249e44f01a027bea06614567e                 goss           binary   \n",
      "4   aae4a6a8eb7b48daadb16a11d655d091                 gbdt           binary   \n",
      "5   ac8bb4910c0a42d88c0e64586d604da6                 dart           binary   \n",
      "6   b2400e64c830415099b704e1f63d64b2                 dart           binary   \n",
      "7   badf4bbce5304a4f9937f1c75b1e9f27                 goss           binary   \n",
      "8   bbbafb0746d84ab5ab8c824bffd9712d                 dart           binary   \n",
      "9   c7cdbefbfbea459fa7c5e45ce996146f                 dart           binary   \n",
      "10  c82f2287807c4c659e1ae68155359f9d                 goss           binary   \n",
      "11  e3238bdd2b9a4b32a2672d5176216d9d                 gbdt           binary   \n",
      "\n",
      "   params.num_iterations params.learning_rate params.num_leaves  \\\n",
      "0                   1000                 0.05               512   \n",
      "1                   1000                 0.05              4096   \n",
      "2                   1000                 0.05               512   \n",
      "3                   1000                 0.05              1024   \n",
      "4                   1000                 0.05              1024   \n",
      "5                   1000                 0.05              2048   \n",
      "6                   1000                 0.05              1024   \n",
      "7                   1000                 0.05              2048   \n",
      "8                   1000                 0.05              4096   \n",
      "9                   1000                 0.05               512   \n",
      "10                  1000                 0.05              4096   \n",
      "11                  1000                 0.05              2048   \n",
      "\n",
      "   params.feature_fraction params.bagging_fraction  metrics.mean_test_score  \n",
      "0                      0.5                     0.5                 0.569946  \n",
      "1                      0.5                     0.5                 0.571586  \n",
      "2                      0.5                     0.5                 0.569438  \n",
      "3                      0.5                     0.5                 0.570906  \n",
      "4                      0.5                     0.5                 0.570058  \n",
      "5                      0.5                     0.5                 0.570688  \n",
      "6                      0.5                     0.5                 0.569499  \n",
      "7                      0.5                     0.5                 0.571322  \n",
      "8                      0.5                     0.5                 0.571454  \n",
      "9                      0.5                     0.5                 0.565421  \n",
      "10                     0.5                     0.5                 0.571057  \n",
      "11                     0.5                     0.5                 0.571431  \n",
      "\n",
      "---------- logged tags ----------\n",
      "{'description': 'Demo', 'model': 'lightgbm', 'summary': 'gridsearch test', 'estimator_name': 'GridSearchCV', 'estimator_class': 'sklearn.model_selection._search.GridSearchCV'}\n",
      "\n",
      "========== child runs ==========\n",
      "\n",
      "                              run_id params.boosting_type params.objective  \\\n",
      "0   36db7b14af6d4c08a0e0aa25ec0972b1                 goss           binary   \n",
      "1   5624fe6d1e2249eca81db08f2c9645ae                 gbdt           binary   \n",
      "2   75d01962ab0d43d3a7f8dec356ebb346                 gbdt           binary   \n",
      "3   9ada5eb249e44f01a027bea06614567e                 goss           binary   \n",
      "4   aae4a6a8eb7b48daadb16a11d655d091                 gbdt           binary   \n",
      "5   ac8bb4910c0a42d88c0e64586d604da6                 dart           binary   \n",
      "6   b2400e64c830415099b704e1f63d64b2                 dart           binary   \n",
      "7   badf4bbce5304a4f9937f1c75b1e9f27                 goss           binary   \n",
      "8   bbbafb0746d84ab5ab8c824bffd9712d                 dart           binary   \n",
      "9   c7cdbefbfbea459fa7c5e45ce996146f                 dart           binary   \n",
      "10  c82f2287807c4c659e1ae68155359f9d                 goss           binary   \n",
      "11  e3238bdd2b9a4b32a2672d5176216d9d                 gbdt           binary   \n",
      "\n",
      "   params.num_iterations params.learning_rate params.num_leaves  \\\n",
      "0                   1000                 0.05               512   \n",
      "1                   1000                 0.05              4096   \n",
      "2                   1000                 0.05               512   \n",
      "3                   1000                 0.05              1024   \n",
      "4                   1000                 0.05              1024   \n",
      "5                   1000                 0.05              2048   \n",
      "6                   1000                 0.05              1024   \n",
      "7                   1000                 0.05              2048   \n",
      "8                   1000                 0.05              4096   \n",
      "9                   1000                 0.05               512   \n",
      "10                  1000                 0.05              4096   \n",
      "11                  1000                 0.05              2048   \n",
      "\n",
      "   params.feature_fraction params.bagging_fraction  metrics.mean_test_score  \n",
      "0                      0.5                     0.5                 0.569946  \n",
      "1                      0.5                     0.5                 0.571586  \n",
      "2                      0.5                     0.5                 0.569438  \n",
      "3                      0.5                     0.5                 0.570906  \n",
      "4                      0.5                     0.5                 0.570058  \n",
      "5                      0.5                     0.5                 0.570688  \n",
      "6                      0.5                     0.5                 0.569499  \n",
      "7                      0.5                     0.5                 0.571322  \n",
      "8                      0.5                     0.5                 0.571454  \n",
      "9                      0.5                     0.5                 0.565421  \n",
      "10                     0.5                     0.5                 0.571057  \n",
      "11                     0.5                     0.5                 0.571431  \n",
      "\n",
      "---------- logged artifacts ----------\n",
      "['best_estimator/MLmodel', 'best_estimator/conda.yaml', 'best_estimator/model.pkl', 'cv_results.csv', 'training_confusion_matrix.png', 'training_precision_recall_curve.png', 'training_roc_curve.png']\n",
      "\n",
      "========== child runs ==========\n",
      "\n",
      "                              run_id params.boosting_type params.objective  \\\n",
      "0   36db7b14af6d4c08a0e0aa25ec0972b1                 goss           binary   \n",
      "1   5624fe6d1e2249eca81db08f2c9645ae                 gbdt           binary   \n",
      "2   75d01962ab0d43d3a7f8dec356ebb346                 gbdt           binary   \n",
      "3   9ada5eb249e44f01a027bea06614567e                 goss           binary   \n",
      "4   aae4a6a8eb7b48daadb16a11d655d091                 gbdt           binary   \n",
      "5   ac8bb4910c0a42d88c0e64586d604da6                 dart           binary   \n",
      "6   b2400e64c830415099b704e1f63d64b2                 dart           binary   \n",
      "7   badf4bbce5304a4f9937f1c75b1e9f27                 goss           binary   \n",
      "8   bbbafb0746d84ab5ab8c824bffd9712d                 dart           binary   \n",
      "9   c7cdbefbfbea459fa7c5e45ce996146f                 dart           binary   \n",
      "10  c82f2287807c4c659e1ae68155359f9d                 goss           binary   \n",
      "11  e3238bdd2b9a4b32a2672d5176216d9d                 gbdt           binary   \n",
      "\n",
      "   params.num_iterations params.learning_rate params.num_leaves  \\\n",
      "0                   1000                 0.05               512   \n",
      "1                   1000                 0.05              4096   \n",
      "2                   1000                 0.05               512   \n",
      "3                   1000                 0.05              1024   \n",
      "4                   1000                 0.05              1024   \n",
      "5                   1000                 0.05              2048   \n",
      "6                   1000                 0.05              1024   \n",
      "7                   1000                 0.05              2048   \n",
      "8                   1000                 0.05              4096   \n",
      "9                   1000                 0.05               512   \n",
      "10                  1000                 0.05              4096   \n",
      "11                  1000                 0.05              2048   \n",
      "\n",
      "   params.feature_fraction params.bagging_fraction  metrics.mean_test_score  \n",
      "0                      0.5                     0.5                 0.569946  \n",
      "1                      0.5                     0.5                 0.571586  \n",
      "2                      0.5                     0.5                 0.569438  \n",
      "3                      0.5                     0.5                 0.570906  \n",
      "4                      0.5                     0.5                 0.570058  \n",
      "5                      0.5                     0.5                 0.570688  \n",
      "6                      0.5                     0.5                 0.569499  \n",
      "7                      0.5                     0.5                 0.571322  \n",
      "8                      0.5                     0.5                 0.571454  \n",
      "9                      0.5                     0.5                 0.565421  \n",
      "10                     0.5                     0.5                 0.571057  \n",
      "11                     0.5                     0.5                 0.571431  \n"
     ]
    }
   ],
   "source": [
    "from sklearn.metrics import (roc_auc_score, make_scorer)\n",
    "from sklearn.metrics import roc_auc_score, roc_curve\n",
    "from sklearn.model_selection import GridSearchCV\n",
    "from sklearn.model_selection import TimeSeriesSplit\n",
    "\n",
    "params = {\n",
    "    'boosting_type': ['goss','gbdt','dart'],\n",
    "    'objective': ['binary'],\n",
    "    'num_iterations': [1000],\n",
    "    'learning_rate': [0.05],\n",
    "    'num_leaves': [512, 1024, 2048, 4096],\n",
    "    'feature_fraction': [0.5],\n",
    "    'bagging_fraction': [0.5]\n",
    "}\n",
    "\n",
    "mlflow.sklearn.autolog()\n",
    "mlflow.lightgbm.autolog()\n",
    "\n",
    "score = make_scorer(roc_auc_score, max_fpr=5e-3)\n",
    "model = lgb.LGBMClassifier(boosting_type=\"gbdt\", n_jobs=-1, silent=True)\n",
    "progressive_cv = TimeSeriesSplit(n_splits=3).split(X_train)\n",
    "grid = GridSearchCV(estimator=model, cv=progressive_cv, param_grid=params, scoring=score, n_jobs=1, verbose=3)\n",
    "\n",
    "\n",
    "\n",
    "\n",
    "with mlflow.start_run() as run:\n",
    "    mlflow.set_tags({\"description\": \"Demo\",\n",
    "        \"model\": \"lightgbm\",\n",
    "        \"summary\": \"gridsearch test\"})\n",
    "    grid.fit(X_train, y_train)\n",
    "    # show data logged in the parent run\n",
    "    print(\"========== parent run ==========\")\n",
    "    for key, data in fetch_logged_data(run.info.run_id).items():\n",
    "        print(\"\\n---------- logged {} ----------\".format(key))\n",
    "        print(data)\n",
    "        # show data logged in the child runs\n",
    "        filter_child_runs = \"tags.mlflow.parentRunId = '{}'\".format(run.info.run_id)\n",
    "        runs = mlflow.search_runs(filter_string=filter_child_runs)\n",
    "        param_cols = [\"params.{}\".format(p) for p in params.keys()]\n",
    "        metric_cols = [\"metrics.mean_test_score\"]\n",
    "\n",
    "        print(\"\\n========== child runs ==========\\n\")\n",
    "        pd.set_option(\"display.max_columns\", None)  # prevent truncating columns\n",
    "        print(runs[[\"run_id\", *param_cols, *metric_cols]])"
   ]
  },
  {
   "cell_type": "code",
   "execution_count": null,
   "id": "874249ac",
   "metadata": {},
   "outputs": [],
   "source": []
  }
 ],
 "metadata": {
  "kernelspec": {
   "display_name": "Python 3",
   "language": "python",
   "name": "python3"
  },
  "language_info": {
   "codemirror_mode": {
    "name": "ipython",
    "version": 3
   },
   "file_extension": ".py",
   "mimetype": "text/x-python",
   "name": "python",
   "nbconvert_exporter": "python",
   "pygments_lexer": "ipython3",
   "version": "3.8.8"
  }
 },
 "nbformat": 4,
 "nbformat_minor": 5
}
