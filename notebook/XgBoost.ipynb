{
 "cells": [
  {
   "cell_type": "code",
   "execution_count": 1,
   "id": "d2989747",
   "metadata": {},
   "outputs": [],
   "source": [
    "import shap\n",
    "import joblib\n",
    "import sys,os,time,platform\n",
    "\n",
    "if platform.node() == 'aizat-fyp':\n",
    "    sys.path.append(r'/home/aizat/ember')\n",
    "    sys.path.append(r'/home/aizat/OneDrive/Master Project/Workspace/boosting-ember')\n",
    "    datasetpath = '/home/aizat/OneDrive/Master Project/Workspace/dataset/ember2018'\n",
    "else:\n",
    "    sys.path.append(r'/root/ember')\n",
    "    sys.path.append(r'/root/boosting-ember')\n",
    "    datasetpath = '/root/dataset/ember2018/'\n",
    "    \n",
    "import ember\n",
    "import pandas as pd\n",
    "import numpy as np\n",
    "import lightgbm as lgb\n",
    "from boostember.features_extended import *\n"
   ]
  },
  {
   "cell_type": "code",
   "execution_count": null,
   "id": "2f6c7788",
   "metadata": {},
   "outputs": [],
   "source": []
  },
  {
   "cell_type": "code",
   "execution_count": null,
   "id": "38ea2c59",
   "metadata": {},
   "outputs": [],
   "source": [
    "def train_model_extended(data_dir, algo=\"lightgbm\", params={}, feature_version=2):\n",
    "    \"\"\"\n",
    "    Train the model from the EMBER dataset from the vectorized features.\n",
    "    Extension from train_model()\n",
    "    \"\"\"\n",
    "    # Read data\n",
    "    X_train, y_train = read_vectorized_features(data_dir, \"train\", feature_version)\n",
    "    # Filter unlabeled data\n",
    "    train_rows = (y_train != -1)\n",
    "    # Train\n",
    "    if algo == \"lightgbm\":\n",
    "        import lightgbm as lgb\n",
    "        return lgb.train(params, lgb.Dataset(X_train[train_rows], y_train[train_rows]))\n",
    "    elif algo == \"catboost\":\n",
    "        import catboost as cat\n",
    "        from catboost import Pool\n",
    "        return cat.train(params, cat.Pool(X_train[train_rows], y_train[train_rows]))\n",
    "    elif algo == 'xgboost':\n",
    "        import xgboost as xb\n",
    "        from xgboost import DMatrix\n",
    "        return xb.train(params, xb.DMatrix(X_train[train_rows], y_train[train_rows]))\n"
   ]
  }
 ],
 "metadata": {
  "kernelspec": {
   "display_name": "Python 3",
   "language": "python",
   "name": "python3"
  },
  "language_info": {
   "codemirror_mode": {
    "name": "ipython",
    "version": 3
   },
   "file_extension": ".py",
   "mimetype": "text/x-python",
   "name": "python",
   "nbconvert_exporter": "python",
   "pygments_lexer": "ipython3",
   "version": "3.8.8"
  }
 },
 "nbformat": 4,
 "nbformat_minor": 5
}
