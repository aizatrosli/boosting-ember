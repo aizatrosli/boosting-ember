{
 "cells": [
  {
   "cell_type": "code",
   "execution_count": 1,
   "metadata": {},
   "outputs": [
    {
     "name": "stdout",
     "output_type": "stream",
     "text": [
      "WARNING: EMBER feature version 2 were computed using lief version 0.9.0-\n",
      "WARNING:   lief version 0.11.4-dd13711 found instead. There may be slight inconsistencies\n",
      "WARNING:   in the feature calculations.\n",
      "Vectorizing training set\n"
     ]
    },
    {
     "name": "stderr",
     "output_type": "stream",
     "text": [
      "100%|██████████| 800000/800000 [09:06<00:00, 1462.57it/s]\n"
     ]
    },
    {
     "name": "stdout",
     "output_type": "stream",
     "text": [
      "Vectorizing test set\n"
     ]
    },
    {
     "name": "stderr",
     "output_type": "stream",
     "text": [
      "100%|██████████| 200000/200000 [02:13<00:00, 1493.06it/s]"
     ]
    },
    {
     "name": "stdout",
     "output_type": "stream",
     "text": [
      "WARNING: EMBER feature version 2 were computed using lief version 0.9.0-\n",
      "WARNING:   lief version 0.11.4-dd13711 found instead. There may be slight inconsistencies\n",
      "WARNING:   in the feature calculations.\n"
     ]
    },
    {
     "name": "stderr",
     "output_type": "stream",
     "text": [
      "\n"
     ]
    }
   ],
   "source": [
    "import sys,os,time\n",
    "sys.path.append(r'/root/ember')\n",
    "sys.path.append(r'/root/boosting-ember')\n",
    "import ember\n",
    "import pandas as pd\n",
    "import numpy as np\n",
    "import lightgbm as lgb\n",
    "from boostember.features_extended import *\n",
    "\n",
    "datasetpath = '/root/dataset/ember2018/'\n",
    "ember.create_vectorized_features(datasetpath, 2)\n",
    "X_train, y_train, X_test, y_test = ember.read_vectorized_features(datasetpath)"
   ]
  },
  {
   "cell_type": "code",
   "execution_count": 2,
   "metadata": {},
   "outputs": [
    {
     "data": {
      "text/plain": [
       "((600000, 2381), (600000,))"
      ]
     },
     "execution_count": 2,
     "metadata": {},
     "output_type": "execute_result"
    }
   ],
   "source": [
    "delunlabel = (y_train != -1)\n",
    "X_train = pd.DataFrame(X_train[delunlabel], columns=emberfeaturesheader())\n",
    "y_train = y_train[delunlabel]\n",
    "X_train.shape, y_train.shape"
   ]
  },
  {
   "cell_type": "code",
   "execution_count": null,
   "metadata": {},
   "outputs": [
    {
     "name": "stdout",
     "output_type": "stream",
     "text": [
      "Fitting 3 folds for each of 1728 candidates, totalling 5184 fits\n"
     ]
    },
    {
     "name": "stderr",
     "output_type": "stream",
     "text": [
      "/root/anaconda3/envs/fyp/lib/python3.8/site-packages/lightgbm/engine.py:148: UserWarning: Found `num_iterations` in params. Will use it instead of argument\n",
      "  _log_warning(\"Found `{}` in params. Will use it instead of argument\".format(alias))\n"
     ]
    }
   ],
   "source": [
    "from sklearn.metrics import (roc_auc_score, make_scorer)\n",
    "from sklearn.metrics import roc_auc_score, roc_curve\n",
    "from sklearn.model_selection import GridSearchCV\n",
    "from sklearn.model_selection import TimeSeriesSplit\n",
    "\n",
    "params = {\n",
    "    'boosting_type': ['goss','gdbt','dart'],\n",
    "    'objective': ['binary'],\n",
    "    'num_iterations': [500, 1000, 1500],\n",
    "    'learning_rate': [0.005, 0.05, 0.5],\n",
    "    'num_leaves': [512, 1024, 2048, 4096],\n",
    "    'feature_fraction': [0.5, 0.8, 1.0, 1.3],\n",
    "    'bagging_fraction': [0.5, 0.8, 1.0, 1.3]\n",
    "}\n",
    "\n",
    "score = make_scorer(roc_auc_score, max_fpr=5e-3)\n",
    "model = lgb.LGBMClassifier(boosting_type=\"gbdt\", n_jobs=-1, silent=True)\n",
    "progressive_cv = TimeSeriesSplit(n_splits=3).split(X_train)\n",
    "grid = GridSearchCV(estimator=model, cv=progressive_cv, param_grid=params, scoring=score, n_jobs=1, verbose=3)\n",
    "grid.fit(X_train, y_train)\n",
    "\n",
    "\n",
    "lgbm_dataset = lgb.Dataset(X_train, y_train)\n",
    "lgbm_model = lgb.train(grid.best_params_, lgbm_dataset)\n"
   ]
  },
  {
   "cell_type": "code",
   "execution_count": 12,
   "metadata": {},
   "outputs": [
    {
     "data": {
      "text/plain": [
       "['default_search_params_11_4.pkl']"
      ]
     },
     "execution_count": 12,
     "metadata": {},
     "output_type": "execute_result"
    }
   ],
   "source": [
    "import joblib\n",
    "joblib.dump(lgbm_model, 'default_search_params_11_4.pkl')\n",
    "#joblib.dump(grid, 'griddefaultparams_11_4.pkl')"
   ]
  },
  {
   "cell_type": "code",
   "execution_count": 13,
   "metadata": {},
   "outputs": [
    {
     "name": "stdout",
     "output_type": "stream",
     "text": [
      "{'bagging_fraction': 0.5, 'boosting_type': 'goss', 'feature_fraction': 0.5, 'learning_rate': 0.05, 'num_iterations': 1000, 'num_leaves': 512, 'objective': 'binary'}\n"
     ]
    }
   ],
   "source": [
    "print(grid.best_params_)"
   ]
  },
  {
   "cell_type": "code",
   "execution_count": null,
   "metadata": {},
   "outputs": [],
   "source": []
  }
 ],
 "metadata": {
  "kernelspec": {
   "display_name": "Python 3",
   "language": "python",
   "name": "python3"
  },
  "language_info": {
   "codemirror_mode": {
    "name": "ipython",
    "version": 3
   },
   "file_extension": ".py",
   "mimetype": "text/x-python",
   "name": "python",
   "nbconvert_exporter": "python",
   "pygments_lexer": "ipython3",
   "version": "3.8.8"
  }
 },
 "nbformat": 4,
 "nbformat_minor": 1
}
