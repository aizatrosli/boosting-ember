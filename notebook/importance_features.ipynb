{
 "cells": [
  {
   "cell_type": "code",
   "execution_count": 1,
   "metadata": {},
   "outputs": [
    {
     "name": "stdout",
     "output_type": "stream",
     "text": [
      "WARNING: EMBER feature version 2 were computed using lief version 0.9.0-\n",
      "WARNING:   lief version 0.11.4-dd13711 found instead. There may be slight inconsistencies\n",
      "WARNING:   in the feature calculations.\n",
      "Vectorizing training set\n"
     ]
    },
    {
     "name": "stderr",
     "output_type": "stream",
     "text": [
      "100%|██████████| 800000/800000 [02:04<00:00, 6403.72it/s]\n"
     ]
    },
    {
     "name": "stdout",
     "output_type": "stream",
     "text": [
      "Vectorizing test set\n"
     ]
    },
    {
     "name": "stderr",
     "output_type": "stream",
     "text": [
      "100%|██████████| 200000/200000 [00:31<00:00, 6319.08it/s]"
     ]
    },
    {
     "name": "stdout",
     "output_type": "stream",
     "text": [
      "WARNING: EMBER feature version 2 were computed using lief version 0.9.0-\n",
      "WARNING:   lief version 0.11.4-dd13711 found instead. There may be slight inconsistencies\n",
      "WARNING:   in the feature calculations.\n"
     ]
    },
    {
     "name": "stderr",
     "output_type": "stream",
     "text": [
      "\n"
     ]
    }
   ],
   "source": [
    "import sys,os,time,platform\n",
    "sys.path.append(r'/root/ember')\n",
    "sys.path.append(r'/root/boosting-ember')\n",
    "if platform.node() == 'aizat-fyp':\n",
    "    sys.path.append(r'/home/aizat/ember')\n",
    "    sys.path.append(r'/home/aizat/OneDrive/Master Project/Workspace/boosting-ember')\n",
    "import ember\n",
    "import pandas as pd\n",
    "import numpy as np\n",
    "import lightgbm as lgb\n",
    "from boostember.features_extended import *\n",
    "\n",
    "datasetpath = '/home/aizat/OneDrive/Master Project/Workspace/dataset/ember2018' if platform.node() == 'aizat-fyp' else '/root/dataset/ember2018/'\n",
    "ember.create_vectorized_features(datasetpath, 2)\n",
    "X_train, y_train, X_test, y_test = ember.read_vectorized_features(datasetpath)"
   ]
  },
  {
   "cell_type": "code",
   "execution_count": 2,
   "metadata": {},
   "outputs": [
    {
     "data": {
      "text/plain": [
       "((600000, 2381), (600000,))"
      ]
     },
     "execution_count": 2,
     "metadata": {},
     "output_type": "execute_result"
    }
   ],
   "source": [
    "delunlabel = (y_train != -1)\n",
    "X_train = pd.DataFrame(X_train[delunlabel], columns=emberfeaturesheader())\n",
    "y_train = y_train[delunlabel]\n",
    "X_train.shape, y_train.shape"
   ]
  },
  {
   "cell_type": "code",
   "execution_count": null,
   "metadata": {},
   "outputs": [
    {
     "name": "stdout",
     "output_type": "stream",
     "text": [
      "Fitting 3 folds for each of 1728 candidates, totalling 5184 fits\n"
     ]
    },
    {
     "name": "stderr",
     "output_type": "stream",
     "text": [
      "/home/aizat/anaconda3/envs/fyp/lib/python3.7/site-packages/lightgbm/engine.py:148: UserWarning: Found `num_iterations` in params. Will use it instead of argument\n",
      "  _log_warning(\"Found `{}` in params. Will use it instead of argument\".format(alias))\n"
     ]
    },
    {
     "name": "stdout",
     "output_type": "stream",
     "text": [
      "[LightGBM] [Warning] feature_fraction is set=0.5, colsample_bytree=1.0 will be ignored. Current value: feature_fraction=0.5\n",
      "[LightGBM] [Warning] bagging_fraction is set=0.5, subsample=1.0 will be ignored. Current value: bagging_fraction=0.5\n",
      "[CV 1/3] END bagging_fraction=0.5, boosting_type=goss, feature_fraction=0.5, learning_rate=0.005, num_iterations=500, num_leaves=512, objective=binary; total time= 2.5min\n"
     ]
    },
    {
     "name": "stderr",
     "output_type": "stream",
     "text": [
      "/home/aizat/anaconda3/envs/fyp/lib/python3.7/site-packages/lightgbm/engine.py:148: UserWarning: Found `num_iterations` in params. Will use it instead of argument\n",
      "  _log_warning(\"Found `{}` in params. Will use it instead of argument\".format(alias))\n"
     ]
    },
    {
     "name": "stdout",
     "output_type": "stream",
     "text": [
      "[LightGBM] [Warning] feature_fraction is set=0.5, colsample_bytree=1.0 will be ignored. Current value: feature_fraction=0.5\n",
      "[LightGBM] [Warning] bagging_fraction is set=0.5, subsample=1.0 will be ignored. Current value: bagging_fraction=0.5\n",
      "[CV 2/3] END bagging_fraction=0.5, boosting_type=goss, feature_fraction=0.5, learning_rate=0.005, num_iterations=500, num_leaves=512, objective=binary; total time= 3.3min\n"
     ]
    },
    {
     "name": "stderr",
     "output_type": "stream",
     "text": [
      "/home/aizat/anaconda3/envs/fyp/lib/python3.7/site-packages/lightgbm/engine.py:148: UserWarning: Found `num_iterations` in params. Will use it instead of argument\n",
      "  _log_warning(\"Found `{}` in params. Will use it instead of argument\".format(alias))\n"
     ]
    },
    {
     "name": "stdout",
     "output_type": "stream",
     "text": [
      "[LightGBM] [Warning] feature_fraction is set=0.5, colsample_bytree=1.0 will be ignored. Current value: feature_fraction=0.5\n",
      "[LightGBM] [Warning] bagging_fraction is set=0.5, subsample=1.0 will be ignored. Current value: bagging_fraction=0.5\n",
      "[CV 3/3] END bagging_fraction=0.5, boosting_type=goss, feature_fraction=0.5, learning_rate=0.005, num_iterations=500, num_leaves=512, objective=binary; total time= 3.7min\n"
     ]
    },
    {
     "name": "stderr",
     "output_type": "stream",
     "text": [
      "/home/aizat/anaconda3/envs/fyp/lib/python3.7/site-packages/lightgbm/engine.py:148: UserWarning: Found `num_iterations` in params. Will use it instead of argument\n",
      "  _log_warning(\"Found `{}` in params. Will use it instead of argument\".format(alias))\n"
     ]
    },
    {
     "name": "stdout",
     "output_type": "stream",
     "text": [
      "[LightGBM] [Warning] feature_fraction is set=0.5, colsample_bytree=1.0 will be ignored. Current value: feature_fraction=0.5\n",
      "[LightGBM] [Warning] bagging_fraction is set=0.5, subsample=1.0 will be ignored. Current value: bagging_fraction=0.5\n",
      "[CV 1/3] END bagging_fraction=0.5, boosting_type=goss, feature_fraction=0.5, learning_rate=0.005, num_iterations=500, num_leaves=1024, objective=binary; total time= 4.0min\n"
     ]
    },
    {
     "name": "stderr",
     "output_type": "stream",
     "text": [
      "/home/aizat/anaconda3/envs/fyp/lib/python3.7/site-packages/lightgbm/engine.py:148: UserWarning: Found `num_iterations` in params. Will use it instead of argument\n",
      "  _log_warning(\"Found `{}` in params. Will use it instead of argument\".format(alias))\n"
     ]
    },
    {
     "name": "stdout",
     "output_type": "stream",
     "text": [
      "[LightGBM] [Warning] feature_fraction is set=0.5, colsample_bytree=1.0 will be ignored. Current value: feature_fraction=0.5\n",
      "[LightGBM] [Warning] bagging_fraction is set=0.5, subsample=1.0 will be ignored. Current value: bagging_fraction=0.5\n",
      "[CV 2/3] END bagging_fraction=0.5, boosting_type=goss, feature_fraction=0.5, learning_rate=0.005, num_iterations=500, num_leaves=1024, objective=binary; total time= 5.0min\n"
     ]
    },
    {
     "name": "stderr",
     "output_type": "stream",
     "text": [
      "/home/aizat/anaconda3/envs/fyp/lib/python3.7/site-packages/lightgbm/engine.py:148: UserWarning: Found `num_iterations` in params. Will use it instead of argument\n",
      "  _log_warning(\"Found `{}` in params. Will use it instead of argument\".format(alias))\n"
     ]
    },
    {
     "name": "stdout",
     "output_type": "stream",
     "text": [
      "[LightGBM] [Warning] feature_fraction is set=0.5, colsample_bytree=1.0 will be ignored. Current value: feature_fraction=0.5\n",
      "[LightGBM] [Warning] bagging_fraction is set=0.5, subsample=1.0 will be ignored. Current value: bagging_fraction=0.5\n"
     ]
    },
    {
     "name": "stderr",
     "output_type": "stream",
     "text": [
      "/home/aizat/anaconda3/envs/fyp/lib/python3.7/site-packages/sklearn/model_selection/_validation.py:614: FitFailedWarning: Estimator fit failed. The score on this train-test partition for these parameters will be set to nan. Details: \n",
      "Traceback (most recent call last):\n",
      "  File \"/home/aizat/anaconda3/envs/fyp/lib/python3.7/site-packages/sklearn/model_selection/_validation.py\", line 593, in _fit_and_score\n",
      "    estimator.fit(X_train, y_train, **fit_params)\n",
      "  File \"/home/aizat/anaconda3/envs/fyp/lib/python3.7/site-packages/lightgbm/sklearn.py\", line 895, in fit\n",
      "    callbacks=callbacks, init_model=init_model)\n",
      "  File \"/home/aizat/anaconda3/envs/fyp/lib/python3.7/site-packages/lightgbm/sklearn.py\", line 688, in fit\n",
      "    callbacks=callbacks, init_model=init_model)\n",
      "  File \"/home/aizat/anaconda3/envs/fyp/lib/python3.7/site-packages/lightgbm/engine.py\", line 249, in train\n",
      "    booster.update(fobj=fobj)\n",
      "  File \"/home/aizat/anaconda3/envs/fyp/lib/python3.7/site-packages/lightgbm/basic.py\", line 2645, in update\n",
      "    ctypes.byref(is_finished)))\n",
      "  File \"/home/aizat/anaconda3/envs/fyp/lib/python3.7/site-packages/lightgbm/basic.py\", line 110, in _safe_call\n",
      "    raise LightGBMError(_LIB.LGBM_GetLastError().decode('utf-8'))\n",
      "lightgbm.basic.LightGBMError: Check failed: (best_split_info.left_count) > (0) at /home/aizat/LightGBM/src/treelearner/serial_tree_learner.cpp, line 653 .\n",
      "\n",
      "\n",
      "  FitFailedWarning)\n"
     ]
    },
    {
     "name": "stdout",
     "output_type": "stream",
     "text": [
      "[CV 3/3] END bagging_fraction=0.5, boosting_type=goss, feature_fraction=0.5, learning_rate=0.005, num_iterations=500, num_leaves=1024, objective=binary; total time= 1.5min\n"
     ]
    },
    {
     "name": "stderr",
     "output_type": "stream",
     "text": [
      "/home/aizat/anaconda3/envs/fyp/lib/python3.7/site-packages/lightgbm/engine.py:148: UserWarning: Found `num_iterations` in params. Will use it instead of argument\n",
      "  _log_warning(\"Found `{}` in params. Will use it instead of argument\".format(alias))\n",
      "/home/aizat/anaconda3/envs/fyp/lib/python3.7/site-packages/sklearn/model_selection/_validation.py:614: FitFailedWarning: Estimator fit failed. The score on this train-test partition for these parameters will be set to nan. Details: \n",
      "Traceback (most recent call last):\n",
      "  File \"/home/aizat/anaconda3/envs/fyp/lib/python3.7/site-packages/sklearn/model_selection/_validation.py\", line 593, in _fit_and_score\n",
      "    estimator.fit(X_train, y_train, **fit_params)\n",
      "  File \"/home/aizat/anaconda3/envs/fyp/lib/python3.7/site-packages/lightgbm/sklearn.py\", line 895, in fit\n",
      "    callbacks=callbacks, init_model=init_model)\n",
      "  File \"/home/aizat/anaconda3/envs/fyp/lib/python3.7/site-packages/lightgbm/sklearn.py\", line 688, in fit\n",
      "    callbacks=callbacks, init_model=init_model)\n",
      "  File \"/home/aizat/anaconda3/envs/fyp/lib/python3.7/site-packages/lightgbm/engine.py\", line 249, in train\n",
      "    booster.update(fobj=fobj)\n",
      "  File \"/home/aizat/anaconda3/envs/fyp/lib/python3.7/site-packages/lightgbm/basic.py\", line 2645, in update\n",
      "    ctypes.byref(is_finished)))\n",
      "  File \"/home/aizat/anaconda3/envs/fyp/lib/python3.7/site-packages/lightgbm/basic.py\", line 110, in _safe_call\n",
      "    raise LightGBMError(_LIB.LGBM_GetLastError().decode('utf-8'))\n",
      "lightgbm.basic.LightGBMError: Check failed: (best_split_info.left_count) > (0) at /home/aizat/LightGBM/src/treelearner/serial_tree_learner.cpp, line 653 .\n",
      "\n",
      "\n",
      "  FitFailedWarning)\n"
     ]
    },
    {
     "name": "stdout",
     "output_type": "stream",
     "text": [
      "[CV 1/3] END bagging_fraction=0.5, boosting_type=goss, feature_fraction=0.5, learning_rate=0.005, num_iterations=500, num_leaves=2048, objective=binary; total time= 2.0min\n"
     ]
    },
    {
     "name": "stderr",
     "output_type": "stream",
     "text": [
      "/home/aizat/anaconda3/envs/fyp/lib/python3.7/site-packages/lightgbm/engine.py:148: UserWarning: Found `num_iterations` in params. Will use it instead of argument\n",
      "  _log_warning(\"Found `{}` in params. Will use it instead of argument\".format(alias))\n",
      "/home/aizat/anaconda3/envs/fyp/lib/python3.7/site-packages/sklearn/model_selection/_validation.py:614: FitFailedWarning: Estimator fit failed. The score on this train-test partition for these parameters will be set to nan. Details: \n",
      "Traceback (most recent call last):\n",
      "  File \"/home/aizat/anaconda3/envs/fyp/lib/python3.7/site-packages/sklearn/model_selection/_validation.py\", line 593, in _fit_and_score\n",
      "    estimator.fit(X_train, y_train, **fit_params)\n",
      "  File \"/home/aizat/anaconda3/envs/fyp/lib/python3.7/site-packages/lightgbm/sklearn.py\", line 895, in fit\n",
      "    callbacks=callbacks, init_model=init_model)\n",
      "  File \"/home/aizat/anaconda3/envs/fyp/lib/python3.7/site-packages/lightgbm/sklearn.py\", line 688, in fit\n",
      "    callbacks=callbacks, init_model=init_model)\n",
      "  File \"/home/aizat/anaconda3/envs/fyp/lib/python3.7/site-packages/lightgbm/engine.py\", line 249, in train\n",
      "    booster.update(fobj=fobj)\n",
      "  File \"/home/aizat/anaconda3/envs/fyp/lib/python3.7/site-packages/lightgbm/basic.py\", line 2645, in update\n",
      "    ctypes.byref(is_finished)))\n",
      "  File \"/home/aizat/anaconda3/envs/fyp/lib/python3.7/site-packages/lightgbm/basic.py\", line 110, in _safe_call\n",
      "    raise LightGBMError(_LIB.LGBM_GetLastError().decode('utf-8'))\n",
      "lightgbm.basic.LightGBMError: Check failed: (best_split_info.left_count) > (0) at /home/aizat/LightGBM/src/treelearner/serial_tree_learner.cpp, line 653 .\n",
      "\n",
      "\n",
      "  FitFailedWarning)\n"
     ]
    },
    {
     "name": "stdout",
     "output_type": "stream",
     "text": [
      "[CV 2/3] END bagging_fraction=0.5, boosting_type=goss, feature_fraction=0.5, learning_rate=0.005, num_iterations=500, num_leaves=2048, objective=binary; total time= 1.5min\n"
     ]
    },
    {
     "name": "stderr",
     "output_type": "stream",
     "text": [
      "/home/aizat/anaconda3/envs/fyp/lib/python3.7/site-packages/lightgbm/engine.py:148: UserWarning: Found `num_iterations` in params. Will use it instead of argument\n",
      "  _log_warning(\"Found `{}` in params. Will use it instead of argument\".format(alias))\n",
      "/home/aizat/anaconda3/envs/fyp/lib/python3.7/site-packages/sklearn/model_selection/_validation.py:614: FitFailedWarning: Estimator fit failed. The score on this train-test partition for these parameters will be set to nan. Details: \n",
      "Traceback (most recent call last):\n",
      "  File \"/home/aizat/anaconda3/envs/fyp/lib/python3.7/site-packages/sklearn/model_selection/_validation.py\", line 593, in _fit_and_score\n",
      "    estimator.fit(X_train, y_train, **fit_params)\n",
      "  File \"/home/aizat/anaconda3/envs/fyp/lib/python3.7/site-packages/lightgbm/sklearn.py\", line 895, in fit\n",
      "    callbacks=callbacks, init_model=init_model)\n",
      "  File \"/home/aizat/anaconda3/envs/fyp/lib/python3.7/site-packages/lightgbm/sklearn.py\", line 688, in fit\n",
      "    callbacks=callbacks, init_model=init_model)\n",
      "  File \"/home/aizat/anaconda3/envs/fyp/lib/python3.7/site-packages/lightgbm/engine.py\", line 249, in train\n",
      "    booster.update(fobj=fobj)\n",
      "  File \"/home/aizat/anaconda3/envs/fyp/lib/python3.7/site-packages/lightgbm/basic.py\", line 2645, in update\n",
      "    ctypes.byref(is_finished)))\n",
      "  File \"/home/aizat/anaconda3/envs/fyp/lib/python3.7/site-packages/lightgbm/basic.py\", line 110, in _safe_call\n",
      "    raise LightGBMError(_LIB.LGBM_GetLastError().decode('utf-8'))\n",
      "lightgbm.basic.LightGBMError: Check failed: (best_split_info.left_count) > (0) at /home/aizat/LightGBM/src/treelearner/serial_tree_learner.cpp, line 653 .\n",
      "\n",
      "\n",
      "  FitFailedWarning)\n"
     ]
    },
    {
     "name": "stdout",
     "output_type": "stream",
     "text": [
      "[CV 3/3] END bagging_fraction=0.5, boosting_type=goss, feature_fraction=0.5, learning_rate=0.005, num_iterations=500, num_leaves=2048, objective=binary; total time= 1.5min\n"
     ]
    },
    {
     "name": "stderr",
     "output_type": "stream",
     "text": [
      "/home/aizat/anaconda3/envs/fyp/lib/python3.7/site-packages/lightgbm/engine.py:148: UserWarning: Found `num_iterations` in params. Will use it instead of argument\n",
      "  _log_warning(\"Found `{}` in params. Will use it instead of argument\".format(alias))\n",
      "/home/aizat/anaconda3/envs/fyp/lib/python3.7/site-packages/sklearn/model_selection/_validation.py:614: FitFailedWarning: Estimator fit failed. The score on this train-test partition for these parameters will be set to nan. Details: \n",
      "Traceback (most recent call last):\n",
      "  File \"/home/aizat/anaconda3/envs/fyp/lib/python3.7/site-packages/sklearn/model_selection/_validation.py\", line 593, in _fit_and_score\n",
      "    estimator.fit(X_train, y_train, **fit_params)\n",
      "  File \"/home/aizat/anaconda3/envs/fyp/lib/python3.7/site-packages/lightgbm/sklearn.py\", line 895, in fit\n",
      "    callbacks=callbacks, init_model=init_model)\n",
      "  File \"/home/aizat/anaconda3/envs/fyp/lib/python3.7/site-packages/lightgbm/sklearn.py\", line 688, in fit\n",
      "    callbacks=callbacks, init_model=init_model)\n",
      "  File \"/home/aizat/anaconda3/envs/fyp/lib/python3.7/site-packages/lightgbm/engine.py\", line 249, in train\n",
      "    booster.update(fobj=fobj)\n",
      "  File \"/home/aizat/anaconda3/envs/fyp/lib/python3.7/site-packages/lightgbm/basic.py\", line 2645, in update\n",
      "    ctypes.byref(is_finished)))\n",
      "  File \"/home/aizat/anaconda3/envs/fyp/lib/python3.7/site-packages/lightgbm/basic.py\", line 110, in _safe_call\n",
      "    raise LightGBMError(_LIB.LGBM_GetLastError().decode('utf-8'))\n",
      "lightgbm.basic.LightGBMError: Check failed: (best_split_info.left_count) > (0) at /home/aizat/LightGBM/src/treelearner/serial_tree_learner.cpp, line 653 .\n",
      "\n",
      "\n",
      "  FitFailedWarning)\n"
     ]
    },
    {
     "name": "stdout",
     "output_type": "stream",
     "text": [
      "[CV 1/3] END bagging_fraction=0.5, boosting_type=goss, feature_fraction=0.5, learning_rate=0.005, num_iterations=500, num_leaves=4096, objective=binary; total time= 1.8min\n"
     ]
    },
    {
     "name": "stderr",
     "output_type": "stream",
     "text": [
      "/home/aizat/anaconda3/envs/fyp/lib/python3.7/site-packages/lightgbm/engine.py:148: UserWarning: Found `num_iterations` in params. Will use it instead of argument\n",
      "  _log_warning(\"Found `{}` in params. Will use it instead of argument\".format(alias))\n",
      "/home/aizat/anaconda3/envs/fyp/lib/python3.7/site-packages/sklearn/model_selection/_validation.py:614: FitFailedWarning: Estimator fit failed. The score on this train-test partition for these parameters will be set to nan. Details: \n",
      "Traceback (most recent call last):\n",
      "  File \"/home/aizat/anaconda3/envs/fyp/lib/python3.7/site-packages/sklearn/model_selection/_validation.py\", line 593, in _fit_and_score\n",
      "    estimator.fit(X_train, y_train, **fit_params)\n",
      "  File \"/home/aizat/anaconda3/envs/fyp/lib/python3.7/site-packages/lightgbm/sklearn.py\", line 895, in fit\n",
      "    callbacks=callbacks, init_model=init_model)\n",
      "  File \"/home/aizat/anaconda3/envs/fyp/lib/python3.7/site-packages/lightgbm/sklearn.py\", line 688, in fit\n",
      "    callbacks=callbacks, init_model=init_model)\n",
      "  File \"/home/aizat/anaconda3/envs/fyp/lib/python3.7/site-packages/lightgbm/engine.py\", line 249, in train\n",
      "    booster.update(fobj=fobj)\n",
      "  File \"/home/aizat/anaconda3/envs/fyp/lib/python3.7/site-packages/lightgbm/basic.py\", line 2645, in update\n",
      "    ctypes.byref(is_finished)))\n",
      "  File \"/home/aizat/anaconda3/envs/fyp/lib/python3.7/site-packages/lightgbm/basic.py\", line 110, in _safe_call\n",
      "    raise LightGBMError(_LIB.LGBM_GetLastError().decode('utf-8'))\n",
      "lightgbm.basic.LightGBMError: Check failed: (best_split_info.left_count) > (0) at /home/aizat/LightGBM/src/treelearner/serial_tree_learner.cpp, line 653 .\n",
      "\n",
      "\n",
      "  FitFailedWarning)\n"
     ]
    },
    {
     "name": "stdout",
     "output_type": "stream",
     "text": [
      "[CV 2/3] END bagging_fraction=0.5, boosting_type=goss, feature_fraction=0.5, learning_rate=0.005, num_iterations=500, num_leaves=4096, objective=binary; total time=  23.4s\n"
     ]
    },
    {
     "name": "stderr",
     "output_type": "stream",
     "text": [
      "/home/aizat/anaconda3/envs/fyp/lib/python3.7/site-packages/lightgbm/engine.py:148: UserWarning: Found `num_iterations` in params. Will use it instead of argument\n",
      "  _log_warning(\"Found `{}` in params. Will use it instead of argument\".format(alias))\n",
      "/home/aizat/anaconda3/envs/fyp/lib/python3.7/site-packages/sklearn/model_selection/_validation.py:614: FitFailedWarning: Estimator fit failed. The score on this train-test partition for these parameters will be set to nan. Details: \n",
      "Traceback (most recent call last):\n",
      "  File \"/home/aizat/anaconda3/envs/fyp/lib/python3.7/site-packages/sklearn/model_selection/_validation.py\", line 593, in _fit_and_score\n",
      "    estimator.fit(X_train, y_train, **fit_params)\n",
      "  File \"/home/aizat/anaconda3/envs/fyp/lib/python3.7/site-packages/lightgbm/sklearn.py\", line 895, in fit\n",
      "    callbacks=callbacks, init_model=init_model)\n",
      "  File \"/home/aizat/anaconda3/envs/fyp/lib/python3.7/site-packages/lightgbm/sklearn.py\", line 688, in fit\n",
      "    callbacks=callbacks, init_model=init_model)\n",
      "  File \"/home/aizat/anaconda3/envs/fyp/lib/python3.7/site-packages/lightgbm/engine.py\", line 249, in train\n",
      "    booster.update(fobj=fobj)\n",
      "  File \"/home/aizat/anaconda3/envs/fyp/lib/python3.7/site-packages/lightgbm/basic.py\", line 2645, in update\n",
      "    ctypes.byref(is_finished)))\n",
      "  File \"/home/aizat/anaconda3/envs/fyp/lib/python3.7/site-packages/lightgbm/basic.py\", line 110, in _safe_call\n",
      "    raise LightGBMError(_LIB.LGBM_GetLastError().decode('utf-8'))\n",
      "lightgbm.basic.LightGBMError: Check failed: (best_split_info.left_count) > (0) at /home/aizat/LightGBM/src/treelearner/serial_tree_learner.cpp, line 653 .\n",
      "\n",
      "\n",
      "  FitFailedWarning)\n"
     ]
    },
    {
     "name": "stdout",
     "output_type": "stream",
     "text": [
      "[CV 3/3] END bagging_fraction=0.5, boosting_type=goss, feature_fraction=0.5, learning_rate=0.005, num_iterations=500, num_leaves=4096, objective=binary; total time=  32.0s\n"
     ]
    },
    {
     "name": "stderr",
     "output_type": "stream",
     "text": [
      "/home/aizat/anaconda3/envs/fyp/lib/python3.7/site-packages/lightgbm/engine.py:148: UserWarning: Found `num_iterations` in params. Will use it instead of argument\n",
      "  _log_warning(\"Found `{}` in params. Will use it instead of argument\".format(alias))\n"
     ]
    },
    {
     "name": "stdout",
     "output_type": "stream",
     "text": [
      "[CV 1/3] END bagging_fraction=0.5, boosting_type=goss, feature_fraction=0.5, learning_rate=0.005, num_iterations=1000, num_leaves=512, objective=binary; total time= 4.9min\n"
     ]
    },
    {
     "name": "stderr",
     "output_type": "stream",
     "text": [
      "/home/aizat/anaconda3/envs/fyp/lib/python3.7/site-packages/lightgbm/engine.py:148: UserWarning: Found `num_iterations` in params. Will use it instead of argument\n",
      "  _log_warning(\"Found `{}` in params. Will use it instead of argument\".format(alias))\n"
     ]
    },
    {
     "name": "stdout",
     "output_type": "stream",
     "text": [
      "[LightGBM] [Warning] feature_fraction is set=0.5, colsample_bytree=1.0 will be ignored. Current value: feature_fraction=0.5\n",
      "[LightGBM] [Warning] bagging_fraction is set=0.5, subsample=1.0 will be ignored. Current value: bagging_fraction=0.5\n",
      "[CV 2/3] END bagging_fraction=0.5, boosting_type=goss, feature_fraction=0.5, learning_rate=0.005, num_iterations=1000, num_leaves=512, objective=binary; total time= 6.2min\n"
     ]
    },
    {
     "name": "stderr",
     "output_type": "stream",
     "text": [
      "/home/aizat/anaconda3/envs/fyp/lib/python3.7/site-packages/lightgbm/engine.py:148: UserWarning: Found `num_iterations` in params. Will use it instead of argument\n",
      "  _log_warning(\"Found `{}` in params. Will use it instead of argument\".format(alias))\n"
     ]
    },
    {
     "name": "stdout",
     "output_type": "stream",
     "text": [
      "[LightGBM] [Warning] feature_fraction is set=0.5, colsample_bytree=1.0 will be ignored. Current value: feature_fraction=0.5\n",
      "[LightGBM] [Warning] bagging_fraction is set=0.5, subsample=1.0 will be ignored. Current value: bagging_fraction=0.5\n",
      "[CV 3/3] END bagging_fraction=0.5, boosting_type=goss, feature_fraction=0.5, learning_rate=0.005, num_iterations=1000, num_leaves=512, objective=binary; total time= 7.1min\n"
     ]
    },
    {
     "name": "stderr",
     "output_type": "stream",
     "text": [
      "/home/aizat/anaconda3/envs/fyp/lib/python3.7/site-packages/lightgbm/engine.py:148: UserWarning: Found `num_iterations` in params. Will use it instead of argument\n",
      "  _log_warning(\"Found `{}` in params. Will use it instead of argument\".format(alias))\n"
     ]
    },
    {
     "name": "stdout",
     "output_type": "stream",
     "text": [
      "[LightGBM] [Warning] feature_fraction is set=0.5, colsample_bytree=1.0 will be ignored. Current value: feature_fraction=0.5\n",
      "[LightGBM] [Warning] bagging_fraction is set=0.5, subsample=1.0 will be ignored. Current value: bagging_fraction=0.5\n",
      "[CV 1/3] END bagging_fraction=0.5, boosting_type=goss, feature_fraction=0.5, learning_rate=0.005, num_iterations=1000, num_leaves=1024, objective=binary; total time= 7.7min\n"
     ]
    },
    {
     "name": "stderr",
     "output_type": "stream",
     "text": [
      "/home/aizat/anaconda3/envs/fyp/lib/python3.7/site-packages/lightgbm/engine.py:148: UserWarning: Found `num_iterations` in params. Will use it instead of argument\n",
      "  _log_warning(\"Found `{}` in params. Will use it instead of argument\".format(alias))\n"
     ]
    },
    {
     "name": "stdout",
     "output_type": "stream",
     "text": [
      "[LightGBM] [Warning] feature_fraction is set=0.5, colsample_bytree=1.0 will be ignored. Current value: feature_fraction=0.5\n",
      "[LightGBM] [Warning] bagging_fraction is set=0.5, subsample=1.0 will be ignored. Current value: bagging_fraction=0.5\n"
     ]
    },
    {
     "name": "stderr",
     "output_type": "stream",
     "text": [
      "/home/aizat/anaconda3/envs/fyp/lib/python3.7/site-packages/sklearn/model_selection/_validation.py:614: FitFailedWarning: Estimator fit failed. The score on this train-test partition for these parameters will be set to nan. Details: \n",
      "Traceback (most recent call last):\n",
      "  File \"/home/aizat/anaconda3/envs/fyp/lib/python3.7/site-packages/sklearn/model_selection/_validation.py\", line 593, in _fit_and_score\n",
      "    estimator.fit(X_train, y_train, **fit_params)\n",
      "  File \"/home/aizat/anaconda3/envs/fyp/lib/python3.7/site-packages/lightgbm/sklearn.py\", line 895, in fit\n",
      "    callbacks=callbacks, init_model=init_model)\n",
      "  File \"/home/aizat/anaconda3/envs/fyp/lib/python3.7/site-packages/lightgbm/sklearn.py\", line 688, in fit\n",
      "    callbacks=callbacks, init_model=init_model)\n",
      "  File \"/home/aizat/anaconda3/envs/fyp/lib/python3.7/site-packages/lightgbm/engine.py\", line 249, in train\n",
      "    booster.update(fobj=fobj)\n",
      "  File \"/home/aizat/anaconda3/envs/fyp/lib/python3.7/site-packages/lightgbm/basic.py\", line 2645, in update\n",
      "    ctypes.byref(is_finished)))\n",
      "  File \"/home/aizat/anaconda3/envs/fyp/lib/python3.7/site-packages/lightgbm/basic.py\", line 110, in _safe_call\n",
      "    raise LightGBMError(_LIB.LGBM_GetLastError().decode('utf-8'))\n",
      "lightgbm.basic.LightGBMError: Check failed: (best_split_info.left_count) > (0) at /home/aizat/LightGBM/src/treelearner/serial_tree_learner.cpp, line 653 .\n",
      "\n",
      "\n",
      "  FitFailedWarning)\n"
     ]
    },
    {
     "name": "stdout",
     "output_type": "stream",
     "text": [
      "[CV 2/3] END bagging_fraction=0.5, boosting_type=goss, feature_fraction=0.5, learning_rate=0.005, num_iterations=1000, num_leaves=1024, objective=binary; total time= 1.1min\n"
     ]
    },
    {
     "name": "stderr",
     "output_type": "stream",
     "text": [
      "/home/aizat/anaconda3/envs/fyp/lib/python3.7/site-packages/lightgbm/engine.py:148: UserWarning: Found `num_iterations` in params. Will use it instead of argument\n",
      "  _log_warning(\"Found `{}` in params. Will use it instead of argument\".format(alias))\n"
     ]
    },
    {
     "name": "stdout",
     "output_type": "stream",
     "text": [
      "[CV 3/3] END bagging_fraction=0.5, boosting_type=goss, feature_fraction=0.5, learning_rate=0.005, num_iterations=1000, num_leaves=1024, objective=binary; total time=10.9min\n"
     ]
    },
    {
     "name": "stderr",
     "output_type": "stream",
     "text": [
      "/home/aizat/anaconda3/envs/fyp/lib/python3.7/site-packages/lightgbm/engine.py:148: UserWarning: Found `num_iterations` in params. Will use it instead of argument\n",
      "  _log_warning(\"Found `{}` in params. Will use it instead of argument\".format(alias))\n"
     ]
    },
    {
     "name": "stdout",
     "output_type": "stream",
     "text": [
      "[LightGBM] [Warning] feature_fraction is set=0.5, colsample_bytree=1.0 will be ignored. Current value: feature_fraction=0.5\n",
      "[LightGBM] [Warning] bagging_fraction is set=0.5, subsample=1.0 will be ignored. Current value: bagging_fraction=0.5\n"
     ]
    },
    {
     "name": "stderr",
     "output_type": "stream",
     "text": [
      "/home/aizat/anaconda3/envs/fyp/lib/python3.7/site-packages/sklearn/model_selection/_validation.py:614: FitFailedWarning: Estimator fit failed. The score on this train-test partition for these parameters will be set to nan. Details: \n",
      "Traceback (most recent call last):\n",
      "  File \"/home/aizat/anaconda3/envs/fyp/lib/python3.7/site-packages/sklearn/model_selection/_validation.py\", line 593, in _fit_and_score\n",
      "    estimator.fit(X_train, y_train, **fit_params)\n",
      "  File \"/home/aizat/anaconda3/envs/fyp/lib/python3.7/site-packages/lightgbm/sklearn.py\", line 895, in fit\n",
      "    callbacks=callbacks, init_model=init_model)\n",
      "  File \"/home/aizat/anaconda3/envs/fyp/lib/python3.7/site-packages/lightgbm/sklearn.py\", line 688, in fit\n",
      "    callbacks=callbacks, init_model=init_model)\n",
      "  File \"/home/aizat/anaconda3/envs/fyp/lib/python3.7/site-packages/lightgbm/engine.py\", line 249, in train\n",
      "    booster.update(fobj=fobj)\n",
      "  File \"/home/aizat/anaconda3/envs/fyp/lib/python3.7/site-packages/lightgbm/basic.py\", line 2645, in update\n",
      "    ctypes.byref(is_finished)))\n",
      "  File \"/home/aizat/anaconda3/envs/fyp/lib/python3.7/site-packages/lightgbm/basic.py\", line 110, in _safe_call\n",
      "    raise LightGBMError(_LIB.LGBM_GetLastError().decode('utf-8'))\n",
      "lightgbm.basic.LightGBMError: Check failed: (best_split_info.left_count) > (0) at /home/aizat/LightGBM/src/treelearner/serial_tree_learner.cpp, line 653 .\n",
      "\n",
      "\n",
      "  FitFailedWarning)\n"
     ]
    },
    {
     "name": "stdout",
     "output_type": "stream",
     "text": [
      "[CV 1/3] END bagging_fraction=0.5, boosting_type=goss, feature_fraction=0.5, learning_rate=0.005, num_iterations=1000, num_leaves=2048, objective=binary; total time= 1.1min\n"
     ]
    },
    {
     "name": "stderr",
     "output_type": "stream",
     "text": [
      "/home/aizat/anaconda3/envs/fyp/lib/python3.7/site-packages/lightgbm/engine.py:148: UserWarning: Found `num_iterations` in params. Will use it instead of argument\n",
      "  _log_warning(\"Found `{}` in params. Will use it instead of argument\".format(alias))\n",
      "/home/aizat/anaconda3/envs/fyp/lib/python3.7/site-packages/sklearn/model_selection/_validation.py:614: FitFailedWarning: Estimator fit failed. The score on this train-test partition for these parameters will be set to nan. Details: \n",
      "Traceback (most recent call last):\n",
      "  File \"/home/aizat/anaconda3/envs/fyp/lib/python3.7/site-packages/sklearn/model_selection/_validation.py\", line 593, in _fit_and_score\n",
      "    estimator.fit(X_train, y_train, **fit_params)\n",
      "  File \"/home/aizat/anaconda3/envs/fyp/lib/python3.7/site-packages/lightgbm/sklearn.py\", line 895, in fit\n",
      "    callbacks=callbacks, init_model=init_model)\n",
      "  File \"/home/aizat/anaconda3/envs/fyp/lib/python3.7/site-packages/lightgbm/sklearn.py\", line 688, in fit\n",
      "    callbacks=callbacks, init_model=init_model)\n",
      "  File \"/home/aizat/anaconda3/envs/fyp/lib/python3.7/site-packages/lightgbm/engine.py\", line 249, in train\n",
      "    booster.update(fobj=fobj)\n",
      "  File \"/home/aizat/anaconda3/envs/fyp/lib/python3.7/site-packages/lightgbm/basic.py\", line 2645, in update\n",
      "    ctypes.byref(is_finished)))\n",
      "  File \"/home/aizat/anaconda3/envs/fyp/lib/python3.7/site-packages/lightgbm/basic.py\", line 110, in _safe_call\n",
      "    raise LightGBMError(_LIB.LGBM_GetLastError().decode('utf-8'))\n",
      "lightgbm.basic.LightGBMError: Check failed: (best_split_info.left_count) > (0) at /home/aizat/LightGBM/src/treelearner/serial_tree_learner.cpp, line 653 .\n",
      "\n",
      "\n",
      "  FitFailedWarning)\n"
     ]
    },
    {
     "name": "stdout",
     "output_type": "stream",
     "text": [
      "[CV 2/3] END bagging_fraction=0.5, boosting_type=goss, feature_fraction=0.5, learning_rate=0.005, num_iterations=1000, num_leaves=2048, objective=binary; total time= 1.6min\n"
     ]
    },
    {
     "name": "stderr",
     "output_type": "stream",
     "text": [
      "/home/aizat/anaconda3/envs/fyp/lib/python3.7/site-packages/lightgbm/engine.py:148: UserWarning: Found `num_iterations` in params. Will use it instead of argument\n",
      "  _log_warning(\"Found `{}` in params. Will use it instead of argument\".format(alias))\n",
      "/home/aizat/anaconda3/envs/fyp/lib/python3.7/site-packages/sklearn/model_selection/_validation.py:614: FitFailedWarning: Estimator fit failed. The score on this train-test partition for these parameters will be set to nan. Details: \n",
      "Traceback (most recent call last):\n",
      "  File \"/home/aizat/anaconda3/envs/fyp/lib/python3.7/site-packages/sklearn/model_selection/_validation.py\", line 593, in _fit_and_score\n",
      "    estimator.fit(X_train, y_train, **fit_params)\n",
      "  File \"/home/aizat/anaconda3/envs/fyp/lib/python3.7/site-packages/lightgbm/sklearn.py\", line 895, in fit\n",
      "    callbacks=callbacks, init_model=init_model)\n",
      "  File \"/home/aizat/anaconda3/envs/fyp/lib/python3.7/site-packages/lightgbm/sklearn.py\", line 688, in fit\n",
      "    callbacks=callbacks, init_model=init_model)\n",
      "  File \"/home/aizat/anaconda3/envs/fyp/lib/python3.7/site-packages/lightgbm/engine.py\", line 249, in train\n",
      "    booster.update(fobj=fobj)\n",
      "  File \"/home/aizat/anaconda3/envs/fyp/lib/python3.7/site-packages/lightgbm/basic.py\", line 2645, in update\n",
      "    ctypes.byref(is_finished)))\n",
      "  File \"/home/aizat/anaconda3/envs/fyp/lib/python3.7/site-packages/lightgbm/basic.py\", line 110, in _safe_call\n",
      "    raise LightGBMError(_LIB.LGBM_GetLastError().decode('utf-8'))\n",
      "lightgbm.basic.LightGBMError: Check failed: (best_split_info.left_count) > (0) at /home/aizat/LightGBM/src/treelearner/serial_tree_learner.cpp, line 653 .\n",
      "\n",
      "\n",
      "  FitFailedWarning)\n"
     ]
    },
    {
     "name": "stdout",
     "output_type": "stream",
     "text": [
      "[CV 3/3] END bagging_fraction=0.5, boosting_type=goss, feature_fraction=0.5, learning_rate=0.005, num_iterations=1000, num_leaves=2048, objective=binary; total time= 1.5min\n"
     ]
    },
    {
     "name": "stderr",
     "output_type": "stream",
     "text": [
      "/home/aizat/anaconda3/envs/fyp/lib/python3.7/site-packages/lightgbm/engine.py:148: UserWarning: Found `num_iterations` in params. Will use it instead of argument\n",
      "  _log_warning(\"Found `{}` in params. Will use it instead of argument\".format(alias))\n",
      "/home/aizat/anaconda3/envs/fyp/lib/python3.7/site-packages/sklearn/model_selection/_validation.py:614: FitFailedWarning: Estimator fit failed. The score on this train-test partition for these parameters will be set to nan. Details: \n",
      "Traceback (most recent call last):\n",
      "  File \"/home/aizat/anaconda3/envs/fyp/lib/python3.7/site-packages/sklearn/model_selection/_validation.py\", line 593, in _fit_and_score\n",
      "    estimator.fit(X_train, y_train, **fit_params)\n",
      "  File \"/home/aizat/anaconda3/envs/fyp/lib/python3.7/site-packages/lightgbm/sklearn.py\", line 895, in fit\n",
      "    callbacks=callbacks, init_model=init_model)\n",
      "  File \"/home/aizat/anaconda3/envs/fyp/lib/python3.7/site-packages/lightgbm/sklearn.py\", line 688, in fit\n",
      "    callbacks=callbacks, init_model=init_model)\n",
      "  File \"/home/aizat/anaconda3/envs/fyp/lib/python3.7/site-packages/lightgbm/engine.py\", line 249, in train\n",
      "    booster.update(fobj=fobj)\n",
      "  File \"/home/aizat/anaconda3/envs/fyp/lib/python3.7/site-packages/lightgbm/basic.py\", line 2645, in update\n",
      "    ctypes.byref(is_finished)))\n",
      "  File \"/home/aizat/anaconda3/envs/fyp/lib/python3.7/site-packages/lightgbm/basic.py\", line 110, in _safe_call\n",
      "    raise LightGBMError(_LIB.LGBM_GetLastError().decode('utf-8'))\n",
      "lightgbm.basic.LightGBMError: Check failed: (best_split_info.left_count) > (0) at /home/aizat/LightGBM/src/treelearner/serial_tree_learner.cpp, line 653 .\n",
      "\n",
      "\n",
      "  FitFailedWarning)\n"
     ]
    },
    {
     "name": "stdout",
     "output_type": "stream",
     "text": [
      "[CV 1/3] END bagging_fraction=0.5, boosting_type=goss, feature_fraction=0.5, learning_rate=0.005, num_iterations=1000, num_leaves=4096, objective=binary; total time= 1.8min\n"
     ]
    },
    {
     "name": "stderr",
     "output_type": "stream",
     "text": [
      "/home/aizat/anaconda3/envs/fyp/lib/python3.7/site-packages/lightgbm/engine.py:148: UserWarning: Found `num_iterations` in params. Will use it instead of argument\n",
      "  _log_warning(\"Found `{}` in params. Will use it instead of argument\".format(alias))\n",
      "/home/aizat/anaconda3/envs/fyp/lib/python3.7/site-packages/sklearn/model_selection/_validation.py:614: FitFailedWarning: Estimator fit failed. The score on this train-test partition for these parameters will be set to nan. Details: \n",
      "Traceback (most recent call last):\n",
      "  File \"/home/aizat/anaconda3/envs/fyp/lib/python3.7/site-packages/sklearn/model_selection/_validation.py\", line 593, in _fit_and_score\n",
      "    estimator.fit(X_train, y_train, **fit_params)\n",
      "  File \"/home/aizat/anaconda3/envs/fyp/lib/python3.7/site-packages/lightgbm/sklearn.py\", line 895, in fit\n",
      "    callbacks=callbacks, init_model=init_model)\n",
      "  File \"/home/aizat/anaconda3/envs/fyp/lib/python3.7/site-packages/lightgbm/sklearn.py\", line 688, in fit\n",
      "    callbacks=callbacks, init_model=init_model)\n",
      "  File \"/home/aizat/anaconda3/envs/fyp/lib/python3.7/site-packages/lightgbm/engine.py\", line 249, in train\n",
      "    booster.update(fobj=fobj)\n",
      "  File \"/home/aizat/anaconda3/envs/fyp/lib/python3.7/site-packages/lightgbm/basic.py\", line 2645, in update\n",
      "    ctypes.byref(is_finished)))\n",
      "  File \"/home/aizat/anaconda3/envs/fyp/lib/python3.7/site-packages/lightgbm/basic.py\", line 110, in _safe_call\n",
      "    raise LightGBMError(_LIB.LGBM_GetLastError().decode('utf-8'))\n",
      "lightgbm.basic.LightGBMError: Check failed: (best_split_info.left_count) > (0) at /home/aizat/LightGBM/src/treelearner/serial_tree_learner.cpp, line 653 .\n",
      "\n",
      "\n",
      "  FitFailedWarning)\n"
     ]
    },
    {
     "name": "stdout",
     "output_type": "stream",
     "text": [
      "[CV 2/3] END bagging_fraction=0.5, boosting_type=goss, feature_fraction=0.5, learning_rate=0.005, num_iterations=1000, num_leaves=4096, objective=binary; total time=  24.1s\n"
     ]
    },
    {
     "name": "stderr",
     "output_type": "stream",
     "text": [
      "/home/aizat/anaconda3/envs/fyp/lib/python3.7/site-packages/lightgbm/engine.py:148: UserWarning: Found `num_iterations` in params. Will use it instead of argument\n",
      "  _log_warning(\"Found `{}` in params. Will use it instead of argument\".format(alias))\n",
      "/home/aizat/anaconda3/envs/fyp/lib/python3.7/site-packages/sklearn/model_selection/_validation.py:614: FitFailedWarning: Estimator fit failed. The score on this train-test partition for these parameters will be set to nan. Details: \n",
      "Traceback (most recent call last):\n",
      "  File \"/home/aizat/anaconda3/envs/fyp/lib/python3.7/site-packages/sklearn/model_selection/_validation.py\", line 593, in _fit_and_score\n",
      "    estimator.fit(X_train, y_train, **fit_params)\n",
      "  File \"/home/aizat/anaconda3/envs/fyp/lib/python3.7/site-packages/lightgbm/sklearn.py\", line 895, in fit\n",
      "    callbacks=callbacks, init_model=init_model)\n",
      "  File \"/home/aizat/anaconda3/envs/fyp/lib/python3.7/site-packages/lightgbm/sklearn.py\", line 688, in fit\n",
      "    callbacks=callbacks, init_model=init_model)\n",
      "  File \"/home/aizat/anaconda3/envs/fyp/lib/python3.7/site-packages/lightgbm/engine.py\", line 249, in train\n",
      "    booster.update(fobj=fobj)\n",
      "  File \"/home/aizat/anaconda3/envs/fyp/lib/python3.7/site-packages/lightgbm/basic.py\", line 2645, in update\n",
      "    ctypes.byref(is_finished)))\n",
      "  File \"/home/aizat/anaconda3/envs/fyp/lib/python3.7/site-packages/lightgbm/basic.py\", line 110, in _safe_call\n",
      "    raise LightGBMError(_LIB.LGBM_GetLastError().decode('utf-8'))\n",
      "lightgbm.basic.LightGBMError: Check failed: (best_split_info.left_count) > (0) at /home/aizat/LightGBM/src/treelearner/serial_tree_learner.cpp, line 653 .\n",
      "\n",
      "\n",
      "  FitFailedWarning)\n"
     ]
    },
    {
     "name": "stdout",
     "output_type": "stream",
     "text": [
      "[CV 3/3] END bagging_fraction=0.5, boosting_type=goss, feature_fraction=0.5, learning_rate=0.005, num_iterations=1000, num_leaves=4096, objective=binary; total time=  32.2s\n"
     ]
    },
    {
     "name": "stderr",
     "output_type": "stream",
     "text": [
      "/home/aizat/anaconda3/envs/fyp/lib/python3.7/site-packages/lightgbm/engine.py:148: UserWarning: Found `num_iterations` in params. Will use it instead of argument\n",
      "  _log_warning(\"Found `{}` in params. Will use it instead of argument\".format(alias))\n"
     ]
    },
    {
     "name": "stdout",
     "output_type": "stream",
     "text": [
      "[CV 1/3] END bagging_fraction=0.5, boosting_type=goss, feature_fraction=0.5, learning_rate=0.005, num_iterations=1500, num_leaves=512, objective=binary; total time= 7.3min\n"
     ]
    },
    {
     "name": "stderr",
     "output_type": "stream",
     "text": [
      "/home/aizat/anaconda3/envs/fyp/lib/python3.7/site-packages/lightgbm/engine.py:148: UserWarning: Found `num_iterations` in params. Will use it instead of argument\n",
      "  _log_warning(\"Found `{}` in params. Will use it instead of argument\".format(alias))\n"
     ]
    },
    {
     "name": "stdout",
     "output_type": "stream",
     "text": [
      "[LightGBM] [Warning] feature_fraction is set=0.5, colsample_bytree=1.0 will be ignored. Current value: feature_fraction=0.5\n",
      "[LightGBM] [Warning] bagging_fraction is set=0.5, subsample=1.0 will be ignored. Current value: bagging_fraction=0.5\n",
      "[CV 2/3] END bagging_fraction=0.5, boosting_type=goss, feature_fraction=0.5, learning_rate=0.005, num_iterations=1500, num_leaves=512, objective=binary; total time= 9.1min\n"
     ]
    },
    {
     "name": "stderr",
     "output_type": "stream",
     "text": [
      "/home/aizat/anaconda3/envs/fyp/lib/python3.7/site-packages/lightgbm/engine.py:148: UserWarning: Found `num_iterations` in params. Will use it instead of argument\n",
      "  _log_warning(\"Found `{}` in params. Will use it instead of argument\".format(alias))\n"
     ]
    },
    {
     "name": "stdout",
     "output_type": "stream",
     "text": [
      "[LightGBM] [Warning] feature_fraction is set=0.5, colsample_bytree=1.0 will be ignored. Current value: feature_fraction=0.5\n",
      "[LightGBM] [Warning] bagging_fraction is set=0.5, subsample=1.0 will be ignored. Current value: bagging_fraction=0.5\n",
      "[CV 3/3] END bagging_fraction=0.5, boosting_type=goss, feature_fraction=0.5, learning_rate=0.005, num_iterations=1500, num_leaves=512, objective=binary; total time=10.3min\n"
     ]
    },
    {
     "name": "stderr",
     "output_type": "stream",
     "text": [
      "/home/aizat/anaconda3/envs/fyp/lib/python3.7/site-packages/lightgbm/engine.py:148: UserWarning: Found `num_iterations` in params. Will use it instead of argument\n",
      "  _log_warning(\"Found `{}` in params. Will use it instead of argument\".format(alias))\n"
     ]
    },
    {
     "name": "stdout",
     "output_type": "stream",
     "text": [
      "[LightGBM] [Warning] feature_fraction is set=0.5, colsample_bytree=1.0 will be ignored. Current value: feature_fraction=0.5\n",
      "[LightGBM] [Warning] bagging_fraction is set=0.5, subsample=1.0 will be ignored. Current value: bagging_fraction=0.5\n",
      "[CV 1/3] END bagging_fraction=0.5, boosting_type=goss, feature_fraction=0.5, learning_rate=0.005, num_iterations=1500, num_leaves=1024, objective=binary; total time=11.5min\n"
     ]
    },
    {
     "name": "stderr",
     "output_type": "stream",
     "text": [
      "/home/aizat/anaconda3/envs/fyp/lib/python3.7/site-packages/lightgbm/engine.py:148: UserWarning: Found `num_iterations` in params. Will use it instead of argument\n",
      "  _log_warning(\"Found `{}` in params. Will use it instead of argument\".format(alias))\n"
     ]
    },
    {
     "name": "stdout",
     "output_type": "stream",
     "text": [
      "[LightGBM] [Warning] feature_fraction is set=0.5, colsample_bytree=1.0 will be ignored. Current value: feature_fraction=0.5\n",
      "[LightGBM] [Warning] bagging_fraction is set=0.5, subsample=1.0 will be ignored. Current value: bagging_fraction=0.5\n",
      "[CV 2/3] END bagging_fraction=0.5, boosting_type=goss, feature_fraction=0.5, learning_rate=0.005, num_iterations=1500, num_leaves=1024, objective=binary; total time=14.3min\n"
     ]
    },
    {
     "name": "stderr",
     "output_type": "stream",
     "text": [
      "/home/aizat/anaconda3/envs/fyp/lib/python3.7/site-packages/lightgbm/engine.py:148: UserWarning: Found `num_iterations` in params. Will use it instead of argument\n",
      "  _log_warning(\"Found `{}` in params. Will use it instead of argument\".format(alias))\n"
     ]
    },
    {
     "name": "stdout",
     "output_type": "stream",
     "text": [
      "[LightGBM] [Warning] feature_fraction is set=0.5, colsample_bytree=1.0 will be ignored. Current value: feature_fraction=0.5\n",
      "[LightGBM] [Warning] bagging_fraction is set=0.5, subsample=1.0 will be ignored. Current value: bagging_fraction=0.5\n",
      "[CV 3/3] END bagging_fraction=0.5, boosting_type=goss, feature_fraction=0.5, learning_rate=0.005, num_iterations=1500, num_leaves=1024, objective=binary; total time=16.2min\n"
     ]
    },
    {
     "name": "stderr",
     "output_type": "stream",
     "text": [
      "/home/aizat/anaconda3/envs/fyp/lib/python3.7/site-packages/lightgbm/engine.py:148: UserWarning: Found `num_iterations` in params. Will use it instead of argument\n",
      "  _log_warning(\"Found `{}` in params. Will use it instead of argument\".format(alias))\n"
     ]
    },
    {
     "name": "stdout",
     "output_type": "stream",
     "text": [
      "[LightGBM] [Warning] feature_fraction is set=0.5, colsample_bytree=1.0 will be ignored. Current value: feature_fraction=0.5\n",
      "[LightGBM] [Warning] bagging_fraction is set=0.5, subsample=1.0 will be ignored. Current value: bagging_fraction=0.5\n"
     ]
    },
    {
     "name": "stderr",
     "output_type": "stream",
     "text": [
      "/home/aizat/anaconda3/envs/fyp/lib/python3.7/site-packages/sklearn/model_selection/_validation.py:614: FitFailedWarning: Estimator fit failed. The score on this train-test partition for these parameters will be set to nan. Details: \n",
      "Traceback (most recent call last):\n",
      "  File \"/home/aizat/anaconda3/envs/fyp/lib/python3.7/site-packages/sklearn/model_selection/_validation.py\", line 593, in _fit_and_score\n",
      "    estimator.fit(X_train, y_train, **fit_params)\n",
      "  File \"/home/aizat/anaconda3/envs/fyp/lib/python3.7/site-packages/lightgbm/sklearn.py\", line 895, in fit\n",
      "    callbacks=callbacks, init_model=init_model)\n",
      "  File \"/home/aizat/anaconda3/envs/fyp/lib/python3.7/site-packages/lightgbm/sklearn.py\", line 688, in fit\n",
      "    callbacks=callbacks, init_model=init_model)\n",
      "  File \"/home/aizat/anaconda3/envs/fyp/lib/python3.7/site-packages/lightgbm/engine.py\", line 249, in train\n",
      "    booster.update(fobj=fobj)\n",
      "  File \"/home/aizat/anaconda3/envs/fyp/lib/python3.7/site-packages/lightgbm/basic.py\", line 2645, in update\n",
      "    ctypes.byref(is_finished)))\n",
      "  File \"/home/aizat/anaconda3/envs/fyp/lib/python3.7/site-packages/lightgbm/basic.py\", line 110, in _safe_call\n",
      "    raise LightGBMError(_LIB.LGBM_GetLastError().decode('utf-8'))\n",
      "lightgbm.basic.LightGBMError: Check failed: (best_split_info.left_count) > (0) at /home/aizat/LightGBM/src/treelearner/serial_tree_learner.cpp, line 653 .\n",
      "\n",
      "\n",
      "  FitFailedWarning)\n"
     ]
    },
    {
     "name": "stdout",
     "output_type": "stream",
     "text": [
      "[CV 1/3] END bagging_fraction=0.5, boosting_type=goss, feature_fraction=0.5, learning_rate=0.005, num_iterations=1500, num_leaves=2048, objective=binary; total time= 2.1min\n"
     ]
    },
    {
     "name": "stderr",
     "output_type": "stream",
     "text": [
      "/home/aizat/anaconda3/envs/fyp/lib/python3.7/site-packages/lightgbm/engine.py:148: UserWarning: Found `num_iterations` in params. Will use it instead of argument\n",
      "  _log_warning(\"Found `{}` in params. Will use it instead of argument\".format(alias))\n",
      "/home/aizat/anaconda3/envs/fyp/lib/python3.7/site-packages/sklearn/model_selection/_validation.py:614: FitFailedWarning: Estimator fit failed. The score on this train-test partition for these parameters will be set to nan. Details: \n",
      "Traceback (most recent call last):\n",
      "  File \"/home/aizat/anaconda3/envs/fyp/lib/python3.7/site-packages/sklearn/model_selection/_validation.py\", line 593, in _fit_and_score\n",
      "    estimator.fit(X_train, y_train, **fit_params)\n",
      "  File \"/home/aizat/anaconda3/envs/fyp/lib/python3.7/site-packages/lightgbm/sklearn.py\", line 895, in fit\n",
      "    callbacks=callbacks, init_model=init_model)\n",
      "  File \"/home/aizat/anaconda3/envs/fyp/lib/python3.7/site-packages/lightgbm/sklearn.py\", line 688, in fit\n",
      "    callbacks=callbacks, init_model=init_model)\n",
      "  File \"/home/aizat/anaconda3/envs/fyp/lib/python3.7/site-packages/lightgbm/engine.py\", line 249, in train\n",
      "    booster.update(fobj=fobj)\n",
      "  File \"/home/aizat/anaconda3/envs/fyp/lib/python3.7/site-packages/lightgbm/basic.py\", line 2645, in update\n",
      "    ctypes.byref(is_finished)))\n",
      "  File \"/home/aizat/anaconda3/envs/fyp/lib/python3.7/site-packages/lightgbm/basic.py\", line 110, in _safe_call\n",
      "    raise LightGBMError(_LIB.LGBM_GetLastError().decode('utf-8'))\n",
      "lightgbm.basic.LightGBMError: Check failed: (best_split_info.left_count) > (0) at /home/aizat/LightGBM/src/treelearner/serial_tree_learner.cpp, line 653 .\n",
      "\n",
      "\n",
      "  FitFailedWarning)\n"
     ]
    },
    {
     "name": "stdout",
     "output_type": "stream",
     "text": [
      "[CV 2/3] END bagging_fraction=0.5, boosting_type=goss, feature_fraction=0.5, learning_rate=0.005, num_iterations=1500, num_leaves=2048, objective=binary; total time= 1.6min\n"
     ]
    },
    {
     "name": "stderr",
     "output_type": "stream",
     "text": [
      "/home/aizat/anaconda3/envs/fyp/lib/python3.7/site-packages/lightgbm/engine.py:148: UserWarning: Found `num_iterations` in params. Will use it instead of argument\n",
      "  _log_warning(\"Found `{}` in params. Will use it instead of argument\".format(alias))\n",
      "/home/aizat/anaconda3/envs/fyp/lib/python3.7/site-packages/sklearn/model_selection/_validation.py:614: FitFailedWarning: Estimator fit failed. The score on this train-test partition for these parameters will be set to nan. Details: \n",
      "Traceback (most recent call last):\n",
      "  File \"/home/aizat/anaconda3/envs/fyp/lib/python3.7/site-packages/sklearn/model_selection/_validation.py\", line 593, in _fit_and_score\n",
      "    estimator.fit(X_train, y_train, **fit_params)\n",
      "  File \"/home/aizat/anaconda3/envs/fyp/lib/python3.7/site-packages/lightgbm/sklearn.py\", line 895, in fit\n",
      "    callbacks=callbacks, init_model=init_model)\n",
      "  File \"/home/aizat/anaconda3/envs/fyp/lib/python3.7/site-packages/lightgbm/sklearn.py\", line 688, in fit\n",
      "    callbacks=callbacks, init_model=init_model)\n",
      "  File \"/home/aizat/anaconda3/envs/fyp/lib/python3.7/site-packages/lightgbm/engine.py\", line 249, in train\n",
      "    booster.update(fobj=fobj)\n",
      "  File \"/home/aizat/anaconda3/envs/fyp/lib/python3.7/site-packages/lightgbm/basic.py\", line 2645, in update\n",
      "    ctypes.byref(is_finished)))\n",
      "  File \"/home/aizat/anaconda3/envs/fyp/lib/python3.7/site-packages/lightgbm/basic.py\", line 110, in _safe_call\n",
      "    raise LightGBMError(_LIB.LGBM_GetLastError().decode('utf-8'))\n",
      "lightgbm.basic.LightGBMError: Check failed: (best_split_info.left_count) > (0) at /home/aizat/LightGBM/src/treelearner/serial_tree_learner.cpp, line 653 .\n",
      "\n",
      "\n",
      "  FitFailedWarning)\n"
     ]
    },
    {
     "name": "stdout",
     "output_type": "stream",
     "text": [
      "[CV 3/3] END bagging_fraction=0.5, boosting_type=goss, feature_fraction=0.5, learning_rate=0.005, num_iterations=1500, num_leaves=2048, objective=binary; total time= 1.3min\n"
     ]
    },
    {
     "name": "stderr",
     "output_type": "stream",
     "text": [
      "/home/aizat/anaconda3/envs/fyp/lib/python3.7/site-packages/lightgbm/engine.py:148: UserWarning: Found `num_iterations` in params. Will use it instead of argument\n",
      "  _log_warning(\"Found `{}` in params. Will use it instead of argument\".format(alias))\n",
      "/home/aizat/anaconda3/envs/fyp/lib/python3.7/site-packages/sklearn/model_selection/_validation.py:614: FitFailedWarning: Estimator fit failed. The score on this train-test partition for these parameters will be set to nan. Details: \n",
      "Traceback (most recent call last):\n",
      "  File \"/home/aizat/anaconda3/envs/fyp/lib/python3.7/site-packages/sklearn/model_selection/_validation.py\", line 593, in _fit_and_score\n",
      "    estimator.fit(X_train, y_train, **fit_params)\n",
      "  File \"/home/aizat/anaconda3/envs/fyp/lib/python3.7/site-packages/lightgbm/sklearn.py\", line 895, in fit\n",
      "    callbacks=callbacks, init_model=init_model)\n",
      "  File \"/home/aizat/anaconda3/envs/fyp/lib/python3.7/site-packages/lightgbm/sklearn.py\", line 688, in fit\n",
      "    callbacks=callbacks, init_model=init_model)\n",
      "  File \"/home/aizat/anaconda3/envs/fyp/lib/python3.7/site-packages/lightgbm/engine.py\", line 249, in train\n",
      "    booster.update(fobj=fobj)\n",
      "  File \"/home/aizat/anaconda3/envs/fyp/lib/python3.7/site-packages/lightgbm/basic.py\", line 2645, in update\n",
      "    ctypes.byref(is_finished)))\n",
      "  File \"/home/aizat/anaconda3/envs/fyp/lib/python3.7/site-packages/lightgbm/basic.py\", line 110, in _safe_call\n",
      "    raise LightGBMError(_LIB.LGBM_GetLastError().decode('utf-8'))\n",
      "lightgbm.basic.LightGBMError: Check failed: (best_split_info.left_count) > (0) at /home/aizat/LightGBM/src/treelearner/serial_tree_learner.cpp, line 653 .\n",
      "\n",
      "\n",
      "  FitFailedWarning)\n"
     ]
    },
    {
     "name": "stdout",
     "output_type": "stream",
     "text": [
      "[CV 1/3] END bagging_fraction=0.5, boosting_type=goss, feature_fraction=0.5, learning_rate=0.005, num_iterations=1500, num_leaves=4096, objective=binary; total time= 1.7min\n"
     ]
    },
    {
     "name": "stderr",
     "output_type": "stream",
     "text": [
      "/home/aizat/anaconda3/envs/fyp/lib/python3.7/site-packages/lightgbm/engine.py:148: UserWarning: Found `num_iterations` in params. Will use it instead of argument\n",
      "  _log_warning(\"Found `{}` in params. Will use it instead of argument\".format(alias))\n",
      "/home/aizat/anaconda3/envs/fyp/lib/python3.7/site-packages/sklearn/model_selection/_validation.py:614: FitFailedWarning: Estimator fit failed. The score on this train-test partition for these parameters will be set to nan. Details: \n",
      "Traceback (most recent call last):\n",
      "  File \"/home/aizat/anaconda3/envs/fyp/lib/python3.7/site-packages/sklearn/model_selection/_validation.py\", line 593, in _fit_and_score\n",
      "    estimator.fit(X_train, y_train, **fit_params)\n",
      "  File \"/home/aizat/anaconda3/envs/fyp/lib/python3.7/site-packages/lightgbm/sklearn.py\", line 895, in fit\n",
      "    callbacks=callbacks, init_model=init_model)\n",
      "  File \"/home/aizat/anaconda3/envs/fyp/lib/python3.7/site-packages/lightgbm/sklearn.py\", line 688, in fit\n",
      "    callbacks=callbacks, init_model=init_model)\n",
      "  File \"/home/aizat/anaconda3/envs/fyp/lib/python3.7/site-packages/lightgbm/engine.py\", line 249, in train\n",
      "    booster.update(fobj=fobj)\n",
      "  File \"/home/aizat/anaconda3/envs/fyp/lib/python3.7/site-packages/lightgbm/basic.py\", line 2645, in update\n",
      "    ctypes.byref(is_finished)))\n",
      "  File \"/home/aizat/anaconda3/envs/fyp/lib/python3.7/site-packages/lightgbm/basic.py\", line 110, in _safe_call\n",
      "    raise LightGBMError(_LIB.LGBM_GetLastError().decode('utf-8'))\n",
      "lightgbm.basic.LightGBMError: Check failed: (best_split_info.left_count) > (0) at /home/aizat/LightGBM/src/treelearner/serial_tree_learner.cpp, line 653 .\n",
      "\n",
      "\n",
      "  FitFailedWarning)\n"
     ]
    },
    {
     "name": "stdout",
     "output_type": "stream",
     "text": [
      "[CV 2/3] END bagging_fraction=0.5, boosting_type=goss, feature_fraction=0.5, learning_rate=0.005, num_iterations=1500, num_leaves=4096, objective=binary; total time=  25.3s\n"
     ]
    },
    {
     "name": "stderr",
     "output_type": "stream",
     "text": [
      "/home/aizat/anaconda3/envs/fyp/lib/python3.7/site-packages/lightgbm/engine.py:148: UserWarning: Found `num_iterations` in params. Will use it instead of argument\n",
      "  _log_warning(\"Found `{}` in params. Will use it instead of argument\".format(alias))\n",
      "/home/aizat/anaconda3/envs/fyp/lib/python3.7/site-packages/sklearn/model_selection/_validation.py:614: FitFailedWarning: Estimator fit failed. The score on this train-test partition for these parameters will be set to nan. Details: \n",
      "Traceback (most recent call last):\n",
      "  File \"/home/aizat/anaconda3/envs/fyp/lib/python3.7/site-packages/sklearn/model_selection/_validation.py\", line 593, in _fit_and_score\n",
      "    estimator.fit(X_train, y_train, **fit_params)\n",
      "  File \"/home/aizat/anaconda3/envs/fyp/lib/python3.7/site-packages/lightgbm/sklearn.py\", line 895, in fit\n",
      "    callbacks=callbacks, init_model=init_model)\n",
      "  File \"/home/aizat/anaconda3/envs/fyp/lib/python3.7/site-packages/lightgbm/sklearn.py\", line 688, in fit\n",
      "    callbacks=callbacks, init_model=init_model)\n",
      "  File \"/home/aizat/anaconda3/envs/fyp/lib/python3.7/site-packages/lightgbm/engine.py\", line 249, in train\n",
      "    booster.update(fobj=fobj)\n",
      "  File \"/home/aizat/anaconda3/envs/fyp/lib/python3.7/site-packages/lightgbm/basic.py\", line 2645, in update\n",
      "    ctypes.byref(is_finished)))\n",
      "  File \"/home/aizat/anaconda3/envs/fyp/lib/python3.7/site-packages/lightgbm/basic.py\", line 110, in _safe_call\n",
      "    raise LightGBMError(_LIB.LGBM_GetLastError().decode('utf-8'))\n",
      "lightgbm.basic.LightGBMError: Check failed: (best_split_info.left_count) > (0) at /home/aizat/LightGBM/src/treelearner/serial_tree_learner.cpp, line 653 .\n",
      "\n",
      "\n",
      "  FitFailedWarning)\n"
     ]
    },
    {
     "name": "stdout",
     "output_type": "stream",
     "text": [
      "[CV 3/3] END bagging_fraction=0.5, boosting_type=goss, feature_fraction=0.5, learning_rate=0.005, num_iterations=1500, num_leaves=4096, objective=binary; total time=  32.9s\n"
     ]
    },
    {
     "name": "stderr",
     "output_type": "stream",
     "text": [
      "/home/aizat/anaconda3/envs/fyp/lib/python3.7/site-packages/lightgbm/engine.py:148: UserWarning: Found `num_iterations` in params. Will use it instead of argument\n",
      "  _log_warning(\"Found `{}` in params. Will use it instead of argument\".format(alias))\n"
     ]
    },
    {
     "name": "stdout",
     "output_type": "stream",
     "text": [
      "[CV 1/3] END bagging_fraction=0.5, boosting_type=goss, feature_fraction=0.5, learning_rate=0.05, num_iterations=500, num_leaves=512, objective=binary; total time= 2.7min\n"
     ]
    },
    {
     "name": "stderr",
     "output_type": "stream",
     "text": [
      "/home/aizat/anaconda3/envs/fyp/lib/python3.7/site-packages/lightgbm/engine.py:148: UserWarning: Found `num_iterations` in params. Will use it instead of argument\n",
      "  _log_warning(\"Found `{}` in params. Will use it instead of argument\".format(alias))\n"
     ]
    },
    {
     "name": "stdout",
     "output_type": "stream",
     "text": [
      "[LightGBM] [Warning] feature_fraction is set=0.5, colsample_bytree=1.0 will be ignored. Current value: feature_fraction=0.5\n",
      "[LightGBM] [Warning] bagging_fraction is set=0.5, subsample=1.0 will be ignored. Current value: bagging_fraction=0.5\n",
      "[CV 2/3] END bagging_fraction=0.5, boosting_type=goss, feature_fraction=0.5, learning_rate=0.05, num_iterations=500, num_leaves=512, objective=binary; total time= 3.3min\n"
     ]
    },
    {
     "name": "stderr",
     "output_type": "stream",
     "text": [
      "/home/aizat/anaconda3/envs/fyp/lib/python3.7/site-packages/lightgbm/engine.py:148: UserWarning: Found `num_iterations` in params. Will use it instead of argument\n",
      "  _log_warning(\"Found `{}` in params. Will use it instead of argument\".format(alias))\n"
     ]
    },
    {
     "name": "stdout",
     "output_type": "stream",
     "text": [
      "[LightGBM] [Warning] feature_fraction is set=0.5, colsample_bytree=1.0 will be ignored. Current value: feature_fraction=0.5\n",
      "[LightGBM] [Warning] bagging_fraction is set=0.5, subsample=1.0 will be ignored. Current value: bagging_fraction=0.5\n",
      "[CV 3/3] END bagging_fraction=0.5, boosting_type=goss, feature_fraction=0.5, learning_rate=0.05, num_iterations=500, num_leaves=512, objective=binary; total time= 3.8min\n"
     ]
    },
    {
     "name": "stderr",
     "output_type": "stream",
     "text": [
      "/home/aizat/anaconda3/envs/fyp/lib/python3.7/site-packages/lightgbm/engine.py:148: UserWarning: Found `num_iterations` in params. Will use it instead of argument\n",
      "  _log_warning(\"Found `{}` in params. Will use it instead of argument\".format(alias))\n"
     ]
    },
    {
     "name": "stdout",
     "output_type": "stream",
     "text": [
      "[LightGBM] [Warning] feature_fraction is set=0.5, colsample_bytree=1.0 will be ignored. Current value: feature_fraction=0.5\n",
      "[LightGBM] [Warning] bagging_fraction is set=0.5, subsample=1.0 will be ignored. Current value: bagging_fraction=0.5\n",
      "[CV 1/3] END bagging_fraction=0.5, boosting_type=goss, feature_fraction=0.5, learning_rate=0.05, num_iterations=500, num_leaves=1024, objective=binary; total time= 3.6min\n"
     ]
    },
    {
     "name": "stderr",
     "output_type": "stream",
     "text": [
      "/home/aizat/anaconda3/envs/fyp/lib/python3.7/site-packages/lightgbm/engine.py:148: UserWarning: Found `num_iterations` in params. Will use it instead of argument\n",
      "  _log_warning(\"Found `{}` in params. Will use it instead of argument\".format(alias))\n"
     ]
    },
    {
     "name": "stdout",
     "output_type": "stream",
     "text": [
      "[LightGBM] [Warning] feature_fraction is set=0.5, colsample_bytree=1.0 will be ignored. Current value: feature_fraction=0.5\n",
      "[LightGBM] [Warning] bagging_fraction is set=0.5, subsample=1.0 will be ignored. Current value: bagging_fraction=0.5\n",
      "[CV 2/3] END bagging_fraction=0.5, boosting_type=goss, feature_fraction=0.5, learning_rate=0.05, num_iterations=500, num_leaves=1024, objective=binary; total time= 5.2min\n"
     ]
    },
    {
     "name": "stderr",
     "output_type": "stream",
     "text": [
      "/home/aizat/anaconda3/envs/fyp/lib/python3.7/site-packages/lightgbm/engine.py:148: UserWarning: Found `num_iterations` in params. Will use it instead of argument\n",
      "  _log_warning(\"Found `{}` in params. Will use it instead of argument\".format(alias))\n"
     ]
    },
    {
     "name": "stdout",
     "output_type": "stream",
     "text": [
      "[LightGBM] [Warning] feature_fraction is set=0.5, colsample_bytree=1.0 will be ignored. Current value: feature_fraction=0.5\n",
      "[LightGBM] [Warning] bagging_fraction is set=0.5, subsample=1.0 will be ignored. Current value: bagging_fraction=0.5\n",
      "[CV 3/3] END bagging_fraction=0.5, boosting_type=goss, feature_fraction=0.5, learning_rate=0.05, num_iterations=500, num_leaves=1024, objective=binary; total time= 5.8min\n"
     ]
    },
    {
     "name": "stderr",
     "output_type": "stream",
     "text": [
      "/home/aizat/anaconda3/envs/fyp/lib/python3.7/site-packages/lightgbm/engine.py:148: UserWarning: Found `num_iterations` in params. Will use it instead of argument\n",
      "  _log_warning(\"Found `{}` in params. Will use it instead of argument\".format(alias))\n"
     ]
    },
    {
     "name": "stdout",
     "output_type": "stream",
     "text": [
      "[LightGBM] [Warning] feature_fraction is set=0.5, colsample_bytree=1.0 will be ignored. Current value: feature_fraction=0.5\n",
      "[LightGBM] [Warning] bagging_fraction is set=0.5, subsample=1.0 will be ignored. Current value: bagging_fraction=0.5\n"
     ]
    },
    {
     "name": "stderr",
     "output_type": "stream",
     "text": [
      "/home/aizat/anaconda3/envs/fyp/lib/python3.7/site-packages/sklearn/model_selection/_validation.py:614: FitFailedWarning: Estimator fit failed. The score on this train-test partition for these parameters will be set to nan. Details: \n",
      "Traceback (most recent call last):\n",
      "  File \"/home/aizat/anaconda3/envs/fyp/lib/python3.7/site-packages/sklearn/model_selection/_validation.py\", line 593, in _fit_and_score\n",
      "    estimator.fit(X_train, y_train, **fit_params)\n",
      "  File \"/home/aizat/anaconda3/envs/fyp/lib/python3.7/site-packages/lightgbm/sklearn.py\", line 895, in fit\n",
      "    callbacks=callbacks, init_model=init_model)\n",
      "  File \"/home/aizat/anaconda3/envs/fyp/lib/python3.7/site-packages/lightgbm/sklearn.py\", line 688, in fit\n",
      "    callbacks=callbacks, init_model=init_model)\n",
      "  File \"/home/aizat/anaconda3/envs/fyp/lib/python3.7/site-packages/lightgbm/engine.py\", line 249, in train\n",
      "    booster.update(fobj=fobj)\n",
      "  File \"/home/aizat/anaconda3/envs/fyp/lib/python3.7/site-packages/lightgbm/basic.py\", line 2645, in update\n",
      "    ctypes.byref(is_finished)))\n",
      "  File \"/home/aizat/anaconda3/envs/fyp/lib/python3.7/site-packages/lightgbm/basic.py\", line 110, in _safe_call\n",
      "    raise LightGBMError(_LIB.LGBM_GetLastError().decode('utf-8'))\n",
      "lightgbm.basic.LightGBMError: Check failed: (best_split_info.left_count) > (0) at /home/aizat/LightGBM/src/treelearner/serial_tree_learner.cpp, line 653 .\n",
      "\n",
      "\n",
      "  FitFailedWarning)\n"
     ]
    },
    {
     "name": "stdout",
     "output_type": "stream",
     "text": [
      "[CV 1/3] END bagging_fraction=0.5, boosting_type=goss, feature_fraction=0.5, learning_rate=0.05, num_iterations=500, num_leaves=2048, objective=binary; total time=  29.3s\n"
     ]
    },
    {
     "name": "stderr",
     "output_type": "stream",
     "text": [
      "/home/aizat/anaconda3/envs/fyp/lib/python3.7/site-packages/lightgbm/engine.py:148: UserWarning: Found `num_iterations` in params. Will use it instead of argument\n",
      "  _log_warning(\"Found `{}` in params. Will use it instead of argument\".format(alias))\n",
      "/home/aizat/anaconda3/envs/fyp/lib/python3.7/site-packages/sklearn/model_selection/_validation.py:614: FitFailedWarning: Estimator fit failed. The score on this train-test partition for these parameters will be set to nan. Details: \n",
      "Traceback (most recent call last):\n",
      "  File \"/home/aizat/anaconda3/envs/fyp/lib/python3.7/site-packages/sklearn/model_selection/_validation.py\", line 593, in _fit_and_score\n",
      "    estimator.fit(X_train, y_train, **fit_params)\n",
      "  File \"/home/aizat/anaconda3/envs/fyp/lib/python3.7/site-packages/lightgbm/sklearn.py\", line 895, in fit\n",
      "    callbacks=callbacks, init_model=init_model)\n",
      "  File \"/home/aizat/anaconda3/envs/fyp/lib/python3.7/site-packages/lightgbm/sklearn.py\", line 688, in fit\n",
      "    callbacks=callbacks, init_model=init_model)\n",
      "  File \"/home/aizat/anaconda3/envs/fyp/lib/python3.7/site-packages/lightgbm/engine.py\", line 249, in train\n",
      "    booster.update(fobj=fobj)\n",
      "  File \"/home/aizat/anaconda3/envs/fyp/lib/python3.7/site-packages/lightgbm/basic.py\", line 2645, in update\n",
      "    ctypes.byref(is_finished)))\n",
      "  File \"/home/aizat/anaconda3/envs/fyp/lib/python3.7/site-packages/lightgbm/basic.py\", line 110, in _safe_call\n",
      "    raise LightGBMError(_LIB.LGBM_GetLastError().decode('utf-8'))\n",
      "lightgbm.basic.LightGBMError: Check failed: (best_split_info.left_count) > (0) at /home/aizat/LightGBM/src/treelearner/serial_tree_learner.cpp, line 653 .\n",
      "\n",
      "\n",
      "  FitFailedWarning)\n"
     ]
    },
    {
     "name": "stdout",
     "output_type": "stream",
     "text": [
      "[CV 2/3] END bagging_fraction=0.5, boosting_type=goss, feature_fraction=0.5, learning_rate=0.05, num_iterations=500, num_leaves=2048, objective=binary; total time=  32.4s\n"
     ]
    },
    {
     "name": "stderr",
     "output_type": "stream",
     "text": [
      "/home/aizat/anaconda3/envs/fyp/lib/python3.7/site-packages/lightgbm/engine.py:148: UserWarning: Found `num_iterations` in params. Will use it instead of argument\n",
      "  _log_warning(\"Found `{}` in params. Will use it instead of argument\".format(alias))\n",
      "/home/aizat/anaconda3/envs/fyp/lib/python3.7/site-packages/sklearn/model_selection/_validation.py:614: FitFailedWarning: Estimator fit failed. The score on this train-test partition for these parameters will be set to nan. Details: \n",
      "Traceback (most recent call last):\n",
      "  File \"/home/aizat/anaconda3/envs/fyp/lib/python3.7/site-packages/sklearn/model_selection/_validation.py\", line 593, in _fit_and_score\n",
      "    estimator.fit(X_train, y_train, **fit_params)\n",
      "  File \"/home/aizat/anaconda3/envs/fyp/lib/python3.7/site-packages/lightgbm/sklearn.py\", line 895, in fit\n",
      "    callbacks=callbacks, init_model=init_model)\n",
      "  File \"/home/aizat/anaconda3/envs/fyp/lib/python3.7/site-packages/lightgbm/sklearn.py\", line 688, in fit\n",
      "    callbacks=callbacks, init_model=init_model)\n",
      "  File \"/home/aizat/anaconda3/envs/fyp/lib/python3.7/site-packages/lightgbm/engine.py\", line 249, in train\n",
      "    booster.update(fobj=fobj)\n",
      "  File \"/home/aizat/anaconda3/envs/fyp/lib/python3.7/site-packages/lightgbm/basic.py\", line 2645, in update\n",
      "    ctypes.byref(is_finished)))\n",
      "  File \"/home/aizat/anaconda3/envs/fyp/lib/python3.7/site-packages/lightgbm/basic.py\", line 110, in _safe_call\n",
      "    raise LightGBMError(_LIB.LGBM_GetLastError().decode('utf-8'))\n",
      "lightgbm.basic.LightGBMError: Check failed: (best_split_info.left_count) > (0) at /home/aizat/LightGBM/src/treelearner/serial_tree_learner.cpp, line 653 .\n",
      "\n",
      "\n",
      "  FitFailedWarning)\n"
     ]
    },
    {
     "name": "stdout",
     "output_type": "stream",
     "text": [
      "[CV 3/3] END bagging_fraction=0.5, boosting_type=goss, feature_fraction=0.5, learning_rate=0.05, num_iterations=500, num_leaves=2048, objective=binary; total time=  35.6s\n"
     ]
    },
    {
     "name": "stderr",
     "output_type": "stream",
     "text": [
      "/home/aizat/anaconda3/envs/fyp/lib/python3.7/site-packages/lightgbm/engine.py:148: UserWarning: Found `num_iterations` in params. Will use it instead of argument\n",
      "  _log_warning(\"Found `{}` in params. Will use it instead of argument\".format(alias))\n"
     ]
    },
    {
     "name": "stdout",
     "output_type": "stream",
     "text": [
      "[CV 1/3] END bagging_fraction=0.5, boosting_type=goss, feature_fraction=0.5, learning_rate=0.05, num_iterations=500, num_leaves=4096, objective=binary; total time= 5.7min\n"
     ]
    },
    {
     "name": "stderr",
     "output_type": "stream",
     "text": [
      "/home/aizat/anaconda3/envs/fyp/lib/python3.7/site-packages/lightgbm/engine.py:148: UserWarning: Found `num_iterations` in params. Will use it instead of argument\n",
      "  _log_warning(\"Found `{}` in params. Will use it instead of argument\".format(alias))\n"
     ]
    },
    {
     "name": "stdout",
     "output_type": "stream",
     "text": [
      "[LightGBM] [Warning] feature_fraction is set=0.5, colsample_bytree=1.0 will be ignored. Current value: feature_fraction=0.5\n",
      "[LightGBM] [Warning] bagging_fraction is set=0.5, subsample=1.0 will be ignored. Current value: bagging_fraction=0.5\n"
     ]
    },
    {
     "name": "stderr",
     "output_type": "stream",
     "text": [
      "/home/aizat/anaconda3/envs/fyp/lib/python3.7/site-packages/sklearn/model_selection/_validation.py:614: FitFailedWarning: Estimator fit failed. The score on this train-test partition for these parameters will be set to nan. Details: \n",
      "Traceback (most recent call last):\n",
      "  File \"/home/aizat/anaconda3/envs/fyp/lib/python3.7/site-packages/sklearn/model_selection/_validation.py\", line 593, in _fit_and_score\n",
      "    estimator.fit(X_train, y_train, **fit_params)\n",
      "  File \"/home/aizat/anaconda3/envs/fyp/lib/python3.7/site-packages/lightgbm/sklearn.py\", line 895, in fit\n",
      "    callbacks=callbacks, init_model=init_model)\n",
      "  File \"/home/aizat/anaconda3/envs/fyp/lib/python3.7/site-packages/lightgbm/sklearn.py\", line 688, in fit\n",
      "    callbacks=callbacks, init_model=init_model)\n",
      "  File \"/home/aizat/anaconda3/envs/fyp/lib/python3.7/site-packages/lightgbm/engine.py\", line 249, in train\n",
      "    booster.update(fobj=fobj)\n",
      "  File \"/home/aizat/anaconda3/envs/fyp/lib/python3.7/site-packages/lightgbm/basic.py\", line 2645, in update\n",
      "    ctypes.byref(is_finished)))\n",
      "  File \"/home/aizat/anaconda3/envs/fyp/lib/python3.7/site-packages/lightgbm/basic.py\", line 110, in _safe_call\n",
      "    raise LightGBMError(_LIB.LGBM_GetLastError().decode('utf-8'))\n",
      "lightgbm.basic.LightGBMError: Check failed: (best_split_info.left_count) > (0) at /home/aizat/LightGBM/src/treelearner/serial_tree_learner.cpp, line 653 .\n",
      "\n",
      "\n",
      "  FitFailedWarning)\n"
     ]
    },
    {
     "name": "stdout",
     "output_type": "stream",
     "text": [
      "[CV 2/3] END bagging_fraction=0.5, boosting_type=goss, feature_fraction=0.5, learning_rate=0.05, num_iterations=500, num_leaves=4096, objective=binary; total time=  24.7s\n"
     ]
    },
    {
     "name": "stderr",
     "output_type": "stream",
     "text": [
      "/home/aizat/anaconda3/envs/fyp/lib/python3.7/site-packages/lightgbm/engine.py:148: UserWarning: Found `num_iterations` in params. Will use it instead of argument\n",
      "  _log_warning(\"Found `{}` in params. Will use it instead of argument\".format(alias))\n",
      "/home/aizat/anaconda3/envs/fyp/lib/python3.7/site-packages/sklearn/model_selection/_validation.py:614: FitFailedWarning: Estimator fit failed. The score on this train-test partition for these parameters will be set to nan. Details: \n",
      "Traceback (most recent call last):\n",
      "  File \"/home/aizat/anaconda3/envs/fyp/lib/python3.7/site-packages/sklearn/model_selection/_validation.py\", line 593, in _fit_and_score\n",
      "    estimator.fit(X_train, y_train, **fit_params)\n",
      "  File \"/home/aizat/anaconda3/envs/fyp/lib/python3.7/site-packages/lightgbm/sklearn.py\", line 895, in fit\n",
      "    callbacks=callbacks, init_model=init_model)\n",
      "  File \"/home/aizat/anaconda3/envs/fyp/lib/python3.7/site-packages/lightgbm/sklearn.py\", line 688, in fit\n",
      "    callbacks=callbacks, init_model=init_model)\n",
      "  File \"/home/aizat/anaconda3/envs/fyp/lib/python3.7/site-packages/lightgbm/engine.py\", line 249, in train\n",
      "    booster.update(fobj=fobj)\n",
      "  File \"/home/aizat/anaconda3/envs/fyp/lib/python3.7/site-packages/lightgbm/basic.py\", line 2645, in update\n",
      "    ctypes.byref(is_finished)))\n",
      "  File \"/home/aizat/anaconda3/envs/fyp/lib/python3.7/site-packages/lightgbm/basic.py\", line 110, in _safe_call\n",
      "    raise LightGBMError(_LIB.LGBM_GetLastError().decode('utf-8'))\n",
      "lightgbm.basic.LightGBMError: Check failed: (best_split_info.left_count) > (0) at /home/aizat/LightGBM/src/treelearner/serial_tree_learner.cpp, line 653 .\n",
      "\n",
      "\n",
      "  FitFailedWarning)\n"
     ]
    },
    {
     "name": "stdout",
     "output_type": "stream",
     "text": [
      "[CV 3/3] END bagging_fraction=0.5, boosting_type=goss, feature_fraction=0.5, learning_rate=0.05, num_iterations=500, num_leaves=4096, objective=binary; total time=  42.4s\n"
     ]
    },
    {
     "name": "stderr",
     "output_type": "stream",
     "text": [
      "/home/aizat/anaconda3/envs/fyp/lib/python3.7/site-packages/lightgbm/engine.py:148: UserWarning: Found `num_iterations` in params. Will use it instead of argument\n",
      "  _log_warning(\"Found `{}` in params. Will use it instead of argument\".format(alias))\n"
     ]
    },
    {
     "name": "stdout",
     "output_type": "stream",
     "text": [
      "[CV 1/3] END bagging_fraction=0.5, boosting_type=goss, feature_fraction=0.5, learning_rate=0.05, num_iterations=1000, num_leaves=512, objective=binary; total time= 3.8min\n"
     ]
    },
    {
     "name": "stderr",
     "output_type": "stream",
     "text": [
      "/home/aizat/anaconda3/envs/fyp/lib/python3.7/site-packages/lightgbm/engine.py:148: UserWarning: Found `num_iterations` in params. Will use it instead of argument\n",
      "  _log_warning(\"Found `{}` in params. Will use it instead of argument\".format(alias))\n"
     ]
    },
    {
     "name": "stdout",
     "output_type": "stream",
     "text": [
      "[LightGBM] [Warning] feature_fraction is set=0.5, colsample_bytree=1.0 will be ignored. Current value: feature_fraction=0.5\n",
      "[LightGBM] [Warning] bagging_fraction is set=0.5, subsample=1.0 will be ignored. Current value: bagging_fraction=0.5\n",
      "[CV 2/3] END bagging_fraction=0.5, boosting_type=goss, feature_fraction=0.5, learning_rate=0.05, num_iterations=1000, num_leaves=512, objective=binary; total time= 6.2min\n"
     ]
    },
    {
     "name": "stderr",
     "output_type": "stream",
     "text": [
      "/home/aizat/anaconda3/envs/fyp/lib/python3.7/site-packages/lightgbm/engine.py:148: UserWarning: Found `num_iterations` in params. Will use it instead of argument\n",
      "  _log_warning(\"Found `{}` in params. Will use it instead of argument\".format(alias))\n"
     ]
    },
    {
     "name": "stdout",
     "output_type": "stream",
     "text": [
      "[LightGBM] [Warning] feature_fraction is set=0.5, colsample_bytree=1.0 will be ignored. Current value: feature_fraction=0.5\n",
      "[LightGBM] [Warning] bagging_fraction is set=0.5, subsample=1.0 will be ignored. Current value: bagging_fraction=0.5\n",
      "[CV 3/3] END bagging_fraction=0.5, boosting_type=goss, feature_fraction=0.5, learning_rate=0.05, num_iterations=1000, num_leaves=512, objective=binary; total time= 7.0min\n"
     ]
    },
    {
     "name": "stderr",
     "output_type": "stream",
     "text": [
      "/home/aizat/anaconda3/envs/fyp/lib/python3.7/site-packages/lightgbm/engine.py:148: UserWarning: Found `num_iterations` in params. Will use it instead of argument\n",
      "  _log_warning(\"Found `{}` in params. Will use it instead of argument\".format(alias))\n"
     ]
    },
    {
     "name": "stdout",
     "output_type": "stream",
     "text": [
      "[LightGBM] [Warning] feature_fraction is set=0.5, colsample_bytree=1.0 will be ignored. Current value: feature_fraction=0.5\n",
      "[LightGBM] [Warning] bagging_fraction is set=0.5, subsample=1.0 will be ignored. Current value: bagging_fraction=0.5\n",
      "[CV 1/3] END bagging_fraction=0.5, boosting_type=goss, feature_fraction=0.5, learning_rate=0.05, num_iterations=1000, num_leaves=1024, objective=binary; total time= 4.4min\n"
     ]
    },
    {
     "name": "stderr",
     "output_type": "stream",
     "text": [
      "/home/aizat/anaconda3/envs/fyp/lib/python3.7/site-packages/lightgbm/engine.py:148: UserWarning: Found `num_iterations` in params. Will use it instead of argument\n",
      "  _log_warning(\"Found `{}` in params. Will use it instead of argument\".format(alias))\n"
     ]
    },
    {
     "name": "stdout",
     "output_type": "stream",
     "text": [
      "[LightGBM] [Warning] feature_fraction is set=0.5, colsample_bytree=1.0 will be ignored. Current value: feature_fraction=0.5\n",
      "[LightGBM] [Warning] bagging_fraction is set=0.5, subsample=1.0 will be ignored. Current value: bagging_fraction=0.5\n",
      "[CV 2/3] END bagging_fraction=0.5, boosting_type=goss, feature_fraction=0.5, learning_rate=0.05, num_iterations=1000, num_leaves=1024, objective=binary; total time= 7.3min\n"
     ]
    },
    {
     "name": "stderr",
     "output_type": "stream",
     "text": [
      "/home/aizat/anaconda3/envs/fyp/lib/python3.7/site-packages/lightgbm/engine.py:148: UserWarning: Found `num_iterations` in params. Will use it instead of argument\n",
      "  _log_warning(\"Found `{}` in params. Will use it instead of argument\".format(alias))\n"
     ]
    },
    {
     "name": "stdout",
     "output_type": "stream",
     "text": [
      "[LightGBM] [Warning] feature_fraction is set=0.5, colsample_bytree=1.0 will be ignored. Current value: feature_fraction=0.5\n",
      "[LightGBM] [Warning] bagging_fraction is set=0.5, subsample=1.0 will be ignored. Current value: bagging_fraction=0.5\n",
      "[CV 3/3] END bagging_fraction=0.5, boosting_type=goss, feature_fraction=0.5, learning_rate=0.05, num_iterations=1000, num_leaves=1024, objective=binary; total time= 9.7min\n"
     ]
    },
    {
     "name": "stderr",
     "output_type": "stream",
     "text": [
      "/home/aizat/anaconda3/envs/fyp/lib/python3.7/site-packages/lightgbm/engine.py:148: UserWarning: Found `num_iterations` in params. Will use it instead of argument\n",
      "  _log_warning(\"Found `{}` in params. Will use it instead of argument\".format(alias))\n"
     ]
    },
    {
     "name": "stdout",
     "output_type": "stream",
     "text": [
      "[LightGBM] [Warning] feature_fraction is set=0.5, colsample_bytree=1.0 will be ignored. Current value: feature_fraction=0.5\n",
      "[LightGBM] [Warning] bagging_fraction is set=0.5, subsample=1.0 will be ignored. Current value: bagging_fraction=0.5\n"
     ]
    },
    {
     "name": "stderr",
     "output_type": "stream",
     "text": [
      "/home/aizat/anaconda3/envs/fyp/lib/python3.7/site-packages/sklearn/model_selection/_validation.py:614: FitFailedWarning: Estimator fit failed. The score on this train-test partition for these parameters will be set to nan. Details: \n",
      "Traceback (most recent call last):\n",
      "  File \"/home/aizat/anaconda3/envs/fyp/lib/python3.7/site-packages/sklearn/model_selection/_validation.py\", line 593, in _fit_and_score\n",
      "    estimator.fit(X_train, y_train, **fit_params)\n",
      "  File \"/home/aizat/anaconda3/envs/fyp/lib/python3.7/site-packages/lightgbm/sklearn.py\", line 895, in fit\n",
      "    callbacks=callbacks, init_model=init_model)\n",
      "  File \"/home/aizat/anaconda3/envs/fyp/lib/python3.7/site-packages/lightgbm/sklearn.py\", line 688, in fit\n",
      "    callbacks=callbacks, init_model=init_model)\n",
      "  File \"/home/aizat/anaconda3/envs/fyp/lib/python3.7/site-packages/lightgbm/engine.py\", line 249, in train\n",
      "    booster.update(fobj=fobj)\n",
      "  File \"/home/aizat/anaconda3/envs/fyp/lib/python3.7/site-packages/lightgbm/basic.py\", line 2645, in update\n",
      "    ctypes.byref(is_finished)))\n",
      "  File \"/home/aizat/anaconda3/envs/fyp/lib/python3.7/site-packages/lightgbm/basic.py\", line 110, in _safe_call\n",
      "    raise LightGBMError(_LIB.LGBM_GetLastError().decode('utf-8'))\n",
      "lightgbm.basic.LightGBMError: Check failed: (best_split_info.left_count) > (0) at /home/aizat/LightGBM/src/treelearner/serial_tree_learner.cpp, line 653 .\n",
      "\n",
      "\n",
      "  FitFailedWarning)\n"
     ]
    },
    {
     "name": "stdout",
     "output_type": "stream",
     "text": [
      "[CV 1/3] END bagging_fraction=0.5, boosting_type=goss, feature_fraction=0.5, learning_rate=0.05, num_iterations=1000, num_leaves=2048, objective=binary; total time=  26.0s\n"
     ]
    },
    {
     "name": "stderr",
     "output_type": "stream",
     "text": [
      "/home/aizat/anaconda3/envs/fyp/lib/python3.7/site-packages/lightgbm/engine.py:148: UserWarning: Found `num_iterations` in params. Will use it instead of argument\n",
      "  _log_warning(\"Found `{}` in params. Will use it instead of argument\".format(alias))\n",
      "/home/aizat/anaconda3/envs/fyp/lib/python3.7/site-packages/sklearn/model_selection/_validation.py:614: FitFailedWarning: Estimator fit failed. The score on this train-test partition for these parameters will be set to nan. Details: \n",
      "Traceback (most recent call last):\n",
      "  File \"/home/aizat/anaconda3/envs/fyp/lib/python3.7/site-packages/sklearn/model_selection/_validation.py\", line 593, in _fit_and_score\n",
      "    estimator.fit(X_train, y_train, **fit_params)\n",
      "  File \"/home/aizat/anaconda3/envs/fyp/lib/python3.7/site-packages/lightgbm/sklearn.py\", line 895, in fit\n",
      "    callbacks=callbacks, init_model=init_model)\n",
      "  File \"/home/aizat/anaconda3/envs/fyp/lib/python3.7/site-packages/lightgbm/sklearn.py\", line 688, in fit\n",
      "    callbacks=callbacks, init_model=init_model)\n",
      "  File \"/home/aizat/anaconda3/envs/fyp/lib/python3.7/site-packages/lightgbm/engine.py\", line 249, in train\n",
      "    booster.update(fobj=fobj)\n",
      "  File \"/home/aizat/anaconda3/envs/fyp/lib/python3.7/site-packages/lightgbm/basic.py\", line 2645, in update\n",
      "    ctypes.byref(is_finished)))\n",
      "  File \"/home/aizat/anaconda3/envs/fyp/lib/python3.7/site-packages/lightgbm/basic.py\", line 110, in _safe_call\n",
      "    raise LightGBMError(_LIB.LGBM_GetLastError().decode('utf-8'))\n",
      "lightgbm.basic.LightGBMError: Check failed: (best_split_info.left_count) > (0) at /home/aizat/LightGBM/src/treelearner/serial_tree_learner.cpp, line 653 .\n",
      "\n",
      "\n",
      "  FitFailedWarning)\n"
     ]
    },
    {
     "name": "stdout",
     "output_type": "stream",
     "text": [
      "[CV 2/3] END bagging_fraction=0.5, boosting_type=goss, feature_fraction=0.5, learning_rate=0.05, num_iterations=1000, num_leaves=2048, objective=binary; total time=  28.4s\n"
     ]
    },
    {
     "name": "stderr",
     "output_type": "stream",
     "text": [
      "/home/aizat/anaconda3/envs/fyp/lib/python3.7/site-packages/lightgbm/engine.py:148: UserWarning: Found `num_iterations` in params. Will use it instead of argument\n",
      "  _log_warning(\"Found `{}` in params. Will use it instead of argument\".format(alias))\n",
      "/home/aizat/anaconda3/envs/fyp/lib/python3.7/site-packages/sklearn/model_selection/_validation.py:614: FitFailedWarning: Estimator fit failed. The score on this train-test partition for these parameters will be set to nan. Details: \n",
      "Traceback (most recent call last):\n",
      "  File \"/home/aizat/anaconda3/envs/fyp/lib/python3.7/site-packages/sklearn/model_selection/_validation.py\", line 593, in _fit_and_score\n",
      "    estimator.fit(X_train, y_train, **fit_params)\n",
      "  File \"/home/aizat/anaconda3/envs/fyp/lib/python3.7/site-packages/lightgbm/sklearn.py\", line 895, in fit\n",
      "    callbacks=callbacks, init_model=init_model)\n",
      "  File \"/home/aizat/anaconda3/envs/fyp/lib/python3.7/site-packages/lightgbm/sklearn.py\", line 688, in fit\n",
      "    callbacks=callbacks, init_model=init_model)\n",
      "  File \"/home/aizat/anaconda3/envs/fyp/lib/python3.7/site-packages/lightgbm/engine.py\", line 249, in train\n",
      "    booster.update(fobj=fobj)\n",
      "  File \"/home/aizat/anaconda3/envs/fyp/lib/python3.7/site-packages/lightgbm/basic.py\", line 2645, in update\n",
      "    ctypes.byref(is_finished)))\n",
      "  File \"/home/aizat/anaconda3/envs/fyp/lib/python3.7/site-packages/lightgbm/basic.py\", line 110, in _safe_call\n",
      "    raise LightGBMError(_LIB.LGBM_GetLastError().decode('utf-8'))\n",
      "lightgbm.basic.LightGBMError: Check failed: (best_split_info.left_count) > (0) at /home/aizat/LightGBM/src/treelearner/serial_tree_learner.cpp, line 653 .\n",
      "\n",
      "\n",
      "  FitFailedWarning)\n"
     ]
    },
    {
     "name": "stdout",
     "output_type": "stream",
     "text": [
      "[CV 3/3] END bagging_fraction=0.5, boosting_type=goss, feature_fraction=0.5, learning_rate=0.05, num_iterations=1000, num_leaves=2048, objective=binary; total time=  35.3s\n"
     ]
    },
    {
     "name": "stderr",
     "output_type": "stream",
     "text": [
      "/home/aizat/anaconda3/envs/fyp/lib/python3.7/site-packages/lightgbm/engine.py:148: UserWarning: Found `num_iterations` in params. Will use it instead of argument\n",
      "  _log_warning(\"Found `{}` in params. Will use it instead of argument\".format(alias))\n",
      "/home/aizat/anaconda3/envs/fyp/lib/python3.7/site-packages/sklearn/model_selection/_validation.py:614: FitFailedWarning: Estimator fit failed. The score on this train-test partition for these parameters will be set to nan. Details: \n",
      "Traceback (most recent call last):\n",
      "  File \"/home/aizat/anaconda3/envs/fyp/lib/python3.7/site-packages/sklearn/model_selection/_validation.py\", line 593, in _fit_and_score\n",
      "    estimator.fit(X_train, y_train, **fit_params)\n",
      "  File \"/home/aizat/anaconda3/envs/fyp/lib/python3.7/site-packages/lightgbm/sklearn.py\", line 895, in fit\n",
      "    callbacks=callbacks, init_model=init_model)\n",
      "  File \"/home/aizat/anaconda3/envs/fyp/lib/python3.7/site-packages/lightgbm/sklearn.py\", line 688, in fit\n",
      "    callbacks=callbacks, init_model=init_model)\n",
      "  File \"/home/aizat/anaconda3/envs/fyp/lib/python3.7/site-packages/lightgbm/engine.py\", line 249, in train\n",
      "    booster.update(fobj=fobj)\n",
      "  File \"/home/aizat/anaconda3/envs/fyp/lib/python3.7/site-packages/lightgbm/basic.py\", line 2645, in update\n",
      "    ctypes.byref(is_finished)))\n",
      "  File \"/home/aizat/anaconda3/envs/fyp/lib/python3.7/site-packages/lightgbm/basic.py\", line 110, in _safe_call\n",
      "    raise LightGBMError(_LIB.LGBM_GetLastError().decode('utf-8'))\n",
      "lightgbm.basic.LightGBMError: Check failed: (best_split_info.left_count) > (0) at /home/aizat/LightGBM/src/treelearner/serial_tree_learner.cpp, line 653 .\n",
      "\n",
      "\n",
      "  FitFailedWarning)\n"
     ]
    },
    {
     "name": "stdout",
     "output_type": "stream",
     "text": [
      "[CV 1/3] END bagging_fraction=0.5, boosting_type=goss, feature_fraction=0.5, learning_rate=0.05, num_iterations=1000, num_leaves=4096, objective=binary; total time=  57.4s\n"
     ]
    },
    {
     "name": "stderr",
     "output_type": "stream",
     "text": [
      "/home/aizat/anaconda3/envs/fyp/lib/python3.7/site-packages/lightgbm/engine.py:148: UserWarning: Found `num_iterations` in params. Will use it instead of argument\n",
      "  _log_warning(\"Found `{}` in params. Will use it instead of argument\".format(alias))\n",
      "/home/aizat/anaconda3/envs/fyp/lib/python3.7/site-packages/sklearn/model_selection/_validation.py:614: FitFailedWarning: Estimator fit failed. The score on this train-test partition for these parameters will be set to nan. Details: \n",
      "Traceback (most recent call last):\n",
      "  File \"/home/aizat/anaconda3/envs/fyp/lib/python3.7/site-packages/sklearn/model_selection/_validation.py\", line 593, in _fit_and_score\n",
      "    estimator.fit(X_train, y_train, **fit_params)\n",
      "  File \"/home/aizat/anaconda3/envs/fyp/lib/python3.7/site-packages/lightgbm/sklearn.py\", line 895, in fit\n",
      "    callbacks=callbacks, init_model=init_model)\n",
      "  File \"/home/aizat/anaconda3/envs/fyp/lib/python3.7/site-packages/lightgbm/sklearn.py\", line 688, in fit\n",
      "    callbacks=callbacks, init_model=init_model)\n",
      "  File \"/home/aizat/anaconda3/envs/fyp/lib/python3.7/site-packages/lightgbm/engine.py\", line 249, in train\n",
      "    booster.update(fobj=fobj)\n",
      "  File \"/home/aizat/anaconda3/envs/fyp/lib/python3.7/site-packages/lightgbm/basic.py\", line 2645, in update\n",
      "    ctypes.byref(is_finished)))\n",
      "  File \"/home/aizat/anaconda3/envs/fyp/lib/python3.7/site-packages/lightgbm/basic.py\", line 110, in _safe_call\n",
      "    raise LightGBMError(_LIB.LGBM_GetLastError().decode('utf-8'))\n",
      "lightgbm.basic.LightGBMError: Check failed: (best_split_info.left_count) > (0) at /home/aizat/LightGBM/src/treelearner/serial_tree_learner.cpp, line 653 .\n",
      "\n",
      "\n",
      "  FitFailedWarning)\n"
     ]
    },
    {
     "name": "stdout",
     "output_type": "stream",
     "text": [
      "[CV 2/3] END bagging_fraction=0.5, boosting_type=goss, feature_fraction=0.5, learning_rate=0.05, num_iterations=1000, num_leaves=4096, objective=binary; total time=  24.4s\n"
     ]
    },
    {
     "name": "stderr",
     "output_type": "stream",
     "text": [
      "/home/aizat/anaconda3/envs/fyp/lib/python3.7/site-packages/lightgbm/engine.py:148: UserWarning: Found `num_iterations` in params. Will use it instead of argument\n",
      "  _log_warning(\"Found `{}` in params. Will use it instead of argument\".format(alias))\n",
      "/home/aizat/anaconda3/envs/fyp/lib/python3.7/site-packages/sklearn/model_selection/_validation.py:614: FitFailedWarning: Estimator fit failed. The score on this train-test partition for these parameters will be set to nan. Details: \n",
      "Traceback (most recent call last):\n",
      "  File \"/home/aizat/anaconda3/envs/fyp/lib/python3.7/site-packages/sklearn/model_selection/_validation.py\", line 593, in _fit_and_score\n",
      "    estimator.fit(X_train, y_train, **fit_params)\n",
      "  File \"/home/aizat/anaconda3/envs/fyp/lib/python3.7/site-packages/lightgbm/sklearn.py\", line 895, in fit\n",
      "    callbacks=callbacks, init_model=init_model)\n",
      "  File \"/home/aizat/anaconda3/envs/fyp/lib/python3.7/site-packages/lightgbm/sklearn.py\", line 688, in fit\n",
      "    callbacks=callbacks, init_model=init_model)\n",
      "  File \"/home/aizat/anaconda3/envs/fyp/lib/python3.7/site-packages/lightgbm/engine.py\", line 249, in train\n",
      "    booster.update(fobj=fobj)\n",
      "  File \"/home/aizat/anaconda3/envs/fyp/lib/python3.7/site-packages/lightgbm/basic.py\", line 2645, in update\n",
      "    ctypes.byref(is_finished)))\n",
      "  File \"/home/aizat/anaconda3/envs/fyp/lib/python3.7/site-packages/lightgbm/basic.py\", line 110, in _safe_call\n",
      "    raise LightGBMError(_LIB.LGBM_GetLastError().decode('utf-8'))\n",
      "lightgbm.basic.LightGBMError: Check failed: (best_split_info.left_count) > (0) at /home/aizat/LightGBM/src/treelearner/serial_tree_learner.cpp, line 653 .\n",
      "\n",
      "\n",
      "  FitFailedWarning)\n"
     ]
    },
    {
     "name": "stdout",
     "output_type": "stream",
     "text": [
      "[CV 3/3] END bagging_fraction=0.5, boosting_type=goss, feature_fraction=0.5, learning_rate=0.05, num_iterations=1000, num_leaves=4096, objective=binary; total time=  39.5s\n"
     ]
    },
    {
     "name": "stderr",
     "output_type": "stream",
     "text": [
      "/home/aizat/anaconda3/envs/fyp/lib/python3.7/site-packages/lightgbm/engine.py:148: UserWarning: Found `num_iterations` in params. Will use it instead of argument\n",
      "  _log_warning(\"Found `{}` in params. Will use it instead of argument\".format(alias))\n"
     ]
    },
    {
     "name": "stdout",
     "output_type": "stream",
     "text": [
      "[CV 1/3] END bagging_fraction=0.5, boosting_type=goss, feature_fraction=0.5, learning_rate=0.05, num_iterations=1500, num_leaves=512, objective=binary; total time= 4.5min\n"
     ]
    },
    {
     "name": "stderr",
     "output_type": "stream",
     "text": [
      "/home/aizat/anaconda3/envs/fyp/lib/python3.7/site-packages/lightgbm/engine.py:148: UserWarning: Found `num_iterations` in params. Will use it instead of argument\n",
      "  _log_warning(\"Found `{}` in params. Will use it instead of argument\".format(alias))\n"
     ]
    },
    {
     "name": "stdout",
     "output_type": "stream",
     "text": [
      "[LightGBM] [Warning] feature_fraction is set=0.5, colsample_bytree=1.0 will be ignored. Current value: feature_fraction=0.5\n",
      "[LightGBM] [Warning] bagging_fraction is set=0.5, subsample=1.0 will be ignored. Current value: bagging_fraction=0.5\n",
      "[CV 2/3] END bagging_fraction=0.5, boosting_type=goss, feature_fraction=0.5, learning_rate=0.05, num_iterations=1500, num_leaves=512, objective=binary; total time= 7.7min\n"
     ]
    },
    {
     "name": "stderr",
     "output_type": "stream",
     "text": [
      "/home/aizat/anaconda3/envs/fyp/lib/python3.7/site-packages/lightgbm/engine.py:148: UserWarning: Found `num_iterations` in params. Will use it instead of argument\n",
      "  _log_warning(\"Found `{}` in params. Will use it instead of argument\".format(alias))\n"
     ]
    },
    {
     "name": "stdout",
     "output_type": "stream",
     "text": [
      "[LightGBM] [Warning] feature_fraction is set=0.5, colsample_bytree=1.0 will be ignored. Current value: feature_fraction=0.5\n",
      "[LightGBM] [Warning] bagging_fraction is set=0.5, subsample=1.0 will be ignored. Current value: bagging_fraction=0.5\n",
      "[CV 3/3] END bagging_fraction=0.5, boosting_type=goss, feature_fraction=0.5, learning_rate=0.05, num_iterations=1500, num_leaves=512, objective=binary; total time=10.0min\n"
     ]
    },
    {
     "name": "stderr",
     "output_type": "stream",
     "text": [
      "/home/aizat/anaconda3/envs/fyp/lib/python3.7/site-packages/lightgbm/engine.py:148: UserWarning: Found `num_iterations` in params. Will use it instead of argument\n",
      "  _log_warning(\"Found `{}` in params. Will use it instead of argument\".format(alias))\n"
     ]
    },
    {
     "name": "stdout",
     "output_type": "stream",
     "text": [
      "[LightGBM] [Warning] feature_fraction is set=0.5, colsample_bytree=1.0 will be ignored. Current value: feature_fraction=0.5\n",
      "[LightGBM] [Warning] bagging_fraction is set=0.5, subsample=1.0 will be ignored. Current value: bagging_fraction=0.5\n",
      "[CV 1/3] END bagging_fraction=0.5, boosting_type=goss, feature_fraction=0.5, learning_rate=0.05, num_iterations=1500, num_leaves=1024, objective=binary; total time= 5.0min\n"
     ]
    },
    {
     "name": "stderr",
     "output_type": "stream",
     "text": [
      "/home/aizat/anaconda3/envs/fyp/lib/python3.7/site-packages/lightgbm/engine.py:148: UserWarning: Found `num_iterations` in params. Will use it instead of argument\n",
      "  _log_warning(\"Found `{}` in params. Will use it instead of argument\".format(alias))\n"
     ]
    },
    {
     "name": "stdout",
     "output_type": "stream",
     "text": [
      "[LightGBM] [Warning] feature_fraction is set=0.5, colsample_bytree=1.0 will be ignored. Current value: feature_fraction=0.5\n",
      "[LightGBM] [Warning] bagging_fraction is set=0.5, subsample=1.0 will be ignored. Current value: bagging_fraction=0.5\n",
      "[CV 2/3] END bagging_fraction=0.5, boosting_type=goss, feature_fraction=0.5, learning_rate=0.05, num_iterations=1500, num_leaves=1024, objective=binary; total time= 8.4min\n"
     ]
    },
    {
     "name": "stderr",
     "output_type": "stream",
     "text": [
      "/home/aizat/anaconda3/envs/fyp/lib/python3.7/site-packages/lightgbm/engine.py:148: UserWarning: Found `num_iterations` in params. Will use it instead of argument\n",
      "  _log_warning(\"Found `{}` in params. Will use it instead of argument\".format(alias))\n"
     ]
    },
    {
     "name": "stdout",
     "output_type": "stream",
     "text": [
      "[LightGBM] [Warning] feature_fraction is set=0.5, colsample_bytree=1.0 will be ignored. Current value: feature_fraction=0.5\n",
      "[LightGBM] [Warning] bagging_fraction is set=0.5, subsample=1.0 will be ignored. Current value: bagging_fraction=0.5\n",
      "[CV 3/3] END bagging_fraction=0.5, boosting_type=goss, feature_fraction=0.5, learning_rate=0.05, num_iterations=1500, num_leaves=1024, objective=binary; total time=11.2min\n"
     ]
    },
    {
     "name": "stderr",
     "output_type": "stream",
     "text": [
      "/home/aizat/anaconda3/envs/fyp/lib/python3.7/site-packages/lightgbm/engine.py:148: UserWarning: Found `num_iterations` in params. Will use it instead of argument\n",
      "  _log_warning(\"Found `{}` in params. Will use it instead of argument\".format(alias))\n"
     ]
    },
    {
     "name": "stdout",
     "output_type": "stream",
     "text": [
      "[LightGBM] [Warning] feature_fraction is set=0.5, colsample_bytree=1.0 will be ignored. Current value: feature_fraction=0.5\n",
      "[LightGBM] [Warning] bagging_fraction is set=0.5, subsample=1.0 will be ignored. Current value: bagging_fraction=0.5\n"
     ]
    },
    {
     "name": "stderr",
     "output_type": "stream",
     "text": [
      "/home/aizat/anaconda3/envs/fyp/lib/python3.7/site-packages/sklearn/model_selection/_validation.py:614: FitFailedWarning: Estimator fit failed. The score on this train-test partition for these parameters will be set to nan. Details: \n",
      "Traceback (most recent call last):\n",
      "  File \"/home/aizat/anaconda3/envs/fyp/lib/python3.7/site-packages/sklearn/model_selection/_validation.py\", line 593, in _fit_and_score\n",
      "    estimator.fit(X_train, y_train, **fit_params)\n",
      "  File \"/home/aizat/anaconda3/envs/fyp/lib/python3.7/site-packages/lightgbm/sklearn.py\", line 895, in fit\n",
      "    callbacks=callbacks, init_model=init_model)\n",
      "  File \"/home/aizat/anaconda3/envs/fyp/lib/python3.7/site-packages/lightgbm/sklearn.py\", line 688, in fit\n",
      "    callbacks=callbacks, init_model=init_model)\n",
      "  File \"/home/aizat/anaconda3/envs/fyp/lib/python3.7/site-packages/lightgbm/engine.py\", line 249, in train\n",
      "    booster.update(fobj=fobj)\n",
      "  File \"/home/aizat/anaconda3/envs/fyp/lib/python3.7/site-packages/lightgbm/basic.py\", line 2645, in update\n",
      "    ctypes.byref(is_finished)))\n",
      "  File \"/home/aizat/anaconda3/envs/fyp/lib/python3.7/site-packages/lightgbm/basic.py\", line 110, in _safe_call\n",
      "    raise LightGBMError(_LIB.LGBM_GetLastError().decode('utf-8'))\n",
      "lightgbm.basic.LightGBMError: Check failed: (best_split_info.left_count) > (0) at /home/aizat/LightGBM/src/treelearner/serial_tree_learner.cpp, line 653 .\n",
      "\n",
      "\n",
      "  FitFailedWarning)\n"
     ]
    },
    {
     "name": "stdout",
     "output_type": "stream",
     "text": [
      "[CV 1/3] END bagging_fraction=0.5, boosting_type=goss, feature_fraction=0.5, learning_rate=0.05, num_iterations=1500, num_leaves=2048, objective=binary; total time=  28.4s\n"
     ]
    },
    {
     "name": "stderr",
     "output_type": "stream",
     "text": [
      "/home/aizat/anaconda3/envs/fyp/lib/python3.7/site-packages/lightgbm/engine.py:148: UserWarning: Found `num_iterations` in params. Will use it instead of argument\n",
      "  _log_warning(\"Found `{}` in params. Will use it instead of argument\".format(alias))\n"
     ]
    },
    {
     "name": "stdout",
     "output_type": "stream",
     "text": [
      "[CV 2/3] END bagging_fraction=0.5, boosting_type=goss, feature_fraction=0.5, learning_rate=0.05, num_iterations=1500, num_leaves=2048, objective=binary; total time= 9.8min\n"
     ]
    },
    {
     "name": "stderr",
     "output_type": "stream",
     "text": [
      "/home/aizat/anaconda3/envs/fyp/lib/python3.7/site-packages/lightgbm/engine.py:148: UserWarning: Found `num_iterations` in params. Will use it instead of argument\n",
      "  _log_warning(\"Found `{}` in params. Will use it instead of argument\".format(alias))\n"
     ]
    },
    {
     "name": "stdout",
     "output_type": "stream",
     "text": [
      "[LightGBM] [Warning] feature_fraction is set=0.5, colsample_bytree=1.0 will be ignored. Current value: feature_fraction=0.5\n",
      "[LightGBM] [Warning] bagging_fraction is set=0.5, subsample=1.0 will be ignored. Current value: bagging_fraction=0.5\n"
     ]
    },
    {
     "name": "stderr",
     "output_type": "stream",
     "text": [
      "/home/aizat/anaconda3/envs/fyp/lib/python3.7/site-packages/sklearn/model_selection/_validation.py:614: FitFailedWarning: Estimator fit failed. The score on this train-test partition for these parameters will be set to nan. Details: \n",
      "Traceback (most recent call last):\n",
      "  File \"/home/aizat/anaconda3/envs/fyp/lib/python3.7/site-packages/sklearn/model_selection/_validation.py\", line 593, in _fit_and_score\n",
      "    estimator.fit(X_train, y_train, **fit_params)\n",
      "  File \"/home/aizat/anaconda3/envs/fyp/lib/python3.7/site-packages/lightgbm/sklearn.py\", line 895, in fit\n",
      "    callbacks=callbacks, init_model=init_model)\n",
      "  File \"/home/aizat/anaconda3/envs/fyp/lib/python3.7/site-packages/lightgbm/sklearn.py\", line 688, in fit\n",
      "    callbacks=callbacks, init_model=init_model)\n",
      "  File \"/home/aizat/anaconda3/envs/fyp/lib/python3.7/site-packages/lightgbm/engine.py\", line 249, in train\n",
      "    booster.update(fobj=fobj)\n",
      "  File \"/home/aizat/anaconda3/envs/fyp/lib/python3.7/site-packages/lightgbm/basic.py\", line 2645, in update\n",
      "    ctypes.byref(is_finished)))\n",
      "  File \"/home/aizat/anaconda3/envs/fyp/lib/python3.7/site-packages/lightgbm/basic.py\", line 110, in _safe_call\n",
      "    raise LightGBMError(_LIB.LGBM_GetLastError().decode('utf-8'))\n",
      "lightgbm.basic.LightGBMError: Check failed: (best_split_info.left_count) > (0) at /home/aizat/LightGBM/src/treelearner/serial_tree_learner.cpp, line 653 .\n",
      "\n",
      "\n",
      "  FitFailedWarning)\n"
     ]
    },
    {
     "name": "stdout",
     "output_type": "stream",
     "text": [
      "[CV 3/3] END bagging_fraction=0.5, boosting_type=goss, feature_fraction=0.5, learning_rate=0.05, num_iterations=1500, num_leaves=2048, objective=binary; total time=  36.8s\n"
     ]
    },
    {
     "name": "stderr",
     "output_type": "stream",
     "text": [
      "/home/aizat/anaconda3/envs/fyp/lib/python3.7/site-packages/lightgbm/engine.py:148: UserWarning: Found `num_iterations` in params. Will use it instead of argument\n",
      "  _log_warning(\"Found `{}` in params. Will use it instead of argument\".format(alias))\n"
     ]
    },
    {
     "name": "stdout",
     "output_type": "stream",
     "text": [
      "[CV 1/3] END bagging_fraction=0.5, boosting_type=goss, feature_fraction=0.5, learning_rate=0.05, num_iterations=1500, num_leaves=4096, objective=binary; total time= 7.2min\n"
     ]
    },
    {
     "name": "stderr",
     "output_type": "stream",
     "text": [
      "/home/aizat/anaconda3/envs/fyp/lib/python3.7/site-packages/lightgbm/engine.py:148: UserWarning: Found `num_iterations` in params. Will use it instead of argument\n",
      "  _log_warning(\"Found `{}` in params. Will use it instead of argument\".format(alias))\n"
     ]
    },
    {
     "name": "stdout",
     "output_type": "stream",
     "text": [
      "[LightGBM] [Warning] feature_fraction is set=0.5, colsample_bytree=1.0 will be ignored. Current value: feature_fraction=0.5\n",
      "[LightGBM] [Warning] bagging_fraction is set=0.5, subsample=1.0 will be ignored. Current value: bagging_fraction=0.5\n"
     ]
    },
    {
     "name": "stderr",
     "output_type": "stream",
     "text": [
      "/home/aizat/anaconda3/envs/fyp/lib/python3.7/site-packages/sklearn/model_selection/_validation.py:614: FitFailedWarning: Estimator fit failed. The score on this train-test partition for these parameters will be set to nan. Details: \n",
      "Traceback (most recent call last):\n",
      "  File \"/home/aizat/anaconda3/envs/fyp/lib/python3.7/site-packages/sklearn/model_selection/_validation.py\", line 593, in _fit_and_score\n",
      "    estimator.fit(X_train, y_train, **fit_params)\n",
      "  File \"/home/aizat/anaconda3/envs/fyp/lib/python3.7/site-packages/lightgbm/sklearn.py\", line 895, in fit\n",
      "    callbacks=callbacks, init_model=init_model)\n",
      "  File \"/home/aizat/anaconda3/envs/fyp/lib/python3.7/site-packages/lightgbm/sklearn.py\", line 688, in fit\n",
      "    callbacks=callbacks, init_model=init_model)\n",
      "  File \"/home/aizat/anaconda3/envs/fyp/lib/python3.7/site-packages/lightgbm/engine.py\", line 249, in train\n",
      "    booster.update(fobj=fobj)\n",
      "  File \"/home/aizat/anaconda3/envs/fyp/lib/python3.7/site-packages/lightgbm/basic.py\", line 2645, in update\n",
      "    ctypes.byref(is_finished)))\n",
      "  File \"/home/aizat/anaconda3/envs/fyp/lib/python3.7/site-packages/lightgbm/basic.py\", line 110, in _safe_call\n",
      "    raise LightGBMError(_LIB.LGBM_GetLastError().decode('utf-8'))\n",
      "lightgbm.basic.LightGBMError: Check failed: (best_split_info.left_count) > (0) at /home/aizat/LightGBM/src/treelearner/serial_tree_learner.cpp, line 653 .\n",
      "\n",
      "\n",
      "  FitFailedWarning)\n"
     ]
    },
    {
     "name": "stdout",
     "output_type": "stream",
     "text": [
      "[CV 2/3] END bagging_fraction=0.5, boosting_type=goss, feature_fraction=0.5, learning_rate=0.05, num_iterations=1500, num_leaves=4096, objective=binary; total time=  25.6s\n"
     ]
    },
    {
     "name": "stderr",
     "output_type": "stream",
     "text": [
      "/home/aizat/anaconda3/envs/fyp/lib/python3.7/site-packages/lightgbm/engine.py:148: UserWarning: Found `num_iterations` in params. Will use it instead of argument\n",
      "  _log_warning(\"Found `{}` in params. Will use it instead of argument\".format(alias))\n",
      "/home/aizat/anaconda3/envs/fyp/lib/python3.7/site-packages/sklearn/model_selection/_validation.py:614: FitFailedWarning: Estimator fit failed. The score on this train-test partition for these parameters will be set to nan. Details: \n",
      "Traceback (most recent call last):\n",
      "  File \"/home/aizat/anaconda3/envs/fyp/lib/python3.7/site-packages/sklearn/model_selection/_validation.py\", line 593, in _fit_and_score\n",
      "    estimator.fit(X_train, y_train, **fit_params)\n",
      "  File \"/home/aizat/anaconda3/envs/fyp/lib/python3.7/site-packages/lightgbm/sklearn.py\", line 895, in fit\n",
      "    callbacks=callbacks, init_model=init_model)\n",
      "  File \"/home/aizat/anaconda3/envs/fyp/lib/python3.7/site-packages/lightgbm/sklearn.py\", line 688, in fit\n",
      "    callbacks=callbacks, init_model=init_model)\n",
      "  File \"/home/aizat/anaconda3/envs/fyp/lib/python3.7/site-packages/lightgbm/engine.py\", line 249, in train\n",
      "    booster.update(fobj=fobj)\n",
      "  File \"/home/aizat/anaconda3/envs/fyp/lib/python3.7/site-packages/lightgbm/basic.py\", line 2645, in update\n",
      "    ctypes.byref(is_finished)))\n",
      "  File \"/home/aizat/anaconda3/envs/fyp/lib/python3.7/site-packages/lightgbm/basic.py\", line 110, in _safe_call\n",
      "    raise LightGBMError(_LIB.LGBM_GetLastError().decode('utf-8'))\n",
      "lightgbm.basic.LightGBMError: Check failed: (best_split_info.left_count) > (0) at /home/aizat/LightGBM/src/treelearner/serial_tree_learner.cpp, line 653 .\n",
      "\n",
      "\n",
      "  FitFailedWarning)\n"
     ]
    },
    {
     "name": "stdout",
     "output_type": "stream",
     "text": [
      "[CV 3/3] END bagging_fraction=0.5, boosting_type=goss, feature_fraction=0.5, learning_rate=0.05, num_iterations=1500, num_leaves=4096, objective=binary; total time=  46.9s\n"
     ]
    },
    {
     "name": "stderr",
     "output_type": "stream",
     "text": [
      "/home/aizat/anaconda3/envs/fyp/lib/python3.7/site-packages/lightgbm/engine.py:148: UserWarning: Found `num_iterations` in params. Will use it instead of argument\n",
      "  _log_warning(\"Found `{}` in params. Will use it instead of argument\".format(alias))\n"
     ]
    },
    {
     "name": "stdout",
     "output_type": "stream",
     "text": [
      "[CV 1/3] END bagging_fraction=0.5, boosting_type=goss, feature_fraction=0.5, learning_rate=0.5, num_iterations=500, num_leaves=512, objective=binary; total time= 1.1min\n"
     ]
    },
    {
     "name": "stderr",
     "output_type": "stream",
     "text": [
      "/home/aizat/anaconda3/envs/fyp/lib/python3.7/site-packages/lightgbm/engine.py:148: UserWarning: Found `num_iterations` in params. Will use it instead of argument\n",
      "  _log_warning(\"Found `{}` in params. Will use it instead of argument\".format(alias))\n"
     ]
    },
    {
     "name": "stdout",
     "output_type": "stream",
     "text": [
      "[LightGBM] [Warning] feature_fraction is set=0.5, colsample_bytree=1.0 will be ignored. Current value: feature_fraction=0.5\n",
      "[LightGBM] [Warning] bagging_fraction is set=0.5, subsample=1.0 will be ignored. Current value: bagging_fraction=0.5\n",
      "[CV 2/3] END bagging_fraction=0.5, boosting_type=goss, feature_fraction=0.5, learning_rate=0.5, num_iterations=500, num_leaves=512, objective=binary; total time= 2.1min\n"
     ]
    },
    {
     "name": "stderr",
     "output_type": "stream",
     "text": [
      "/home/aizat/anaconda3/envs/fyp/lib/python3.7/site-packages/lightgbm/engine.py:148: UserWarning: Found `num_iterations` in params. Will use it instead of argument\n",
      "  _log_warning(\"Found `{}` in params. Will use it instead of argument\".format(alias))\n"
     ]
    },
    {
     "name": "stdout",
     "output_type": "stream",
     "text": [
      "[LightGBM] [Warning] feature_fraction is set=0.5, colsample_bytree=1.0 will be ignored. Current value: feature_fraction=0.5\n",
      "[LightGBM] [Warning] bagging_fraction is set=0.5, subsample=1.0 will be ignored. Current value: bagging_fraction=0.5\n",
      "[CV 3/3] END bagging_fraction=0.5, boosting_type=goss, feature_fraction=0.5, learning_rate=0.5, num_iterations=500, num_leaves=512, objective=binary; total time= 2.4min\n"
     ]
    },
    {
     "name": "stderr",
     "output_type": "stream",
     "text": [
      "/home/aizat/anaconda3/envs/fyp/lib/python3.7/site-packages/lightgbm/engine.py:148: UserWarning: Found `num_iterations` in params. Will use it instead of argument\n",
      "  _log_warning(\"Found `{}` in params. Will use it instead of argument\".format(alias))\n"
     ]
    },
    {
     "name": "stdout",
     "output_type": "stream",
     "text": [
      "[LightGBM] [Warning] feature_fraction is set=0.5, colsample_bytree=1.0 will be ignored. Current value: feature_fraction=0.5\n",
      "[LightGBM] [Warning] bagging_fraction is set=0.5, subsample=1.0 will be ignored. Current value: bagging_fraction=0.5\n",
      "[CV 1/3] END bagging_fraction=0.5, boosting_type=goss, feature_fraction=0.5, learning_rate=0.5, num_iterations=500, num_leaves=1024, objective=binary; total time= 1.1min\n"
     ]
    },
    {
     "name": "stderr",
     "output_type": "stream",
     "text": [
      "/home/aizat/anaconda3/envs/fyp/lib/python3.7/site-packages/lightgbm/engine.py:148: UserWarning: Found `num_iterations` in params. Will use it instead of argument\n",
      "  _log_warning(\"Found `{}` in params. Will use it instead of argument\".format(alias))\n"
     ]
    },
    {
     "name": "stdout",
     "output_type": "stream",
     "text": [
      "[LightGBM] [Warning] feature_fraction is set=0.5, colsample_bytree=1.0 will be ignored. Current value: feature_fraction=0.5\n",
      "[LightGBM] [Warning] bagging_fraction is set=0.5, subsample=1.0 will be ignored. Current value: bagging_fraction=0.5\n",
      "[CV 2/3] END bagging_fraction=0.5, boosting_type=goss, feature_fraction=0.5, learning_rate=0.5, num_iterations=500, num_leaves=1024, objective=binary; total time= 1.8min\n"
     ]
    },
    {
     "name": "stderr",
     "output_type": "stream",
     "text": [
      "/home/aizat/anaconda3/envs/fyp/lib/python3.7/site-packages/lightgbm/engine.py:148: UserWarning: Found `num_iterations` in params. Will use it instead of argument\n",
      "  _log_warning(\"Found `{}` in params. Will use it instead of argument\".format(alias))\n"
     ]
    },
    {
     "name": "stdout",
     "output_type": "stream",
     "text": [
      "[LightGBM] [Warning] feature_fraction is set=0.5, colsample_bytree=1.0 will be ignored. Current value: feature_fraction=0.5\n",
      "[LightGBM] [Warning] bagging_fraction is set=0.5, subsample=1.0 will be ignored. Current value: bagging_fraction=0.5\n",
      "[CV 3/3] END bagging_fraction=0.5, boosting_type=goss, feature_fraction=0.5, learning_rate=0.5, num_iterations=500, num_leaves=1024, objective=binary; total time= 2.4min\n"
     ]
    },
    {
     "name": "stderr",
     "output_type": "stream",
     "text": [
      "/home/aizat/anaconda3/envs/fyp/lib/python3.7/site-packages/lightgbm/engine.py:148: UserWarning: Found `num_iterations` in params. Will use it instead of argument\n",
      "  _log_warning(\"Found `{}` in params. Will use it instead of argument\".format(alias))\n"
     ]
    },
    {
     "name": "stdout",
     "output_type": "stream",
     "text": [
      "[LightGBM] [Warning] feature_fraction is set=0.5, colsample_bytree=1.0 will be ignored. Current value: feature_fraction=0.5\n",
      "[LightGBM] [Warning] bagging_fraction is set=0.5, subsample=1.0 will be ignored. Current value: bagging_fraction=0.5\n",
      "[CV 1/3] END bagging_fraction=0.5, boosting_type=goss, feature_fraction=0.5, learning_rate=0.5, num_iterations=500, num_leaves=2048, objective=binary; total time= 1.3min\n"
     ]
    },
    {
     "name": "stderr",
     "output_type": "stream",
     "text": [
      "/home/aizat/anaconda3/envs/fyp/lib/python3.7/site-packages/lightgbm/engine.py:148: UserWarning: Found `num_iterations` in params. Will use it instead of argument\n",
      "  _log_warning(\"Found `{}` in params. Will use it instead of argument\".format(alias))\n"
     ]
    },
    {
     "name": "stdout",
     "output_type": "stream",
     "text": [
      "[LightGBM] [Warning] feature_fraction is set=0.5, colsample_bytree=1.0 will be ignored. Current value: feature_fraction=0.5\n",
      "[LightGBM] [Warning] bagging_fraction is set=0.5, subsample=1.0 will be ignored. Current value: bagging_fraction=0.5\n",
      "[CV 2/3] END bagging_fraction=0.5, boosting_type=goss, feature_fraction=0.5, learning_rate=0.5, num_iterations=500, num_leaves=2048, objective=binary; total time= 2.0min\n"
     ]
    },
    {
     "name": "stderr",
     "output_type": "stream",
     "text": [
      "/home/aizat/anaconda3/envs/fyp/lib/python3.7/site-packages/lightgbm/engine.py:148: UserWarning: Found `num_iterations` in params. Will use it instead of argument\n",
      "  _log_warning(\"Found `{}` in params. Will use it instead of argument\".format(alias))\n"
     ]
    },
    {
     "name": "stdout",
     "output_type": "stream",
     "text": [
      "[LightGBM] [Warning] feature_fraction is set=0.5, colsample_bytree=1.0 will be ignored. Current value: feature_fraction=0.5\n",
      "[LightGBM] [Warning] bagging_fraction is set=0.5, subsample=1.0 will be ignored. Current value: bagging_fraction=0.5\n",
      "[CV 3/3] END bagging_fraction=0.5, boosting_type=goss, feature_fraction=0.5, learning_rate=0.5, num_iterations=500, num_leaves=2048, objective=binary; total time= 2.6min\n"
     ]
    },
    {
     "name": "stderr",
     "output_type": "stream",
     "text": [
      "/home/aizat/anaconda3/envs/fyp/lib/python3.7/site-packages/lightgbm/engine.py:148: UserWarning: Found `num_iterations` in params. Will use it instead of argument\n",
      "  _log_warning(\"Found `{}` in params. Will use it instead of argument\".format(alias))\n"
     ]
    },
    {
     "name": "stdout",
     "output_type": "stream",
     "text": [
      "[LightGBM] [Warning] feature_fraction is set=0.5, colsample_bytree=1.0 will be ignored. Current value: feature_fraction=0.5\n",
      "[LightGBM] [Warning] bagging_fraction is set=0.5, subsample=1.0 will be ignored. Current value: bagging_fraction=0.5\n",
      "[CV 1/3] END bagging_fraction=0.5, boosting_type=goss, feature_fraction=0.5, learning_rate=0.5, num_iterations=500, num_leaves=4096, objective=binary; total time= 1.4min\n"
     ]
    },
    {
     "name": "stderr",
     "output_type": "stream",
     "text": [
      "/home/aizat/anaconda3/envs/fyp/lib/python3.7/site-packages/lightgbm/engine.py:148: UserWarning: Found `num_iterations` in params. Will use it instead of argument\n",
      "  _log_warning(\"Found `{}` in params. Will use it instead of argument\".format(alias))\n"
     ]
    },
    {
     "name": "stdout",
     "output_type": "stream",
     "text": [
      "[LightGBM] [Warning] feature_fraction is set=0.5, colsample_bytree=1.0 will be ignored. Current value: feature_fraction=0.5\n",
      "[LightGBM] [Warning] bagging_fraction is set=0.5, subsample=1.0 will be ignored. Current value: bagging_fraction=0.5\n"
     ]
    },
    {
     "name": "stderr",
     "output_type": "stream",
     "text": [
      "/home/aizat/anaconda3/envs/fyp/lib/python3.7/site-packages/sklearn/model_selection/_validation.py:614: FitFailedWarning: Estimator fit failed. The score on this train-test partition for these parameters will be set to nan. Details: \n",
      "Traceback (most recent call last):\n",
      "  File \"/home/aizat/anaconda3/envs/fyp/lib/python3.7/site-packages/sklearn/model_selection/_validation.py\", line 593, in _fit_and_score\n",
      "    estimator.fit(X_train, y_train, **fit_params)\n",
      "  File \"/home/aizat/anaconda3/envs/fyp/lib/python3.7/site-packages/lightgbm/sklearn.py\", line 895, in fit\n",
      "    callbacks=callbacks, init_model=init_model)\n",
      "  File \"/home/aizat/anaconda3/envs/fyp/lib/python3.7/site-packages/lightgbm/sklearn.py\", line 688, in fit\n",
      "    callbacks=callbacks, init_model=init_model)\n",
      "  File \"/home/aizat/anaconda3/envs/fyp/lib/python3.7/site-packages/lightgbm/engine.py\", line 249, in train\n",
      "    booster.update(fobj=fobj)\n",
      "  File \"/home/aizat/anaconda3/envs/fyp/lib/python3.7/site-packages/lightgbm/basic.py\", line 2645, in update\n",
      "    ctypes.byref(is_finished)))\n",
      "  File \"/home/aizat/anaconda3/envs/fyp/lib/python3.7/site-packages/lightgbm/basic.py\", line 110, in _safe_call\n",
      "    raise LightGBMError(_LIB.LGBM_GetLastError().decode('utf-8'))\n",
      "lightgbm.basic.LightGBMError: Check failed: (best_split_info.left_count) > (0) at /home/aizat/LightGBM/src/treelearner/serial_tree_learner.cpp, line 653 .\n",
      "\n",
      "\n",
      "  FitFailedWarning)\n"
     ]
    },
    {
     "name": "stdout",
     "output_type": "stream",
     "text": [
      "[CV 2/3] END bagging_fraction=0.5, boosting_type=goss, feature_fraction=0.5, learning_rate=0.5, num_iterations=500, num_leaves=4096, objective=binary; total time=  28.4s\n"
     ]
    },
    {
     "name": "stderr",
     "output_type": "stream",
     "text": [
      "/home/aizat/anaconda3/envs/fyp/lib/python3.7/site-packages/lightgbm/engine.py:148: UserWarning: Found `num_iterations` in params. Will use it instead of argument\n",
      "  _log_warning(\"Found `{}` in params. Will use it instead of argument\".format(alias))\n"
     ]
    },
    {
     "name": "stdout",
     "output_type": "stream",
     "text": [
      "[CV 3/3] END bagging_fraction=0.5, boosting_type=goss, feature_fraction=0.5, learning_rate=0.5, num_iterations=500, num_leaves=4096, objective=binary; total time= 3.3min\n"
     ]
    },
    {
     "name": "stderr",
     "output_type": "stream",
     "text": [
      "/home/aizat/anaconda3/envs/fyp/lib/python3.7/site-packages/lightgbm/engine.py:148: UserWarning: Found `num_iterations` in params. Will use it instead of argument\n",
      "  _log_warning(\"Found `{}` in params. Will use it instead of argument\".format(alias))\n"
     ]
    },
    {
     "name": "stdout",
     "output_type": "stream",
     "text": [
      "[LightGBM] [Warning] feature_fraction is set=0.5, colsample_bytree=1.0 will be ignored. Current value: feature_fraction=0.5\n",
      "[LightGBM] [Warning] bagging_fraction is set=0.5, subsample=1.0 will be ignored. Current value: bagging_fraction=0.5\n",
      "[CV 1/3] END bagging_fraction=0.5, boosting_type=goss, feature_fraction=0.5, learning_rate=0.5, num_iterations=1000, num_leaves=512, objective=binary; total time= 1.6min\n"
     ]
    },
    {
     "name": "stderr",
     "output_type": "stream",
     "text": [
      "/home/aizat/anaconda3/envs/fyp/lib/python3.7/site-packages/lightgbm/engine.py:148: UserWarning: Found `num_iterations` in params. Will use it instead of argument\n",
      "  _log_warning(\"Found `{}` in params. Will use it instead of argument\".format(alias))\n"
     ]
    },
    {
     "name": "stdout",
     "output_type": "stream",
     "text": [
      "[LightGBM] [Warning] feature_fraction is set=0.5, colsample_bytree=1.0 will be ignored. Current value: feature_fraction=0.5\n",
      "[LightGBM] [Warning] bagging_fraction is set=0.5, subsample=1.0 will be ignored. Current value: bagging_fraction=0.5\n",
      "[CV 2/3] END bagging_fraction=0.5, boosting_type=goss, feature_fraction=0.5, learning_rate=0.5, num_iterations=1000, num_leaves=512, objective=binary; total time= 2.6min\n"
     ]
    },
    {
     "name": "stderr",
     "output_type": "stream",
     "text": [
      "/home/aizat/anaconda3/envs/fyp/lib/python3.7/site-packages/lightgbm/engine.py:148: UserWarning: Found `num_iterations` in params. Will use it instead of argument\n",
      "  _log_warning(\"Found `{}` in params. Will use it instead of argument\".format(alias))\n"
     ]
    },
    {
     "name": "stdout",
     "output_type": "stream",
     "text": [
      "[LightGBM] [Warning] feature_fraction is set=0.5, colsample_bytree=1.0 will be ignored. Current value: feature_fraction=0.5\n",
      "[LightGBM] [Warning] bagging_fraction is set=0.5, subsample=1.0 will be ignored. Current value: bagging_fraction=0.5\n",
      "[CV 3/3] END bagging_fraction=0.5, boosting_type=goss, feature_fraction=0.5, learning_rate=0.5, num_iterations=1000, num_leaves=512, objective=binary; total time= 4.9min\n"
     ]
    },
    {
     "name": "stderr",
     "output_type": "stream",
     "text": [
      "/home/aizat/anaconda3/envs/fyp/lib/python3.7/site-packages/lightgbm/engine.py:148: UserWarning: Found `num_iterations` in params. Will use it instead of argument\n",
      "  _log_warning(\"Found `{}` in params. Will use it instead of argument\".format(alias))\n"
     ]
    },
    {
     "name": "stdout",
     "output_type": "stream",
     "text": [
      "[LightGBM] [Warning] feature_fraction is set=0.5, colsample_bytree=1.0 will be ignored. Current value: feature_fraction=0.5\n",
      "[LightGBM] [Warning] bagging_fraction is set=0.5, subsample=1.0 will be ignored. Current value: bagging_fraction=0.5\n",
      "[CV 1/3] END bagging_fraction=0.5, boosting_type=goss, feature_fraction=0.5, learning_rate=0.5, num_iterations=1000, num_leaves=1024, objective=binary; total time= 1.7min\n"
     ]
    },
    {
     "name": "stderr",
     "output_type": "stream",
     "text": [
      "/home/aizat/anaconda3/envs/fyp/lib/python3.7/site-packages/lightgbm/engine.py:148: UserWarning: Found `num_iterations` in params. Will use it instead of argument\n",
      "  _log_warning(\"Found `{}` in params. Will use it instead of argument\".format(alias))\n"
     ]
    },
    {
     "name": "stdout",
     "output_type": "stream",
     "text": [
      "[LightGBM] [Warning] feature_fraction is set=0.5, colsample_bytree=1.0 will be ignored. Current value: feature_fraction=0.5\n",
      "[LightGBM] [Warning] bagging_fraction is set=0.5, subsample=1.0 will be ignored. Current value: bagging_fraction=0.5\n",
      "[CV 2/3] END bagging_fraction=0.5, boosting_type=goss, feature_fraction=0.5, learning_rate=0.5, num_iterations=1000, num_leaves=1024, objective=binary; total time= 2.6min\n"
     ]
    },
    {
     "name": "stderr",
     "output_type": "stream",
     "text": [
      "/home/aizat/anaconda3/envs/fyp/lib/python3.7/site-packages/lightgbm/engine.py:148: UserWarning: Found `num_iterations` in params. Will use it instead of argument\n",
      "  _log_warning(\"Found `{}` in params. Will use it instead of argument\".format(alias))\n"
     ]
    },
    {
     "name": "stdout",
     "output_type": "stream",
     "text": [
      "[LightGBM] [Warning] feature_fraction is set=0.5, colsample_bytree=1.0 will be ignored. Current value: feature_fraction=0.5\n",
      "[LightGBM] [Warning] bagging_fraction is set=0.5, subsample=1.0 will be ignored. Current value: bagging_fraction=0.5\n",
      "[CV 3/3] END bagging_fraction=0.5, boosting_type=goss, feature_fraction=0.5, learning_rate=0.5, num_iterations=1000, num_leaves=1024, objective=binary; total time= 5.0min\n"
     ]
    },
    {
     "name": "stderr",
     "output_type": "stream",
     "text": [
      "/home/aizat/anaconda3/envs/fyp/lib/python3.7/site-packages/lightgbm/engine.py:148: UserWarning: Found `num_iterations` in params. Will use it instead of argument\n",
      "  _log_warning(\"Found `{}` in params. Will use it instead of argument\".format(alias))\n"
     ]
    },
    {
     "name": "stdout",
     "output_type": "stream",
     "text": [
      "[LightGBM] [Warning] feature_fraction is set=0.5, colsample_bytree=1.0 will be ignored. Current value: feature_fraction=0.5\n",
      "[LightGBM] [Warning] bagging_fraction is set=0.5, subsample=1.0 will be ignored. Current value: bagging_fraction=0.5\n",
      "[CV 1/3] END bagging_fraction=0.5, boosting_type=goss, feature_fraction=0.5, learning_rate=0.5, num_iterations=1000, num_leaves=2048, objective=binary; total time= 1.8min\n"
     ]
    },
    {
     "name": "stderr",
     "output_type": "stream",
     "text": [
      "/home/aizat/anaconda3/envs/fyp/lib/python3.7/site-packages/lightgbm/engine.py:148: UserWarning: Found `num_iterations` in params. Will use it instead of argument\n",
      "  _log_warning(\"Found `{}` in params. Will use it instead of argument\".format(alias))\n"
     ]
    },
    {
     "name": "stdout",
     "output_type": "stream",
     "text": [
      "[LightGBM] [Warning] feature_fraction is set=0.5, colsample_bytree=1.0 will be ignored. Current value: feature_fraction=0.5\n",
      "[LightGBM] [Warning] bagging_fraction is set=0.5, subsample=1.0 will be ignored. Current value: bagging_fraction=0.5\n",
      "[CV 2/3] END bagging_fraction=0.5, boosting_type=goss, feature_fraction=0.5, learning_rate=0.5, num_iterations=1000, num_leaves=2048, objective=binary; total time= 2.8min\n"
     ]
    },
    {
     "name": "stderr",
     "output_type": "stream",
     "text": [
      "/home/aizat/anaconda3/envs/fyp/lib/python3.7/site-packages/lightgbm/engine.py:148: UserWarning: Found `num_iterations` in params. Will use it instead of argument\n",
      "  _log_warning(\"Found `{}` in params. Will use it instead of argument\".format(alias))\n"
     ]
    },
    {
     "name": "stdout",
     "output_type": "stream",
     "text": [
      "[LightGBM] [Warning] feature_fraction is set=0.5, colsample_bytree=1.0 will be ignored. Current value: feature_fraction=0.5\n",
      "[LightGBM] [Warning] bagging_fraction is set=0.5, subsample=1.0 will be ignored. Current value: bagging_fraction=0.5\n",
      "[CV 3/3] END bagging_fraction=0.5, boosting_type=goss, feature_fraction=0.5, learning_rate=0.5, num_iterations=1000, num_leaves=2048, objective=binary; total time= 3.6min\n"
     ]
    },
    {
     "name": "stderr",
     "output_type": "stream",
     "text": [
      "/home/aizat/anaconda3/envs/fyp/lib/python3.7/site-packages/lightgbm/engine.py:148: UserWarning: Found `num_iterations` in params. Will use it instead of argument\n",
      "  _log_warning(\"Found `{}` in params. Will use it instead of argument\".format(alias))\n"
     ]
    },
    {
     "name": "stdout",
     "output_type": "stream",
     "text": [
      "[LightGBM] [Warning] feature_fraction is set=0.5, colsample_bytree=1.0 will be ignored. Current value: feature_fraction=0.5\n",
      "[LightGBM] [Warning] bagging_fraction is set=0.5, subsample=1.0 will be ignored. Current value: bagging_fraction=0.5\n",
      "[CV 1/3] END bagging_fraction=0.5, boosting_type=goss, feature_fraction=0.5, learning_rate=0.5, num_iterations=1000, num_leaves=4096, objective=binary; total time= 1.9min\n"
     ]
    },
    {
     "name": "stderr",
     "output_type": "stream",
     "text": [
      "/home/aizat/anaconda3/envs/fyp/lib/python3.7/site-packages/lightgbm/engine.py:148: UserWarning: Found `num_iterations` in params. Will use it instead of argument\n",
      "  _log_warning(\"Found `{}` in params. Will use it instead of argument\".format(alias))\n"
     ]
    },
    {
     "name": "stdout",
     "output_type": "stream",
     "text": [
      "[LightGBM] [Warning] feature_fraction is set=0.5, colsample_bytree=1.0 will be ignored. Current value: feature_fraction=0.5\n",
      "[LightGBM] [Warning] bagging_fraction is set=0.5, subsample=1.0 will be ignored. Current value: bagging_fraction=0.5\n"
     ]
    },
    {
     "name": "stderr",
     "output_type": "stream",
     "text": [
      "/home/aizat/anaconda3/envs/fyp/lib/python3.7/site-packages/sklearn/model_selection/_validation.py:614: FitFailedWarning: Estimator fit failed. The score on this train-test partition for these parameters will be set to nan. Details: \n",
      "Traceback (most recent call last):\n",
      "  File \"/home/aizat/anaconda3/envs/fyp/lib/python3.7/site-packages/sklearn/model_selection/_validation.py\", line 593, in _fit_and_score\n",
      "    estimator.fit(X_train, y_train, **fit_params)\n",
      "  File \"/home/aizat/anaconda3/envs/fyp/lib/python3.7/site-packages/lightgbm/sklearn.py\", line 895, in fit\n",
      "    callbacks=callbacks, init_model=init_model)\n",
      "  File \"/home/aizat/anaconda3/envs/fyp/lib/python3.7/site-packages/lightgbm/sklearn.py\", line 688, in fit\n",
      "    callbacks=callbacks, init_model=init_model)\n",
      "  File \"/home/aizat/anaconda3/envs/fyp/lib/python3.7/site-packages/lightgbm/engine.py\", line 249, in train\n",
      "    booster.update(fobj=fobj)\n",
      "  File \"/home/aizat/anaconda3/envs/fyp/lib/python3.7/site-packages/lightgbm/basic.py\", line 2645, in update\n",
      "    ctypes.byref(is_finished)))\n",
      "  File \"/home/aizat/anaconda3/envs/fyp/lib/python3.7/site-packages/lightgbm/basic.py\", line 110, in _safe_call\n",
      "    raise LightGBMError(_LIB.LGBM_GetLastError().decode('utf-8'))\n",
      "lightgbm.basic.LightGBMError: Check failed: (best_split_info.left_count) > (0) at /home/aizat/LightGBM/src/treelearner/serial_tree_learner.cpp, line 653 .\n",
      "\n",
      "\n",
      "  FitFailedWarning)\n"
     ]
    },
    {
     "name": "stdout",
     "output_type": "stream",
     "text": [
      "[CV 2/3] END bagging_fraction=0.5, boosting_type=goss, feature_fraction=0.5, learning_rate=0.5, num_iterations=1000, num_leaves=4096, objective=binary; total time=  27.9s\n"
     ]
    },
    {
     "name": "stderr",
     "output_type": "stream",
     "text": [
      "/home/aizat/anaconda3/envs/fyp/lib/python3.7/site-packages/lightgbm/engine.py:148: UserWarning: Found `num_iterations` in params. Will use it instead of argument\n",
      "  _log_warning(\"Found `{}` in params. Will use it instead of argument\".format(alias))\n"
     ]
    },
    {
     "name": "stdout",
     "output_type": "stream",
     "text": [
      "[CV 3/3] END bagging_fraction=0.5, boosting_type=goss, feature_fraction=0.5, learning_rate=0.5, num_iterations=1000, num_leaves=4096, objective=binary; total time= 4.2min\n"
     ]
    },
    {
     "name": "stderr",
     "output_type": "stream",
     "text": [
      "/home/aizat/anaconda3/envs/fyp/lib/python3.7/site-packages/lightgbm/engine.py:148: UserWarning: Found `num_iterations` in params. Will use it instead of argument\n",
      "  _log_warning(\"Found `{}` in params. Will use it instead of argument\".format(alias))\n"
     ]
    },
    {
     "name": "stdout",
     "output_type": "stream",
     "text": [
      "[LightGBM] [Warning] feature_fraction is set=0.5, colsample_bytree=1.0 will be ignored. Current value: feature_fraction=0.5\n",
      "[LightGBM] [Warning] bagging_fraction is set=0.5, subsample=1.0 will be ignored. Current value: bagging_fraction=0.5\n",
      "[CV 1/3] END bagging_fraction=0.5, boosting_type=goss, feature_fraction=0.5, learning_rate=0.5, num_iterations=1500, num_leaves=512, objective=binary; total time= 2.0min\n"
     ]
    },
    {
     "name": "stderr",
     "output_type": "stream",
     "text": [
      "/home/aizat/anaconda3/envs/fyp/lib/python3.7/site-packages/lightgbm/engine.py:148: UserWarning: Found `num_iterations` in params. Will use it instead of argument\n",
      "  _log_warning(\"Found `{}` in params. Will use it instead of argument\".format(alias))\n"
     ]
    },
    {
     "name": "stdout",
     "output_type": "stream",
     "text": [
      "[LightGBM] [Warning] feature_fraction is set=0.5, colsample_bytree=1.0 will be ignored. Current value: feature_fraction=0.5\n",
      "[LightGBM] [Warning] bagging_fraction is set=0.5, subsample=1.0 will be ignored. Current value: bagging_fraction=0.5\n",
      "[CV 2/3] END bagging_fraction=0.5, boosting_type=goss, feature_fraction=0.5, learning_rate=0.5, num_iterations=1500, num_leaves=512, objective=binary; total time= 3.4min\n"
     ]
    },
    {
     "name": "stderr",
     "output_type": "stream",
     "text": [
      "/home/aizat/anaconda3/envs/fyp/lib/python3.7/site-packages/lightgbm/engine.py:148: UserWarning: Found `num_iterations` in params. Will use it instead of argument\n",
      "  _log_warning(\"Found `{}` in params. Will use it instead of argument\".format(alias))\n"
     ]
    },
    {
     "name": "stdout",
     "output_type": "stream",
     "text": [
      "[LightGBM] [Warning] feature_fraction is set=0.5, colsample_bytree=1.0 will be ignored. Current value: feature_fraction=0.5\n",
      "[LightGBM] [Warning] bagging_fraction is set=0.5, subsample=1.0 will be ignored. Current value: bagging_fraction=0.5\n",
      "[CV 3/3] END bagging_fraction=0.5, boosting_type=goss, feature_fraction=0.5, learning_rate=0.5, num_iterations=1500, num_leaves=512, objective=binary; total time= 4.6min\n"
     ]
    },
    {
     "name": "stderr",
     "output_type": "stream",
     "text": [
      "/home/aizat/anaconda3/envs/fyp/lib/python3.7/site-packages/lightgbm/engine.py:148: UserWarning: Found `num_iterations` in params. Will use it instead of argument\n",
      "  _log_warning(\"Found `{}` in params. Will use it instead of argument\".format(alias))\n"
     ]
    },
    {
     "name": "stdout",
     "output_type": "stream",
     "text": [
      "[LightGBM] [Warning] feature_fraction is set=0.5, colsample_bytree=1.0 will be ignored. Current value: feature_fraction=0.5\n",
      "[LightGBM] [Warning] bagging_fraction is set=0.5, subsample=1.0 will be ignored. Current value: bagging_fraction=0.5\n",
      "[CV 1/3] END bagging_fraction=0.5, boosting_type=goss, feature_fraction=0.5, learning_rate=0.5, num_iterations=1500, num_leaves=1024, objective=binary; total time= 2.1min\n"
     ]
    },
    {
     "name": "stderr",
     "output_type": "stream",
     "text": [
      "/home/aizat/anaconda3/envs/fyp/lib/python3.7/site-packages/lightgbm/engine.py:148: UserWarning: Found `num_iterations` in params. Will use it instead of argument\n",
      "  _log_warning(\"Found `{}` in params. Will use it instead of argument\".format(alias))\n"
     ]
    },
    {
     "name": "stdout",
     "output_type": "stream",
     "text": [
      "[LightGBM] [Warning] feature_fraction is set=0.5, colsample_bytree=1.0 will be ignored. Current value: feature_fraction=0.5\n",
      "[LightGBM] [Warning] bagging_fraction is set=0.5, subsample=1.0 will be ignored. Current value: bagging_fraction=0.5\n",
      "[CV 2/3] END bagging_fraction=0.5, boosting_type=goss, feature_fraction=0.5, learning_rate=0.5, num_iterations=1500, num_leaves=1024, objective=binary; total time= 3.4min\n"
     ]
    },
    {
     "name": "stderr",
     "output_type": "stream",
     "text": [
      "/home/aizat/anaconda3/envs/fyp/lib/python3.7/site-packages/lightgbm/engine.py:148: UserWarning: Found `num_iterations` in params. Will use it instead of argument\n",
      "  _log_warning(\"Found `{}` in params. Will use it instead of argument\".format(alias))\n"
     ]
    },
    {
     "name": "stdout",
     "output_type": "stream",
     "text": [
      "[LightGBM] [Warning] feature_fraction is set=0.5, colsample_bytree=1.0 will be ignored. Current value: feature_fraction=0.5\n",
      "[LightGBM] [Warning] bagging_fraction is set=0.5, subsample=1.0 will be ignored. Current value: bagging_fraction=0.5\n",
      "[CV 3/3] END bagging_fraction=0.5, boosting_type=goss, feature_fraction=0.5, learning_rate=0.5, num_iterations=1500, num_leaves=1024, objective=binary; total time= 4.5min\n"
     ]
    },
    {
     "name": "stderr",
     "output_type": "stream",
     "text": [
      "/home/aizat/anaconda3/envs/fyp/lib/python3.7/site-packages/lightgbm/engine.py:148: UserWarning: Found `num_iterations` in params. Will use it instead of argument\n",
      "  _log_warning(\"Found `{}` in params. Will use it instead of argument\".format(alias))\n"
     ]
    },
    {
     "name": "stdout",
     "output_type": "stream",
     "text": [
      "[LightGBM] [Warning] feature_fraction is set=0.5, colsample_bytree=1.0 will be ignored. Current value: feature_fraction=0.5\n",
      "[LightGBM] [Warning] bagging_fraction is set=0.5, subsample=1.0 will be ignored. Current value: bagging_fraction=0.5\n",
      "[CV 1/3] END bagging_fraction=0.5, boosting_type=goss, feature_fraction=0.5, learning_rate=0.5, num_iterations=1500, num_leaves=2048, objective=binary; total time= 2.3min\n"
     ]
    },
    {
     "name": "stderr",
     "output_type": "stream",
     "text": [
      "/home/aizat/anaconda3/envs/fyp/lib/python3.7/site-packages/lightgbm/engine.py:148: UserWarning: Found `num_iterations` in params. Will use it instead of argument\n",
      "  _log_warning(\"Found `{}` in params. Will use it instead of argument\".format(alias))\n"
     ]
    },
    {
     "name": "stdout",
     "output_type": "stream",
     "text": [
      "[LightGBM] [Warning] feature_fraction is set=0.5, colsample_bytree=1.0 will be ignored. Current value: feature_fraction=0.5\n",
      "[LightGBM] [Warning] bagging_fraction is set=0.5, subsample=1.0 will be ignored. Current value: bagging_fraction=0.5\n",
      "[CV 2/3] END bagging_fraction=0.5, boosting_type=goss, feature_fraction=0.5, learning_rate=0.5, num_iterations=1500, num_leaves=2048, objective=binary; total time= 3.6min\n"
     ]
    },
    {
     "name": "stderr",
     "output_type": "stream",
     "text": [
      "/home/aizat/anaconda3/envs/fyp/lib/python3.7/site-packages/lightgbm/engine.py:148: UserWarning: Found `num_iterations` in params. Will use it instead of argument\n",
      "  _log_warning(\"Found `{}` in params. Will use it instead of argument\".format(alias))\n"
     ]
    },
    {
     "name": "stdout",
     "output_type": "stream",
     "text": [
      "[LightGBM] [Warning] feature_fraction is set=0.5, colsample_bytree=1.0 will be ignored. Current value: feature_fraction=0.5\n",
      "[LightGBM] [Warning] bagging_fraction is set=0.5, subsample=1.0 will be ignored. Current value: bagging_fraction=0.5\n",
      "[CV 3/3] END bagging_fraction=0.5, boosting_type=goss, feature_fraction=0.5, learning_rate=0.5, num_iterations=1500, num_leaves=2048, objective=binary; total time= 4.7min\n"
     ]
    },
    {
     "name": "stderr",
     "output_type": "stream",
     "text": [
      "/home/aizat/anaconda3/envs/fyp/lib/python3.7/site-packages/lightgbm/engine.py:148: UserWarning: Found `num_iterations` in params. Will use it instead of argument\n",
      "  _log_warning(\"Found `{}` in params. Will use it instead of argument\".format(alias))\n"
     ]
    },
    {
     "name": "stdout",
     "output_type": "stream",
     "text": [
      "[LightGBM] [Warning] feature_fraction is set=0.5, colsample_bytree=1.0 will be ignored. Current value: feature_fraction=0.5\n",
      "[LightGBM] [Warning] bagging_fraction is set=0.5, subsample=1.0 will be ignored. Current value: bagging_fraction=0.5\n",
      "[CV 1/3] END bagging_fraction=0.5, boosting_type=goss, feature_fraction=0.5, learning_rate=0.5, num_iterations=1500, num_leaves=4096, objective=binary; total time= 2.3min\n"
     ]
    },
    {
     "name": "stderr",
     "output_type": "stream",
     "text": [
      "/home/aizat/anaconda3/envs/fyp/lib/python3.7/site-packages/lightgbm/engine.py:148: UserWarning: Found `num_iterations` in params. Will use it instead of argument\n",
      "  _log_warning(\"Found `{}` in params. Will use it instead of argument\".format(alias))\n"
     ]
    },
    {
     "name": "stdout",
     "output_type": "stream",
     "text": [
      "[LightGBM] [Warning] feature_fraction is set=0.5, colsample_bytree=1.0 will be ignored. Current value: feature_fraction=0.5\n",
      "[LightGBM] [Warning] bagging_fraction is set=0.5, subsample=1.0 will be ignored. Current value: bagging_fraction=0.5\n"
     ]
    },
    {
     "name": "stderr",
     "output_type": "stream",
     "text": [
      "/home/aizat/anaconda3/envs/fyp/lib/python3.7/site-packages/sklearn/model_selection/_validation.py:614: FitFailedWarning: Estimator fit failed. The score on this train-test partition for these parameters will be set to nan. Details: \n",
      "Traceback (most recent call last):\n",
      "  File \"/home/aizat/anaconda3/envs/fyp/lib/python3.7/site-packages/sklearn/model_selection/_validation.py\", line 593, in _fit_and_score\n",
      "    estimator.fit(X_train, y_train, **fit_params)\n",
      "  File \"/home/aizat/anaconda3/envs/fyp/lib/python3.7/site-packages/lightgbm/sklearn.py\", line 895, in fit\n",
      "    callbacks=callbacks, init_model=init_model)\n",
      "  File \"/home/aizat/anaconda3/envs/fyp/lib/python3.7/site-packages/lightgbm/sklearn.py\", line 688, in fit\n",
      "    callbacks=callbacks, init_model=init_model)\n",
      "  File \"/home/aizat/anaconda3/envs/fyp/lib/python3.7/site-packages/lightgbm/engine.py\", line 249, in train\n",
      "    booster.update(fobj=fobj)\n",
      "  File \"/home/aizat/anaconda3/envs/fyp/lib/python3.7/site-packages/lightgbm/basic.py\", line 2645, in update\n",
      "    ctypes.byref(is_finished)))\n",
      "  File \"/home/aizat/anaconda3/envs/fyp/lib/python3.7/site-packages/lightgbm/basic.py\", line 110, in _safe_call\n",
      "    raise LightGBMError(_LIB.LGBM_GetLastError().decode('utf-8'))\n",
      "lightgbm.basic.LightGBMError: Check failed: (best_split_info.left_count) > (0) at /home/aizat/LightGBM/src/treelearner/serial_tree_learner.cpp, line 653 .\n",
      "\n",
      "\n",
      "  FitFailedWarning)\n"
     ]
    },
    {
     "name": "stdout",
     "output_type": "stream",
     "text": [
      "[CV 2/3] END bagging_fraction=0.5, boosting_type=goss, feature_fraction=0.5, learning_rate=0.5, num_iterations=1500, num_leaves=4096, objective=binary; total time=  25.4s\n"
     ]
    },
    {
     "name": "stderr",
     "output_type": "stream",
     "text": [
      "/home/aizat/anaconda3/envs/fyp/lib/python3.7/site-packages/lightgbm/engine.py:148: UserWarning: Found `num_iterations` in params. Will use it instead of argument\n",
      "  _log_warning(\"Found `{}` in params. Will use it instead of argument\".format(alias))\n"
     ]
    },
    {
     "name": "stdout",
     "output_type": "stream",
     "text": [
      "[CV 3/3] END bagging_fraction=0.5, boosting_type=goss, feature_fraction=0.5, learning_rate=0.5, num_iterations=1500, num_leaves=4096, objective=binary; total time= 5.1min\n"
     ]
    },
    {
     "name": "stderr",
     "output_type": "stream",
     "text": [
      "/home/aizat/anaconda3/envs/fyp/lib/python3.7/site-packages/lightgbm/engine.py:148: UserWarning: Found `num_iterations` in params. Will use it instead of argument\n",
      "  _log_warning(\"Found `{}` in params. Will use it instead of argument\".format(alias))\n"
     ]
    },
    {
     "name": "stdout",
     "output_type": "stream",
     "text": [
      "[LightGBM] [Warning] feature_fraction is set=0.8, colsample_bytree=1.0 will be ignored. Current value: feature_fraction=0.8\n",
      "[LightGBM] [Warning] bagging_fraction is set=0.5, subsample=1.0 will be ignored. Current value: bagging_fraction=0.5\n",
      "[CV 1/3] END bagging_fraction=0.5, boosting_type=goss, feature_fraction=0.8, learning_rate=0.005, num_iterations=500, num_leaves=512, objective=binary; total time= 3.2min\n"
     ]
    },
    {
     "name": "stderr",
     "output_type": "stream",
     "text": [
      "/home/aizat/anaconda3/envs/fyp/lib/python3.7/site-packages/lightgbm/engine.py:148: UserWarning: Found `num_iterations` in params. Will use it instead of argument\n",
      "  _log_warning(\"Found `{}` in params. Will use it instead of argument\".format(alias))\n"
     ]
    },
    {
     "name": "stdout",
     "output_type": "stream",
     "text": [
      "[LightGBM] [Warning] feature_fraction is set=0.8, colsample_bytree=1.0 will be ignored. Current value: feature_fraction=0.8\n",
      "[LightGBM] [Warning] bagging_fraction is set=0.5, subsample=1.0 will be ignored. Current value: bagging_fraction=0.5\n"
     ]
    },
    {
     "name": "stderr",
     "output_type": "stream",
     "text": [
      "/home/aizat/anaconda3/envs/fyp/lib/python3.7/site-packages/sklearn/model_selection/_validation.py:614: FitFailedWarning: Estimator fit failed. The score on this train-test partition for these parameters will be set to nan. Details: \n",
      "Traceback (most recent call last):\n",
      "  File \"/home/aizat/anaconda3/envs/fyp/lib/python3.7/site-packages/sklearn/model_selection/_validation.py\", line 593, in _fit_and_score\n",
      "    estimator.fit(X_train, y_train, **fit_params)\n",
      "  File \"/home/aizat/anaconda3/envs/fyp/lib/python3.7/site-packages/lightgbm/sklearn.py\", line 895, in fit\n",
      "    callbacks=callbacks, init_model=init_model)\n",
      "  File \"/home/aizat/anaconda3/envs/fyp/lib/python3.7/site-packages/lightgbm/sklearn.py\", line 688, in fit\n",
      "    callbacks=callbacks, init_model=init_model)\n",
      "  File \"/home/aizat/anaconda3/envs/fyp/lib/python3.7/site-packages/lightgbm/engine.py\", line 249, in train\n",
      "    booster.update(fobj=fobj)\n",
      "  File \"/home/aizat/anaconda3/envs/fyp/lib/python3.7/site-packages/lightgbm/basic.py\", line 2645, in update\n",
      "    ctypes.byref(is_finished)))\n",
      "  File \"/home/aizat/anaconda3/envs/fyp/lib/python3.7/site-packages/lightgbm/basic.py\", line 110, in _safe_call\n",
      "    raise LightGBMError(_LIB.LGBM_GetLastError().decode('utf-8'))\n",
      "lightgbm.basic.LightGBMError: Check failed: (best_split_info.left_count) > (0) at /home/aizat/LightGBM/src/treelearner/serial_tree_learner.cpp, line 653 .\n",
      "\n",
      "\n",
      "  FitFailedWarning)\n"
     ]
    },
    {
     "name": "stdout",
     "output_type": "stream",
     "text": [
      "[CV 2/3] END bagging_fraction=0.5, boosting_type=goss, feature_fraction=0.8, learning_rate=0.005, num_iterations=500, num_leaves=512, objective=binary; total time=  54.5s\n"
     ]
    },
    {
     "name": "stderr",
     "output_type": "stream",
     "text": [
      "/home/aizat/anaconda3/envs/fyp/lib/python3.7/site-packages/lightgbm/engine.py:148: UserWarning: Found `num_iterations` in params. Will use it instead of argument\n",
      "  _log_warning(\"Found `{}` in params. Will use it instead of argument\".format(alias))\n",
      "/home/aizat/anaconda3/envs/fyp/lib/python3.7/site-packages/sklearn/model_selection/_validation.py:614: FitFailedWarning: Estimator fit failed. The score on this train-test partition for these parameters will be set to nan. Details: \n",
      "Traceback (most recent call last):\n",
      "  File \"/home/aizat/anaconda3/envs/fyp/lib/python3.7/site-packages/sklearn/model_selection/_validation.py\", line 593, in _fit_and_score\n",
      "    estimator.fit(X_train, y_train, **fit_params)\n",
      "  File \"/home/aizat/anaconda3/envs/fyp/lib/python3.7/site-packages/lightgbm/sklearn.py\", line 895, in fit\n",
      "    callbacks=callbacks, init_model=init_model)\n",
      "  File \"/home/aizat/anaconda3/envs/fyp/lib/python3.7/site-packages/lightgbm/sklearn.py\", line 688, in fit\n",
      "    callbacks=callbacks, init_model=init_model)\n",
      "  File \"/home/aizat/anaconda3/envs/fyp/lib/python3.7/site-packages/lightgbm/engine.py\", line 249, in train\n",
      "    booster.update(fobj=fobj)\n",
      "  File \"/home/aizat/anaconda3/envs/fyp/lib/python3.7/site-packages/lightgbm/basic.py\", line 2645, in update\n",
      "    ctypes.byref(is_finished)))\n",
      "  File \"/home/aizat/anaconda3/envs/fyp/lib/python3.7/site-packages/lightgbm/basic.py\", line 110, in _safe_call\n",
      "    raise LightGBMError(_LIB.LGBM_GetLastError().decode('utf-8'))\n",
      "lightgbm.basic.LightGBMError: Check failed: (best_split_info.left_count) > (0) at /home/aizat/LightGBM/src/treelearner/serial_tree_learner.cpp, line 653 .\n",
      "\n",
      "\n",
      "  FitFailedWarning)\n"
     ]
    },
    {
     "name": "stdout",
     "output_type": "stream",
     "text": [
      "[CV 3/3] END bagging_fraction=0.5, boosting_type=goss, feature_fraction=0.8, learning_rate=0.005, num_iterations=500, num_leaves=512, objective=binary; total time=  56.3s\n"
     ]
    },
    {
     "name": "stderr",
     "output_type": "stream",
     "text": [
      "/home/aizat/anaconda3/envs/fyp/lib/python3.7/site-packages/lightgbm/engine.py:148: UserWarning: Found `num_iterations` in params. Will use it instead of argument\n",
      "  _log_warning(\"Found `{}` in params. Will use it instead of argument\".format(alias))\n"
     ]
    },
    {
     "name": "stdout",
     "output_type": "stream",
     "text": [
      "[CV 1/3] END bagging_fraction=0.5, boosting_type=goss, feature_fraction=0.8, learning_rate=0.005, num_iterations=500, num_leaves=1024, objective=binary; total time= 5.1min\n"
     ]
    },
    {
     "name": "stderr",
     "output_type": "stream",
     "text": [
      "/home/aizat/anaconda3/envs/fyp/lib/python3.7/site-packages/lightgbm/engine.py:148: UserWarning: Found `num_iterations` in params. Will use it instead of argument\n",
      "  _log_warning(\"Found `{}` in params. Will use it instead of argument\".format(alias))\n"
     ]
    },
    {
     "name": "stdout",
     "output_type": "stream",
     "text": [
      "[LightGBM] [Warning] feature_fraction is set=0.8, colsample_bytree=1.0 will be ignored. Current value: feature_fraction=0.8\n",
      "[LightGBM] [Warning] bagging_fraction is set=0.5, subsample=1.0 will be ignored. Current value: bagging_fraction=0.5\n"
     ]
    },
    {
     "name": "stderr",
     "output_type": "stream",
     "text": [
      "/home/aizat/anaconda3/envs/fyp/lib/python3.7/site-packages/sklearn/model_selection/_validation.py:614: FitFailedWarning: Estimator fit failed. The score on this train-test partition for these parameters will be set to nan. Details: \n",
      "Traceback (most recent call last):\n",
      "  File \"/home/aizat/anaconda3/envs/fyp/lib/python3.7/site-packages/sklearn/model_selection/_validation.py\", line 593, in _fit_and_score\n",
      "    estimator.fit(X_train, y_train, **fit_params)\n",
      "  File \"/home/aizat/anaconda3/envs/fyp/lib/python3.7/site-packages/lightgbm/sklearn.py\", line 895, in fit\n",
      "    callbacks=callbacks, init_model=init_model)\n",
      "  File \"/home/aizat/anaconda3/envs/fyp/lib/python3.7/site-packages/lightgbm/sklearn.py\", line 688, in fit\n",
      "    callbacks=callbacks, init_model=init_model)\n",
      "  File \"/home/aizat/anaconda3/envs/fyp/lib/python3.7/site-packages/lightgbm/engine.py\", line 249, in train\n",
      "    booster.update(fobj=fobj)\n",
      "  File \"/home/aizat/anaconda3/envs/fyp/lib/python3.7/site-packages/lightgbm/basic.py\", line 2645, in update\n",
      "    ctypes.byref(is_finished)))\n",
      "  File \"/home/aizat/anaconda3/envs/fyp/lib/python3.7/site-packages/lightgbm/basic.py\", line 110, in _safe_call\n",
      "    raise LightGBMError(_LIB.LGBM_GetLastError().decode('utf-8'))\n",
      "lightgbm.basic.LightGBMError: Check failed: (best_split_info.left_count) > (0) at /home/aizat/LightGBM/src/treelearner/serial_tree_learner.cpp, line 653 .\n",
      "\n",
      "\n",
      "  FitFailedWarning)\n"
     ]
    },
    {
     "name": "stdout",
     "output_type": "stream",
     "text": [
      "[CV 2/3] END bagging_fraction=0.5, boosting_type=goss, feature_fraction=0.8, learning_rate=0.005, num_iterations=500, num_leaves=1024, objective=binary; total time= 1.1min\n"
     ]
    },
    {
     "name": "stderr",
     "output_type": "stream",
     "text": [
      "/home/aizat/anaconda3/envs/fyp/lib/python3.7/site-packages/lightgbm/engine.py:148: UserWarning: Found `num_iterations` in params. Will use it instead of argument\n",
      "  _log_warning(\"Found `{}` in params. Will use it instead of argument\".format(alias))\n",
      "/home/aizat/anaconda3/envs/fyp/lib/python3.7/site-packages/sklearn/model_selection/_validation.py:614: FitFailedWarning: Estimator fit failed. The score on this train-test partition for these parameters will be set to nan. Details: \n",
      "Traceback (most recent call last):\n",
      "  File \"/home/aizat/anaconda3/envs/fyp/lib/python3.7/site-packages/sklearn/model_selection/_validation.py\", line 593, in _fit_and_score\n",
      "    estimator.fit(X_train, y_train, **fit_params)\n",
      "  File \"/home/aizat/anaconda3/envs/fyp/lib/python3.7/site-packages/lightgbm/sklearn.py\", line 895, in fit\n",
      "    callbacks=callbacks, init_model=init_model)\n",
      "  File \"/home/aizat/anaconda3/envs/fyp/lib/python3.7/site-packages/lightgbm/sklearn.py\", line 688, in fit\n",
      "    callbacks=callbacks, init_model=init_model)\n",
      "  File \"/home/aizat/anaconda3/envs/fyp/lib/python3.7/site-packages/lightgbm/engine.py\", line 249, in train\n",
      "    booster.update(fobj=fobj)\n",
      "  File \"/home/aizat/anaconda3/envs/fyp/lib/python3.7/site-packages/lightgbm/basic.py\", line 2645, in update\n",
      "    ctypes.byref(is_finished)))\n",
      "  File \"/home/aizat/anaconda3/envs/fyp/lib/python3.7/site-packages/lightgbm/basic.py\", line 110, in _safe_call\n",
      "    raise LightGBMError(_LIB.LGBM_GetLastError().decode('utf-8'))\n",
      "lightgbm.basic.LightGBMError: Check failed: (best_split_info.left_count) > (0) at /home/aizat/LightGBM/src/treelearner/serial_tree_learner.cpp, line 653 .\n",
      "\n",
      "\n",
      "  FitFailedWarning)\n"
     ]
    },
    {
     "name": "stdout",
     "output_type": "stream",
     "text": [
      "[CV 3/3] END bagging_fraction=0.5, boosting_type=goss, feature_fraction=0.8, learning_rate=0.005, num_iterations=500, num_leaves=1024, objective=binary; total time=  31.0s\n"
     ]
    },
    {
     "name": "stderr",
     "output_type": "stream",
     "text": [
      "/home/aizat/anaconda3/envs/fyp/lib/python3.7/site-packages/lightgbm/engine.py:148: UserWarning: Found `num_iterations` in params. Will use it instead of argument\n",
      "  _log_warning(\"Found `{}` in params. Will use it instead of argument\".format(alias))\n",
      "/home/aizat/anaconda3/envs/fyp/lib/python3.7/site-packages/sklearn/model_selection/_validation.py:614: FitFailedWarning: Estimator fit failed. The score on this train-test partition for these parameters will be set to nan. Details: \n",
      "Traceback (most recent call last):\n",
      "  File \"/home/aizat/anaconda3/envs/fyp/lib/python3.7/site-packages/sklearn/model_selection/_validation.py\", line 593, in _fit_and_score\n",
      "    estimator.fit(X_train, y_train, **fit_params)\n",
      "  File \"/home/aizat/anaconda3/envs/fyp/lib/python3.7/site-packages/lightgbm/sklearn.py\", line 895, in fit\n",
      "    callbacks=callbacks, init_model=init_model)\n",
      "  File \"/home/aizat/anaconda3/envs/fyp/lib/python3.7/site-packages/lightgbm/sklearn.py\", line 688, in fit\n",
      "    callbacks=callbacks, init_model=init_model)\n",
      "  File \"/home/aizat/anaconda3/envs/fyp/lib/python3.7/site-packages/lightgbm/engine.py\", line 249, in train\n",
      "    booster.update(fobj=fobj)\n",
      "  File \"/home/aizat/anaconda3/envs/fyp/lib/python3.7/site-packages/lightgbm/basic.py\", line 2645, in update\n",
      "    ctypes.byref(is_finished)))\n",
      "  File \"/home/aizat/anaconda3/envs/fyp/lib/python3.7/site-packages/lightgbm/basic.py\", line 110, in _safe_call\n",
      "    raise LightGBMError(_LIB.LGBM_GetLastError().decode('utf-8'))\n",
      "lightgbm.basic.LightGBMError: Check failed: (best_split_info.left_count) > (0) at /home/aizat/LightGBM/src/treelearner/serial_tree_learner.cpp, line 653 .\n",
      "\n",
      "\n",
      "  FitFailedWarning)\n"
     ]
    },
    {
     "name": "stdout",
     "output_type": "stream",
     "text": [
      "[CV 1/3] END bagging_fraction=0.5, boosting_type=goss, feature_fraction=0.8, learning_rate=0.005, num_iterations=500, num_leaves=2048, objective=binary; total time= 1.8min\n"
     ]
    },
    {
     "name": "stderr",
     "output_type": "stream",
     "text": [
      "/home/aizat/anaconda3/envs/fyp/lib/python3.7/site-packages/lightgbm/engine.py:148: UserWarning: Found `num_iterations` in params. Will use it instead of argument\n",
      "  _log_warning(\"Found `{}` in params. Will use it instead of argument\".format(alias))\n",
      "/home/aizat/anaconda3/envs/fyp/lib/python3.7/site-packages/sklearn/model_selection/_validation.py:614: FitFailedWarning: Estimator fit failed. The score on this train-test partition for these parameters will be set to nan. Details: \n",
      "Traceback (most recent call last):\n",
      "  File \"/home/aizat/anaconda3/envs/fyp/lib/python3.7/site-packages/sklearn/model_selection/_validation.py\", line 593, in _fit_and_score\n",
      "    estimator.fit(X_train, y_train, **fit_params)\n",
      "  File \"/home/aizat/anaconda3/envs/fyp/lib/python3.7/site-packages/lightgbm/sklearn.py\", line 895, in fit\n",
      "    callbacks=callbacks, init_model=init_model)\n",
      "  File \"/home/aizat/anaconda3/envs/fyp/lib/python3.7/site-packages/lightgbm/sklearn.py\", line 688, in fit\n",
      "    callbacks=callbacks, init_model=init_model)\n",
      "  File \"/home/aizat/anaconda3/envs/fyp/lib/python3.7/site-packages/lightgbm/engine.py\", line 249, in train\n",
      "    booster.update(fobj=fobj)\n",
      "  File \"/home/aizat/anaconda3/envs/fyp/lib/python3.7/site-packages/lightgbm/basic.py\", line 2645, in update\n",
      "    ctypes.byref(is_finished)))\n",
      "  File \"/home/aizat/anaconda3/envs/fyp/lib/python3.7/site-packages/lightgbm/basic.py\", line 110, in _safe_call\n",
      "    raise LightGBMError(_LIB.LGBM_GetLastError().decode('utf-8'))\n",
      "lightgbm.basic.LightGBMError: Check failed: (best_split_info.left_count) > (0) at /home/aizat/LightGBM/src/treelearner/serial_tree_learner.cpp, line 653 .\n",
      "\n",
      "\n",
      "  FitFailedWarning)\n"
     ]
    },
    {
     "name": "stdout",
     "output_type": "stream",
     "text": [
      "[CV 2/3] END bagging_fraction=0.5, boosting_type=goss, feature_fraction=0.8, learning_rate=0.005, num_iterations=500, num_leaves=2048, objective=binary; total time= 1.8min\n"
     ]
    },
    {
     "name": "stderr",
     "output_type": "stream",
     "text": [
      "/home/aizat/anaconda3/envs/fyp/lib/python3.7/site-packages/lightgbm/engine.py:148: UserWarning: Found `num_iterations` in params. Will use it instead of argument\n",
      "  _log_warning(\"Found `{}` in params. Will use it instead of argument\".format(alias))\n",
      "/home/aizat/anaconda3/envs/fyp/lib/python3.7/site-packages/sklearn/model_selection/_validation.py:614: FitFailedWarning: Estimator fit failed. The score on this train-test partition for these parameters will be set to nan. Details: \n",
      "Traceback (most recent call last):\n",
      "  File \"/home/aizat/anaconda3/envs/fyp/lib/python3.7/site-packages/sklearn/model_selection/_validation.py\", line 593, in _fit_and_score\n",
      "    estimator.fit(X_train, y_train, **fit_params)\n",
      "  File \"/home/aizat/anaconda3/envs/fyp/lib/python3.7/site-packages/lightgbm/sklearn.py\", line 895, in fit\n",
      "    callbacks=callbacks, init_model=init_model)\n",
      "  File \"/home/aizat/anaconda3/envs/fyp/lib/python3.7/site-packages/lightgbm/sklearn.py\", line 688, in fit\n",
      "    callbacks=callbacks, init_model=init_model)\n",
      "  File \"/home/aizat/anaconda3/envs/fyp/lib/python3.7/site-packages/lightgbm/engine.py\", line 249, in train\n",
      "    booster.update(fobj=fobj)\n",
      "  File \"/home/aizat/anaconda3/envs/fyp/lib/python3.7/site-packages/lightgbm/basic.py\", line 2645, in update\n",
      "    ctypes.byref(is_finished)))\n",
      "  File \"/home/aizat/anaconda3/envs/fyp/lib/python3.7/site-packages/lightgbm/basic.py\", line 110, in _safe_call\n",
      "    raise LightGBMError(_LIB.LGBM_GetLastError().decode('utf-8'))\n",
      "lightgbm.basic.LightGBMError: Check failed: (best_split_info.left_count) > (0) at /home/aizat/LightGBM/src/treelearner/serial_tree_learner.cpp, line 653 .\n",
      "\n",
      "\n",
      "  FitFailedWarning)\n"
     ]
    },
    {
     "name": "stdout",
     "output_type": "stream",
     "text": [
      "[CV 3/3] END bagging_fraction=0.5, boosting_type=goss, feature_fraction=0.8, learning_rate=0.005, num_iterations=500, num_leaves=2048, objective=binary; total time=  33.2s\n"
     ]
    },
    {
     "name": "stderr",
     "output_type": "stream",
     "text": [
      "/home/aizat/anaconda3/envs/fyp/lib/python3.7/site-packages/lightgbm/engine.py:148: UserWarning: Found `num_iterations` in params. Will use it instead of argument\n",
      "  _log_warning(\"Found `{}` in params. Will use it instead of argument\".format(alias))\n",
      "/home/aizat/anaconda3/envs/fyp/lib/python3.7/site-packages/sklearn/model_selection/_validation.py:614: FitFailedWarning: Estimator fit failed. The score on this train-test partition for these parameters will be set to nan. Details: \n",
      "Traceback (most recent call last):\n",
      "  File \"/home/aizat/anaconda3/envs/fyp/lib/python3.7/site-packages/sklearn/model_selection/_validation.py\", line 593, in _fit_and_score\n",
      "    estimator.fit(X_train, y_train, **fit_params)\n",
      "  File \"/home/aizat/anaconda3/envs/fyp/lib/python3.7/site-packages/lightgbm/sklearn.py\", line 895, in fit\n",
      "    callbacks=callbacks, init_model=init_model)\n",
      "  File \"/home/aizat/anaconda3/envs/fyp/lib/python3.7/site-packages/lightgbm/sklearn.py\", line 688, in fit\n",
      "    callbacks=callbacks, init_model=init_model)\n",
      "  File \"/home/aizat/anaconda3/envs/fyp/lib/python3.7/site-packages/lightgbm/engine.py\", line 249, in train\n",
      "    booster.update(fobj=fobj)\n",
      "  File \"/home/aizat/anaconda3/envs/fyp/lib/python3.7/site-packages/lightgbm/basic.py\", line 2645, in update\n",
      "    ctypes.byref(is_finished)))\n",
      "  File \"/home/aizat/anaconda3/envs/fyp/lib/python3.7/site-packages/lightgbm/basic.py\", line 110, in _safe_call\n",
      "    raise LightGBMError(_LIB.LGBM_GetLastError().decode('utf-8'))\n",
      "lightgbm.basic.LightGBMError: Check failed: (best_split_info.left_count) > (0) at /home/aizat/LightGBM/src/treelearner/serial_tree_learner.cpp, line 653 .\n",
      "\n",
      "\n",
      "  FitFailedWarning)\n"
     ]
    },
    {
     "name": "stdout",
     "output_type": "stream",
     "text": [
      "[CV 1/3] END bagging_fraction=0.5, boosting_type=goss, feature_fraction=0.8, learning_rate=0.005, num_iterations=500, num_leaves=4096, objective=binary; total time= 2.9min\n"
     ]
    },
    {
     "name": "stderr",
     "output_type": "stream",
     "text": [
      "/home/aizat/anaconda3/envs/fyp/lib/python3.7/site-packages/lightgbm/engine.py:148: UserWarning: Found `num_iterations` in params. Will use it instead of argument\n",
      "  _log_warning(\"Found `{}` in params. Will use it instead of argument\".format(alias))\n",
      "/home/aizat/anaconda3/envs/fyp/lib/python3.7/site-packages/sklearn/model_selection/_validation.py:614: FitFailedWarning: Estimator fit failed. The score on this train-test partition for these parameters will be set to nan. Details: \n",
      "Traceback (most recent call last):\n",
      "  File \"/home/aizat/anaconda3/envs/fyp/lib/python3.7/site-packages/sklearn/model_selection/_validation.py\", line 593, in _fit_and_score\n",
      "    estimator.fit(X_train, y_train, **fit_params)\n",
      "  File \"/home/aizat/anaconda3/envs/fyp/lib/python3.7/site-packages/lightgbm/sklearn.py\", line 895, in fit\n",
      "    callbacks=callbacks, init_model=init_model)\n",
      "  File \"/home/aizat/anaconda3/envs/fyp/lib/python3.7/site-packages/lightgbm/sklearn.py\", line 688, in fit\n",
      "    callbacks=callbacks, init_model=init_model)\n",
      "  File \"/home/aizat/anaconda3/envs/fyp/lib/python3.7/site-packages/lightgbm/engine.py\", line 249, in train\n",
      "    booster.update(fobj=fobj)\n",
      "  File \"/home/aizat/anaconda3/envs/fyp/lib/python3.7/site-packages/lightgbm/basic.py\", line 2645, in update\n",
      "    ctypes.byref(is_finished)))\n",
      "  File \"/home/aizat/anaconda3/envs/fyp/lib/python3.7/site-packages/lightgbm/basic.py\", line 110, in _safe_call\n",
      "    raise LightGBMError(_LIB.LGBM_GetLastError().decode('utf-8'))\n",
      "lightgbm.basic.LightGBMError: Check failed: (best_split_info.left_count) > (0) at /home/aizat/LightGBM/src/treelearner/serial_tree_learner.cpp, line 653 .\n",
      "\n",
      "\n",
      "  FitFailedWarning)\n"
     ]
    },
    {
     "name": "stdout",
     "output_type": "stream",
     "text": [
      "[CV 2/3] END bagging_fraction=0.5, boosting_type=goss, feature_fraction=0.8, learning_rate=0.005, num_iterations=500, num_leaves=4096, objective=binary; total time= 3.2min\n"
     ]
    },
    {
     "name": "stderr",
     "output_type": "stream",
     "text": [
      "/home/aizat/anaconda3/envs/fyp/lib/python3.7/site-packages/lightgbm/engine.py:148: UserWarning: Found `num_iterations` in params. Will use it instead of argument\n",
      "  _log_warning(\"Found `{}` in params. Will use it instead of argument\".format(alias))\n",
      "/home/aizat/anaconda3/envs/fyp/lib/python3.7/site-packages/sklearn/model_selection/_validation.py:614: FitFailedWarning: Estimator fit failed. The score on this train-test partition for these parameters will be set to nan. Details: \n",
      "Traceback (most recent call last):\n",
      "  File \"/home/aizat/anaconda3/envs/fyp/lib/python3.7/site-packages/sklearn/model_selection/_validation.py\", line 593, in _fit_and_score\n",
      "    estimator.fit(X_train, y_train, **fit_params)\n",
      "  File \"/home/aizat/anaconda3/envs/fyp/lib/python3.7/site-packages/lightgbm/sklearn.py\", line 895, in fit\n",
      "    callbacks=callbacks, init_model=init_model)\n",
      "  File \"/home/aizat/anaconda3/envs/fyp/lib/python3.7/site-packages/lightgbm/sklearn.py\", line 688, in fit\n",
      "    callbacks=callbacks, init_model=init_model)\n",
      "  File \"/home/aizat/anaconda3/envs/fyp/lib/python3.7/site-packages/lightgbm/engine.py\", line 249, in train\n",
      "    booster.update(fobj=fobj)\n",
      "  File \"/home/aizat/anaconda3/envs/fyp/lib/python3.7/site-packages/lightgbm/basic.py\", line 2645, in update\n",
      "    ctypes.byref(is_finished)))\n",
      "  File \"/home/aizat/anaconda3/envs/fyp/lib/python3.7/site-packages/lightgbm/basic.py\", line 110, in _safe_call\n",
      "    raise LightGBMError(_LIB.LGBM_GetLastError().decode('utf-8'))\n",
      "lightgbm.basic.LightGBMError: Check failed: (best_split_info.left_count) > (0) at /home/aizat/LightGBM/src/treelearner/serial_tree_learner.cpp, line 653 .\n",
      "\n",
      "\n",
      "  FitFailedWarning)\n"
     ]
    },
    {
     "name": "stdout",
     "output_type": "stream",
     "text": [
      "[CV 3/3] END bagging_fraction=0.5, boosting_type=goss, feature_fraction=0.8, learning_rate=0.005, num_iterations=500, num_leaves=4096, objective=binary; total time=  31.2s\n"
     ]
    },
    {
     "name": "stderr",
     "output_type": "stream",
     "text": [
      "/home/aizat/anaconda3/envs/fyp/lib/python3.7/site-packages/lightgbm/engine.py:148: UserWarning: Found `num_iterations` in params. Will use it instead of argument\n",
      "  _log_warning(\"Found `{}` in params. Will use it instead of argument\".format(alias))\n"
     ]
    },
    {
     "name": "stdout",
     "output_type": "stream",
     "text": [
      "[CV 1/3] END bagging_fraction=0.5, boosting_type=goss, feature_fraction=0.8, learning_rate=0.005, num_iterations=1000, num_leaves=512, objective=binary; total time= 6.1min\n"
     ]
    },
    {
     "name": "stderr",
     "output_type": "stream",
     "text": [
      "/home/aizat/anaconda3/envs/fyp/lib/python3.7/site-packages/lightgbm/engine.py:148: UserWarning: Found `num_iterations` in params. Will use it instead of argument\n",
      "  _log_warning(\"Found `{}` in params. Will use it instead of argument\".format(alias))\n"
     ]
    },
    {
     "name": "stdout",
     "output_type": "stream",
     "text": [
      "[LightGBM] [Warning] feature_fraction is set=0.8, colsample_bytree=1.0 will be ignored. Current value: feature_fraction=0.8\n",
      "[LightGBM] [Warning] bagging_fraction is set=0.5, subsample=1.0 will be ignored. Current value: bagging_fraction=0.5\n",
      "[CV 2/3] END bagging_fraction=0.5, boosting_type=goss, feature_fraction=0.8, learning_rate=0.005, num_iterations=1000, num_leaves=512, objective=binary; total time= 7.6min\n"
     ]
    },
    {
     "name": "stderr",
     "output_type": "stream",
     "text": [
      "/home/aizat/anaconda3/envs/fyp/lib/python3.7/site-packages/lightgbm/engine.py:148: UserWarning: Found `num_iterations` in params. Will use it instead of argument\n",
      "  _log_warning(\"Found `{}` in params. Will use it instead of argument\".format(alias))\n"
     ]
    },
    {
     "name": "stdout",
     "output_type": "stream",
     "text": [
      "[LightGBM] [Warning] feature_fraction is set=0.8, colsample_bytree=1.0 will be ignored. Current value: feature_fraction=0.8\n",
      "[LightGBM] [Warning] bagging_fraction is set=0.5, subsample=1.0 will be ignored. Current value: bagging_fraction=0.5\n"
     ]
    },
    {
     "name": "stderr",
     "output_type": "stream",
     "text": [
      "/home/aizat/anaconda3/envs/fyp/lib/python3.7/site-packages/sklearn/model_selection/_validation.py:614: FitFailedWarning: Estimator fit failed. The score on this train-test partition for these parameters will be set to nan. Details: \n",
      "Traceback (most recent call last):\n",
      "  File \"/home/aizat/anaconda3/envs/fyp/lib/python3.7/site-packages/sklearn/model_selection/_validation.py\", line 593, in _fit_and_score\n",
      "    estimator.fit(X_train, y_train, **fit_params)\n",
      "  File \"/home/aizat/anaconda3/envs/fyp/lib/python3.7/site-packages/lightgbm/sklearn.py\", line 895, in fit\n",
      "    callbacks=callbacks, init_model=init_model)\n",
      "  File \"/home/aizat/anaconda3/envs/fyp/lib/python3.7/site-packages/lightgbm/sklearn.py\", line 688, in fit\n",
      "    callbacks=callbacks, init_model=init_model)\n",
      "  File \"/home/aizat/anaconda3/envs/fyp/lib/python3.7/site-packages/lightgbm/engine.py\", line 249, in train\n",
      "    booster.update(fobj=fobj)\n",
      "  File \"/home/aizat/anaconda3/envs/fyp/lib/python3.7/site-packages/lightgbm/basic.py\", line 2645, in update\n",
      "    ctypes.byref(is_finished)))\n",
      "  File \"/home/aizat/anaconda3/envs/fyp/lib/python3.7/site-packages/lightgbm/basic.py\", line 110, in _safe_call\n",
      "    raise LightGBMError(_LIB.LGBM_GetLastError().decode('utf-8'))\n",
      "lightgbm.basic.LightGBMError: Check failed: (best_split_info.left_count) > (0) at /home/aizat/LightGBM/src/treelearner/serial_tree_learner.cpp, line 653 .\n",
      "\n",
      "\n",
      "  FitFailedWarning)\n"
     ]
    },
    {
     "name": "stdout",
     "output_type": "stream",
     "text": [
      "[CV 3/3] END bagging_fraction=0.5, boosting_type=goss, feature_fraction=0.8, learning_rate=0.005, num_iterations=1000, num_leaves=512, objective=binary; total time=  57.4s\n"
     ]
    },
    {
     "name": "stderr",
     "output_type": "stream",
     "text": [
      "/home/aizat/anaconda3/envs/fyp/lib/python3.7/site-packages/lightgbm/engine.py:148: UserWarning: Found `num_iterations` in params. Will use it instead of argument\n",
      "  _log_warning(\"Found `{}` in params. Will use it instead of argument\".format(alias))\n"
     ]
    },
    {
     "name": "stdout",
     "output_type": "stream",
     "text": [
      "[CV 1/3] END bagging_fraction=0.5, boosting_type=goss, feature_fraction=0.8, learning_rate=0.005, num_iterations=1000, num_leaves=1024, objective=binary; total time= 9.6min\n"
     ]
    },
    {
     "name": "stderr",
     "output_type": "stream",
     "text": [
      "/home/aizat/anaconda3/envs/fyp/lib/python3.7/site-packages/lightgbm/engine.py:148: UserWarning: Found `num_iterations` in params. Will use it instead of argument\n",
      "  _log_warning(\"Found `{}` in params. Will use it instead of argument\".format(alias))\n"
     ]
    },
    {
     "name": "stdout",
     "output_type": "stream",
     "text": [
      "[LightGBM] [Warning] feature_fraction is set=0.8, colsample_bytree=1.0 will be ignored. Current value: feature_fraction=0.8\n",
      "[LightGBM] [Warning] bagging_fraction is set=0.5, subsample=1.0 will be ignored. Current value: bagging_fraction=0.5\n"
     ]
    },
    {
     "name": "stderr",
     "output_type": "stream",
     "text": [
      "/home/aizat/anaconda3/envs/fyp/lib/python3.7/site-packages/sklearn/model_selection/_validation.py:614: FitFailedWarning: Estimator fit failed. The score on this train-test partition for these parameters will be set to nan. Details: \n",
      "Traceback (most recent call last):\n",
      "  File \"/home/aizat/anaconda3/envs/fyp/lib/python3.7/site-packages/sklearn/model_selection/_validation.py\", line 593, in _fit_and_score\n",
      "    estimator.fit(X_train, y_train, **fit_params)\n",
      "  File \"/home/aizat/anaconda3/envs/fyp/lib/python3.7/site-packages/lightgbm/sklearn.py\", line 895, in fit\n",
      "    callbacks=callbacks, init_model=init_model)\n",
      "  File \"/home/aizat/anaconda3/envs/fyp/lib/python3.7/site-packages/lightgbm/sklearn.py\", line 688, in fit\n",
      "    callbacks=callbacks, init_model=init_model)\n",
      "  File \"/home/aizat/anaconda3/envs/fyp/lib/python3.7/site-packages/lightgbm/engine.py\", line 249, in train\n",
      "    booster.update(fobj=fobj)\n",
      "  File \"/home/aizat/anaconda3/envs/fyp/lib/python3.7/site-packages/lightgbm/basic.py\", line 2645, in update\n",
      "    ctypes.byref(is_finished)))\n",
      "  File \"/home/aizat/anaconda3/envs/fyp/lib/python3.7/site-packages/lightgbm/basic.py\", line 110, in _safe_call\n",
      "    raise LightGBMError(_LIB.LGBM_GetLastError().decode('utf-8'))\n",
      "lightgbm.basic.LightGBMError: Check failed: (best_split_info.left_count) > (0) at /home/aizat/LightGBM/src/treelearner/serial_tree_learner.cpp, line 653 .\n",
      "\n",
      "\n",
      "  FitFailedWarning)\n"
     ]
    },
    {
     "name": "stdout",
     "output_type": "stream",
     "text": [
      "[CV 2/3] END bagging_fraction=0.5, boosting_type=goss, feature_fraction=0.8, learning_rate=0.005, num_iterations=1000, num_leaves=1024, objective=binary; total time= 1.5min\n"
     ]
    },
    {
     "name": "stderr",
     "output_type": "stream",
     "text": [
      "/home/aizat/anaconda3/envs/fyp/lib/python3.7/site-packages/lightgbm/engine.py:148: UserWarning: Found `num_iterations` in params. Will use it instead of argument\n",
      "  _log_warning(\"Found `{}` in params. Will use it instead of argument\".format(alias))\n",
      "/home/aizat/anaconda3/envs/fyp/lib/python3.7/site-packages/sklearn/model_selection/_validation.py:614: FitFailedWarning: Estimator fit failed. The score on this train-test partition for these parameters will be set to nan. Details: \n",
      "Traceback (most recent call last):\n",
      "  File \"/home/aizat/anaconda3/envs/fyp/lib/python3.7/site-packages/sklearn/model_selection/_validation.py\", line 593, in _fit_and_score\n",
      "    estimator.fit(X_train, y_train, **fit_params)\n",
      "  File \"/home/aizat/anaconda3/envs/fyp/lib/python3.7/site-packages/lightgbm/sklearn.py\", line 895, in fit\n",
      "    callbacks=callbacks, init_model=init_model)\n",
      "  File \"/home/aizat/anaconda3/envs/fyp/lib/python3.7/site-packages/lightgbm/sklearn.py\", line 688, in fit\n",
      "    callbacks=callbacks, init_model=init_model)\n",
      "  File \"/home/aizat/anaconda3/envs/fyp/lib/python3.7/site-packages/lightgbm/engine.py\", line 249, in train\n",
      "    booster.update(fobj=fobj)\n",
      "  File \"/home/aizat/anaconda3/envs/fyp/lib/python3.7/site-packages/lightgbm/basic.py\", line 2645, in update\n",
      "    ctypes.byref(is_finished)))\n",
      "  File \"/home/aizat/anaconda3/envs/fyp/lib/python3.7/site-packages/lightgbm/basic.py\", line 110, in _safe_call\n",
      "    raise LightGBMError(_LIB.LGBM_GetLastError().decode('utf-8'))\n",
      "lightgbm.basic.LightGBMError: Check failed: (best_split_info.left_count) > (0) at /home/aizat/LightGBM/src/treelearner/serial_tree_learner.cpp, line 653 .\n",
      "\n",
      "\n",
      "  FitFailedWarning)\n"
     ]
    },
    {
     "name": "stdout",
     "output_type": "stream",
     "text": [
      "[CV 3/3] END bagging_fraction=0.5, boosting_type=goss, feature_fraction=0.8, learning_rate=0.005, num_iterations=1000, num_leaves=1024, objective=binary; total time=  31.9s\n"
     ]
    },
    {
     "name": "stderr",
     "output_type": "stream",
     "text": [
      "/home/aizat/anaconda3/envs/fyp/lib/python3.7/site-packages/lightgbm/engine.py:148: UserWarning: Found `num_iterations` in params. Will use it instead of argument\n",
      "  _log_warning(\"Found `{}` in params. Will use it instead of argument\".format(alias))\n",
      "/home/aizat/anaconda3/envs/fyp/lib/python3.7/site-packages/sklearn/model_selection/_validation.py:614: FitFailedWarning: Estimator fit failed. The score on this train-test partition for these parameters will be set to nan. Details: \n",
      "Traceback (most recent call last):\n",
      "  File \"/home/aizat/anaconda3/envs/fyp/lib/python3.7/site-packages/sklearn/model_selection/_validation.py\", line 593, in _fit_and_score\n",
      "    estimator.fit(X_train, y_train, **fit_params)\n",
      "  File \"/home/aizat/anaconda3/envs/fyp/lib/python3.7/site-packages/lightgbm/sklearn.py\", line 895, in fit\n",
      "    callbacks=callbacks, init_model=init_model)\n",
      "  File \"/home/aizat/anaconda3/envs/fyp/lib/python3.7/site-packages/lightgbm/sklearn.py\", line 688, in fit\n",
      "    callbacks=callbacks, init_model=init_model)\n",
      "  File \"/home/aizat/anaconda3/envs/fyp/lib/python3.7/site-packages/lightgbm/engine.py\", line 249, in train\n",
      "    booster.update(fobj=fobj)\n",
      "  File \"/home/aizat/anaconda3/envs/fyp/lib/python3.7/site-packages/lightgbm/basic.py\", line 2645, in update\n",
      "    ctypes.byref(is_finished)))\n",
      "  File \"/home/aizat/anaconda3/envs/fyp/lib/python3.7/site-packages/lightgbm/basic.py\", line 110, in _safe_call\n",
      "    raise LightGBMError(_LIB.LGBM_GetLastError().decode('utf-8'))\n",
      "lightgbm.basic.LightGBMError: Check failed: (best_split_info.left_count) > (0) at /home/aizat/LightGBM/src/treelearner/serial_tree_learner.cpp, line 653 .\n",
      "\n",
      "\n",
      "  FitFailedWarning)\n"
     ]
    },
    {
     "name": "stdout",
     "output_type": "stream",
     "text": [
      "[CV 1/3] END bagging_fraction=0.5, boosting_type=goss, feature_fraction=0.8, learning_rate=0.005, num_iterations=1000, num_leaves=2048, objective=binary; total time= 1.6min\n"
     ]
    },
    {
     "name": "stderr",
     "output_type": "stream",
     "text": [
      "/home/aizat/anaconda3/envs/fyp/lib/python3.7/site-packages/lightgbm/engine.py:148: UserWarning: Found `num_iterations` in params. Will use it instead of argument\n",
      "  _log_warning(\"Found `{}` in params. Will use it instead of argument\".format(alias))\n",
      "/home/aizat/anaconda3/envs/fyp/lib/python3.7/site-packages/sklearn/model_selection/_validation.py:614: FitFailedWarning: Estimator fit failed. The score on this train-test partition for these parameters will be set to nan. Details: \n",
      "Traceback (most recent call last):\n",
      "  File \"/home/aizat/anaconda3/envs/fyp/lib/python3.7/site-packages/sklearn/model_selection/_validation.py\", line 593, in _fit_and_score\n",
      "    estimator.fit(X_train, y_train, **fit_params)\n",
      "  File \"/home/aizat/anaconda3/envs/fyp/lib/python3.7/site-packages/lightgbm/sklearn.py\", line 895, in fit\n",
      "    callbacks=callbacks, init_model=init_model)\n",
      "  File \"/home/aizat/anaconda3/envs/fyp/lib/python3.7/site-packages/lightgbm/sklearn.py\", line 688, in fit\n",
      "    callbacks=callbacks, init_model=init_model)\n",
      "  File \"/home/aizat/anaconda3/envs/fyp/lib/python3.7/site-packages/lightgbm/engine.py\", line 249, in train\n",
      "    booster.update(fobj=fobj)\n",
      "  File \"/home/aizat/anaconda3/envs/fyp/lib/python3.7/site-packages/lightgbm/basic.py\", line 2645, in update\n",
      "    ctypes.byref(is_finished)))\n",
      "  File \"/home/aizat/anaconda3/envs/fyp/lib/python3.7/site-packages/lightgbm/basic.py\", line 110, in _safe_call\n",
      "    raise LightGBMError(_LIB.LGBM_GetLastError().decode('utf-8'))\n",
      "lightgbm.basic.LightGBMError: Check failed: (best_split_info.left_count) > (0) at /home/aizat/LightGBM/src/treelearner/serial_tree_learner.cpp, line 653 .\n",
      "\n",
      "\n",
      "  FitFailedWarning)\n"
     ]
    },
    {
     "name": "stdout",
     "output_type": "stream",
     "text": [
      "[CV 2/3] END bagging_fraction=0.5, boosting_type=goss, feature_fraction=0.8, learning_rate=0.005, num_iterations=1000, num_leaves=2048, objective=binary; total time= 1.7min\n"
     ]
    },
    {
     "name": "stderr",
     "output_type": "stream",
     "text": [
      "/home/aizat/anaconda3/envs/fyp/lib/python3.7/site-packages/lightgbm/engine.py:148: UserWarning: Found `num_iterations` in params. Will use it instead of argument\n",
      "  _log_warning(\"Found `{}` in params. Will use it instead of argument\".format(alias))\n",
      "/home/aizat/anaconda3/envs/fyp/lib/python3.7/site-packages/sklearn/model_selection/_validation.py:614: FitFailedWarning: Estimator fit failed. The score on this train-test partition for these parameters will be set to nan. Details: \n",
      "Traceback (most recent call last):\n",
      "  File \"/home/aizat/anaconda3/envs/fyp/lib/python3.7/site-packages/sklearn/model_selection/_validation.py\", line 593, in _fit_and_score\n",
      "    estimator.fit(X_train, y_train, **fit_params)\n",
      "  File \"/home/aizat/anaconda3/envs/fyp/lib/python3.7/site-packages/lightgbm/sklearn.py\", line 895, in fit\n",
      "    callbacks=callbacks, init_model=init_model)\n",
      "  File \"/home/aizat/anaconda3/envs/fyp/lib/python3.7/site-packages/lightgbm/sklearn.py\", line 688, in fit\n",
      "    callbacks=callbacks, init_model=init_model)\n",
      "  File \"/home/aizat/anaconda3/envs/fyp/lib/python3.7/site-packages/lightgbm/engine.py\", line 249, in train\n",
      "    booster.update(fobj=fobj)\n",
      "  File \"/home/aizat/anaconda3/envs/fyp/lib/python3.7/site-packages/lightgbm/basic.py\", line 2645, in update\n",
      "    ctypes.byref(is_finished)))\n",
      "  File \"/home/aizat/anaconda3/envs/fyp/lib/python3.7/site-packages/lightgbm/basic.py\", line 110, in _safe_call\n",
      "    raise LightGBMError(_LIB.LGBM_GetLastError().decode('utf-8'))\n",
      "lightgbm.basic.LightGBMError: Check failed: (best_split_info.left_count) > (0) at /home/aizat/LightGBM/src/treelearner/serial_tree_learner.cpp, line 653 .\n",
      "\n",
      "\n",
      "  FitFailedWarning)\n"
     ]
    },
    {
     "name": "stdout",
     "output_type": "stream",
     "text": [
      "[CV 3/3] END bagging_fraction=0.5, boosting_type=goss, feature_fraction=0.8, learning_rate=0.005, num_iterations=1000, num_leaves=2048, objective=binary; total time=  32.1s\n"
     ]
    },
    {
     "name": "stderr",
     "output_type": "stream",
     "text": [
      "/home/aizat/anaconda3/envs/fyp/lib/python3.7/site-packages/lightgbm/engine.py:148: UserWarning: Found `num_iterations` in params. Will use it instead of argument\n",
      "  _log_warning(\"Found `{}` in params. Will use it instead of argument\".format(alias))\n",
      "/home/aizat/anaconda3/envs/fyp/lib/python3.7/site-packages/sklearn/model_selection/_validation.py:614: FitFailedWarning: Estimator fit failed. The score on this train-test partition for these parameters will be set to nan. Details: \n",
      "Traceback (most recent call last):\n",
      "  File \"/home/aizat/anaconda3/envs/fyp/lib/python3.7/site-packages/sklearn/model_selection/_validation.py\", line 593, in _fit_and_score\n",
      "    estimator.fit(X_train, y_train, **fit_params)\n",
      "  File \"/home/aizat/anaconda3/envs/fyp/lib/python3.7/site-packages/lightgbm/sklearn.py\", line 895, in fit\n",
      "    callbacks=callbacks, init_model=init_model)\n",
      "  File \"/home/aizat/anaconda3/envs/fyp/lib/python3.7/site-packages/lightgbm/sklearn.py\", line 688, in fit\n",
      "    callbacks=callbacks, init_model=init_model)\n",
      "  File \"/home/aizat/anaconda3/envs/fyp/lib/python3.7/site-packages/lightgbm/engine.py\", line 249, in train\n",
      "    booster.update(fobj=fobj)\n",
      "  File \"/home/aizat/anaconda3/envs/fyp/lib/python3.7/site-packages/lightgbm/basic.py\", line 2645, in update\n",
      "    ctypes.byref(is_finished)))\n",
      "  File \"/home/aizat/anaconda3/envs/fyp/lib/python3.7/site-packages/lightgbm/basic.py\", line 110, in _safe_call\n",
      "    raise LightGBMError(_LIB.LGBM_GetLastError().decode('utf-8'))\n",
      "lightgbm.basic.LightGBMError: Check failed: (best_split_info.left_count) > (0) at /home/aizat/LightGBM/src/treelearner/serial_tree_learner.cpp, line 653 .\n",
      "\n",
      "\n",
      "  FitFailedWarning)\n"
     ]
    },
    {
     "name": "stdout",
     "output_type": "stream",
     "text": [
      "[CV 1/3] END bagging_fraction=0.5, boosting_type=goss, feature_fraction=0.8, learning_rate=0.005, num_iterations=1000, num_leaves=4096, objective=binary; total time= 3.3min\n"
     ]
    },
    {
     "name": "stderr",
     "output_type": "stream",
     "text": [
      "/home/aizat/anaconda3/envs/fyp/lib/python3.7/site-packages/lightgbm/engine.py:148: UserWarning: Found `num_iterations` in params. Will use it instead of argument\n",
      "  _log_warning(\"Found `{}` in params. Will use it instead of argument\".format(alias))\n",
      "/home/aizat/anaconda3/envs/fyp/lib/python3.7/site-packages/sklearn/model_selection/_validation.py:614: FitFailedWarning: Estimator fit failed. The score on this train-test partition for these parameters will be set to nan. Details: \n",
      "Traceback (most recent call last):\n",
      "  File \"/home/aizat/anaconda3/envs/fyp/lib/python3.7/site-packages/sklearn/model_selection/_validation.py\", line 593, in _fit_and_score\n",
      "    estimator.fit(X_train, y_train, **fit_params)\n",
      "  File \"/home/aizat/anaconda3/envs/fyp/lib/python3.7/site-packages/lightgbm/sklearn.py\", line 895, in fit\n",
      "    callbacks=callbacks, init_model=init_model)\n",
      "  File \"/home/aizat/anaconda3/envs/fyp/lib/python3.7/site-packages/lightgbm/sklearn.py\", line 688, in fit\n",
      "    callbacks=callbacks, init_model=init_model)\n",
      "  File \"/home/aizat/anaconda3/envs/fyp/lib/python3.7/site-packages/lightgbm/engine.py\", line 249, in train\n",
      "    booster.update(fobj=fobj)\n",
      "  File \"/home/aizat/anaconda3/envs/fyp/lib/python3.7/site-packages/lightgbm/basic.py\", line 2645, in update\n",
      "    ctypes.byref(is_finished)))\n",
      "  File \"/home/aizat/anaconda3/envs/fyp/lib/python3.7/site-packages/lightgbm/basic.py\", line 110, in _safe_call\n",
      "    raise LightGBMError(_LIB.LGBM_GetLastError().decode('utf-8'))\n",
      "lightgbm.basic.LightGBMError: Check failed: (best_split_info.left_count) > (0) at /home/aizat/LightGBM/src/treelearner/serial_tree_learner.cpp, line 653 .\n",
      "\n",
      "\n",
      "  FitFailedWarning)\n"
     ]
    },
    {
     "name": "stdout",
     "output_type": "stream",
     "text": [
      "[CV 2/3] END bagging_fraction=0.5, boosting_type=goss, feature_fraction=0.8, learning_rate=0.005, num_iterations=1000, num_leaves=4096, objective=binary; total time=  26.1s\n"
     ]
    },
    {
     "name": "stderr",
     "output_type": "stream",
     "text": [
      "/home/aizat/anaconda3/envs/fyp/lib/python3.7/site-packages/lightgbm/engine.py:148: UserWarning: Found `num_iterations` in params. Will use it instead of argument\n",
      "  _log_warning(\"Found `{}` in params. Will use it instead of argument\".format(alias))\n",
      "/home/aizat/anaconda3/envs/fyp/lib/python3.7/site-packages/sklearn/model_selection/_validation.py:614: FitFailedWarning: Estimator fit failed. The score on this train-test partition for these parameters will be set to nan. Details: \n",
      "Traceback (most recent call last):\n",
      "  File \"/home/aizat/anaconda3/envs/fyp/lib/python3.7/site-packages/sklearn/model_selection/_validation.py\", line 593, in _fit_and_score\n",
      "    estimator.fit(X_train, y_train, **fit_params)\n",
      "  File \"/home/aizat/anaconda3/envs/fyp/lib/python3.7/site-packages/lightgbm/sklearn.py\", line 895, in fit\n",
      "    callbacks=callbacks, init_model=init_model)\n",
      "  File \"/home/aizat/anaconda3/envs/fyp/lib/python3.7/site-packages/lightgbm/sklearn.py\", line 688, in fit\n",
      "    callbacks=callbacks, init_model=init_model)\n",
      "  File \"/home/aizat/anaconda3/envs/fyp/lib/python3.7/site-packages/lightgbm/engine.py\", line 249, in train\n",
      "    booster.update(fobj=fobj)\n",
      "  File \"/home/aizat/anaconda3/envs/fyp/lib/python3.7/site-packages/lightgbm/basic.py\", line 2645, in update\n",
      "    ctypes.byref(is_finished)))\n",
      "  File \"/home/aizat/anaconda3/envs/fyp/lib/python3.7/site-packages/lightgbm/basic.py\", line 110, in _safe_call\n",
      "    raise LightGBMError(_LIB.LGBM_GetLastError().decode('utf-8'))\n",
      "lightgbm.basic.LightGBMError: Check failed: (best_split_info.left_count) > (0) at /home/aizat/LightGBM/src/treelearner/serial_tree_learner.cpp, line 653 .\n",
      "\n",
      "\n",
      "  FitFailedWarning)\n"
     ]
    },
    {
     "name": "stdout",
     "output_type": "stream",
     "text": [
      "[CV 3/3] END bagging_fraction=0.5, boosting_type=goss, feature_fraction=0.8, learning_rate=0.005, num_iterations=1000, num_leaves=4096, objective=binary; total time=  33.5s\n"
     ]
    },
    {
     "name": "stderr",
     "output_type": "stream",
     "text": [
      "/home/aizat/anaconda3/envs/fyp/lib/python3.7/site-packages/lightgbm/engine.py:148: UserWarning: Found `num_iterations` in params. Will use it instead of argument\n",
      "  _log_warning(\"Found `{}` in params. Will use it instead of argument\".format(alias))\n"
     ]
    },
    {
     "name": "stdout",
     "output_type": "stream",
     "text": [
      "[CV 1/3] END bagging_fraction=0.5, boosting_type=goss, feature_fraction=0.8, learning_rate=0.005, num_iterations=1500, num_leaves=512, objective=binary; total time= 9.2min\n"
     ]
    },
    {
     "name": "stderr",
     "output_type": "stream",
     "text": [
      "/home/aizat/anaconda3/envs/fyp/lib/python3.7/site-packages/lightgbm/engine.py:148: UserWarning: Found `num_iterations` in params. Will use it instead of argument\n",
      "  _log_warning(\"Found `{}` in params. Will use it instead of argument\".format(alias))\n"
     ]
    },
    {
     "name": "stdout",
     "output_type": "stream",
     "text": [
      "[LightGBM] [Warning] feature_fraction is set=0.8, colsample_bytree=1.0 will be ignored. Current value: feature_fraction=0.8\n",
      "[LightGBM] [Warning] bagging_fraction is set=0.5, subsample=1.0 will be ignored. Current value: bagging_fraction=0.5\n"
     ]
    },
    {
     "name": "stderr",
     "output_type": "stream",
     "text": [
      "/home/aizat/anaconda3/envs/fyp/lib/python3.7/site-packages/sklearn/model_selection/_validation.py:614: FitFailedWarning: Estimator fit failed. The score on this train-test partition for these parameters will be set to nan. Details: \n",
      "Traceback (most recent call last):\n",
      "  File \"/home/aizat/anaconda3/envs/fyp/lib/python3.7/site-packages/sklearn/model_selection/_validation.py\", line 593, in _fit_and_score\n",
      "    estimator.fit(X_train, y_train, **fit_params)\n",
      "  File \"/home/aizat/anaconda3/envs/fyp/lib/python3.7/site-packages/lightgbm/sklearn.py\", line 895, in fit\n",
      "    callbacks=callbacks, init_model=init_model)\n",
      "  File \"/home/aizat/anaconda3/envs/fyp/lib/python3.7/site-packages/lightgbm/sklearn.py\", line 688, in fit\n",
      "    callbacks=callbacks, init_model=init_model)\n",
      "  File \"/home/aizat/anaconda3/envs/fyp/lib/python3.7/site-packages/lightgbm/engine.py\", line 249, in train\n",
      "    booster.update(fobj=fobj)\n",
      "  File \"/home/aizat/anaconda3/envs/fyp/lib/python3.7/site-packages/lightgbm/basic.py\", line 2645, in update\n",
      "    ctypes.byref(is_finished)))\n",
      "  File \"/home/aizat/anaconda3/envs/fyp/lib/python3.7/site-packages/lightgbm/basic.py\", line 110, in _safe_call\n",
      "    raise LightGBMError(_LIB.LGBM_GetLastError().decode('utf-8'))\n",
      "lightgbm.basic.LightGBMError: Check failed: (best_split_info.left_count) > (0) at /home/aizat/LightGBM/src/treelearner/serial_tree_learner.cpp, line 653 .\n",
      "\n",
      "\n",
      "  FitFailedWarning)\n"
     ]
    },
    {
     "name": "stdout",
     "output_type": "stream",
     "text": [
      "[CV 2/3] END bagging_fraction=0.5, boosting_type=goss, feature_fraction=0.8, learning_rate=0.005, num_iterations=1500, num_leaves=512, objective=binary; total time=  55.9s\n"
     ]
    },
    {
     "name": "stderr",
     "output_type": "stream",
     "text": [
      "/home/aizat/anaconda3/envs/fyp/lib/python3.7/site-packages/lightgbm/engine.py:148: UserWarning: Found `num_iterations` in params. Will use it instead of argument\n",
      "  _log_warning(\"Found `{}` in params. Will use it instead of argument\".format(alias))\n",
      "/home/aizat/anaconda3/envs/fyp/lib/python3.7/site-packages/sklearn/model_selection/_validation.py:614: FitFailedWarning: Estimator fit failed. The score on this train-test partition for these parameters will be set to nan. Details: \n",
      "Traceback (most recent call last):\n",
      "  File \"/home/aizat/anaconda3/envs/fyp/lib/python3.7/site-packages/sklearn/model_selection/_validation.py\", line 593, in _fit_and_score\n",
      "    estimator.fit(X_train, y_train, **fit_params)\n",
      "  File \"/home/aizat/anaconda3/envs/fyp/lib/python3.7/site-packages/lightgbm/sklearn.py\", line 895, in fit\n",
      "    callbacks=callbacks, init_model=init_model)\n",
      "  File \"/home/aizat/anaconda3/envs/fyp/lib/python3.7/site-packages/lightgbm/sklearn.py\", line 688, in fit\n",
      "    callbacks=callbacks, init_model=init_model)\n",
      "  File \"/home/aizat/anaconda3/envs/fyp/lib/python3.7/site-packages/lightgbm/engine.py\", line 249, in train\n",
      "    booster.update(fobj=fobj)\n",
      "  File \"/home/aizat/anaconda3/envs/fyp/lib/python3.7/site-packages/lightgbm/basic.py\", line 2645, in update\n",
      "    ctypes.byref(is_finished)))\n",
      "  File \"/home/aizat/anaconda3/envs/fyp/lib/python3.7/site-packages/lightgbm/basic.py\", line 110, in _safe_call\n",
      "    raise LightGBMError(_LIB.LGBM_GetLastError().decode('utf-8'))\n",
      "lightgbm.basic.LightGBMError: Check failed: (best_split_info.left_count) > (0) at /home/aizat/LightGBM/src/treelearner/serial_tree_learner.cpp, line 653 .\n",
      "\n",
      "\n",
      "  FitFailedWarning)\n"
     ]
    },
    {
     "name": "stdout",
     "output_type": "stream",
     "text": [
      "[CV 3/3] END bagging_fraction=0.5, boosting_type=goss, feature_fraction=0.8, learning_rate=0.005, num_iterations=1500, num_leaves=512, objective=binary; total time=  50.1s\n"
     ]
    },
    {
     "name": "stderr",
     "output_type": "stream",
     "text": [
      "/home/aizat/anaconda3/envs/fyp/lib/python3.7/site-packages/lightgbm/engine.py:148: UserWarning: Found `num_iterations` in params. Will use it instead of argument\n",
      "  _log_warning(\"Found `{}` in params. Will use it instead of argument\".format(alias))\n"
     ]
    },
    {
     "name": "stdout",
     "output_type": "stream",
     "text": [
      "[CV 1/3] END bagging_fraction=0.5, boosting_type=goss, feature_fraction=0.8, learning_rate=0.005, num_iterations=1500, num_leaves=1024, objective=binary; total time=14.4min\n"
     ]
    },
    {
     "name": "stderr",
     "output_type": "stream",
     "text": [
      "/home/aizat/anaconda3/envs/fyp/lib/python3.7/site-packages/lightgbm/engine.py:148: UserWarning: Found `num_iterations` in params. Will use it instead of argument\n",
      "  _log_warning(\"Found `{}` in params. Will use it instead of argument\".format(alias))\n"
     ]
    },
    {
     "name": "stdout",
     "output_type": "stream",
     "text": [
      "[LightGBM] [Warning] feature_fraction is set=0.8, colsample_bytree=1.0 will be ignored. Current value: feature_fraction=0.8\n",
      "[LightGBM] [Warning] bagging_fraction is set=0.5, subsample=1.0 will be ignored. Current value: bagging_fraction=0.5\n"
     ]
    },
    {
     "name": "stderr",
     "output_type": "stream",
     "text": [
      "/home/aizat/anaconda3/envs/fyp/lib/python3.7/site-packages/sklearn/model_selection/_validation.py:614: FitFailedWarning: Estimator fit failed. The score on this train-test partition for these parameters will be set to nan. Details: \n",
      "Traceback (most recent call last):\n",
      "  File \"/home/aizat/anaconda3/envs/fyp/lib/python3.7/site-packages/sklearn/model_selection/_validation.py\", line 593, in _fit_and_score\n",
      "    estimator.fit(X_train, y_train, **fit_params)\n",
      "  File \"/home/aizat/anaconda3/envs/fyp/lib/python3.7/site-packages/lightgbm/sklearn.py\", line 895, in fit\n",
      "    callbacks=callbacks, init_model=init_model)\n",
      "  File \"/home/aizat/anaconda3/envs/fyp/lib/python3.7/site-packages/lightgbm/sklearn.py\", line 688, in fit\n",
      "    callbacks=callbacks, init_model=init_model)\n",
      "  File \"/home/aizat/anaconda3/envs/fyp/lib/python3.7/site-packages/lightgbm/engine.py\", line 249, in train\n",
      "    booster.update(fobj=fobj)\n",
      "  File \"/home/aizat/anaconda3/envs/fyp/lib/python3.7/site-packages/lightgbm/basic.py\", line 2645, in update\n",
      "    ctypes.byref(is_finished)))\n",
      "  File \"/home/aizat/anaconda3/envs/fyp/lib/python3.7/site-packages/lightgbm/basic.py\", line 110, in _safe_call\n",
      "    raise LightGBMError(_LIB.LGBM_GetLastError().decode('utf-8'))\n",
      "lightgbm.basic.LightGBMError: Check failed: (best_split_info.left_count) > (0) at /home/aizat/LightGBM/src/treelearner/serial_tree_learner.cpp, line 653 .\n",
      "\n",
      "\n",
      "  FitFailedWarning)\n"
     ]
    },
    {
     "name": "stdout",
     "output_type": "stream",
     "text": [
      "[CV 2/3] END bagging_fraction=0.5, boosting_type=goss, feature_fraction=0.8, learning_rate=0.005, num_iterations=1500, num_leaves=1024, objective=binary; total time= 2.1min\n"
     ]
    },
    {
     "name": "stderr",
     "output_type": "stream",
     "text": [
      "/home/aizat/anaconda3/envs/fyp/lib/python3.7/site-packages/lightgbm/engine.py:148: UserWarning: Found `num_iterations` in params. Will use it instead of argument\n",
      "  _log_warning(\"Found `{}` in params. Will use it instead of argument\".format(alias))\n",
      "/home/aizat/anaconda3/envs/fyp/lib/python3.7/site-packages/sklearn/model_selection/_validation.py:614: FitFailedWarning: Estimator fit failed. The score on this train-test partition for these parameters will be set to nan. Details: \n",
      "Traceback (most recent call last):\n",
      "  File \"/home/aizat/anaconda3/envs/fyp/lib/python3.7/site-packages/sklearn/model_selection/_validation.py\", line 593, in _fit_and_score\n",
      "    estimator.fit(X_train, y_train, **fit_params)\n",
      "  File \"/home/aizat/anaconda3/envs/fyp/lib/python3.7/site-packages/lightgbm/sklearn.py\", line 895, in fit\n",
      "    callbacks=callbacks, init_model=init_model)\n",
      "  File \"/home/aizat/anaconda3/envs/fyp/lib/python3.7/site-packages/lightgbm/sklearn.py\", line 688, in fit\n",
      "    callbacks=callbacks, init_model=init_model)\n",
      "  File \"/home/aizat/anaconda3/envs/fyp/lib/python3.7/site-packages/lightgbm/engine.py\", line 249, in train\n",
      "    booster.update(fobj=fobj)\n",
      "  File \"/home/aizat/anaconda3/envs/fyp/lib/python3.7/site-packages/lightgbm/basic.py\", line 2645, in update\n",
      "    ctypes.byref(is_finished)))\n",
      "  File \"/home/aizat/anaconda3/envs/fyp/lib/python3.7/site-packages/lightgbm/basic.py\", line 110, in _safe_call\n",
      "    raise LightGBMError(_LIB.LGBM_GetLastError().decode('utf-8'))\n",
      "lightgbm.basic.LightGBMError: Check failed: (best_split_info.left_count) > (0) at /home/aizat/LightGBM/src/treelearner/serial_tree_learner.cpp, line 653 .\n",
      "\n",
      "\n",
      "  FitFailedWarning)\n"
     ]
    },
    {
     "name": "stdout",
     "output_type": "stream",
     "text": [
      "[CV 3/3] END bagging_fraction=0.5, boosting_type=goss, feature_fraction=0.8, learning_rate=0.005, num_iterations=1500, num_leaves=1024, objective=binary; total time=  31.5s\n"
     ]
    },
    {
     "name": "stderr",
     "output_type": "stream",
     "text": [
      "/home/aizat/anaconda3/envs/fyp/lib/python3.7/site-packages/lightgbm/engine.py:148: UserWarning: Found `num_iterations` in params. Will use it instead of argument\n",
      "  _log_warning(\"Found `{}` in params. Will use it instead of argument\".format(alias))\n",
      "/home/aizat/anaconda3/envs/fyp/lib/python3.7/site-packages/sklearn/model_selection/_validation.py:614: FitFailedWarning: Estimator fit failed. The score on this train-test partition for these parameters will be set to nan. Details: \n",
      "Traceback (most recent call last):\n",
      "  File \"/home/aizat/anaconda3/envs/fyp/lib/python3.7/site-packages/sklearn/model_selection/_validation.py\", line 593, in _fit_and_score\n",
      "    estimator.fit(X_train, y_train, **fit_params)\n",
      "  File \"/home/aizat/anaconda3/envs/fyp/lib/python3.7/site-packages/lightgbm/sklearn.py\", line 895, in fit\n",
      "    callbacks=callbacks, init_model=init_model)\n",
      "  File \"/home/aizat/anaconda3/envs/fyp/lib/python3.7/site-packages/lightgbm/sklearn.py\", line 688, in fit\n",
      "    callbacks=callbacks, init_model=init_model)\n",
      "  File \"/home/aizat/anaconda3/envs/fyp/lib/python3.7/site-packages/lightgbm/engine.py\", line 249, in train\n",
      "    booster.update(fobj=fobj)\n",
      "  File \"/home/aizat/anaconda3/envs/fyp/lib/python3.7/site-packages/lightgbm/basic.py\", line 2645, in update\n",
      "    ctypes.byref(is_finished)))\n",
      "  File \"/home/aizat/anaconda3/envs/fyp/lib/python3.7/site-packages/lightgbm/basic.py\", line 110, in _safe_call\n",
      "    raise LightGBMError(_LIB.LGBM_GetLastError().decode('utf-8'))\n",
      "lightgbm.basic.LightGBMError: Check failed: (best_split_info.left_count) > (0) at /home/aizat/LightGBM/src/treelearner/serial_tree_learner.cpp, line 653 .\n",
      "\n",
      "\n",
      "  FitFailedWarning)\n"
     ]
    },
    {
     "name": "stdout",
     "output_type": "stream",
     "text": [
      "[CV 1/3] END bagging_fraction=0.5, boosting_type=goss, feature_fraction=0.8, learning_rate=0.005, num_iterations=1500, num_leaves=2048, objective=binary; total time= 1.6min\n"
     ]
    },
    {
     "name": "stderr",
     "output_type": "stream",
     "text": [
      "/home/aizat/anaconda3/envs/fyp/lib/python3.7/site-packages/lightgbm/engine.py:148: UserWarning: Found `num_iterations` in params. Will use it instead of argument\n",
      "  _log_warning(\"Found `{}` in params. Will use it instead of argument\".format(alias))\n",
      "/home/aizat/anaconda3/envs/fyp/lib/python3.7/site-packages/sklearn/model_selection/_validation.py:614: FitFailedWarning: Estimator fit failed. The score on this train-test partition for these parameters will be set to nan. Details: \n",
      "Traceback (most recent call last):\n",
      "  File \"/home/aizat/anaconda3/envs/fyp/lib/python3.7/site-packages/sklearn/model_selection/_validation.py\", line 593, in _fit_and_score\n",
      "    estimator.fit(X_train, y_train, **fit_params)\n",
      "  File \"/home/aizat/anaconda3/envs/fyp/lib/python3.7/site-packages/lightgbm/sklearn.py\", line 895, in fit\n",
      "    callbacks=callbacks, init_model=init_model)\n",
      "  File \"/home/aizat/anaconda3/envs/fyp/lib/python3.7/site-packages/lightgbm/sklearn.py\", line 688, in fit\n",
      "    callbacks=callbacks, init_model=init_model)\n",
      "  File \"/home/aizat/anaconda3/envs/fyp/lib/python3.7/site-packages/lightgbm/engine.py\", line 249, in train\n",
      "    booster.update(fobj=fobj)\n",
      "  File \"/home/aizat/anaconda3/envs/fyp/lib/python3.7/site-packages/lightgbm/basic.py\", line 2645, in update\n",
      "    ctypes.byref(is_finished)))\n",
      "  File \"/home/aizat/anaconda3/envs/fyp/lib/python3.7/site-packages/lightgbm/basic.py\", line 110, in _safe_call\n",
      "    raise LightGBMError(_LIB.LGBM_GetLastError().decode('utf-8'))\n",
      "lightgbm.basic.LightGBMError: Check failed: (best_split_info.left_count) > (0) at /home/aizat/LightGBM/src/treelearner/serial_tree_learner.cpp, line 653 .\n",
      "\n",
      "\n",
      "  FitFailedWarning)\n"
     ]
    },
    {
     "name": "stdout",
     "output_type": "stream",
     "text": [
      "[CV 2/3] END bagging_fraction=0.5, boosting_type=goss, feature_fraction=0.8, learning_rate=0.005, num_iterations=1500, num_leaves=2048, objective=binary; total time= 1.7min\n"
     ]
    },
    {
     "name": "stderr",
     "output_type": "stream",
     "text": [
      "/home/aizat/anaconda3/envs/fyp/lib/python3.7/site-packages/lightgbm/engine.py:148: UserWarning: Found `num_iterations` in params. Will use it instead of argument\n",
      "  _log_warning(\"Found `{}` in params. Will use it instead of argument\".format(alias))\n",
      "/home/aizat/anaconda3/envs/fyp/lib/python3.7/site-packages/sklearn/model_selection/_validation.py:614: FitFailedWarning: Estimator fit failed. The score on this train-test partition for these parameters will be set to nan. Details: \n",
      "Traceback (most recent call last):\n",
      "  File \"/home/aizat/anaconda3/envs/fyp/lib/python3.7/site-packages/sklearn/model_selection/_validation.py\", line 593, in _fit_and_score\n",
      "    estimator.fit(X_train, y_train, **fit_params)\n",
      "  File \"/home/aizat/anaconda3/envs/fyp/lib/python3.7/site-packages/lightgbm/sklearn.py\", line 895, in fit\n",
      "    callbacks=callbacks, init_model=init_model)\n",
      "  File \"/home/aizat/anaconda3/envs/fyp/lib/python3.7/site-packages/lightgbm/sklearn.py\", line 688, in fit\n",
      "    callbacks=callbacks, init_model=init_model)\n",
      "  File \"/home/aizat/anaconda3/envs/fyp/lib/python3.7/site-packages/lightgbm/engine.py\", line 249, in train\n",
      "    booster.update(fobj=fobj)\n",
      "  File \"/home/aizat/anaconda3/envs/fyp/lib/python3.7/site-packages/lightgbm/basic.py\", line 2645, in update\n",
      "    ctypes.byref(is_finished)))\n",
      "  File \"/home/aizat/anaconda3/envs/fyp/lib/python3.7/site-packages/lightgbm/basic.py\", line 110, in _safe_call\n",
      "    raise LightGBMError(_LIB.LGBM_GetLastError().decode('utf-8'))\n",
      "lightgbm.basic.LightGBMError: Check failed: (best_split_info.left_count) > (0) at /home/aizat/LightGBM/src/treelearner/serial_tree_learner.cpp, line 653 .\n",
      "\n",
      "\n",
      "  FitFailedWarning)\n"
     ]
    },
    {
     "name": "stdout",
     "output_type": "stream",
     "text": [
      "[CV 3/3] END bagging_fraction=0.5, boosting_type=goss, feature_fraction=0.8, learning_rate=0.005, num_iterations=1500, num_leaves=2048, objective=binary; total time=  32.7s\n"
     ]
    },
    {
     "name": "stderr",
     "output_type": "stream",
     "text": [
      "/home/aizat/anaconda3/envs/fyp/lib/python3.7/site-packages/lightgbm/engine.py:148: UserWarning: Found `num_iterations` in params. Will use it instead of argument\n",
      "  _log_warning(\"Found `{}` in params. Will use it instead of argument\".format(alias))\n",
      "/home/aizat/anaconda3/envs/fyp/lib/python3.7/site-packages/sklearn/model_selection/_validation.py:614: FitFailedWarning: Estimator fit failed. The score on this train-test partition for these parameters will be set to nan. Details: \n",
      "Traceback (most recent call last):\n",
      "  File \"/home/aizat/anaconda3/envs/fyp/lib/python3.7/site-packages/sklearn/model_selection/_validation.py\", line 593, in _fit_and_score\n",
      "    estimator.fit(X_train, y_train, **fit_params)\n",
      "  File \"/home/aizat/anaconda3/envs/fyp/lib/python3.7/site-packages/lightgbm/sklearn.py\", line 895, in fit\n",
      "    callbacks=callbacks, init_model=init_model)\n",
      "  File \"/home/aizat/anaconda3/envs/fyp/lib/python3.7/site-packages/lightgbm/sklearn.py\", line 688, in fit\n",
      "    callbacks=callbacks, init_model=init_model)\n",
      "  File \"/home/aizat/anaconda3/envs/fyp/lib/python3.7/site-packages/lightgbm/engine.py\", line 249, in train\n",
      "    booster.update(fobj=fobj)\n",
      "  File \"/home/aizat/anaconda3/envs/fyp/lib/python3.7/site-packages/lightgbm/basic.py\", line 2645, in update\n",
      "    ctypes.byref(is_finished)))\n",
      "  File \"/home/aizat/anaconda3/envs/fyp/lib/python3.7/site-packages/lightgbm/basic.py\", line 110, in _safe_call\n",
      "    raise LightGBMError(_LIB.LGBM_GetLastError().decode('utf-8'))\n",
      "lightgbm.basic.LightGBMError: Check failed: (best_split_info.left_count) > (0) at /home/aizat/LightGBM/src/treelearner/serial_tree_learner.cpp, line 653 .\n",
      "\n",
      "\n",
      "  FitFailedWarning)\n"
     ]
    },
    {
     "name": "stdout",
     "output_type": "stream",
     "text": [
      "[CV 1/3] END bagging_fraction=0.5, boosting_type=goss, feature_fraction=0.8, learning_rate=0.005, num_iterations=1500, num_leaves=4096, objective=binary; total time= 2.7min\n"
     ]
    },
    {
     "name": "stderr",
     "output_type": "stream",
     "text": [
      "/home/aizat/anaconda3/envs/fyp/lib/python3.7/site-packages/lightgbm/engine.py:148: UserWarning: Found `num_iterations` in params. Will use it instead of argument\n",
      "  _log_warning(\"Found `{}` in params. Will use it instead of argument\".format(alias))\n",
      "/home/aizat/anaconda3/envs/fyp/lib/python3.7/site-packages/sklearn/model_selection/_validation.py:614: FitFailedWarning: Estimator fit failed. The score on this train-test partition for these parameters will be set to nan. Details: \n",
      "Traceback (most recent call last):\n",
      "  File \"/home/aizat/anaconda3/envs/fyp/lib/python3.7/site-packages/sklearn/model_selection/_validation.py\", line 593, in _fit_and_score\n",
      "    estimator.fit(X_train, y_train, **fit_params)\n",
      "  File \"/home/aizat/anaconda3/envs/fyp/lib/python3.7/site-packages/lightgbm/sklearn.py\", line 895, in fit\n",
      "    callbacks=callbacks, init_model=init_model)\n",
      "  File \"/home/aizat/anaconda3/envs/fyp/lib/python3.7/site-packages/lightgbm/sklearn.py\", line 688, in fit\n",
      "    callbacks=callbacks, init_model=init_model)\n",
      "  File \"/home/aizat/anaconda3/envs/fyp/lib/python3.7/site-packages/lightgbm/engine.py\", line 249, in train\n",
      "    booster.update(fobj=fobj)\n",
      "  File \"/home/aizat/anaconda3/envs/fyp/lib/python3.7/site-packages/lightgbm/basic.py\", line 2645, in update\n",
      "    ctypes.byref(is_finished)))\n",
      "  File \"/home/aizat/anaconda3/envs/fyp/lib/python3.7/site-packages/lightgbm/basic.py\", line 110, in _safe_call\n",
      "    raise LightGBMError(_LIB.LGBM_GetLastError().decode('utf-8'))\n",
      "lightgbm.basic.LightGBMError: Check failed: (best_split_info.left_count) > (0) at /home/aizat/LightGBM/src/treelearner/serial_tree_learner.cpp, line 653 .\n",
      "\n",
      "\n",
      "  FitFailedWarning)\n"
     ]
    },
    {
     "name": "stdout",
     "output_type": "stream",
     "text": [
      "[CV 2/3] END bagging_fraction=0.5, boosting_type=goss, feature_fraction=0.8, learning_rate=0.005, num_iterations=1500, num_leaves=4096, objective=binary; total time=  32.1s\n"
     ]
    },
    {
     "name": "stderr",
     "output_type": "stream",
     "text": [
      "/home/aizat/anaconda3/envs/fyp/lib/python3.7/site-packages/lightgbm/engine.py:148: UserWarning: Found `num_iterations` in params. Will use it instead of argument\n",
      "  _log_warning(\"Found `{}` in params. Will use it instead of argument\".format(alias))\n",
      "/home/aizat/anaconda3/envs/fyp/lib/python3.7/site-packages/sklearn/model_selection/_validation.py:614: FitFailedWarning: Estimator fit failed. The score on this train-test partition for these parameters will be set to nan. Details: \n",
      "Traceback (most recent call last):\n",
      "  File \"/home/aizat/anaconda3/envs/fyp/lib/python3.7/site-packages/sklearn/model_selection/_validation.py\", line 593, in _fit_and_score\n",
      "    estimator.fit(X_train, y_train, **fit_params)\n",
      "  File \"/home/aizat/anaconda3/envs/fyp/lib/python3.7/site-packages/lightgbm/sklearn.py\", line 895, in fit\n",
      "    callbacks=callbacks, init_model=init_model)\n",
      "  File \"/home/aizat/anaconda3/envs/fyp/lib/python3.7/site-packages/lightgbm/sklearn.py\", line 688, in fit\n",
      "    callbacks=callbacks, init_model=init_model)\n",
      "  File \"/home/aizat/anaconda3/envs/fyp/lib/python3.7/site-packages/lightgbm/engine.py\", line 249, in train\n",
      "    booster.update(fobj=fobj)\n",
      "  File \"/home/aizat/anaconda3/envs/fyp/lib/python3.7/site-packages/lightgbm/basic.py\", line 2645, in update\n",
      "    ctypes.byref(is_finished)))\n",
      "  File \"/home/aizat/anaconda3/envs/fyp/lib/python3.7/site-packages/lightgbm/basic.py\", line 110, in _safe_call\n",
      "    raise LightGBMError(_LIB.LGBM_GetLastError().decode('utf-8'))\n",
      "lightgbm.basic.LightGBMError: Check failed: (best_split_info.left_count) > (0) at /home/aizat/LightGBM/src/treelearner/serial_tree_learner.cpp, line 653 .\n",
      "\n",
      "\n",
      "  FitFailedWarning)\n"
     ]
    },
    {
     "name": "stdout",
     "output_type": "stream",
     "text": [
      "[CV 3/3] END bagging_fraction=0.5, boosting_type=goss, feature_fraction=0.8, learning_rate=0.005, num_iterations=1500, num_leaves=4096, objective=binary; total time=  37.3s\n"
     ]
    },
    {
     "name": "stderr",
     "output_type": "stream",
     "text": [
      "/home/aizat/anaconda3/envs/fyp/lib/python3.7/site-packages/lightgbm/engine.py:148: UserWarning: Found `num_iterations` in params. Will use it instead of argument\n",
      "  _log_warning(\"Found `{}` in params. Will use it instead of argument\".format(alias))\n"
     ]
    },
    {
     "name": "stdout",
     "output_type": "stream",
     "text": [
      "[CV 1/3] END bagging_fraction=0.5, boosting_type=goss, feature_fraction=0.8, learning_rate=0.05, num_iterations=500, num_leaves=512, objective=binary; total time= 3.4min\n"
     ]
    },
    {
     "name": "stderr",
     "output_type": "stream",
     "text": [
      "/home/aizat/anaconda3/envs/fyp/lib/python3.7/site-packages/lightgbm/engine.py:148: UserWarning: Found `num_iterations` in params. Will use it instead of argument\n",
      "  _log_warning(\"Found `{}` in params. Will use it instead of argument\".format(alias))\n"
     ]
    },
    {
     "name": "stdout",
     "output_type": "stream",
     "text": [
      "[LightGBM] [Warning] feature_fraction is set=0.8, colsample_bytree=1.0 will be ignored. Current value: feature_fraction=0.8\n",
      "[LightGBM] [Warning] bagging_fraction is set=0.5, subsample=1.0 will be ignored. Current value: bagging_fraction=0.5\n",
      "[CV 2/3] END bagging_fraction=0.5, boosting_type=goss, feature_fraction=0.8, learning_rate=0.05, num_iterations=500, num_leaves=512, objective=binary; total time= 4.1min\n"
     ]
    },
    {
     "name": "stderr",
     "output_type": "stream",
     "text": [
      "/home/aizat/anaconda3/envs/fyp/lib/python3.7/site-packages/lightgbm/engine.py:148: UserWarning: Found `num_iterations` in params. Will use it instead of argument\n",
      "  _log_warning(\"Found `{}` in params. Will use it instead of argument\".format(alias))\n"
     ]
    },
    {
     "name": "stdout",
     "output_type": "stream",
     "text": [
      "[LightGBM] [Warning] feature_fraction is set=0.8, colsample_bytree=1.0 will be ignored. Current value: feature_fraction=0.8\n",
      "[LightGBM] [Warning] bagging_fraction is set=0.5, subsample=1.0 will be ignored. Current value: bagging_fraction=0.5\n",
      "[CV 3/3] END bagging_fraction=0.5, boosting_type=goss, feature_fraction=0.8, learning_rate=0.05, num_iterations=500, num_leaves=512, objective=binary; total time= 4.6min\n"
     ]
    },
    {
     "name": "stderr",
     "output_type": "stream",
     "text": [
      "/home/aizat/anaconda3/envs/fyp/lib/python3.7/site-packages/lightgbm/engine.py:148: UserWarning: Found `num_iterations` in params. Will use it instead of argument\n",
      "  _log_warning(\"Found `{}` in params. Will use it instead of argument\".format(alias))\n"
     ]
    },
    {
     "name": "stdout",
     "output_type": "stream",
     "text": [
      "[LightGBM] [Warning] feature_fraction is set=0.8, colsample_bytree=1.0 will be ignored. Current value: feature_fraction=0.8\n",
      "[LightGBM] [Warning] bagging_fraction is set=0.5, subsample=1.0 will be ignored. Current value: bagging_fraction=0.5\n",
      "[CV 1/3] END bagging_fraction=0.5, boosting_type=goss, feature_fraction=0.8, learning_rate=0.05, num_iterations=500, num_leaves=1024, objective=binary; total time= 4.5min\n"
     ]
    },
    {
     "name": "stderr",
     "output_type": "stream",
     "text": [
      "/home/aizat/anaconda3/envs/fyp/lib/python3.7/site-packages/lightgbm/engine.py:148: UserWarning: Found `num_iterations` in params. Will use it instead of argument\n",
      "  _log_warning(\"Found `{}` in params. Will use it instead of argument\".format(alias))\n"
     ]
    },
    {
     "name": "stdout",
     "output_type": "stream",
     "text": [
      "[LightGBM] [Warning] feature_fraction is set=0.8, colsample_bytree=1.0 will be ignored. Current value: feature_fraction=0.8\n",
      "[LightGBM] [Warning] bagging_fraction is set=0.5, subsample=1.0 will be ignored. Current value: bagging_fraction=0.5\n"
     ]
    },
    {
     "name": "stderr",
     "output_type": "stream",
     "text": [
      "/home/aizat/anaconda3/envs/fyp/lib/python3.7/site-packages/sklearn/model_selection/_validation.py:614: FitFailedWarning: Estimator fit failed. The score on this train-test partition for these parameters will be set to nan. Details: \n",
      "Traceback (most recent call last):\n",
      "  File \"/home/aizat/anaconda3/envs/fyp/lib/python3.7/site-packages/sklearn/model_selection/_validation.py\", line 593, in _fit_and_score\n",
      "    estimator.fit(X_train, y_train, **fit_params)\n",
      "  File \"/home/aizat/anaconda3/envs/fyp/lib/python3.7/site-packages/lightgbm/sklearn.py\", line 895, in fit\n",
      "    callbacks=callbacks, init_model=init_model)\n",
      "  File \"/home/aizat/anaconda3/envs/fyp/lib/python3.7/site-packages/lightgbm/sklearn.py\", line 688, in fit\n",
      "    callbacks=callbacks, init_model=init_model)\n",
      "  File \"/home/aizat/anaconda3/envs/fyp/lib/python3.7/site-packages/lightgbm/engine.py\", line 249, in train\n",
      "    booster.update(fobj=fobj)\n",
      "  File \"/home/aizat/anaconda3/envs/fyp/lib/python3.7/site-packages/lightgbm/basic.py\", line 2645, in update\n",
      "    ctypes.byref(is_finished)))\n",
      "  File \"/home/aizat/anaconda3/envs/fyp/lib/python3.7/site-packages/lightgbm/basic.py\", line 110, in _safe_call\n",
      "    raise LightGBMError(_LIB.LGBM_GetLastError().decode('utf-8'))\n",
      "lightgbm.basic.LightGBMError: Check failed: (best_split_info.left_count) > (0) at /home/aizat/LightGBM/src/treelearner/serial_tree_learner.cpp, line 653 .\n",
      "\n",
      "\n",
      "  FitFailedWarning)\n"
     ]
    },
    {
     "name": "stdout",
     "output_type": "stream",
     "text": [
      "[CV 2/3] END bagging_fraction=0.5, boosting_type=goss, feature_fraction=0.8, learning_rate=0.05, num_iterations=500, num_leaves=1024, objective=binary; total time=  27.7s\n"
     ]
    },
    {
     "name": "stderr",
     "output_type": "stream",
     "text": [
      "/home/aizat/anaconda3/envs/fyp/lib/python3.7/site-packages/lightgbm/engine.py:148: UserWarning: Found `num_iterations` in params. Will use it instead of argument\n",
      "  _log_warning(\"Found `{}` in params. Will use it instead of argument\".format(alias))\n"
     ]
    },
    {
     "name": "stdout",
     "output_type": "stream",
     "text": [
      "[CV 3/3] END bagging_fraction=0.5, boosting_type=goss, feature_fraction=0.8, learning_rate=0.05, num_iterations=500, num_leaves=1024, objective=binary; total time= 7.2min\n"
     ]
    },
    {
     "name": "stderr",
     "output_type": "stream",
     "text": [
      "/home/aizat/anaconda3/envs/fyp/lib/python3.7/site-packages/lightgbm/engine.py:148: UserWarning: Found `num_iterations` in params. Will use it instead of argument\n",
      "  _log_warning(\"Found `{}` in params. Will use it instead of argument\".format(alias))\n"
     ]
    },
    {
     "name": "stdout",
     "output_type": "stream",
     "text": [
      "[LightGBM] [Warning] feature_fraction is set=0.8, colsample_bytree=1.0 will be ignored. Current value: feature_fraction=0.8\n",
      "[LightGBM] [Warning] bagging_fraction is set=0.5, subsample=1.0 will be ignored. Current value: bagging_fraction=0.5\n"
     ]
    },
    {
     "name": "stderr",
     "output_type": "stream",
     "text": [
      "/home/aizat/anaconda3/envs/fyp/lib/python3.7/site-packages/sklearn/model_selection/_validation.py:614: FitFailedWarning: Estimator fit failed. The score on this train-test partition for these parameters will be set to nan. Details: \n",
      "Traceback (most recent call last):\n",
      "  File \"/home/aizat/anaconda3/envs/fyp/lib/python3.7/site-packages/sklearn/model_selection/_validation.py\", line 593, in _fit_and_score\n",
      "    estimator.fit(X_train, y_train, **fit_params)\n",
      "  File \"/home/aizat/anaconda3/envs/fyp/lib/python3.7/site-packages/lightgbm/sklearn.py\", line 895, in fit\n",
      "    callbacks=callbacks, init_model=init_model)\n",
      "  File \"/home/aizat/anaconda3/envs/fyp/lib/python3.7/site-packages/lightgbm/sklearn.py\", line 688, in fit\n",
      "    callbacks=callbacks, init_model=init_model)\n",
      "  File \"/home/aizat/anaconda3/envs/fyp/lib/python3.7/site-packages/lightgbm/engine.py\", line 249, in train\n",
      "    booster.update(fobj=fobj)\n",
      "  File \"/home/aizat/anaconda3/envs/fyp/lib/python3.7/site-packages/lightgbm/basic.py\", line 2645, in update\n",
      "    ctypes.byref(is_finished)))\n",
      "  File \"/home/aizat/anaconda3/envs/fyp/lib/python3.7/site-packages/lightgbm/basic.py\", line 110, in _safe_call\n",
      "    raise LightGBMError(_LIB.LGBM_GetLastError().decode('utf-8'))\n",
      "lightgbm.basic.LightGBMError: Check failed: (best_split_info.left_count) > (0) at /home/aizat/LightGBM/src/treelearner/serial_tree_learner.cpp, line 653 .\n",
      "\n",
      "\n",
      "  FitFailedWarning)\n"
     ]
    },
    {
     "name": "stdout",
     "output_type": "stream",
     "text": [
      "[CV 1/3] END bagging_fraction=0.5, boosting_type=goss, feature_fraction=0.8, learning_rate=0.05, num_iterations=500, num_leaves=2048, objective=binary; total time=  30.1s\n"
     ]
    },
    {
     "name": "stderr",
     "output_type": "stream",
     "text": [
      "/home/aizat/anaconda3/envs/fyp/lib/python3.7/site-packages/lightgbm/engine.py:148: UserWarning: Found `num_iterations` in params. Will use it instead of argument\n",
      "  _log_warning(\"Found `{}` in params. Will use it instead of argument\".format(alias))\n"
     ]
    },
    {
     "name": "stdout",
     "output_type": "stream",
     "text": [
      "[CV 2/3] END bagging_fraction=0.5, boosting_type=goss, feature_fraction=0.8, learning_rate=0.05, num_iterations=500, num_leaves=2048, objective=binary; total time= 8.9min\n"
     ]
    },
    {
     "name": "stderr",
     "output_type": "stream",
     "text": [
      "/home/aizat/anaconda3/envs/fyp/lib/python3.7/site-packages/lightgbm/engine.py:148: UserWarning: Found `num_iterations` in params. Will use it instead of argument\n",
      "  _log_warning(\"Found `{}` in params. Will use it instead of argument\".format(alias))\n"
     ]
    },
    {
     "name": "stdout",
     "output_type": "stream",
     "text": [
      "[LightGBM] [Warning] feature_fraction is set=0.8, colsample_bytree=1.0 will be ignored. Current value: feature_fraction=0.8\n",
      "[LightGBM] [Warning] bagging_fraction is set=0.5, subsample=1.0 will be ignored. Current value: bagging_fraction=0.5\n"
     ]
    },
    {
     "name": "stderr",
     "output_type": "stream",
     "text": [
      "/home/aizat/anaconda3/envs/fyp/lib/python3.7/site-packages/sklearn/model_selection/_validation.py:614: FitFailedWarning: Estimator fit failed. The score on this train-test partition for these parameters will be set to nan. Details: \n",
      "Traceback (most recent call last):\n",
      "  File \"/home/aizat/anaconda3/envs/fyp/lib/python3.7/site-packages/sklearn/model_selection/_validation.py\", line 593, in _fit_and_score\n",
      "    estimator.fit(X_train, y_train, **fit_params)\n",
      "  File \"/home/aizat/anaconda3/envs/fyp/lib/python3.7/site-packages/lightgbm/sklearn.py\", line 895, in fit\n",
      "    callbacks=callbacks, init_model=init_model)\n",
      "  File \"/home/aizat/anaconda3/envs/fyp/lib/python3.7/site-packages/lightgbm/sklearn.py\", line 688, in fit\n",
      "    callbacks=callbacks, init_model=init_model)\n",
      "  File \"/home/aizat/anaconda3/envs/fyp/lib/python3.7/site-packages/lightgbm/engine.py\", line 249, in train\n",
      "    booster.update(fobj=fobj)\n",
      "  File \"/home/aizat/anaconda3/envs/fyp/lib/python3.7/site-packages/lightgbm/basic.py\", line 2645, in update\n",
      "    ctypes.byref(is_finished)))\n",
      "  File \"/home/aizat/anaconda3/envs/fyp/lib/python3.7/site-packages/lightgbm/basic.py\", line 110, in _safe_call\n",
      "    raise LightGBMError(_LIB.LGBM_GetLastError().decode('utf-8'))\n",
      "lightgbm.basic.LightGBMError: Check failed: (best_split_info.left_count) > (0) at /home/aizat/LightGBM/src/treelearner/serial_tree_learner.cpp, line 653 .\n",
      "\n",
      "\n",
      "  FitFailedWarning)\n"
     ]
    },
    {
     "name": "stdout",
     "output_type": "stream",
     "text": [
      "[CV 3/3] END bagging_fraction=0.5, boosting_type=goss, feature_fraction=0.8, learning_rate=0.05, num_iterations=500, num_leaves=2048, objective=binary; total time=  37.9s\n"
     ]
    },
    {
     "name": "stderr",
     "output_type": "stream",
     "text": [
      "/home/aizat/anaconda3/envs/fyp/lib/python3.7/site-packages/lightgbm/engine.py:148: UserWarning: Found `num_iterations` in params. Will use it instead of argument\n",
      "  _log_warning(\"Found `{}` in params. Will use it instead of argument\".format(alias))\n",
      "/home/aizat/anaconda3/envs/fyp/lib/python3.7/site-packages/sklearn/model_selection/_validation.py:614: FitFailedWarning: Estimator fit failed. The score on this train-test partition for these parameters will be set to nan. Details: \n",
      "Traceback (most recent call last):\n",
      "  File \"/home/aizat/anaconda3/envs/fyp/lib/python3.7/site-packages/sklearn/model_selection/_validation.py\", line 593, in _fit_and_score\n",
      "    estimator.fit(X_train, y_train, **fit_params)\n",
      "  File \"/home/aizat/anaconda3/envs/fyp/lib/python3.7/site-packages/lightgbm/sklearn.py\", line 895, in fit\n",
      "    callbacks=callbacks, init_model=init_model)\n",
      "  File \"/home/aizat/anaconda3/envs/fyp/lib/python3.7/site-packages/lightgbm/sklearn.py\", line 688, in fit\n",
      "    callbacks=callbacks, init_model=init_model)\n",
      "  File \"/home/aizat/anaconda3/envs/fyp/lib/python3.7/site-packages/lightgbm/engine.py\", line 249, in train\n",
      "    booster.update(fobj=fobj)\n",
      "  File \"/home/aizat/anaconda3/envs/fyp/lib/python3.7/site-packages/lightgbm/basic.py\", line 2645, in update\n",
      "    ctypes.byref(is_finished)))\n",
      "  File \"/home/aizat/anaconda3/envs/fyp/lib/python3.7/site-packages/lightgbm/basic.py\", line 110, in _safe_call\n",
      "    raise LightGBMError(_LIB.LGBM_GetLastError().decode('utf-8'))\n",
      "lightgbm.basic.LightGBMError: Check failed: (best_split_info.left_count) > (0) at /home/aizat/LightGBM/src/treelearner/serial_tree_learner.cpp, line 653 .\n",
      "\n",
      "\n",
      "  FitFailedWarning)\n"
     ]
    },
    {
     "name": "stdout",
     "output_type": "stream",
     "text": [
      "[CV 1/3] END bagging_fraction=0.5, boosting_type=goss, feature_fraction=0.8, learning_rate=0.05, num_iterations=500, num_leaves=4096, objective=binary; total time=  50.9s\n"
     ]
    },
    {
     "name": "stderr",
     "output_type": "stream",
     "text": [
      "/home/aizat/anaconda3/envs/fyp/lib/python3.7/site-packages/lightgbm/engine.py:148: UserWarning: Found `num_iterations` in params. Will use it instead of argument\n",
      "  _log_warning(\"Found `{}` in params. Will use it instead of argument\".format(alias))\n",
      "/home/aizat/anaconda3/envs/fyp/lib/python3.7/site-packages/sklearn/model_selection/_validation.py:614: FitFailedWarning: Estimator fit failed. The score on this train-test partition for these parameters will be set to nan. Details: \n",
      "Traceback (most recent call last):\n",
      "  File \"/home/aizat/anaconda3/envs/fyp/lib/python3.7/site-packages/sklearn/model_selection/_validation.py\", line 593, in _fit_and_score\n",
      "    estimator.fit(X_train, y_train, **fit_params)\n",
      "  File \"/home/aizat/anaconda3/envs/fyp/lib/python3.7/site-packages/lightgbm/sklearn.py\", line 895, in fit\n",
      "    callbacks=callbacks, init_model=init_model)\n",
      "  File \"/home/aizat/anaconda3/envs/fyp/lib/python3.7/site-packages/lightgbm/sklearn.py\", line 688, in fit\n",
      "    callbacks=callbacks, init_model=init_model)\n",
      "  File \"/home/aizat/anaconda3/envs/fyp/lib/python3.7/site-packages/lightgbm/engine.py\", line 249, in train\n",
      "    booster.update(fobj=fobj)\n",
      "  File \"/home/aizat/anaconda3/envs/fyp/lib/python3.7/site-packages/lightgbm/basic.py\", line 2645, in update\n",
      "    ctypes.byref(is_finished)))\n",
      "  File \"/home/aizat/anaconda3/envs/fyp/lib/python3.7/site-packages/lightgbm/basic.py\", line 110, in _safe_call\n",
      "    raise LightGBMError(_LIB.LGBM_GetLastError().decode('utf-8'))\n",
      "lightgbm.basic.LightGBMError: Check failed: (best_split_info.left_count) > (0) at /home/aizat/LightGBM/src/treelearner/serial_tree_learner.cpp, line 653 .\n",
      "\n",
      "\n",
      "  FitFailedWarning)\n"
     ]
    },
    {
     "name": "stdout",
     "output_type": "stream",
     "text": [
      "[CV 2/3] END bagging_fraction=0.5, boosting_type=goss, feature_fraction=0.8, learning_rate=0.05, num_iterations=500, num_leaves=4096, objective=binary; total time=  47.7s\n"
     ]
    },
    {
     "name": "stderr",
     "output_type": "stream",
     "text": [
      "/home/aizat/anaconda3/envs/fyp/lib/python3.7/site-packages/lightgbm/engine.py:148: UserWarning: Found `num_iterations` in params. Will use it instead of argument\n",
      "  _log_warning(\"Found `{}` in params. Will use it instead of argument\".format(alias))\n",
      "/home/aizat/anaconda3/envs/fyp/lib/python3.7/site-packages/sklearn/model_selection/_validation.py:614: FitFailedWarning: Estimator fit failed. The score on this train-test partition for these parameters will be set to nan. Details: \n",
      "Traceback (most recent call last):\n",
      "  File \"/home/aizat/anaconda3/envs/fyp/lib/python3.7/site-packages/sklearn/model_selection/_validation.py\", line 593, in _fit_and_score\n",
      "    estimator.fit(X_train, y_train, **fit_params)\n",
      "  File \"/home/aizat/anaconda3/envs/fyp/lib/python3.7/site-packages/lightgbm/sklearn.py\", line 895, in fit\n",
      "    callbacks=callbacks, init_model=init_model)\n",
      "  File \"/home/aizat/anaconda3/envs/fyp/lib/python3.7/site-packages/lightgbm/sklearn.py\", line 688, in fit\n",
      "    callbacks=callbacks, init_model=init_model)\n",
      "  File \"/home/aizat/anaconda3/envs/fyp/lib/python3.7/site-packages/lightgbm/engine.py\", line 249, in train\n",
      "    booster.update(fobj=fobj)\n",
      "  File \"/home/aizat/anaconda3/envs/fyp/lib/python3.7/site-packages/lightgbm/basic.py\", line 2645, in update\n",
      "    ctypes.byref(is_finished)))\n",
      "  File \"/home/aizat/anaconda3/envs/fyp/lib/python3.7/site-packages/lightgbm/basic.py\", line 110, in _safe_call\n",
      "    raise LightGBMError(_LIB.LGBM_GetLastError().decode('utf-8'))\n",
      "lightgbm.basic.LightGBMError: Check failed: (best_split_info.left_count) > (0) at /home/aizat/LightGBM/src/treelearner/serial_tree_learner.cpp, line 653 .\n",
      "\n",
      "\n",
      "  FitFailedWarning)\n"
     ]
    },
    {
     "name": "stdout",
     "output_type": "stream",
     "text": [
      "[CV 3/3] END bagging_fraction=0.5, boosting_type=goss, feature_fraction=0.8, learning_rate=0.05, num_iterations=500, num_leaves=4096, objective=binary; total time=  37.7s\n"
     ]
    },
    {
     "name": "stderr",
     "output_type": "stream",
     "text": [
      "/home/aizat/anaconda3/envs/fyp/lib/python3.7/site-packages/lightgbm/engine.py:148: UserWarning: Found `num_iterations` in params. Will use it instead of argument\n",
      "  _log_warning(\"Found `{}` in params. Will use it instead of argument\".format(alias))\n"
     ]
    },
    {
     "name": "stdout",
     "output_type": "stream",
     "text": [
      "[CV 1/3] END bagging_fraction=0.5, boosting_type=goss, feature_fraction=0.8, learning_rate=0.05, num_iterations=1000, num_leaves=512, objective=binary; total time= 4.5min\n"
     ]
    },
    {
     "name": "stderr",
     "output_type": "stream",
     "text": [
      "/home/aizat/anaconda3/envs/fyp/lib/python3.7/site-packages/lightgbm/engine.py:148: UserWarning: Found `num_iterations` in params. Will use it instead of argument\n",
      "  _log_warning(\"Found `{}` in params. Will use it instead of argument\".format(alias))\n"
     ]
    },
    {
     "name": "stdout",
     "output_type": "stream",
     "text": [
      "[LightGBM] [Warning] feature_fraction is set=0.8, colsample_bytree=1.0 will be ignored. Current value: feature_fraction=0.8\n",
      "[LightGBM] [Warning] bagging_fraction is set=0.5, subsample=1.0 will be ignored. Current value: bagging_fraction=0.5\n",
      "[CV 2/3] END bagging_fraction=0.5, boosting_type=goss, feature_fraction=0.8, learning_rate=0.05, num_iterations=1000, num_leaves=512, objective=binary; total time= 7.6min\n"
     ]
    },
    {
     "name": "stderr",
     "output_type": "stream",
     "text": [
      "/home/aizat/anaconda3/envs/fyp/lib/python3.7/site-packages/lightgbm/engine.py:148: UserWarning: Found `num_iterations` in params. Will use it instead of argument\n",
      "  _log_warning(\"Found `{}` in params. Will use it instead of argument\".format(alias))\n"
     ]
    },
    {
     "name": "stdout",
     "output_type": "stream",
     "text": [
      "[LightGBM] [Warning] feature_fraction is set=0.8, colsample_bytree=1.0 will be ignored. Current value: feature_fraction=0.8\n",
      "[LightGBM] [Warning] bagging_fraction is set=0.5, subsample=1.0 will be ignored. Current value: bagging_fraction=0.5\n",
      "[CV 3/3] END bagging_fraction=0.5, boosting_type=goss, feature_fraction=0.8, learning_rate=0.05, num_iterations=1000, num_leaves=512, objective=binary; total time= 8.5min\n"
     ]
    },
    {
     "name": "stderr",
     "output_type": "stream",
     "text": [
      "/home/aizat/anaconda3/envs/fyp/lib/python3.7/site-packages/lightgbm/engine.py:148: UserWarning: Found `num_iterations` in params. Will use it instead of argument\n",
      "  _log_warning(\"Found `{}` in params. Will use it instead of argument\".format(alias))\n"
     ]
    },
    {
     "name": "stdout",
     "output_type": "stream",
     "text": [
      "[LightGBM] [Warning] feature_fraction is set=0.8, colsample_bytree=1.0 will be ignored. Current value: feature_fraction=0.8\n",
      "[LightGBM] [Warning] bagging_fraction is set=0.5, subsample=1.0 will be ignored. Current value: bagging_fraction=0.5\n",
      "[CV 1/3] END bagging_fraction=0.5, boosting_type=goss, feature_fraction=0.8, learning_rate=0.05, num_iterations=1000, num_leaves=1024, objective=binary; total time= 5.4min\n"
     ]
    },
    {
     "name": "stderr",
     "output_type": "stream",
     "text": [
      "/home/aizat/anaconda3/envs/fyp/lib/python3.7/site-packages/lightgbm/engine.py:148: UserWarning: Found `num_iterations` in params. Will use it instead of argument\n",
      "  _log_warning(\"Found `{}` in params. Will use it instead of argument\".format(alias))\n"
     ]
    },
    {
     "name": "stdout",
     "output_type": "stream",
     "text": [
      "[LightGBM] [Warning] feature_fraction is set=0.8, colsample_bytree=1.0 will be ignored. Current value: feature_fraction=0.8\n",
      "[LightGBM] [Warning] bagging_fraction is set=0.5, subsample=1.0 will be ignored. Current value: bagging_fraction=0.5\n",
      "[CV 2/3] END bagging_fraction=0.5, boosting_type=goss, feature_fraction=0.8, learning_rate=0.05, num_iterations=1000, num_leaves=1024, objective=binary; total time= 8.7min\n"
     ]
    },
    {
     "name": "stderr",
     "output_type": "stream",
     "text": [
      "/home/aizat/anaconda3/envs/fyp/lib/python3.7/site-packages/lightgbm/engine.py:148: UserWarning: Found `num_iterations` in params. Will use it instead of argument\n",
      "  _log_warning(\"Found `{}` in params. Will use it instead of argument\".format(alias))\n"
     ]
    },
    {
     "name": "stdout",
     "output_type": "stream",
     "text": [
      "[LightGBM] [Warning] feature_fraction is set=0.8, colsample_bytree=1.0 will be ignored. Current value: feature_fraction=0.8\n",
      "[LightGBM] [Warning] bagging_fraction is set=0.5, subsample=1.0 will be ignored. Current value: bagging_fraction=0.5\n",
      "[CV 3/3] END bagging_fraction=0.5, boosting_type=goss, feature_fraction=0.8, learning_rate=0.05, num_iterations=1000, num_leaves=1024, objective=binary; total time=11.4min\n"
     ]
    },
    {
     "name": "stderr",
     "output_type": "stream",
     "text": [
      "/home/aizat/anaconda3/envs/fyp/lib/python3.7/site-packages/lightgbm/engine.py:148: UserWarning: Found `num_iterations` in params. Will use it instead of argument\n",
      "  _log_warning(\"Found `{}` in params. Will use it instead of argument\".format(alias))\n"
     ]
    },
    {
     "name": "stdout",
     "output_type": "stream",
     "text": [
      "[LightGBM] [Warning] feature_fraction is set=0.8, colsample_bytree=1.0 will be ignored. Current value: feature_fraction=0.8\n",
      "[LightGBM] [Warning] bagging_fraction is set=0.5, subsample=1.0 will be ignored. Current value: bagging_fraction=0.5\n"
     ]
    },
    {
     "name": "stderr",
     "output_type": "stream",
     "text": [
      "/home/aizat/anaconda3/envs/fyp/lib/python3.7/site-packages/sklearn/model_selection/_validation.py:614: FitFailedWarning: Estimator fit failed. The score on this train-test partition for these parameters will be set to nan. Details: \n",
      "Traceback (most recent call last):\n",
      "  File \"/home/aizat/anaconda3/envs/fyp/lib/python3.7/site-packages/sklearn/model_selection/_validation.py\", line 593, in _fit_and_score\n",
      "    estimator.fit(X_train, y_train, **fit_params)\n",
      "  File \"/home/aizat/anaconda3/envs/fyp/lib/python3.7/site-packages/lightgbm/sklearn.py\", line 895, in fit\n",
      "    callbacks=callbacks, init_model=init_model)\n",
      "  File \"/home/aizat/anaconda3/envs/fyp/lib/python3.7/site-packages/lightgbm/sklearn.py\", line 688, in fit\n",
      "    callbacks=callbacks, init_model=init_model)\n",
      "  File \"/home/aizat/anaconda3/envs/fyp/lib/python3.7/site-packages/lightgbm/engine.py\", line 249, in train\n",
      "    booster.update(fobj=fobj)\n",
      "  File \"/home/aizat/anaconda3/envs/fyp/lib/python3.7/site-packages/lightgbm/basic.py\", line 2645, in update\n",
      "    ctypes.byref(is_finished)))\n",
      "  File \"/home/aizat/anaconda3/envs/fyp/lib/python3.7/site-packages/lightgbm/basic.py\", line 110, in _safe_call\n",
      "    raise LightGBMError(_LIB.LGBM_GetLastError().decode('utf-8'))\n",
      "lightgbm.basic.LightGBMError: Check failed: (best_split_info.left_count) > (0) at /home/aizat/LightGBM/src/treelearner/serial_tree_learner.cpp, line 653 .\n",
      "\n",
      "\n",
      "  FitFailedWarning)\n"
     ]
    },
    {
     "name": "stdout",
     "output_type": "stream",
     "text": [
      "[CV 1/3] END bagging_fraction=0.5, boosting_type=goss, feature_fraction=0.8, learning_rate=0.05, num_iterations=1000, num_leaves=2048, objective=binary; total time=  34.0s\n"
     ]
    },
    {
     "name": "stderr",
     "output_type": "stream",
     "text": [
      "/home/aizat/anaconda3/envs/fyp/lib/python3.7/site-packages/lightgbm/engine.py:148: UserWarning: Found `num_iterations` in params. Will use it instead of argument\n",
      "  _log_warning(\"Found `{}` in params. Will use it instead of argument\".format(alias))\n",
      "/home/aizat/anaconda3/envs/fyp/lib/python3.7/site-packages/sklearn/model_selection/_validation.py:614: FitFailedWarning: Estimator fit failed. The score on this train-test partition for these parameters will be set to nan. Details: \n",
      "Traceback (most recent call last):\n",
      "  File \"/home/aizat/anaconda3/envs/fyp/lib/python3.7/site-packages/sklearn/model_selection/_validation.py\", line 593, in _fit_and_score\n",
      "    estimator.fit(X_train, y_train, **fit_params)\n",
      "  File \"/home/aizat/anaconda3/envs/fyp/lib/python3.7/site-packages/lightgbm/sklearn.py\", line 895, in fit\n",
      "    callbacks=callbacks, init_model=init_model)\n",
      "  File \"/home/aizat/anaconda3/envs/fyp/lib/python3.7/site-packages/lightgbm/sklearn.py\", line 688, in fit\n",
      "    callbacks=callbacks, init_model=init_model)\n",
      "  File \"/home/aizat/anaconda3/envs/fyp/lib/python3.7/site-packages/lightgbm/engine.py\", line 249, in train\n",
      "    booster.update(fobj=fobj)\n",
      "  File \"/home/aizat/anaconda3/envs/fyp/lib/python3.7/site-packages/lightgbm/basic.py\", line 2645, in update\n",
      "    ctypes.byref(is_finished)))\n",
      "  File \"/home/aizat/anaconda3/envs/fyp/lib/python3.7/site-packages/lightgbm/basic.py\", line 110, in _safe_call\n",
      "    raise LightGBMError(_LIB.LGBM_GetLastError().decode('utf-8'))\n",
      "lightgbm.basic.LightGBMError: Check failed: (best_split_info.left_count) > (0) at /home/aizat/LightGBM/src/treelearner/serial_tree_learner.cpp, line 653 .\n",
      "\n",
      "\n",
      "  FitFailedWarning)\n"
     ]
    },
    {
     "name": "stdout",
     "output_type": "stream",
     "text": [
      "[CV 2/3] END bagging_fraction=0.5, boosting_type=goss, feature_fraction=0.8, learning_rate=0.05, num_iterations=1000, num_leaves=2048, objective=binary; total time=  35.0s\n"
     ]
    },
    {
     "name": "stderr",
     "output_type": "stream",
     "text": [
      "/home/aizat/anaconda3/envs/fyp/lib/python3.7/site-packages/lightgbm/engine.py:148: UserWarning: Found `num_iterations` in params. Will use it instead of argument\n",
      "  _log_warning(\"Found `{}` in params. Will use it instead of argument\".format(alias))\n",
      "/home/aizat/anaconda3/envs/fyp/lib/python3.7/site-packages/sklearn/model_selection/_validation.py:614: FitFailedWarning: Estimator fit failed. The score on this train-test partition for these parameters will be set to nan. Details: \n",
      "Traceback (most recent call last):\n",
      "  File \"/home/aizat/anaconda3/envs/fyp/lib/python3.7/site-packages/sklearn/model_selection/_validation.py\", line 593, in _fit_and_score\n",
      "    estimator.fit(X_train, y_train, **fit_params)\n",
      "  File \"/home/aizat/anaconda3/envs/fyp/lib/python3.7/site-packages/lightgbm/sklearn.py\", line 895, in fit\n",
      "    callbacks=callbacks, init_model=init_model)\n",
      "  File \"/home/aizat/anaconda3/envs/fyp/lib/python3.7/site-packages/lightgbm/sklearn.py\", line 688, in fit\n",
      "    callbacks=callbacks, init_model=init_model)\n",
      "  File \"/home/aizat/anaconda3/envs/fyp/lib/python3.7/site-packages/lightgbm/engine.py\", line 249, in train\n",
      "    booster.update(fobj=fobj)\n",
      "  File \"/home/aizat/anaconda3/envs/fyp/lib/python3.7/site-packages/lightgbm/basic.py\", line 2645, in update\n",
      "    ctypes.byref(is_finished)))\n",
      "  File \"/home/aizat/anaconda3/envs/fyp/lib/python3.7/site-packages/lightgbm/basic.py\", line 110, in _safe_call\n",
      "    raise LightGBMError(_LIB.LGBM_GetLastError().decode('utf-8'))\n",
      "lightgbm.basic.LightGBMError: Check failed: (best_split_info.left_count) > (0) at /home/aizat/LightGBM/src/treelearner/serial_tree_learner.cpp, line 653 .\n",
      "\n",
      "\n",
      "  FitFailedWarning)\n"
     ]
    },
    {
     "name": "stdout",
     "output_type": "stream",
     "text": [
      "[CV 3/3] END bagging_fraction=0.5, boosting_type=goss, feature_fraction=0.8, learning_rate=0.05, num_iterations=1000, num_leaves=2048, objective=binary; total time=  38.2s\n"
     ]
    },
    {
     "name": "stderr",
     "output_type": "stream",
     "text": [
      "/home/aizat/anaconda3/envs/fyp/lib/python3.7/site-packages/lightgbm/engine.py:148: UserWarning: Found `num_iterations` in params. Will use it instead of argument\n",
      "  _log_warning(\"Found `{}` in params. Will use it instead of argument\".format(alias))\n",
      "/home/aizat/anaconda3/envs/fyp/lib/python3.7/site-packages/sklearn/model_selection/_validation.py:614: FitFailedWarning: Estimator fit failed. The score on this train-test partition for these parameters will be set to nan. Details: \n",
      "Traceback (most recent call last):\n",
      "  File \"/home/aizat/anaconda3/envs/fyp/lib/python3.7/site-packages/sklearn/model_selection/_validation.py\", line 593, in _fit_and_score\n",
      "    estimator.fit(X_train, y_train, **fit_params)\n",
      "  File \"/home/aizat/anaconda3/envs/fyp/lib/python3.7/site-packages/lightgbm/sklearn.py\", line 895, in fit\n",
      "    callbacks=callbacks, init_model=init_model)\n",
      "  File \"/home/aizat/anaconda3/envs/fyp/lib/python3.7/site-packages/lightgbm/sklearn.py\", line 688, in fit\n",
      "    callbacks=callbacks, init_model=init_model)\n",
      "  File \"/home/aizat/anaconda3/envs/fyp/lib/python3.7/site-packages/lightgbm/engine.py\", line 249, in train\n",
      "    booster.update(fobj=fobj)\n",
      "  File \"/home/aizat/anaconda3/envs/fyp/lib/python3.7/site-packages/lightgbm/basic.py\", line 2645, in update\n",
      "    ctypes.byref(is_finished)))\n",
      "  File \"/home/aizat/anaconda3/envs/fyp/lib/python3.7/site-packages/lightgbm/basic.py\", line 110, in _safe_call\n",
      "    raise LightGBMError(_LIB.LGBM_GetLastError().decode('utf-8'))\n",
      "lightgbm.basic.LightGBMError: Check failed: (best_split_info.left_count) > (0) at /home/aizat/LightGBM/src/treelearner/serial_tree_learner.cpp, line 653 .\n",
      "\n",
      "\n",
      "  FitFailedWarning)\n"
     ]
    },
    {
     "name": "stdout",
     "output_type": "stream",
     "text": [
      "[CV 1/3] END bagging_fraction=0.5, boosting_type=goss, feature_fraction=0.8, learning_rate=0.05, num_iterations=1000, num_leaves=4096, objective=binary; total time=  46.8s\n"
     ]
    },
    {
     "name": "stderr",
     "output_type": "stream",
     "text": [
      "/home/aizat/anaconda3/envs/fyp/lib/python3.7/site-packages/lightgbm/engine.py:148: UserWarning: Found `num_iterations` in params. Will use it instead of argument\n",
      "  _log_warning(\"Found `{}` in params. Will use it instead of argument\".format(alias))\n",
      "/home/aizat/anaconda3/envs/fyp/lib/python3.7/site-packages/sklearn/model_selection/_validation.py:614: FitFailedWarning: Estimator fit failed. The score on this train-test partition for these parameters will be set to nan. Details: \n",
      "Traceback (most recent call last):\n",
      "  File \"/home/aizat/anaconda3/envs/fyp/lib/python3.7/site-packages/sklearn/model_selection/_validation.py\", line 593, in _fit_and_score\n",
      "    estimator.fit(X_train, y_train, **fit_params)\n",
      "  File \"/home/aizat/anaconda3/envs/fyp/lib/python3.7/site-packages/lightgbm/sklearn.py\", line 895, in fit\n",
      "    callbacks=callbacks, init_model=init_model)\n",
      "  File \"/home/aizat/anaconda3/envs/fyp/lib/python3.7/site-packages/lightgbm/sklearn.py\", line 688, in fit\n",
      "    callbacks=callbacks, init_model=init_model)\n",
      "  File \"/home/aizat/anaconda3/envs/fyp/lib/python3.7/site-packages/lightgbm/engine.py\", line 249, in train\n",
      "    booster.update(fobj=fobj)\n",
      "  File \"/home/aizat/anaconda3/envs/fyp/lib/python3.7/site-packages/lightgbm/basic.py\", line 2645, in update\n",
      "    ctypes.byref(is_finished)))\n",
      "  File \"/home/aizat/anaconda3/envs/fyp/lib/python3.7/site-packages/lightgbm/basic.py\", line 110, in _safe_call\n",
      "    raise LightGBMError(_LIB.LGBM_GetLastError().decode('utf-8'))\n",
      "lightgbm.basic.LightGBMError: Check failed: (best_split_info.left_count) > (0) at /home/aizat/LightGBM/src/treelearner/serial_tree_learner.cpp, line 653 .\n",
      "\n",
      "\n",
      "  FitFailedWarning)\n"
     ]
    },
    {
     "name": "stdout",
     "output_type": "stream",
     "text": [
      "[CV 2/3] END bagging_fraction=0.5, boosting_type=goss, feature_fraction=0.8, learning_rate=0.05, num_iterations=1000, num_leaves=4096, objective=binary; total time=  33.3s\n"
     ]
    },
    {
     "name": "stderr",
     "output_type": "stream",
     "text": [
      "/home/aizat/anaconda3/envs/fyp/lib/python3.7/site-packages/lightgbm/engine.py:148: UserWarning: Found `num_iterations` in params. Will use it instead of argument\n",
      "  _log_warning(\"Found `{}` in params. Will use it instead of argument\".format(alias))\n",
      "/home/aizat/anaconda3/envs/fyp/lib/python3.7/site-packages/sklearn/model_selection/_validation.py:614: FitFailedWarning: Estimator fit failed. The score on this train-test partition for these parameters will be set to nan. Details: \n",
      "Traceback (most recent call last):\n",
      "  File \"/home/aizat/anaconda3/envs/fyp/lib/python3.7/site-packages/sklearn/model_selection/_validation.py\", line 593, in _fit_and_score\n",
      "    estimator.fit(X_train, y_train, **fit_params)\n",
      "  File \"/home/aizat/anaconda3/envs/fyp/lib/python3.7/site-packages/lightgbm/sklearn.py\", line 895, in fit\n",
      "    callbacks=callbacks, init_model=init_model)\n",
      "  File \"/home/aizat/anaconda3/envs/fyp/lib/python3.7/site-packages/lightgbm/sklearn.py\", line 688, in fit\n",
      "    callbacks=callbacks, init_model=init_model)\n",
      "  File \"/home/aizat/anaconda3/envs/fyp/lib/python3.7/site-packages/lightgbm/engine.py\", line 249, in train\n",
      "    booster.update(fobj=fobj)\n",
      "  File \"/home/aizat/anaconda3/envs/fyp/lib/python3.7/site-packages/lightgbm/basic.py\", line 2645, in update\n",
      "    ctypes.byref(is_finished)))\n",
      "  File \"/home/aizat/anaconda3/envs/fyp/lib/python3.7/site-packages/lightgbm/basic.py\", line 110, in _safe_call\n",
      "    raise LightGBMError(_LIB.LGBM_GetLastError().decode('utf-8'))\n",
      "lightgbm.basic.LightGBMError: Check failed: (best_split_info.left_count) > (0) at /home/aizat/LightGBM/src/treelearner/serial_tree_learner.cpp, line 653 .\n",
      "\n",
      "\n",
      "  FitFailedWarning)\n"
     ]
    },
    {
     "name": "stdout",
     "output_type": "stream",
     "text": [
      "[CV 3/3] END bagging_fraction=0.5, boosting_type=goss, feature_fraction=0.8, learning_rate=0.05, num_iterations=1000, num_leaves=4096, objective=binary; total time=  44.2s\n"
     ]
    },
    {
     "name": "stderr",
     "output_type": "stream",
     "text": [
      "/home/aizat/anaconda3/envs/fyp/lib/python3.7/site-packages/lightgbm/engine.py:148: UserWarning: Found `num_iterations` in params. Will use it instead of argument\n",
      "  _log_warning(\"Found `{}` in params. Will use it instead of argument\".format(alias))\n"
     ]
    },
    {
     "name": "stdout",
     "output_type": "stream",
     "text": [
      "[CV 1/3] END bagging_fraction=0.5, boosting_type=goss, feature_fraction=0.8, learning_rate=0.05, num_iterations=1500, num_leaves=512, objective=binary; total time= 5.2min\n"
     ]
    },
    {
     "name": "stderr",
     "output_type": "stream",
     "text": [
      "/home/aizat/anaconda3/envs/fyp/lib/python3.7/site-packages/lightgbm/engine.py:148: UserWarning: Found `num_iterations` in params. Will use it instead of argument\n",
      "  _log_warning(\"Found `{}` in params. Will use it instead of argument\".format(alias))\n"
     ]
    },
    {
     "name": "stdout",
     "output_type": "stream",
     "text": [
      "[LightGBM] [Warning] feature_fraction is set=0.8, colsample_bytree=1.0 will be ignored. Current value: feature_fraction=0.8\n",
      "[LightGBM] [Warning] bagging_fraction is set=0.5, subsample=1.0 will be ignored. Current value: bagging_fraction=0.5\n",
      "[CV 2/3] END bagging_fraction=0.5, boosting_type=goss, feature_fraction=0.8, learning_rate=0.05, num_iterations=1500, num_leaves=512, objective=binary; total time= 9.1min\n"
     ]
    },
    {
     "name": "stderr",
     "output_type": "stream",
     "text": [
      "/home/aizat/anaconda3/envs/fyp/lib/python3.7/site-packages/lightgbm/engine.py:148: UserWarning: Found `num_iterations` in params. Will use it instead of argument\n",
      "  _log_warning(\"Found `{}` in params. Will use it instead of argument\".format(alias))\n"
     ]
    },
    {
     "name": "stdout",
     "output_type": "stream",
     "text": [
      "[LightGBM] [Warning] feature_fraction is set=0.8, colsample_bytree=1.0 will be ignored. Current value: feature_fraction=0.8\n",
      "[LightGBM] [Warning] bagging_fraction is set=0.5, subsample=1.0 will be ignored. Current value: bagging_fraction=0.5\n",
      "[CV 3/3] END bagging_fraction=0.5, boosting_type=goss, feature_fraction=0.8, learning_rate=0.05, num_iterations=1500, num_leaves=512, objective=binary; total time=11.9min\n"
     ]
    },
    {
     "name": "stderr",
     "output_type": "stream",
     "text": [
      "/home/aizat/anaconda3/envs/fyp/lib/python3.7/site-packages/lightgbm/engine.py:148: UserWarning: Found `num_iterations` in params. Will use it instead of argument\n",
      "  _log_warning(\"Found `{}` in params. Will use it instead of argument\".format(alias))\n"
     ]
    },
    {
     "name": "stdout",
     "output_type": "stream",
     "text": [
      "[LightGBM] [Warning] feature_fraction is set=0.8, colsample_bytree=1.0 will be ignored. Current value: feature_fraction=0.8\n",
      "[LightGBM] [Warning] bagging_fraction is set=0.5, subsample=1.0 will be ignored. Current value: bagging_fraction=0.5\n",
      "[CV 1/3] END bagging_fraction=0.5, boosting_type=goss, feature_fraction=0.8, learning_rate=0.05, num_iterations=1500, num_leaves=1024, objective=binary; total time= 5.9min\n"
     ]
    },
    {
     "name": "stderr",
     "output_type": "stream",
     "text": [
      "/home/aizat/anaconda3/envs/fyp/lib/python3.7/site-packages/lightgbm/engine.py:148: UserWarning: Found `num_iterations` in params. Will use it instead of argument\n",
      "  _log_warning(\"Found `{}` in params. Will use it instead of argument\".format(alias))\n"
     ]
    },
    {
     "name": "stdout",
     "output_type": "stream",
     "text": [
      "[LightGBM] [Warning] feature_fraction is set=0.8, colsample_bytree=1.0 will be ignored. Current value: feature_fraction=0.8\n",
      "[LightGBM] [Warning] bagging_fraction is set=0.5, subsample=1.0 will be ignored. Current value: bagging_fraction=0.5\n"
     ]
    },
    {
     "name": "stderr",
     "output_type": "stream",
     "text": [
      "/home/aizat/anaconda3/envs/fyp/lib/python3.7/site-packages/sklearn/model_selection/_validation.py:614: FitFailedWarning: Estimator fit failed. The score on this train-test partition for these parameters will be set to nan. Details: \n",
      "Traceback (most recent call last):\n",
      "  File \"/home/aizat/anaconda3/envs/fyp/lib/python3.7/site-packages/sklearn/model_selection/_validation.py\", line 593, in _fit_and_score\n",
      "    estimator.fit(X_train, y_train, **fit_params)\n",
      "  File \"/home/aizat/anaconda3/envs/fyp/lib/python3.7/site-packages/lightgbm/sklearn.py\", line 895, in fit\n",
      "    callbacks=callbacks, init_model=init_model)\n",
      "  File \"/home/aizat/anaconda3/envs/fyp/lib/python3.7/site-packages/lightgbm/sklearn.py\", line 688, in fit\n",
      "    callbacks=callbacks, init_model=init_model)\n",
      "  File \"/home/aizat/anaconda3/envs/fyp/lib/python3.7/site-packages/lightgbm/engine.py\", line 249, in train\n",
      "    booster.update(fobj=fobj)\n",
      "  File \"/home/aizat/anaconda3/envs/fyp/lib/python3.7/site-packages/lightgbm/basic.py\", line 2645, in update\n",
      "    ctypes.byref(is_finished)))\n",
      "  File \"/home/aizat/anaconda3/envs/fyp/lib/python3.7/site-packages/lightgbm/basic.py\", line 110, in _safe_call\n",
      "    raise LightGBMError(_LIB.LGBM_GetLastError().decode('utf-8'))\n",
      "lightgbm.basic.LightGBMError: Check failed: (best_split_info.left_count) > (0) at /home/aizat/LightGBM/src/treelearner/serial_tree_learner.cpp, line 653 .\n",
      "\n",
      "\n",
      "  FitFailedWarning)\n"
     ]
    },
    {
     "name": "stdout",
     "output_type": "stream",
     "text": [
      "[CV 2/3] END bagging_fraction=0.5, boosting_type=goss, feature_fraction=0.8, learning_rate=0.05, num_iterations=1500, num_leaves=1024, objective=binary; total time=  27.2s\n"
     ]
    },
    {
     "name": "stderr",
     "output_type": "stream",
     "text": [
      "/home/aizat/anaconda3/envs/fyp/lib/python3.7/site-packages/lightgbm/engine.py:148: UserWarning: Found `num_iterations` in params. Will use it instead of argument\n",
      "  _log_warning(\"Found `{}` in params. Will use it instead of argument\".format(alias))\n"
     ]
    },
    {
     "name": "stdout",
     "output_type": "stream",
     "text": [
      "[CV 3/3] END bagging_fraction=0.5, boosting_type=goss, feature_fraction=0.8, learning_rate=0.05, num_iterations=1500, num_leaves=1024, objective=binary; total time=13.1min\n"
     ]
    },
    {
     "name": "stderr",
     "output_type": "stream",
     "text": [
      "/home/aizat/anaconda3/envs/fyp/lib/python3.7/site-packages/lightgbm/engine.py:148: UserWarning: Found `num_iterations` in params. Will use it instead of argument\n",
      "  _log_warning(\"Found `{}` in params. Will use it instead of argument\".format(alias))\n"
     ]
    },
    {
     "name": "stdout",
     "output_type": "stream",
     "text": [
      "[LightGBM] [Warning] feature_fraction is set=0.8, colsample_bytree=1.0 will be ignored. Current value: feature_fraction=0.8\n",
      "[LightGBM] [Warning] bagging_fraction is set=0.5, subsample=1.0 will be ignored. Current value: bagging_fraction=0.5\n"
     ]
    },
    {
     "name": "stderr",
     "output_type": "stream",
     "text": [
      "/home/aizat/anaconda3/envs/fyp/lib/python3.7/site-packages/sklearn/model_selection/_validation.py:614: FitFailedWarning: Estimator fit failed. The score on this train-test partition for these parameters will be set to nan. Details: \n",
      "Traceback (most recent call last):\n",
      "  File \"/home/aizat/anaconda3/envs/fyp/lib/python3.7/site-packages/sklearn/model_selection/_validation.py\", line 593, in _fit_and_score\n",
      "    estimator.fit(X_train, y_train, **fit_params)\n",
      "  File \"/home/aizat/anaconda3/envs/fyp/lib/python3.7/site-packages/lightgbm/sklearn.py\", line 895, in fit\n",
      "    callbacks=callbacks, init_model=init_model)\n",
      "  File \"/home/aizat/anaconda3/envs/fyp/lib/python3.7/site-packages/lightgbm/sklearn.py\", line 688, in fit\n",
      "    callbacks=callbacks, init_model=init_model)\n",
      "  File \"/home/aizat/anaconda3/envs/fyp/lib/python3.7/site-packages/lightgbm/engine.py\", line 249, in train\n",
      "    booster.update(fobj=fobj)\n",
      "  File \"/home/aizat/anaconda3/envs/fyp/lib/python3.7/site-packages/lightgbm/basic.py\", line 2645, in update\n",
      "    ctypes.byref(is_finished)))\n",
      "  File \"/home/aizat/anaconda3/envs/fyp/lib/python3.7/site-packages/lightgbm/basic.py\", line 110, in _safe_call\n",
      "    raise LightGBMError(_LIB.LGBM_GetLastError().decode('utf-8'))\n",
      "lightgbm.basic.LightGBMError: Check failed: (best_split_info.left_count) > (0) at /home/aizat/LightGBM/src/treelearner/serial_tree_learner.cpp, line 653 .\n",
      "\n",
      "\n",
      "  FitFailedWarning)\n"
     ]
    },
    {
     "name": "stdout",
     "output_type": "stream",
     "text": [
      "[CV 1/3] END bagging_fraction=0.5, boosting_type=goss, feature_fraction=0.8, learning_rate=0.05, num_iterations=1500, num_leaves=2048, objective=binary; total time=  35.7s\n"
     ]
    },
    {
     "name": "stderr",
     "output_type": "stream",
     "text": [
      "/home/aizat/anaconda3/envs/fyp/lib/python3.7/site-packages/lightgbm/engine.py:148: UserWarning: Found `num_iterations` in params. Will use it instead of argument\n",
      "  _log_warning(\"Found `{}` in params. Will use it instead of argument\".format(alias))\n",
      "/home/aizat/anaconda3/envs/fyp/lib/python3.7/site-packages/sklearn/model_selection/_validation.py:614: FitFailedWarning: Estimator fit failed. The score on this train-test partition for these parameters will be set to nan. Details: \n",
      "Traceback (most recent call last):\n",
      "  File \"/home/aizat/anaconda3/envs/fyp/lib/python3.7/site-packages/sklearn/model_selection/_validation.py\", line 593, in _fit_and_score\n",
      "    estimator.fit(X_train, y_train, **fit_params)\n",
      "  File \"/home/aizat/anaconda3/envs/fyp/lib/python3.7/site-packages/lightgbm/sklearn.py\", line 895, in fit\n",
      "    callbacks=callbacks, init_model=init_model)\n",
      "  File \"/home/aizat/anaconda3/envs/fyp/lib/python3.7/site-packages/lightgbm/sklearn.py\", line 688, in fit\n",
      "    callbacks=callbacks, init_model=init_model)\n",
      "  File \"/home/aizat/anaconda3/envs/fyp/lib/python3.7/site-packages/lightgbm/engine.py\", line 249, in train\n",
      "    booster.update(fobj=fobj)\n",
      "  File \"/home/aizat/anaconda3/envs/fyp/lib/python3.7/site-packages/lightgbm/basic.py\", line 2645, in update\n",
      "    ctypes.byref(is_finished)))\n",
      "  File \"/home/aizat/anaconda3/envs/fyp/lib/python3.7/site-packages/lightgbm/basic.py\", line 110, in _safe_call\n",
      "    raise LightGBMError(_LIB.LGBM_GetLastError().decode('utf-8'))\n",
      "lightgbm.basic.LightGBMError: Check failed: (best_split_info.left_count) > (0) at /home/aizat/LightGBM/src/treelearner/serial_tree_learner.cpp, line 653 .\n",
      "\n",
      "\n",
      "  FitFailedWarning)\n"
     ]
    },
    {
     "name": "stdout",
     "output_type": "stream",
     "text": [
      "[CV 2/3] END bagging_fraction=0.5, boosting_type=goss, feature_fraction=0.8, learning_rate=0.05, num_iterations=1500, num_leaves=2048, objective=binary; total time=  35.7s\n"
     ]
    },
    {
     "name": "stderr",
     "output_type": "stream",
     "text": [
      "/home/aizat/anaconda3/envs/fyp/lib/python3.7/site-packages/lightgbm/engine.py:148: UserWarning: Found `num_iterations` in params. Will use it instead of argument\n",
      "  _log_warning(\"Found `{}` in params. Will use it instead of argument\".format(alias))\n",
      "/home/aizat/anaconda3/envs/fyp/lib/python3.7/site-packages/sklearn/model_selection/_validation.py:614: FitFailedWarning: Estimator fit failed. The score on this train-test partition for these parameters will be set to nan. Details: \n",
      "Traceback (most recent call last):\n",
      "  File \"/home/aizat/anaconda3/envs/fyp/lib/python3.7/site-packages/sklearn/model_selection/_validation.py\", line 593, in _fit_and_score\n",
      "    estimator.fit(X_train, y_train, **fit_params)\n",
      "  File \"/home/aizat/anaconda3/envs/fyp/lib/python3.7/site-packages/lightgbm/sklearn.py\", line 895, in fit\n",
      "    callbacks=callbacks, init_model=init_model)\n",
      "  File \"/home/aizat/anaconda3/envs/fyp/lib/python3.7/site-packages/lightgbm/sklearn.py\", line 688, in fit\n",
      "    callbacks=callbacks, init_model=init_model)\n",
      "  File \"/home/aizat/anaconda3/envs/fyp/lib/python3.7/site-packages/lightgbm/engine.py\", line 249, in train\n",
      "    booster.update(fobj=fobj)\n",
      "  File \"/home/aizat/anaconda3/envs/fyp/lib/python3.7/site-packages/lightgbm/basic.py\", line 2645, in update\n",
      "    ctypes.byref(is_finished)))\n",
      "  File \"/home/aizat/anaconda3/envs/fyp/lib/python3.7/site-packages/lightgbm/basic.py\", line 110, in _safe_call\n",
      "    raise LightGBMError(_LIB.LGBM_GetLastError().decode('utf-8'))\n",
      "lightgbm.basic.LightGBMError: Check failed: (best_split_info.left_count) > (0) at /home/aizat/LightGBM/src/treelearner/serial_tree_learner.cpp, line 653 .\n",
      "\n",
      "\n",
      "  FitFailedWarning)\n"
     ]
    },
    {
     "name": "stdout",
     "output_type": "stream",
     "text": [
      "[CV 3/3] END bagging_fraction=0.5, boosting_type=goss, feature_fraction=0.8, learning_rate=0.05, num_iterations=1500, num_leaves=2048, objective=binary; total time=  39.5s\n"
     ]
    },
    {
     "name": "stderr",
     "output_type": "stream",
     "text": [
      "/home/aizat/anaconda3/envs/fyp/lib/python3.7/site-packages/lightgbm/engine.py:148: UserWarning: Found `num_iterations` in params. Will use it instead of argument\n",
      "  _log_warning(\"Found `{}` in params. Will use it instead of argument\".format(alias))\n",
      "/home/aizat/anaconda3/envs/fyp/lib/python3.7/site-packages/sklearn/model_selection/_validation.py:614: FitFailedWarning: Estimator fit failed. The score on this train-test partition for these parameters will be set to nan. Details: \n",
      "Traceback (most recent call last):\n",
      "  File \"/home/aizat/anaconda3/envs/fyp/lib/python3.7/site-packages/sklearn/model_selection/_validation.py\", line 593, in _fit_and_score\n",
      "    estimator.fit(X_train, y_train, **fit_params)\n",
      "  File \"/home/aizat/anaconda3/envs/fyp/lib/python3.7/site-packages/lightgbm/sklearn.py\", line 895, in fit\n",
      "    callbacks=callbacks, init_model=init_model)\n",
      "  File \"/home/aizat/anaconda3/envs/fyp/lib/python3.7/site-packages/lightgbm/sklearn.py\", line 688, in fit\n",
      "    callbacks=callbacks, init_model=init_model)\n",
      "  File \"/home/aizat/anaconda3/envs/fyp/lib/python3.7/site-packages/lightgbm/engine.py\", line 249, in train\n",
      "    booster.update(fobj=fobj)\n",
      "  File \"/home/aizat/anaconda3/envs/fyp/lib/python3.7/site-packages/lightgbm/basic.py\", line 2645, in update\n",
      "    ctypes.byref(is_finished)))\n",
      "  File \"/home/aizat/anaconda3/envs/fyp/lib/python3.7/site-packages/lightgbm/basic.py\", line 110, in _safe_call\n",
      "    raise LightGBMError(_LIB.LGBM_GetLastError().decode('utf-8'))\n",
      "lightgbm.basic.LightGBMError: Check failed: (best_split_info.left_count) > (0) at /home/aizat/LightGBM/src/treelearner/serial_tree_learner.cpp, line 653 .\n",
      "\n",
      "\n",
      "  FitFailedWarning)\n"
     ]
    },
    {
     "name": "stdout",
     "output_type": "stream",
     "text": [
      "[CV 1/3] END bagging_fraction=0.5, boosting_type=goss, feature_fraction=0.8, learning_rate=0.05, num_iterations=1500, num_leaves=4096, objective=binary; total time=  45.2s\n"
     ]
    },
    {
     "name": "stderr",
     "output_type": "stream",
     "text": [
      "/home/aizat/anaconda3/envs/fyp/lib/python3.7/site-packages/lightgbm/engine.py:148: UserWarning: Found `num_iterations` in params. Will use it instead of argument\n",
      "  _log_warning(\"Found `{}` in params. Will use it instead of argument\".format(alias))\n",
      "/home/aizat/anaconda3/envs/fyp/lib/python3.7/site-packages/sklearn/model_selection/_validation.py:614: FitFailedWarning: Estimator fit failed. The score on this train-test partition for these parameters will be set to nan. Details: \n",
      "Traceback (most recent call last):\n",
      "  File \"/home/aizat/anaconda3/envs/fyp/lib/python3.7/site-packages/sklearn/model_selection/_validation.py\", line 593, in _fit_and_score\n",
      "    estimator.fit(X_train, y_train, **fit_params)\n",
      "  File \"/home/aizat/anaconda3/envs/fyp/lib/python3.7/site-packages/lightgbm/sklearn.py\", line 895, in fit\n",
      "    callbacks=callbacks, init_model=init_model)\n",
      "  File \"/home/aizat/anaconda3/envs/fyp/lib/python3.7/site-packages/lightgbm/sklearn.py\", line 688, in fit\n",
      "    callbacks=callbacks, init_model=init_model)\n",
      "  File \"/home/aizat/anaconda3/envs/fyp/lib/python3.7/site-packages/lightgbm/engine.py\", line 249, in train\n",
      "    booster.update(fobj=fobj)\n",
      "  File \"/home/aizat/anaconda3/envs/fyp/lib/python3.7/site-packages/lightgbm/basic.py\", line 2645, in update\n",
      "    ctypes.byref(is_finished)))\n",
      "  File \"/home/aizat/anaconda3/envs/fyp/lib/python3.7/site-packages/lightgbm/basic.py\", line 110, in _safe_call\n",
      "    raise LightGBMError(_LIB.LGBM_GetLastError().decode('utf-8'))\n",
      "lightgbm.basic.LightGBMError: Check failed: (best_split_info.left_count) > (0) at /home/aizat/LightGBM/src/treelearner/serial_tree_learner.cpp, line 653 .\n",
      "\n",
      "\n",
      "  FitFailedWarning)\n"
     ]
    },
    {
     "name": "stdout",
     "output_type": "stream",
     "text": [
      "[CV 2/3] END bagging_fraction=0.5, boosting_type=goss, feature_fraction=0.8, learning_rate=0.05, num_iterations=1500, num_leaves=4096, objective=binary; total time=  32.8s\n"
     ]
    },
    {
     "name": "stderr",
     "output_type": "stream",
     "text": [
      "/home/aizat/anaconda3/envs/fyp/lib/python3.7/site-packages/lightgbm/engine.py:148: UserWarning: Found `num_iterations` in params. Will use it instead of argument\n",
      "  _log_warning(\"Found `{}` in params. Will use it instead of argument\".format(alias))\n",
      "/home/aizat/anaconda3/envs/fyp/lib/python3.7/site-packages/sklearn/model_selection/_validation.py:614: FitFailedWarning: Estimator fit failed. The score on this train-test partition for these parameters will be set to nan. Details: \n",
      "Traceback (most recent call last):\n",
      "  File \"/home/aizat/anaconda3/envs/fyp/lib/python3.7/site-packages/sklearn/model_selection/_validation.py\", line 593, in _fit_and_score\n",
      "    estimator.fit(X_train, y_train, **fit_params)\n",
      "  File \"/home/aizat/anaconda3/envs/fyp/lib/python3.7/site-packages/lightgbm/sklearn.py\", line 895, in fit\n",
      "    callbacks=callbacks, init_model=init_model)\n",
      "  File \"/home/aizat/anaconda3/envs/fyp/lib/python3.7/site-packages/lightgbm/sklearn.py\", line 688, in fit\n",
      "    callbacks=callbacks, init_model=init_model)\n",
      "  File \"/home/aizat/anaconda3/envs/fyp/lib/python3.7/site-packages/lightgbm/engine.py\", line 249, in train\n",
      "    booster.update(fobj=fobj)\n",
      "  File \"/home/aizat/anaconda3/envs/fyp/lib/python3.7/site-packages/lightgbm/basic.py\", line 2645, in update\n",
      "    ctypes.byref(is_finished)))\n",
      "  File \"/home/aizat/anaconda3/envs/fyp/lib/python3.7/site-packages/lightgbm/basic.py\", line 110, in _safe_call\n",
      "    raise LightGBMError(_LIB.LGBM_GetLastError().decode('utf-8'))\n",
      "lightgbm.basic.LightGBMError: Check failed: (best_split_info.left_count) > (0) at /home/aizat/LightGBM/src/treelearner/serial_tree_learner.cpp, line 653 .\n",
      "\n",
      "\n",
      "  FitFailedWarning)\n"
     ]
    },
    {
     "name": "stdout",
     "output_type": "stream",
     "text": [
      "[CV 3/3] END bagging_fraction=0.5, boosting_type=goss, feature_fraction=0.8, learning_rate=0.05, num_iterations=1500, num_leaves=4096, objective=binary; total time=  44.0s\n"
     ]
    },
    {
     "name": "stderr",
     "output_type": "stream",
     "text": [
      "/home/aizat/anaconda3/envs/fyp/lib/python3.7/site-packages/lightgbm/engine.py:148: UserWarning: Found `num_iterations` in params. Will use it instead of argument\n",
      "  _log_warning(\"Found `{}` in params. Will use it instead of argument\".format(alias))\n"
     ]
    },
    {
     "name": "stdout",
     "output_type": "stream",
     "text": [
      "[CV 1/3] END bagging_fraction=0.5, boosting_type=goss, feature_fraction=0.8, learning_rate=0.5, num_iterations=500, num_leaves=512, objective=binary; total time= 1.1min\n"
     ]
    },
    {
     "name": "stderr",
     "output_type": "stream",
     "text": [
      "/home/aizat/anaconda3/envs/fyp/lib/python3.7/site-packages/lightgbm/engine.py:148: UserWarning: Found `num_iterations` in params. Will use it instead of argument\n",
      "  _log_warning(\"Found `{}` in params. Will use it instead of argument\".format(alias))\n"
     ]
    },
    {
     "name": "stdout",
     "output_type": "stream",
     "text": [
      "[LightGBM] [Warning] feature_fraction is set=0.8, colsample_bytree=1.0 will be ignored. Current value: feature_fraction=0.8\n",
      "[LightGBM] [Warning] bagging_fraction is set=0.5, subsample=1.0 will be ignored. Current value: bagging_fraction=0.5\n",
      "[CV 2/3] END bagging_fraction=0.5, boosting_type=goss, feature_fraction=0.8, learning_rate=0.5, num_iterations=500, num_leaves=512, objective=binary; total time= 1.9min\n"
     ]
    },
    {
     "name": "stderr",
     "output_type": "stream",
     "text": [
      "/home/aizat/anaconda3/envs/fyp/lib/python3.7/site-packages/lightgbm/engine.py:148: UserWarning: Found `num_iterations` in params. Will use it instead of argument\n",
      "  _log_warning(\"Found `{}` in params. Will use it instead of argument\".format(alias))\n"
     ]
    },
    {
     "name": "stdout",
     "output_type": "stream",
     "text": [
      "[LightGBM] [Warning] feature_fraction is set=0.8, colsample_bytree=1.0 will be ignored. Current value: feature_fraction=0.8\n",
      "[LightGBM] [Warning] bagging_fraction is set=0.5, subsample=1.0 will be ignored. Current value: bagging_fraction=0.5\n",
      "[CV 3/3] END bagging_fraction=0.5, boosting_type=goss, feature_fraction=0.8, learning_rate=0.5, num_iterations=500, num_leaves=512, objective=binary; total time= 2.6min\n"
     ]
    },
    {
     "name": "stderr",
     "output_type": "stream",
     "text": [
      "/home/aizat/anaconda3/envs/fyp/lib/python3.7/site-packages/lightgbm/engine.py:148: UserWarning: Found `num_iterations` in params. Will use it instead of argument\n",
      "  _log_warning(\"Found `{}` in params. Will use it instead of argument\".format(alias))\n"
     ]
    },
    {
     "name": "stdout",
     "output_type": "stream",
     "text": [
      "[LightGBM] [Warning] feature_fraction is set=0.8, colsample_bytree=1.0 will be ignored. Current value: feature_fraction=0.8\n",
      "[LightGBM] [Warning] bagging_fraction is set=0.5, subsample=1.0 will be ignored. Current value: bagging_fraction=0.5\n",
      "[CV 1/3] END bagging_fraction=0.5, boosting_type=goss, feature_fraction=0.8, learning_rate=0.5, num_iterations=500, num_leaves=1024, objective=binary; total time= 1.2min\n"
     ]
    },
    {
     "name": "stderr",
     "output_type": "stream",
     "text": [
      "/home/aizat/anaconda3/envs/fyp/lib/python3.7/site-packages/lightgbm/engine.py:148: UserWarning: Found `num_iterations` in params. Will use it instead of argument\n",
      "  _log_warning(\"Found `{}` in params. Will use it instead of argument\".format(alias))\n"
     ]
    },
    {
     "name": "stdout",
     "output_type": "stream",
     "text": [
      "[LightGBM] [Warning] feature_fraction is set=0.8, colsample_bytree=1.0 will be ignored. Current value: feature_fraction=0.8\n",
      "[LightGBM] [Warning] bagging_fraction is set=0.5, subsample=1.0 will be ignored. Current value: bagging_fraction=0.5\n",
      "[CV 2/3] END bagging_fraction=0.5, boosting_type=goss, feature_fraction=0.8, learning_rate=0.5, num_iterations=500, num_leaves=1024, objective=binary; total time= 2.0min\n"
     ]
    },
    {
     "name": "stderr",
     "output_type": "stream",
     "text": [
      "/home/aizat/anaconda3/envs/fyp/lib/python3.7/site-packages/lightgbm/engine.py:148: UserWarning: Found `num_iterations` in params. Will use it instead of argument\n",
      "  _log_warning(\"Found `{}` in params. Will use it instead of argument\".format(alias))\n"
     ]
    },
    {
     "name": "stdout",
     "output_type": "stream",
     "text": [
      "[LightGBM] [Warning] feature_fraction is set=0.8, colsample_bytree=1.0 will be ignored. Current value: feature_fraction=0.8\n",
      "[LightGBM] [Warning] bagging_fraction is set=0.5, subsample=1.0 will be ignored. Current value: bagging_fraction=0.5\n",
      "[CV 3/3] END bagging_fraction=0.5, boosting_type=goss, feature_fraction=0.8, learning_rate=0.5, num_iterations=500, num_leaves=1024, objective=binary; total time= 2.9min\n"
     ]
    },
    {
     "name": "stderr",
     "output_type": "stream",
     "text": [
      "/home/aizat/anaconda3/envs/fyp/lib/python3.7/site-packages/lightgbm/engine.py:148: UserWarning: Found `num_iterations` in params. Will use it instead of argument\n",
      "  _log_warning(\"Found `{}` in params. Will use it instead of argument\".format(alias))\n"
     ]
    },
    {
     "name": "stdout",
     "output_type": "stream",
     "text": [
      "[LightGBM] [Warning] feature_fraction is set=0.8, colsample_bytree=1.0 will be ignored. Current value: feature_fraction=0.8\n",
      "[LightGBM] [Warning] bagging_fraction is set=0.5, subsample=1.0 will be ignored. Current value: bagging_fraction=0.5\n"
     ]
    },
    {
     "name": "stderr",
     "output_type": "stream",
     "text": [
      "/home/aizat/anaconda3/envs/fyp/lib/python3.7/site-packages/sklearn/model_selection/_validation.py:614: FitFailedWarning: Estimator fit failed. The score on this train-test partition for these parameters will be set to nan. Details: \n",
      "Traceback (most recent call last):\n",
      "  File \"/home/aizat/anaconda3/envs/fyp/lib/python3.7/site-packages/sklearn/model_selection/_validation.py\", line 593, in _fit_and_score\n",
      "    estimator.fit(X_train, y_train, **fit_params)\n",
      "  File \"/home/aizat/anaconda3/envs/fyp/lib/python3.7/site-packages/lightgbm/sklearn.py\", line 895, in fit\n",
      "    callbacks=callbacks, init_model=init_model)\n",
      "  File \"/home/aizat/anaconda3/envs/fyp/lib/python3.7/site-packages/lightgbm/sklearn.py\", line 688, in fit\n",
      "    callbacks=callbacks, init_model=init_model)\n",
      "  File \"/home/aizat/anaconda3/envs/fyp/lib/python3.7/site-packages/lightgbm/engine.py\", line 249, in train\n",
      "    booster.update(fobj=fobj)\n",
      "  File \"/home/aizat/anaconda3/envs/fyp/lib/python3.7/site-packages/lightgbm/basic.py\", line 2645, in update\n",
      "    ctypes.byref(is_finished)))\n",
      "  File \"/home/aizat/anaconda3/envs/fyp/lib/python3.7/site-packages/lightgbm/basic.py\", line 110, in _safe_call\n",
      "    raise LightGBMError(_LIB.LGBM_GetLastError().decode('utf-8'))\n",
      "lightgbm.basic.LightGBMError: Check failed: (best_split_info.left_count) > (0) at /home/aizat/LightGBM/src/treelearner/serial_tree_learner.cpp, line 653 .\n",
      "\n",
      "\n",
      "  FitFailedWarning)\n"
     ]
    },
    {
     "name": "stdout",
     "output_type": "stream",
     "text": [
      "[CV 1/3] END bagging_fraction=0.5, boosting_type=goss, feature_fraction=0.8, learning_rate=0.5, num_iterations=500, num_leaves=2048, objective=binary; total time=  18.8s\n"
     ]
    },
    {
     "name": "stderr",
     "output_type": "stream",
     "text": [
      "/home/aizat/anaconda3/envs/fyp/lib/python3.7/site-packages/lightgbm/engine.py:148: UserWarning: Found `num_iterations` in params. Will use it instead of argument\n",
      "  _log_warning(\"Found `{}` in params. Will use it instead of argument\".format(alias))\n"
     ]
    },
    {
     "name": "stdout",
     "output_type": "stream",
     "text": [
      "[CV 2/3] END bagging_fraction=0.5, boosting_type=goss, feature_fraction=0.8, learning_rate=0.5, num_iterations=500, num_leaves=2048, objective=binary; total time= 2.2min\n"
     ]
    },
    {
     "name": "stderr",
     "output_type": "stream",
     "text": [
      "/home/aizat/anaconda3/envs/fyp/lib/python3.7/site-packages/lightgbm/engine.py:148: UserWarning: Found `num_iterations` in params. Will use it instead of argument\n",
      "  _log_warning(\"Found `{}` in params. Will use it instead of argument\".format(alias))\n"
     ]
    },
    {
     "name": "stdout",
     "output_type": "stream",
     "text": [
      "[LightGBM] [Warning] feature_fraction is set=0.8, colsample_bytree=1.0 will be ignored. Current value: feature_fraction=0.8\n",
      "[LightGBM] [Warning] bagging_fraction is set=0.5, subsample=1.0 will be ignored. Current value: bagging_fraction=0.5\n"
     ]
    },
    {
     "name": "stderr",
     "output_type": "stream",
     "text": [
      "/home/aizat/anaconda3/envs/fyp/lib/python3.7/site-packages/sklearn/model_selection/_validation.py:614: FitFailedWarning: Estimator fit failed. The score on this train-test partition for these parameters will be set to nan. Details: \n",
      "Traceback (most recent call last):\n",
      "  File \"/home/aizat/anaconda3/envs/fyp/lib/python3.7/site-packages/sklearn/model_selection/_validation.py\", line 593, in _fit_and_score\n",
      "    estimator.fit(X_train, y_train, **fit_params)\n",
      "  File \"/home/aizat/anaconda3/envs/fyp/lib/python3.7/site-packages/lightgbm/sklearn.py\", line 895, in fit\n",
      "    callbacks=callbacks, init_model=init_model)\n",
      "  File \"/home/aizat/anaconda3/envs/fyp/lib/python3.7/site-packages/lightgbm/sklearn.py\", line 688, in fit\n",
      "    callbacks=callbacks, init_model=init_model)\n",
      "  File \"/home/aizat/anaconda3/envs/fyp/lib/python3.7/site-packages/lightgbm/engine.py\", line 249, in train\n",
      "    booster.update(fobj=fobj)\n",
      "  File \"/home/aizat/anaconda3/envs/fyp/lib/python3.7/site-packages/lightgbm/basic.py\", line 2645, in update\n",
      "    ctypes.byref(is_finished)))\n",
      "  File \"/home/aizat/anaconda3/envs/fyp/lib/python3.7/site-packages/lightgbm/basic.py\", line 110, in _safe_call\n",
      "    raise LightGBMError(_LIB.LGBM_GetLastError().decode('utf-8'))\n",
      "lightgbm.basic.LightGBMError: Check failed: (best_split_info.left_count) > (0) at /home/aizat/LightGBM/src/treelearner/serial_tree_learner.cpp, line 653 .\n",
      "\n",
      "\n",
      "  FitFailedWarning)\n"
     ]
    },
    {
     "name": "stdout",
     "output_type": "stream",
     "text": [
      "[CV 3/3] END bagging_fraction=0.5, boosting_type=goss, feature_fraction=0.8, learning_rate=0.5, num_iterations=500, num_leaves=2048, objective=binary; total time=  31.3s\n"
     ]
    },
    {
     "name": "stderr",
     "output_type": "stream",
     "text": [
      "/home/aizat/anaconda3/envs/fyp/lib/python3.7/site-packages/lightgbm/engine.py:148: UserWarning: Found `num_iterations` in params. Will use it instead of argument\n",
      "  _log_warning(\"Found `{}` in params. Will use it instead of argument\".format(alias))\n",
      "/home/aizat/anaconda3/envs/fyp/lib/python3.7/site-packages/sklearn/model_selection/_validation.py:614: FitFailedWarning: Estimator fit failed. The score on this train-test partition for these parameters will be set to nan. Details: \n",
      "Traceback (most recent call last):\n",
      "  File \"/home/aizat/anaconda3/envs/fyp/lib/python3.7/site-packages/sklearn/model_selection/_validation.py\", line 593, in _fit_and_score\n",
      "    estimator.fit(X_train, y_train, **fit_params)\n",
      "  File \"/home/aizat/anaconda3/envs/fyp/lib/python3.7/site-packages/lightgbm/sklearn.py\", line 895, in fit\n",
      "    callbacks=callbacks, init_model=init_model)\n",
      "  File \"/home/aizat/anaconda3/envs/fyp/lib/python3.7/site-packages/lightgbm/sklearn.py\", line 688, in fit\n",
      "    callbacks=callbacks, init_model=init_model)\n",
      "  File \"/home/aizat/anaconda3/envs/fyp/lib/python3.7/site-packages/lightgbm/engine.py\", line 249, in train\n",
      "    booster.update(fobj=fobj)\n",
      "  File \"/home/aizat/anaconda3/envs/fyp/lib/python3.7/site-packages/lightgbm/basic.py\", line 2645, in update\n",
      "    ctypes.byref(is_finished)))\n",
      "  File \"/home/aizat/anaconda3/envs/fyp/lib/python3.7/site-packages/lightgbm/basic.py\", line 110, in _safe_call\n",
      "    raise LightGBMError(_LIB.LGBM_GetLastError().decode('utf-8'))\n",
      "lightgbm.basic.LightGBMError: Check failed: (best_split_info.left_count) > (0) at /home/aizat/LightGBM/src/treelearner/serial_tree_learner.cpp, line 653 .\n",
      "\n",
      "\n",
      "  FitFailedWarning)\n"
     ]
    },
    {
     "name": "stdout",
     "output_type": "stream",
     "text": [
      "[CV 1/3] END bagging_fraction=0.5, boosting_type=goss, feature_fraction=0.8, learning_rate=0.5, num_iterations=500, num_leaves=4096, objective=binary; total time=  21.5s\n"
     ]
    },
    {
     "name": "stderr",
     "output_type": "stream",
     "text": [
      "/home/aizat/anaconda3/envs/fyp/lib/python3.7/site-packages/lightgbm/engine.py:148: UserWarning: Found `num_iterations` in params. Will use it instead of argument\n",
      "  _log_warning(\"Found `{}` in params. Will use it instead of argument\".format(alias))\n",
      "/home/aizat/anaconda3/envs/fyp/lib/python3.7/site-packages/sklearn/model_selection/_validation.py:614: FitFailedWarning: Estimator fit failed. The score on this train-test partition for these parameters will be set to nan. Details: \n",
      "Traceback (most recent call last):\n",
      "  File \"/home/aizat/anaconda3/envs/fyp/lib/python3.7/site-packages/sklearn/model_selection/_validation.py\", line 593, in _fit_and_score\n",
      "    estimator.fit(X_train, y_train, **fit_params)\n",
      "  File \"/home/aizat/anaconda3/envs/fyp/lib/python3.7/site-packages/lightgbm/sklearn.py\", line 895, in fit\n",
      "    callbacks=callbacks, init_model=init_model)\n",
      "  File \"/home/aizat/anaconda3/envs/fyp/lib/python3.7/site-packages/lightgbm/sklearn.py\", line 688, in fit\n",
      "    callbacks=callbacks, init_model=init_model)\n",
      "  File \"/home/aizat/anaconda3/envs/fyp/lib/python3.7/site-packages/lightgbm/engine.py\", line 249, in train\n",
      "    booster.update(fobj=fobj)\n",
      "  File \"/home/aizat/anaconda3/envs/fyp/lib/python3.7/site-packages/lightgbm/basic.py\", line 2645, in update\n",
      "    ctypes.byref(is_finished)))\n",
      "  File \"/home/aizat/anaconda3/envs/fyp/lib/python3.7/site-packages/lightgbm/basic.py\", line 110, in _safe_call\n",
      "    raise LightGBMError(_LIB.LGBM_GetLastError().decode('utf-8'))\n",
      "lightgbm.basic.LightGBMError: Check failed: (best_split_info.left_count) > (0) at /home/aizat/LightGBM/src/treelearner/serial_tree_learner.cpp, line 653 .\n",
      "\n",
      "\n",
      "  FitFailedWarning)\n"
     ]
    },
    {
     "name": "stdout",
     "output_type": "stream",
     "text": [
      "[CV 2/3] END bagging_fraction=0.5, boosting_type=goss, feature_fraction=0.8, learning_rate=0.5, num_iterations=500, num_leaves=4096, objective=binary; total time=  33.5s\n"
     ]
    },
    {
     "name": "stderr",
     "output_type": "stream",
     "text": [
      "/home/aizat/anaconda3/envs/fyp/lib/python3.7/site-packages/lightgbm/engine.py:148: UserWarning: Found `num_iterations` in params. Will use it instead of argument\n",
      "  _log_warning(\"Found `{}` in params. Will use it instead of argument\".format(alias))\n",
      "/home/aizat/anaconda3/envs/fyp/lib/python3.7/site-packages/sklearn/model_selection/_validation.py:614: FitFailedWarning: Estimator fit failed. The score on this train-test partition for these parameters will be set to nan. Details: \n",
      "Traceback (most recent call last):\n",
      "  File \"/home/aizat/anaconda3/envs/fyp/lib/python3.7/site-packages/sklearn/model_selection/_validation.py\", line 593, in _fit_and_score\n",
      "    estimator.fit(X_train, y_train, **fit_params)\n",
      "  File \"/home/aizat/anaconda3/envs/fyp/lib/python3.7/site-packages/lightgbm/sklearn.py\", line 895, in fit\n",
      "    callbacks=callbacks, init_model=init_model)\n",
      "  File \"/home/aizat/anaconda3/envs/fyp/lib/python3.7/site-packages/lightgbm/sklearn.py\", line 688, in fit\n",
      "    callbacks=callbacks, init_model=init_model)\n",
      "  File \"/home/aizat/anaconda3/envs/fyp/lib/python3.7/site-packages/lightgbm/engine.py\", line 249, in train\n",
      "    booster.update(fobj=fobj)\n",
      "  File \"/home/aizat/anaconda3/envs/fyp/lib/python3.7/site-packages/lightgbm/basic.py\", line 2645, in update\n",
      "    ctypes.byref(is_finished)))\n",
      "  File \"/home/aizat/anaconda3/envs/fyp/lib/python3.7/site-packages/lightgbm/basic.py\", line 110, in _safe_call\n",
      "    raise LightGBMError(_LIB.LGBM_GetLastError().decode('utf-8'))\n",
      "lightgbm.basic.LightGBMError: Check failed: (best_split_info.left_count) > (0) at /home/aizat/LightGBM/src/treelearner/serial_tree_learner.cpp, line 653 .\n",
      "\n",
      "\n",
      "  FitFailedWarning)\n"
     ]
    },
    {
     "name": "stdout",
     "output_type": "stream",
     "text": [
      "[CV 3/3] END bagging_fraction=0.5, boosting_type=goss, feature_fraction=0.8, learning_rate=0.5, num_iterations=500, num_leaves=4096, objective=binary; total time=  45.2s\n"
     ]
    },
    {
     "name": "stderr",
     "output_type": "stream",
     "text": [
      "/home/aizat/anaconda3/envs/fyp/lib/python3.7/site-packages/lightgbm/engine.py:148: UserWarning: Found `num_iterations` in params. Will use it instead of argument\n",
      "  _log_warning(\"Found `{}` in params. Will use it instead of argument\".format(alias))\n"
     ]
    },
    {
     "name": "stdout",
     "output_type": "stream",
     "text": [
      "[CV 1/3] END bagging_fraction=0.5, boosting_type=goss, feature_fraction=0.8, learning_rate=0.5, num_iterations=1000, num_leaves=512, objective=binary; total time= 1.6min\n"
     ]
    },
    {
     "name": "stderr",
     "output_type": "stream",
     "text": [
      "/home/aizat/anaconda3/envs/fyp/lib/python3.7/site-packages/lightgbm/engine.py:148: UserWarning: Found `num_iterations` in params. Will use it instead of argument\n",
      "  _log_warning(\"Found `{}` in params. Will use it instead of argument\".format(alias))\n"
     ]
    },
    {
     "name": "stdout",
     "output_type": "stream",
     "text": [
      "[LightGBM] [Warning] feature_fraction is set=0.8, colsample_bytree=1.0 will be ignored. Current value: feature_fraction=0.8\n",
      "[LightGBM] [Warning] bagging_fraction is set=0.5, subsample=1.0 will be ignored. Current value: bagging_fraction=0.5\n",
      "[CV 2/3] END bagging_fraction=0.5, boosting_type=goss, feature_fraction=0.8, learning_rate=0.5, num_iterations=1000, num_leaves=512, objective=binary; total time= 2.6min\n"
     ]
    },
    {
     "name": "stderr",
     "output_type": "stream",
     "text": [
      "/home/aizat/anaconda3/envs/fyp/lib/python3.7/site-packages/lightgbm/engine.py:148: UserWarning: Found `num_iterations` in params. Will use it instead of argument\n",
      "  _log_warning(\"Found `{}` in params. Will use it instead of argument\".format(alias))\n"
     ]
    },
    {
     "name": "stdout",
     "output_type": "stream",
     "text": [
      "[LightGBM] [Warning] feature_fraction is set=0.8, colsample_bytree=1.0 will be ignored. Current value: feature_fraction=0.8\n",
      "[LightGBM] [Warning] bagging_fraction is set=0.5, subsample=1.0 will be ignored. Current value: bagging_fraction=0.5\n",
      "[CV 3/3] END bagging_fraction=0.5, boosting_type=goss, feature_fraction=0.8, learning_rate=0.5, num_iterations=1000, num_leaves=512, objective=binary; total time= 4.5min\n"
     ]
    },
    {
     "name": "stderr",
     "output_type": "stream",
     "text": [
      "/home/aizat/anaconda3/envs/fyp/lib/python3.7/site-packages/lightgbm/engine.py:148: UserWarning: Found `num_iterations` in params. Will use it instead of argument\n",
      "  _log_warning(\"Found `{}` in params. Will use it instead of argument\".format(alias))\n"
     ]
    },
    {
     "name": "stdout",
     "output_type": "stream",
     "text": [
      "[LightGBM] [Warning] feature_fraction is set=0.8, colsample_bytree=1.0 will be ignored. Current value: feature_fraction=0.8\n",
      "[LightGBM] [Warning] bagging_fraction is set=0.5, subsample=1.0 will be ignored. Current value: bagging_fraction=0.5\n",
      "[CV 1/3] END bagging_fraction=0.5, boosting_type=goss, feature_fraction=0.8, learning_rate=0.5, num_iterations=1000, num_leaves=1024, objective=binary; total time= 1.6min\n"
     ]
    },
    {
     "name": "stderr",
     "output_type": "stream",
     "text": [
      "/home/aizat/anaconda3/envs/fyp/lib/python3.7/site-packages/lightgbm/engine.py:148: UserWarning: Found `num_iterations` in params. Will use it instead of argument\n",
      "  _log_warning(\"Found `{}` in params. Will use it instead of argument\".format(alias))\n"
     ]
    },
    {
     "name": "stdout",
     "output_type": "stream",
     "text": [
      "[LightGBM] [Warning] feature_fraction is set=0.8, colsample_bytree=1.0 will be ignored. Current value: feature_fraction=0.8\n",
      "[LightGBM] [Warning] bagging_fraction is set=0.5, subsample=1.0 will be ignored. Current value: bagging_fraction=0.5\n",
      "[CV 2/3] END bagging_fraction=0.5, boosting_type=goss, feature_fraction=0.8, learning_rate=0.5, num_iterations=1000, num_leaves=1024, objective=binary; total time= 2.7min\n"
     ]
    },
    {
     "name": "stderr",
     "output_type": "stream",
     "text": [
      "/home/aizat/anaconda3/envs/fyp/lib/python3.7/site-packages/lightgbm/engine.py:148: UserWarning: Found `num_iterations` in params. Will use it instead of argument\n",
      "  _log_warning(\"Found `{}` in params. Will use it instead of argument\".format(alias))\n"
     ]
    },
    {
     "name": "stdout",
     "output_type": "stream",
     "text": [
      "[LightGBM] [Warning] feature_fraction is set=0.8, colsample_bytree=1.0 will be ignored. Current value: feature_fraction=0.8\n",
      "[LightGBM] [Warning] bagging_fraction is set=0.5, subsample=1.0 will be ignored. Current value: bagging_fraction=0.5\n",
      "[CV 3/3] END bagging_fraction=0.5, boosting_type=goss, feature_fraction=0.8, learning_rate=0.5, num_iterations=1000, num_leaves=1024, objective=binary; total time= 3.7min\n"
     ]
    },
    {
     "name": "stderr",
     "output_type": "stream",
     "text": [
      "/home/aizat/anaconda3/envs/fyp/lib/python3.7/site-packages/lightgbm/engine.py:148: UserWarning: Found `num_iterations` in params. Will use it instead of argument\n",
      "  _log_warning(\"Found `{}` in params. Will use it instead of argument\".format(alias))\n"
     ]
    },
    {
     "name": "stdout",
     "output_type": "stream",
     "text": [
      "[LightGBM] [Warning] feature_fraction is set=0.8, colsample_bytree=1.0 will be ignored. Current value: feature_fraction=0.8\n",
      "[LightGBM] [Warning] bagging_fraction is set=0.5, subsample=1.0 will be ignored. Current value: bagging_fraction=0.5\n"
     ]
    },
    {
     "name": "stderr",
     "output_type": "stream",
     "text": [
      "/home/aizat/anaconda3/envs/fyp/lib/python3.7/site-packages/sklearn/model_selection/_validation.py:614: FitFailedWarning: Estimator fit failed. The score on this train-test partition for these parameters will be set to nan. Details: \n",
      "Traceback (most recent call last):\n",
      "  File \"/home/aizat/anaconda3/envs/fyp/lib/python3.7/site-packages/sklearn/model_selection/_validation.py\", line 593, in _fit_and_score\n",
      "    estimator.fit(X_train, y_train, **fit_params)\n",
      "  File \"/home/aizat/anaconda3/envs/fyp/lib/python3.7/site-packages/lightgbm/sklearn.py\", line 895, in fit\n",
      "    callbacks=callbacks, init_model=init_model)\n",
      "  File \"/home/aizat/anaconda3/envs/fyp/lib/python3.7/site-packages/lightgbm/sklearn.py\", line 688, in fit\n",
      "    callbacks=callbacks, init_model=init_model)\n",
      "  File \"/home/aizat/anaconda3/envs/fyp/lib/python3.7/site-packages/lightgbm/engine.py\", line 249, in train\n",
      "    booster.update(fobj=fobj)\n",
      "  File \"/home/aizat/anaconda3/envs/fyp/lib/python3.7/site-packages/lightgbm/basic.py\", line 2645, in update\n",
      "    ctypes.byref(is_finished)))\n",
      "  File \"/home/aizat/anaconda3/envs/fyp/lib/python3.7/site-packages/lightgbm/basic.py\", line 110, in _safe_call\n",
      "    raise LightGBMError(_LIB.LGBM_GetLastError().decode('utf-8'))\n",
      "lightgbm.basic.LightGBMError: Check failed: (best_split_info.left_count) > (0) at /home/aizat/LightGBM/src/treelearner/serial_tree_learner.cpp, line 653 .\n",
      "\n",
      "\n",
      "  FitFailedWarning)\n"
     ]
    },
    {
     "name": "stdout",
     "output_type": "stream",
     "text": [
      "[CV 1/3] END bagging_fraction=0.5, boosting_type=goss, feature_fraction=0.8, learning_rate=0.5, num_iterations=1000, num_leaves=2048, objective=binary; total time=  18.2s\n"
     ]
    },
    {
     "name": "stderr",
     "output_type": "stream",
     "text": [
      "/home/aizat/anaconda3/envs/fyp/lib/python3.7/site-packages/lightgbm/engine.py:148: UserWarning: Found `num_iterations` in params. Will use it instead of argument\n",
      "  _log_warning(\"Found `{}` in params. Will use it instead of argument\".format(alias))\n"
     ]
    },
    {
     "name": "stdout",
     "output_type": "stream",
     "text": [
      "[CV 2/3] END bagging_fraction=0.5, boosting_type=goss, feature_fraction=0.8, learning_rate=0.5, num_iterations=1000, num_leaves=2048, objective=binary; total time= 2.9min\n"
     ]
    },
    {
     "name": "stderr",
     "output_type": "stream",
     "text": [
      "/home/aizat/anaconda3/envs/fyp/lib/python3.7/site-packages/lightgbm/engine.py:148: UserWarning: Found `num_iterations` in params. Will use it instead of argument\n",
      "  _log_warning(\"Found `{}` in params. Will use it instead of argument\".format(alias))\n"
     ]
    },
    {
     "name": "stdout",
     "output_type": "stream",
     "text": [
      "[LightGBM] [Warning] feature_fraction is set=0.8, colsample_bytree=1.0 will be ignored. Current value: feature_fraction=0.8\n",
      "[LightGBM] [Warning] bagging_fraction is set=0.5, subsample=1.0 will be ignored. Current value: bagging_fraction=0.5\n"
     ]
    },
    {
     "name": "stderr",
     "output_type": "stream",
     "text": [
      "/home/aizat/anaconda3/envs/fyp/lib/python3.7/site-packages/sklearn/model_selection/_validation.py:614: FitFailedWarning: Estimator fit failed. The score on this train-test partition for these parameters will be set to nan. Details: \n",
      "Traceback (most recent call last):\n",
      "  File \"/home/aizat/anaconda3/envs/fyp/lib/python3.7/site-packages/sklearn/model_selection/_validation.py\", line 593, in _fit_and_score\n",
      "    estimator.fit(X_train, y_train, **fit_params)\n",
      "  File \"/home/aizat/anaconda3/envs/fyp/lib/python3.7/site-packages/lightgbm/sklearn.py\", line 895, in fit\n",
      "    callbacks=callbacks, init_model=init_model)\n",
      "  File \"/home/aizat/anaconda3/envs/fyp/lib/python3.7/site-packages/lightgbm/sklearn.py\", line 688, in fit\n",
      "    callbacks=callbacks, init_model=init_model)\n",
      "  File \"/home/aizat/anaconda3/envs/fyp/lib/python3.7/site-packages/lightgbm/engine.py\", line 249, in train\n",
      "    booster.update(fobj=fobj)\n",
      "  File \"/home/aizat/anaconda3/envs/fyp/lib/python3.7/site-packages/lightgbm/basic.py\", line 2645, in update\n",
      "    ctypes.byref(is_finished)))\n",
      "  File \"/home/aizat/anaconda3/envs/fyp/lib/python3.7/site-packages/lightgbm/basic.py\", line 110, in _safe_call\n",
      "    raise LightGBMError(_LIB.LGBM_GetLastError().decode('utf-8'))\n",
      "lightgbm.basic.LightGBMError: Check failed: (best_split_info.left_count) > (0) at /home/aizat/LightGBM/src/treelearner/serial_tree_learner.cpp, line 653 .\n",
      "\n",
      "\n",
      "  FitFailedWarning)\n"
     ]
    },
    {
     "name": "stdout",
     "output_type": "stream",
     "text": [
      "[CV 3/3] END bagging_fraction=0.5, boosting_type=goss, feature_fraction=0.8, learning_rate=0.5, num_iterations=1000, num_leaves=2048, objective=binary; total time=  32.4s\n"
     ]
    },
    {
     "name": "stderr",
     "output_type": "stream",
     "text": [
      "/home/aizat/anaconda3/envs/fyp/lib/python3.7/site-packages/lightgbm/engine.py:148: UserWarning: Found `num_iterations` in params. Will use it instead of argument\n",
      "  _log_warning(\"Found `{}` in params. Will use it instead of argument\".format(alias))\n"
     ]
    },
    {
     "name": "stdout",
     "output_type": "stream",
     "text": [
      "[CV 1/3] END bagging_fraction=0.5, boosting_type=goss, feature_fraction=0.8, learning_rate=0.5, num_iterations=1000, num_leaves=4096, objective=binary; total time= 2.0min\n"
     ]
    },
    {
     "name": "stderr",
     "output_type": "stream",
     "text": [
      "/home/aizat/anaconda3/envs/fyp/lib/python3.7/site-packages/lightgbm/engine.py:148: UserWarning: Found `num_iterations` in params. Will use it instead of argument\n",
      "  _log_warning(\"Found `{}` in params. Will use it instead of argument\".format(alias))\n"
     ]
    },
    {
     "name": "stdout",
     "output_type": "stream",
     "text": [
      "[LightGBM] [Warning] feature_fraction is set=0.8, colsample_bytree=1.0 will be ignored. Current value: feature_fraction=0.8\n",
      "[LightGBM] [Warning] bagging_fraction is set=0.5, subsample=1.0 will be ignored. Current value: bagging_fraction=0.5\n"
     ]
    },
    {
     "name": "stderr",
     "output_type": "stream",
     "text": [
      "/home/aizat/anaconda3/envs/fyp/lib/python3.7/site-packages/sklearn/model_selection/_validation.py:614: FitFailedWarning: Estimator fit failed. The score on this train-test partition for these parameters will be set to nan. Details: \n",
      "Traceback (most recent call last):\n",
      "  File \"/home/aizat/anaconda3/envs/fyp/lib/python3.7/site-packages/sklearn/model_selection/_validation.py\", line 593, in _fit_and_score\n",
      "    estimator.fit(X_train, y_train, **fit_params)\n",
      "  File \"/home/aizat/anaconda3/envs/fyp/lib/python3.7/site-packages/lightgbm/sklearn.py\", line 895, in fit\n",
      "    callbacks=callbacks, init_model=init_model)\n",
      "  File \"/home/aizat/anaconda3/envs/fyp/lib/python3.7/site-packages/lightgbm/sklearn.py\", line 688, in fit\n",
      "    callbacks=callbacks, init_model=init_model)\n",
      "  File \"/home/aizat/anaconda3/envs/fyp/lib/python3.7/site-packages/lightgbm/engine.py\", line 249, in train\n",
      "    booster.update(fobj=fobj)\n",
      "  File \"/home/aizat/anaconda3/envs/fyp/lib/python3.7/site-packages/lightgbm/basic.py\", line 2645, in update\n",
      "    ctypes.byref(is_finished)))\n",
      "  File \"/home/aizat/anaconda3/envs/fyp/lib/python3.7/site-packages/lightgbm/basic.py\", line 110, in _safe_call\n",
      "    raise LightGBMError(_LIB.LGBM_GetLastError().decode('utf-8'))\n",
      "lightgbm.basic.LightGBMError: Check failed: (best_split_info.left_count) > (0) at /home/aizat/LightGBM/src/treelearner/serial_tree_learner.cpp, line 653 .\n",
      "\n",
      "\n",
      "  FitFailedWarning)\n"
     ]
    },
    {
     "name": "stdout",
     "output_type": "stream",
     "text": [
      "[CV 2/3] END bagging_fraction=0.5, boosting_type=goss, feature_fraction=0.8, learning_rate=0.5, num_iterations=1000, num_leaves=4096, objective=binary; total time=  34.1s\n"
     ]
    },
    {
     "name": "stderr",
     "output_type": "stream",
     "text": [
      "/home/aizat/anaconda3/envs/fyp/lib/python3.7/site-packages/lightgbm/engine.py:148: UserWarning: Found `num_iterations` in params. Will use it instead of argument\n",
      "  _log_warning(\"Found `{}` in params. Will use it instead of argument\".format(alias))\n",
      "/home/aizat/anaconda3/envs/fyp/lib/python3.7/site-packages/sklearn/model_selection/_validation.py:614: FitFailedWarning: Estimator fit failed. The score on this train-test partition for these parameters will be set to nan. Details: \n",
      "Traceback (most recent call last):\n",
      "  File \"/home/aizat/anaconda3/envs/fyp/lib/python3.7/site-packages/sklearn/model_selection/_validation.py\", line 593, in _fit_and_score\n",
      "    estimator.fit(X_train, y_train, **fit_params)\n",
      "  File \"/home/aizat/anaconda3/envs/fyp/lib/python3.7/site-packages/lightgbm/sklearn.py\", line 895, in fit\n",
      "    callbacks=callbacks, init_model=init_model)\n",
      "  File \"/home/aizat/anaconda3/envs/fyp/lib/python3.7/site-packages/lightgbm/sklearn.py\", line 688, in fit\n",
      "    callbacks=callbacks, init_model=init_model)\n",
      "  File \"/home/aizat/anaconda3/envs/fyp/lib/python3.7/site-packages/lightgbm/engine.py\", line 249, in train\n",
      "    booster.update(fobj=fobj)\n",
      "  File \"/home/aizat/anaconda3/envs/fyp/lib/python3.7/site-packages/lightgbm/basic.py\", line 2645, in update\n",
      "    ctypes.byref(is_finished)))\n",
      "  File \"/home/aizat/anaconda3/envs/fyp/lib/python3.7/site-packages/lightgbm/basic.py\", line 110, in _safe_call\n",
      "    raise LightGBMError(_LIB.LGBM_GetLastError().decode('utf-8'))\n",
      "lightgbm.basic.LightGBMError: Check failed: (best_split_info.left_count) > (0) at /home/aizat/LightGBM/src/treelearner/serial_tree_learner.cpp, line 653 .\n",
      "\n",
      "\n",
      "  FitFailedWarning)\n"
     ]
    },
    {
     "name": "stdout",
     "output_type": "stream",
     "text": [
      "[CV 3/3] END bagging_fraction=0.5, boosting_type=goss, feature_fraction=0.8, learning_rate=0.5, num_iterations=1000, num_leaves=4096, objective=binary; total time=  47.0s\n"
     ]
    },
    {
     "name": "stderr",
     "output_type": "stream",
     "text": [
      "/home/aizat/anaconda3/envs/fyp/lib/python3.7/site-packages/lightgbm/engine.py:148: UserWarning: Found `num_iterations` in params. Will use it instead of argument\n",
      "  _log_warning(\"Found `{}` in params. Will use it instead of argument\".format(alias))\n"
     ]
    },
    {
     "name": "stdout",
     "output_type": "stream",
     "text": [
      "[CV 1/3] END bagging_fraction=0.5, boosting_type=goss, feature_fraction=0.8, learning_rate=0.5, num_iterations=1500, num_leaves=512, objective=binary; total time= 2.0min\n"
     ]
    },
    {
     "name": "stderr",
     "output_type": "stream",
     "text": [
      "/home/aizat/anaconda3/envs/fyp/lib/python3.7/site-packages/lightgbm/engine.py:148: UserWarning: Found `num_iterations` in params. Will use it instead of argument\n",
      "  _log_warning(\"Found `{}` in params. Will use it instead of argument\".format(alias))\n"
     ]
    },
    {
     "name": "stdout",
     "output_type": "stream",
     "text": [
      "[LightGBM] [Warning] feature_fraction is set=0.8, colsample_bytree=1.0 will be ignored. Current value: feature_fraction=0.8\n",
      "[LightGBM] [Warning] bagging_fraction is set=0.5, subsample=1.0 will be ignored. Current value: bagging_fraction=0.5\n",
      "[CV 2/3] END bagging_fraction=0.5, boosting_type=goss, feature_fraction=0.8, learning_rate=0.5, num_iterations=1500, num_leaves=512, objective=binary; total time= 3.5min\n"
     ]
    },
    {
     "name": "stderr",
     "output_type": "stream",
     "text": [
      "/home/aizat/anaconda3/envs/fyp/lib/python3.7/site-packages/lightgbm/engine.py:148: UserWarning: Found `num_iterations` in params. Will use it instead of argument\n",
      "  _log_warning(\"Found `{}` in params. Will use it instead of argument\".format(alias))\n"
     ]
    },
    {
     "name": "stdout",
     "output_type": "stream",
     "text": [
      "[LightGBM] [Warning] feature_fraction is set=0.8, colsample_bytree=1.0 will be ignored. Current value: feature_fraction=0.8\n",
      "[LightGBM] [Warning] bagging_fraction is set=0.5, subsample=1.0 will be ignored. Current value: bagging_fraction=0.5\n",
      "[CV 3/3] END bagging_fraction=0.5, boosting_type=goss, feature_fraction=0.8, learning_rate=0.5, num_iterations=1500, num_leaves=512, objective=binary; total time= 4.7min\n"
     ]
    },
    {
     "name": "stderr",
     "output_type": "stream",
     "text": [
      "/home/aizat/anaconda3/envs/fyp/lib/python3.7/site-packages/lightgbm/engine.py:148: UserWarning: Found `num_iterations` in params. Will use it instead of argument\n",
      "  _log_warning(\"Found `{}` in params. Will use it instead of argument\".format(alias))\n"
     ]
    },
    {
     "name": "stdout",
     "output_type": "stream",
     "text": [
      "[LightGBM] [Warning] feature_fraction is set=0.8, colsample_bytree=1.0 will be ignored. Current value: feature_fraction=0.8\n",
      "[LightGBM] [Warning] bagging_fraction is set=0.5, subsample=1.0 will be ignored. Current value: bagging_fraction=0.5\n",
      "[CV 1/3] END bagging_fraction=0.5, boosting_type=goss, feature_fraction=0.8, learning_rate=0.5, num_iterations=1500, num_leaves=1024, objective=binary; total time= 2.1min\n"
     ]
    },
    {
     "name": "stderr",
     "output_type": "stream",
     "text": [
      "/home/aizat/anaconda3/envs/fyp/lib/python3.7/site-packages/lightgbm/engine.py:148: UserWarning: Found `num_iterations` in params. Will use it instead of argument\n",
      "  _log_warning(\"Found `{}` in params. Will use it instead of argument\".format(alias))\n"
     ]
    },
    {
     "name": "stdout",
     "output_type": "stream",
     "text": [
      "[LightGBM] [Warning] feature_fraction is set=0.8, colsample_bytree=1.0 will be ignored. Current value: feature_fraction=0.8\n",
      "[LightGBM] [Warning] bagging_fraction is set=0.5, subsample=1.0 will be ignored. Current value: bagging_fraction=0.5\n",
      "[CV 2/3] END bagging_fraction=0.5, boosting_type=goss, feature_fraction=0.8, learning_rate=0.5, num_iterations=1500, num_leaves=1024, objective=binary; total time= 3.5min\n"
     ]
    },
    {
     "name": "stderr",
     "output_type": "stream",
     "text": [
      "/home/aizat/anaconda3/envs/fyp/lib/python3.7/site-packages/lightgbm/engine.py:148: UserWarning: Found `num_iterations` in params. Will use it instead of argument\n",
      "  _log_warning(\"Found `{}` in params. Will use it instead of argument\".format(alias))\n"
     ]
    },
    {
     "name": "stdout",
     "output_type": "stream",
     "text": [
      "[LightGBM] [Warning] feature_fraction is set=0.8, colsample_bytree=1.0 will be ignored. Current value: feature_fraction=0.8\n",
      "[LightGBM] [Warning] bagging_fraction is set=0.5, subsample=1.0 will be ignored. Current value: bagging_fraction=0.5\n",
      "[CV 3/3] END bagging_fraction=0.5, boosting_type=goss, feature_fraction=0.8, learning_rate=0.5, num_iterations=1500, num_leaves=1024, objective=binary; total time= 4.6min\n"
     ]
    },
    {
     "name": "stderr",
     "output_type": "stream",
     "text": [
      "/home/aizat/anaconda3/envs/fyp/lib/python3.7/site-packages/lightgbm/engine.py:148: UserWarning: Found `num_iterations` in params. Will use it instead of argument\n",
      "  _log_warning(\"Found `{}` in params. Will use it instead of argument\".format(alias))\n"
     ]
    },
    {
     "name": "stdout",
     "output_type": "stream",
     "text": [
      "[LightGBM] [Warning] feature_fraction is set=0.8, colsample_bytree=1.0 will be ignored. Current value: feature_fraction=0.8\n",
      "[LightGBM] [Warning] bagging_fraction is set=0.5, subsample=1.0 will be ignored. Current value: bagging_fraction=0.5\n"
     ]
    },
    {
     "name": "stderr",
     "output_type": "stream",
     "text": [
      "/home/aizat/anaconda3/envs/fyp/lib/python3.7/site-packages/sklearn/model_selection/_validation.py:614: FitFailedWarning: Estimator fit failed. The score on this train-test partition for these parameters will be set to nan. Details: \n",
      "Traceback (most recent call last):\n",
      "  File \"/home/aizat/anaconda3/envs/fyp/lib/python3.7/site-packages/sklearn/model_selection/_validation.py\", line 593, in _fit_and_score\n",
      "    estimator.fit(X_train, y_train, **fit_params)\n",
      "  File \"/home/aizat/anaconda3/envs/fyp/lib/python3.7/site-packages/lightgbm/sklearn.py\", line 895, in fit\n",
      "    callbacks=callbacks, init_model=init_model)\n",
      "  File \"/home/aizat/anaconda3/envs/fyp/lib/python3.7/site-packages/lightgbm/sklearn.py\", line 688, in fit\n",
      "    callbacks=callbacks, init_model=init_model)\n",
      "  File \"/home/aizat/anaconda3/envs/fyp/lib/python3.7/site-packages/lightgbm/engine.py\", line 249, in train\n",
      "    booster.update(fobj=fobj)\n",
      "  File \"/home/aizat/anaconda3/envs/fyp/lib/python3.7/site-packages/lightgbm/basic.py\", line 2645, in update\n",
      "    ctypes.byref(is_finished)))\n",
      "  File \"/home/aizat/anaconda3/envs/fyp/lib/python3.7/site-packages/lightgbm/basic.py\", line 110, in _safe_call\n",
      "    raise LightGBMError(_LIB.LGBM_GetLastError().decode('utf-8'))\n",
      "lightgbm.basic.LightGBMError: Check failed: (best_split_info.left_count) > (0) at /home/aizat/LightGBM/src/treelearner/serial_tree_learner.cpp, line 653 .\n",
      "\n",
      "\n",
      "  FitFailedWarning)\n"
     ]
    },
    {
     "name": "stdout",
     "output_type": "stream",
     "text": [
      "[CV 1/3] END bagging_fraction=0.5, boosting_type=goss, feature_fraction=0.8, learning_rate=0.5, num_iterations=1500, num_leaves=2048, objective=binary; total time=  20.8s\n"
     ]
    },
    {
     "name": "stderr",
     "output_type": "stream",
     "text": [
      "/home/aizat/anaconda3/envs/fyp/lib/python3.7/site-packages/lightgbm/engine.py:148: UserWarning: Found `num_iterations` in params. Will use it instead of argument\n",
      "  _log_warning(\"Found `{}` in params. Will use it instead of argument\".format(alias))\n"
     ]
    },
    {
     "name": "stdout",
     "output_type": "stream",
     "text": [
      "[CV 2/3] END bagging_fraction=0.5, boosting_type=goss, feature_fraction=0.8, learning_rate=0.5, num_iterations=1500, num_leaves=2048, objective=binary; total time= 3.7min\n"
     ]
    },
    {
     "name": "stderr",
     "output_type": "stream",
     "text": [
      "/home/aizat/anaconda3/envs/fyp/lib/python3.7/site-packages/lightgbm/engine.py:148: UserWarning: Found `num_iterations` in params. Will use it instead of argument\n",
      "  _log_warning(\"Found `{}` in params. Will use it instead of argument\".format(alias))\n"
     ]
    },
    {
     "name": "stdout",
     "output_type": "stream",
     "text": [
      "[LightGBM] [Warning] feature_fraction is set=0.8, colsample_bytree=1.0 will be ignored. Current value: feature_fraction=0.8\n",
      "[LightGBM] [Warning] bagging_fraction is set=0.5, subsample=1.0 will be ignored. Current value: bagging_fraction=0.5\n"
     ]
    },
    {
     "name": "stderr",
     "output_type": "stream",
     "text": [
      "/home/aizat/anaconda3/envs/fyp/lib/python3.7/site-packages/sklearn/model_selection/_validation.py:614: FitFailedWarning: Estimator fit failed. The score on this train-test partition for these parameters will be set to nan. Details: \n",
      "Traceback (most recent call last):\n",
      "  File \"/home/aizat/anaconda3/envs/fyp/lib/python3.7/site-packages/sklearn/model_selection/_validation.py\", line 593, in _fit_and_score\n",
      "    estimator.fit(X_train, y_train, **fit_params)\n",
      "  File \"/home/aizat/anaconda3/envs/fyp/lib/python3.7/site-packages/lightgbm/sklearn.py\", line 895, in fit\n",
      "    callbacks=callbacks, init_model=init_model)\n",
      "  File \"/home/aizat/anaconda3/envs/fyp/lib/python3.7/site-packages/lightgbm/sklearn.py\", line 688, in fit\n",
      "    callbacks=callbacks, init_model=init_model)\n",
      "  File \"/home/aizat/anaconda3/envs/fyp/lib/python3.7/site-packages/lightgbm/engine.py\", line 249, in train\n",
      "    booster.update(fobj=fobj)\n",
      "  File \"/home/aizat/anaconda3/envs/fyp/lib/python3.7/site-packages/lightgbm/basic.py\", line 2645, in update\n",
      "    ctypes.byref(is_finished)))\n",
      "  File \"/home/aizat/anaconda3/envs/fyp/lib/python3.7/site-packages/lightgbm/basic.py\", line 110, in _safe_call\n",
      "    raise LightGBMError(_LIB.LGBM_GetLastError().decode('utf-8'))\n",
      "lightgbm.basic.LightGBMError: Check failed: (best_split_info.left_count) > (0) at /home/aizat/LightGBM/src/treelearner/serial_tree_learner.cpp, line 653 .\n",
      "\n",
      "\n",
      "  FitFailedWarning)\n"
     ]
    },
    {
     "name": "stdout",
     "output_type": "stream",
     "text": [
      "[CV 3/3] END bagging_fraction=0.5, boosting_type=goss, feature_fraction=0.8, learning_rate=0.5, num_iterations=1500, num_leaves=2048, objective=binary; total time=  31.4s\n"
     ]
    },
    {
     "name": "stderr",
     "output_type": "stream",
     "text": [
      "/home/aizat/anaconda3/envs/fyp/lib/python3.7/site-packages/lightgbm/engine.py:148: UserWarning: Found `num_iterations` in params. Will use it instead of argument\n",
      "  _log_warning(\"Found `{}` in params. Will use it instead of argument\".format(alias))\n"
     ]
    },
    {
     "name": "stdout",
     "output_type": "stream",
     "text": [
      "[CV 1/3] END bagging_fraction=0.5, boosting_type=goss, feature_fraction=0.8, learning_rate=0.5, num_iterations=1500, num_leaves=4096, objective=binary; total time= 2.4min\n"
     ]
    },
    {
     "name": "stderr",
     "output_type": "stream",
     "text": [
      "/home/aizat/anaconda3/envs/fyp/lib/python3.7/site-packages/lightgbm/engine.py:148: UserWarning: Found `num_iterations` in params. Will use it instead of argument\n",
      "  _log_warning(\"Found `{}` in params. Will use it instead of argument\".format(alias))\n"
     ]
    },
    {
     "name": "stdout",
     "output_type": "stream",
     "text": [
      "[LightGBM] [Warning] feature_fraction is set=0.8, colsample_bytree=1.0 will be ignored. Current value: feature_fraction=0.8\n",
      "[LightGBM] [Warning] bagging_fraction is set=0.5, subsample=1.0 will be ignored. Current value: bagging_fraction=0.5\n"
     ]
    },
    {
     "name": "stderr",
     "output_type": "stream",
     "text": [
      "/home/aizat/anaconda3/envs/fyp/lib/python3.7/site-packages/sklearn/model_selection/_validation.py:614: FitFailedWarning: Estimator fit failed. The score on this train-test partition for these parameters will be set to nan. Details: \n",
      "Traceback (most recent call last):\n",
      "  File \"/home/aizat/anaconda3/envs/fyp/lib/python3.7/site-packages/sklearn/model_selection/_validation.py\", line 593, in _fit_and_score\n",
      "    estimator.fit(X_train, y_train, **fit_params)\n",
      "  File \"/home/aizat/anaconda3/envs/fyp/lib/python3.7/site-packages/lightgbm/sklearn.py\", line 895, in fit\n",
      "    callbacks=callbacks, init_model=init_model)\n",
      "  File \"/home/aizat/anaconda3/envs/fyp/lib/python3.7/site-packages/lightgbm/sklearn.py\", line 688, in fit\n",
      "    callbacks=callbacks, init_model=init_model)\n",
      "  File \"/home/aizat/anaconda3/envs/fyp/lib/python3.7/site-packages/lightgbm/engine.py\", line 249, in train\n",
      "    booster.update(fobj=fobj)\n",
      "  File \"/home/aizat/anaconda3/envs/fyp/lib/python3.7/site-packages/lightgbm/basic.py\", line 2645, in update\n",
      "    ctypes.byref(is_finished)))\n",
      "  File \"/home/aizat/anaconda3/envs/fyp/lib/python3.7/site-packages/lightgbm/basic.py\", line 110, in _safe_call\n",
      "    raise LightGBMError(_LIB.LGBM_GetLastError().decode('utf-8'))\n",
      "lightgbm.basic.LightGBMError: Check failed: (best_split_info.left_count) > (0) at /home/aizat/LightGBM/src/treelearner/serial_tree_learner.cpp, line 653 .\n",
      "\n",
      "\n",
      "  FitFailedWarning)\n"
     ]
    },
    {
     "name": "stdout",
     "output_type": "stream",
     "text": [
      "[CV 2/3] END bagging_fraction=0.5, boosting_type=goss, feature_fraction=0.8, learning_rate=0.5, num_iterations=1500, num_leaves=4096, objective=binary; total time=  29.6s\n"
     ]
    },
    {
     "name": "stderr",
     "output_type": "stream",
     "text": [
      "/home/aizat/anaconda3/envs/fyp/lib/python3.7/site-packages/lightgbm/engine.py:148: UserWarning: Found `num_iterations` in params. Will use it instead of argument\n",
      "  _log_warning(\"Found `{}` in params. Will use it instead of argument\".format(alias))\n",
      "/home/aizat/anaconda3/envs/fyp/lib/python3.7/site-packages/sklearn/model_selection/_validation.py:614: FitFailedWarning: Estimator fit failed. The score on this train-test partition for these parameters will be set to nan. Details: \n",
      "Traceback (most recent call last):\n",
      "  File \"/home/aizat/anaconda3/envs/fyp/lib/python3.7/site-packages/sklearn/model_selection/_validation.py\", line 593, in _fit_and_score\n",
      "    estimator.fit(X_train, y_train, **fit_params)\n",
      "  File \"/home/aizat/anaconda3/envs/fyp/lib/python3.7/site-packages/lightgbm/sklearn.py\", line 895, in fit\n",
      "    callbacks=callbacks, init_model=init_model)\n",
      "  File \"/home/aizat/anaconda3/envs/fyp/lib/python3.7/site-packages/lightgbm/sklearn.py\", line 688, in fit\n",
      "    callbacks=callbacks, init_model=init_model)\n",
      "  File \"/home/aizat/anaconda3/envs/fyp/lib/python3.7/site-packages/lightgbm/engine.py\", line 249, in train\n",
      "    booster.update(fobj=fobj)\n",
      "  File \"/home/aizat/anaconda3/envs/fyp/lib/python3.7/site-packages/lightgbm/basic.py\", line 2645, in update\n",
      "    ctypes.byref(is_finished)))\n",
      "  File \"/home/aizat/anaconda3/envs/fyp/lib/python3.7/site-packages/lightgbm/basic.py\", line 110, in _safe_call\n",
      "    raise LightGBMError(_LIB.LGBM_GetLastError().decode('utf-8'))\n",
      "lightgbm.basic.LightGBMError: Check failed: (best_split_info.left_count) > (0) at /home/aizat/LightGBM/src/treelearner/serial_tree_learner.cpp, line 653 .\n",
      "\n",
      "\n",
      "  FitFailedWarning)\n"
     ]
    },
    {
     "name": "stdout",
     "output_type": "stream",
     "text": [
      "[CV 3/3] END bagging_fraction=0.5, boosting_type=goss, feature_fraction=0.8, learning_rate=0.5, num_iterations=1500, num_leaves=4096, objective=binary; total time=  35.8s\n"
     ]
    },
    {
     "name": "stderr",
     "output_type": "stream",
     "text": [
      "/home/aizat/anaconda3/envs/fyp/lib/python3.7/site-packages/lightgbm/engine.py:148: UserWarning: Found `num_iterations` in params. Will use it instead of argument\n",
      "  _log_warning(\"Found `{}` in params. Will use it instead of argument\".format(alias))\n"
     ]
    },
    {
     "name": "stdout",
     "output_type": "stream",
     "text": [
      "[CV 1/3] END bagging_fraction=0.5, boosting_type=goss, feature_fraction=1.0, learning_rate=0.005, num_iterations=500, num_leaves=512, objective=binary; total time= 3.5min\n"
     ]
    },
    {
     "name": "stderr",
     "output_type": "stream",
     "text": [
      "/home/aizat/anaconda3/envs/fyp/lib/python3.7/site-packages/lightgbm/engine.py:148: UserWarning: Found `num_iterations` in params. Will use it instead of argument\n",
      "  _log_warning(\"Found `{}` in params. Will use it instead of argument\".format(alias))\n"
     ]
    },
    {
     "name": "stdout",
     "output_type": "stream",
     "text": [
      "[LightGBM] [Warning] feature_fraction is set=1.0, colsample_bytree=1.0 will be ignored. Current value: feature_fraction=1.0\n",
      "[LightGBM] [Warning] bagging_fraction is set=0.5, subsample=1.0 will be ignored. Current value: bagging_fraction=0.5\n",
      "[CV 2/3] END bagging_fraction=0.5, boosting_type=goss, feature_fraction=1.0, learning_rate=0.005, num_iterations=500, num_leaves=512, objective=binary; total time= 4.4min\n"
     ]
    },
    {
     "name": "stderr",
     "output_type": "stream",
     "text": [
      "/home/aizat/anaconda3/envs/fyp/lib/python3.7/site-packages/lightgbm/engine.py:148: UserWarning: Found `num_iterations` in params. Will use it instead of argument\n",
      "  _log_warning(\"Found `{}` in params. Will use it instead of argument\".format(alias))\n"
     ]
    },
    {
     "name": "stdout",
     "output_type": "stream",
     "text": [
      "[LightGBM] [Warning] feature_fraction is set=1.0, colsample_bytree=1.0 will be ignored. Current value: feature_fraction=1.0\n",
      "[LightGBM] [Warning] bagging_fraction is set=0.5, subsample=1.0 will be ignored. Current value: bagging_fraction=0.5\n"
     ]
    },
    {
     "name": "stderr",
     "output_type": "stream",
     "text": [
      "/home/aizat/anaconda3/envs/fyp/lib/python3.7/site-packages/sklearn/model_selection/_validation.py:614: FitFailedWarning: Estimator fit failed. The score on this train-test partition for these parameters will be set to nan. Details: \n",
      "Traceback (most recent call last):\n",
      "  File \"/home/aizat/anaconda3/envs/fyp/lib/python3.7/site-packages/sklearn/model_selection/_validation.py\", line 593, in _fit_and_score\n",
      "    estimator.fit(X_train, y_train, **fit_params)\n",
      "  File \"/home/aizat/anaconda3/envs/fyp/lib/python3.7/site-packages/lightgbm/sklearn.py\", line 895, in fit\n",
      "    callbacks=callbacks, init_model=init_model)\n",
      "  File \"/home/aizat/anaconda3/envs/fyp/lib/python3.7/site-packages/lightgbm/sklearn.py\", line 688, in fit\n",
      "    callbacks=callbacks, init_model=init_model)\n",
      "  File \"/home/aizat/anaconda3/envs/fyp/lib/python3.7/site-packages/lightgbm/engine.py\", line 249, in train\n",
      "    booster.update(fobj=fobj)\n",
      "  File \"/home/aizat/anaconda3/envs/fyp/lib/python3.7/site-packages/lightgbm/basic.py\", line 2645, in update\n",
      "    ctypes.byref(is_finished)))\n",
      "  File \"/home/aizat/anaconda3/envs/fyp/lib/python3.7/site-packages/lightgbm/basic.py\", line 110, in _safe_call\n",
      "    raise LightGBMError(_LIB.LGBM_GetLastError().decode('utf-8'))\n",
      "lightgbm.basic.LightGBMError: Check failed: (best_split_info.left_count) > (0) at /home/aizat/LightGBM/src/treelearner/serial_tree_learner.cpp, line 653 .\n",
      "\n",
      "\n",
      "  FitFailedWarning)\n"
     ]
    },
    {
     "name": "stdout",
     "output_type": "stream",
     "text": [
      "[CV 3/3] END bagging_fraction=0.5, boosting_type=goss, feature_fraction=1.0, learning_rate=0.005, num_iterations=500, num_leaves=512, objective=binary; total time=  55.3s\n"
     ]
    },
    {
     "name": "stderr",
     "output_type": "stream",
     "text": [
      "/home/aizat/anaconda3/envs/fyp/lib/python3.7/site-packages/lightgbm/engine.py:148: UserWarning: Found `num_iterations` in params. Will use it instead of argument\n",
      "  _log_warning(\"Found `{}` in params. Will use it instead of argument\".format(alias))\n"
     ]
    },
    {
     "name": "stdout",
     "output_type": "stream",
     "text": [
      "[CV 1/3] END bagging_fraction=0.5, boosting_type=goss, feature_fraction=1.0, learning_rate=0.005, num_iterations=500, num_leaves=1024, objective=binary; total time= 5.5min\n"
     ]
    },
    {
     "name": "stderr",
     "output_type": "stream",
     "text": [
      "/home/aizat/anaconda3/envs/fyp/lib/python3.7/site-packages/lightgbm/engine.py:148: UserWarning: Found `num_iterations` in params. Will use it instead of argument\n",
      "  _log_warning(\"Found `{}` in params. Will use it instead of argument\".format(alias))\n"
     ]
    },
    {
     "name": "stdout",
     "output_type": "stream",
     "text": [
      "[LightGBM] [Warning] feature_fraction is set=1.0, colsample_bytree=1.0 will be ignored. Current value: feature_fraction=1.0\n",
      "[LightGBM] [Warning] bagging_fraction is set=0.5, subsample=1.0 will be ignored. Current value: bagging_fraction=0.5\n"
     ]
    },
    {
     "name": "stderr",
     "output_type": "stream",
     "text": [
      "/home/aizat/anaconda3/envs/fyp/lib/python3.7/site-packages/sklearn/model_selection/_validation.py:614: FitFailedWarning: Estimator fit failed. The score on this train-test partition for these parameters will be set to nan. Details: \n",
      "Traceback (most recent call last):\n",
      "  File \"/home/aizat/anaconda3/envs/fyp/lib/python3.7/site-packages/sklearn/model_selection/_validation.py\", line 593, in _fit_and_score\n",
      "    estimator.fit(X_train, y_train, **fit_params)\n",
      "  File \"/home/aizat/anaconda3/envs/fyp/lib/python3.7/site-packages/lightgbm/sklearn.py\", line 895, in fit\n",
      "    callbacks=callbacks, init_model=init_model)\n",
      "  File \"/home/aizat/anaconda3/envs/fyp/lib/python3.7/site-packages/lightgbm/sklearn.py\", line 688, in fit\n",
      "    callbacks=callbacks, init_model=init_model)\n",
      "  File \"/home/aizat/anaconda3/envs/fyp/lib/python3.7/site-packages/lightgbm/engine.py\", line 249, in train\n",
      "    booster.update(fobj=fobj)\n",
      "  File \"/home/aizat/anaconda3/envs/fyp/lib/python3.7/site-packages/lightgbm/basic.py\", line 2645, in update\n",
      "    ctypes.byref(is_finished)))\n",
      "  File \"/home/aizat/anaconda3/envs/fyp/lib/python3.7/site-packages/lightgbm/basic.py\", line 110, in _safe_call\n",
      "    raise LightGBMError(_LIB.LGBM_GetLastError().decode('utf-8'))\n",
      "lightgbm.basic.LightGBMError: Check failed: (best_split_info.left_count) > (0) at /home/aizat/LightGBM/src/treelearner/serial_tree_learner.cpp, line 653 .\n",
      "\n",
      "\n",
      "  FitFailedWarning)\n"
     ]
    },
    {
     "name": "stdout",
     "output_type": "stream",
     "text": [
      "[CV 2/3] END bagging_fraction=0.5, boosting_type=goss, feature_fraction=1.0, learning_rate=0.005, num_iterations=500, num_leaves=1024, objective=binary; total time= 1.6min\n"
     ]
    },
    {
     "name": "stderr",
     "output_type": "stream",
     "text": [
      "/home/aizat/anaconda3/envs/fyp/lib/python3.7/site-packages/lightgbm/engine.py:148: UserWarning: Found `num_iterations` in params. Will use it instead of argument\n",
      "  _log_warning(\"Found `{}` in params. Will use it instead of argument\".format(alias))\n",
      "/home/aizat/anaconda3/envs/fyp/lib/python3.7/site-packages/sklearn/model_selection/_validation.py:614: FitFailedWarning: Estimator fit failed. The score on this train-test partition for these parameters will be set to nan. Details: \n",
      "Traceback (most recent call last):\n",
      "  File \"/home/aizat/anaconda3/envs/fyp/lib/python3.7/site-packages/sklearn/model_selection/_validation.py\", line 593, in _fit_and_score\n",
      "    estimator.fit(X_train, y_train, **fit_params)\n",
      "  File \"/home/aizat/anaconda3/envs/fyp/lib/python3.7/site-packages/lightgbm/sklearn.py\", line 895, in fit\n",
      "    callbacks=callbacks, init_model=init_model)\n",
      "  File \"/home/aizat/anaconda3/envs/fyp/lib/python3.7/site-packages/lightgbm/sklearn.py\", line 688, in fit\n",
      "    callbacks=callbacks, init_model=init_model)\n",
      "  File \"/home/aizat/anaconda3/envs/fyp/lib/python3.7/site-packages/lightgbm/engine.py\", line 249, in train\n",
      "    booster.update(fobj=fobj)\n",
      "  File \"/home/aizat/anaconda3/envs/fyp/lib/python3.7/site-packages/lightgbm/basic.py\", line 2645, in update\n",
      "    ctypes.byref(is_finished)))\n",
      "  File \"/home/aizat/anaconda3/envs/fyp/lib/python3.7/site-packages/lightgbm/basic.py\", line 110, in _safe_call\n",
      "    raise LightGBMError(_LIB.LGBM_GetLastError().decode('utf-8'))\n",
      "lightgbm.basic.LightGBMError: Check failed: (best_split_info.left_count) > (0) at /home/aizat/LightGBM/src/treelearner/serial_tree_learner.cpp, line 653 .\n",
      "\n",
      "\n",
      "  FitFailedWarning)\n"
     ]
    },
    {
     "name": "stdout",
     "output_type": "stream",
     "text": [
      "[CV 3/3] END bagging_fraction=0.5, boosting_type=goss, feature_fraction=1.0, learning_rate=0.005, num_iterations=500, num_leaves=1024, objective=binary; total time=  30.2s\n"
     ]
    },
    {
     "name": "stderr",
     "output_type": "stream",
     "text": [
      "/home/aizat/anaconda3/envs/fyp/lib/python3.7/site-packages/lightgbm/engine.py:148: UserWarning: Found `num_iterations` in params. Will use it instead of argument\n",
      "  _log_warning(\"Found `{}` in params. Will use it instead of argument\".format(alias))\n",
      "/home/aizat/anaconda3/envs/fyp/lib/python3.7/site-packages/sklearn/model_selection/_validation.py:614: FitFailedWarning: Estimator fit failed. The score on this train-test partition for these parameters will be set to nan. Details: \n",
      "Traceback (most recent call last):\n",
      "  File \"/home/aizat/anaconda3/envs/fyp/lib/python3.7/site-packages/sklearn/model_selection/_validation.py\", line 593, in _fit_and_score\n",
      "    estimator.fit(X_train, y_train, **fit_params)\n",
      "  File \"/home/aizat/anaconda3/envs/fyp/lib/python3.7/site-packages/lightgbm/sklearn.py\", line 895, in fit\n",
      "    callbacks=callbacks, init_model=init_model)\n",
      "  File \"/home/aizat/anaconda3/envs/fyp/lib/python3.7/site-packages/lightgbm/sklearn.py\", line 688, in fit\n",
      "    callbacks=callbacks, init_model=init_model)\n",
      "  File \"/home/aizat/anaconda3/envs/fyp/lib/python3.7/site-packages/lightgbm/engine.py\", line 249, in train\n",
      "    booster.update(fobj=fobj)\n",
      "  File \"/home/aizat/anaconda3/envs/fyp/lib/python3.7/site-packages/lightgbm/basic.py\", line 2645, in update\n",
      "    ctypes.byref(is_finished)))\n",
      "  File \"/home/aizat/anaconda3/envs/fyp/lib/python3.7/site-packages/lightgbm/basic.py\", line 110, in _safe_call\n",
      "    raise LightGBMError(_LIB.LGBM_GetLastError().decode('utf-8'))\n",
      "lightgbm.basic.LightGBMError: Check failed: (best_split_info.left_count) > (0) at /home/aizat/LightGBM/src/treelearner/serial_tree_learner.cpp, line 653 .\n",
      "\n",
      "\n",
      "  FitFailedWarning)\n"
     ]
    },
    {
     "name": "stdout",
     "output_type": "stream",
     "text": [
      "[CV 1/3] END bagging_fraction=0.5, boosting_type=goss, feature_fraction=1.0, learning_rate=0.005, num_iterations=500, num_leaves=2048, objective=binary; total time= 2.4min\n"
     ]
    },
    {
     "name": "stderr",
     "output_type": "stream",
     "text": [
      "/home/aizat/anaconda3/envs/fyp/lib/python3.7/site-packages/lightgbm/engine.py:148: UserWarning: Found `num_iterations` in params. Will use it instead of argument\n",
      "  _log_warning(\"Found `{}` in params. Will use it instead of argument\".format(alias))\n",
      "/home/aizat/anaconda3/envs/fyp/lib/python3.7/site-packages/sklearn/model_selection/_validation.py:614: FitFailedWarning: Estimator fit failed. The score on this train-test partition for these parameters will be set to nan. Details: \n",
      "Traceback (most recent call last):\n",
      "  File \"/home/aizat/anaconda3/envs/fyp/lib/python3.7/site-packages/sklearn/model_selection/_validation.py\", line 593, in _fit_and_score\n",
      "    estimator.fit(X_train, y_train, **fit_params)\n",
      "  File \"/home/aizat/anaconda3/envs/fyp/lib/python3.7/site-packages/lightgbm/sklearn.py\", line 895, in fit\n",
      "    callbacks=callbacks, init_model=init_model)\n",
      "  File \"/home/aizat/anaconda3/envs/fyp/lib/python3.7/site-packages/lightgbm/sklearn.py\", line 688, in fit\n",
      "    callbacks=callbacks, init_model=init_model)\n",
      "  File \"/home/aizat/anaconda3/envs/fyp/lib/python3.7/site-packages/lightgbm/engine.py\", line 249, in train\n",
      "    booster.update(fobj=fobj)\n",
      "  File \"/home/aizat/anaconda3/envs/fyp/lib/python3.7/site-packages/lightgbm/basic.py\", line 2645, in update\n",
      "    ctypes.byref(is_finished)))\n",
      "  File \"/home/aizat/anaconda3/envs/fyp/lib/python3.7/site-packages/lightgbm/basic.py\", line 110, in _safe_call\n",
      "    raise LightGBMError(_LIB.LGBM_GetLastError().decode('utf-8'))\n",
      "lightgbm.basic.LightGBMError: Check failed: (best_split_info.left_count) > (0) at /home/aizat/LightGBM/src/treelearner/serial_tree_learner.cpp, line 653 .\n",
      "\n",
      "\n",
      "  FitFailedWarning)\n"
     ]
    },
    {
     "name": "stdout",
     "output_type": "stream",
     "text": [
      "[CV 2/3] END bagging_fraction=0.5, boosting_type=goss, feature_fraction=1.0, learning_rate=0.005, num_iterations=500, num_leaves=2048, objective=binary; total time= 1.9min\n"
     ]
    },
    {
     "name": "stderr",
     "output_type": "stream",
     "text": [
      "/home/aizat/anaconda3/envs/fyp/lib/python3.7/site-packages/lightgbm/engine.py:148: UserWarning: Found `num_iterations` in params. Will use it instead of argument\n",
      "  _log_warning(\"Found `{}` in params. Will use it instead of argument\".format(alias))\n",
      "/home/aizat/anaconda3/envs/fyp/lib/python3.7/site-packages/sklearn/model_selection/_validation.py:614: FitFailedWarning: Estimator fit failed. The score on this train-test partition for these parameters will be set to nan. Details: \n",
      "Traceback (most recent call last):\n",
      "  File \"/home/aizat/anaconda3/envs/fyp/lib/python3.7/site-packages/sklearn/model_selection/_validation.py\", line 593, in _fit_and_score\n",
      "    estimator.fit(X_train, y_train, **fit_params)\n",
      "  File \"/home/aizat/anaconda3/envs/fyp/lib/python3.7/site-packages/lightgbm/sklearn.py\", line 895, in fit\n",
      "    callbacks=callbacks, init_model=init_model)\n",
      "  File \"/home/aizat/anaconda3/envs/fyp/lib/python3.7/site-packages/lightgbm/sklearn.py\", line 688, in fit\n",
      "    callbacks=callbacks, init_model=init_model)\n",
      "  File \"/home/aizat/anaconda3/envs/fyp/lib/python3.7/site-packages/lightgbm/engine.py\", line 249, in train\n",
      "    booster.update(fobj=fobj)\n",
      "  File \"/home/aizat/anaconda3/envs/fyp/lib/python3.7/site-packages/lightgbm/basic.py\", line 2645, in update\n",
      "    ctypes.byref(is_finished)))\n",
      "  File \"/home/aizat/anaconda3/envs/fyp/lib/python3.7/site-packages/lightgbm/basic.py\", line 110, in _safe_call\n",
      "    raise LightGBMError(_LIB.LGBM_GetLastError().decode('utf-8'))\n",
      "lightgbm.basic.LightGBMError: Check failed: (best_split_info.left_count) > (0) at /home/aizat/LightGBM/src/treelearner/serial_tree_learner.cpp, line 653 .\n",
      "\n",
      "\n",
      "  FitFailedWarning)\n"
     ]
    },
    {
     "name": "stdout",
     "output_type": "stream",
     "text": [
      "[CV 3/3] END bagging_fraction=0.5, boosting_type=goss, feature_fraction=1.0, learning_rate=0.005, num_iterations=500, num_leaves=2048, objective=binary; total time=  29.7s\n"
     ]
    },
    {
     "name": "stderr",
     "output_type": "stream",
     "text": [
      "/home/aizat/anaconda3/envs/fyp/lib/python3.7/site-packages/lightgbm/engine.py:148: UserWarning: Found `num_iterations` in params. Will use it instead of argument\n",
      "  _log_warning(\"Found `{}` in params. Will use it instead of argument\".format(alias))\n",
      "/home/aizat/anaconda3/envs/fyp/lib/python3.7/site-packages/sklearn/model_selection/_validation.py:614: FitFailedWarning: Estimator fit failed. The score on this train-test partition for these parameters will be set to nan. Details: \n",
      "Traceback (most recent call last):\n",
      "  File \"/home/aizat/anaconda3/envs/fyp/lib/python3.7/site-packages/sklearn/model_selection/_validation.py\", line 593, in _fit_and_score\n",
      "    estimator.fit(X_train, y_train, **fit_params)\n",
      "  File \"/home/aizat/anaconda3/envs/fyp/lib/python3.7/site-packages/lightgbm/sklearn.py\", line 895, in fit\n",
      "    callbacks=callbacks, init_model=init_model)\n",
      "  File \"/home/aizat/anaconda3/envs/fyp/lib/python3.7/site-packages/lightgbm/sklearn.py\", line 688, in fit\n",
      "    callbacks=callbacks, init_model=init_model)\n",
      "  File \"/home/aizat/anaconda3/envs/fyp/lib/python3.7/site-packages/lightgbm/engine.py\", line 249, in train\n",
      "    booster.update(fobj=fobj)\n",
      "  File \"/home/aizat/anaconda3/envs/fyp/lib/python3.7/site-packages/lightgbm/basic.py\", line 2645, in update\n",
      "    ctypes.byref(is_finished)))\n",
      "  File \"/home/aizat/anaconda3/envs/fyp/lib/python3.7/site-packages/lightgbm/basic.py\", line 110, in _safe_call\n",
      "    raise LightGBMError(_LIB.LGBM_GetLastError().decode('utf-8'))\n",
      "lightgbm.basic.LightGBMError: Check failed: (best_split_info.left_count) > (0) at /home/aizat/LightGBM/src/treelearner/serial_tree_learner.cpp, line 653 .\n",
      "\n",
      "\n",
      "  FitFailedWarning)\n"
     ]
    },
    {
     "name": "stdout",
     "output_type": "stream",
     "text": [
      "[CV 1/3] END bagging_fraction=0.5, boosting_type=goss, feature_fraction=1.0, learning_rate=0.005, num_iterations=500, num_leaves=4096, objective=binary; total time= 5.6min\n"
     ]
    },
    {
     "name": "stderr",
     "output_type": "stream",
     "text": [
      "/home/aizat/anaconda3/envs/fyp/lib/python3.7/site-packages/lightgbm/engine.py:148: UserWarning: Found `num_iterations` in params. Will use it instead of argument\n",
      "  _log_warning(\"Found `{}` in params. Will use it instead of argument\".format(alias))\n",
      "/home/aizat/anaconda3/envs/fyp/lib/python3.7/site-packages/sklearn/model_selection/_validation.py:614: FitFailedWarning: Estimator fit failed. The score on this train-test partition for these parameters will be set to nan. Details: \n",
      "Traceback (most recent call last):\n",
      "  File \"/home/aizat/anaconda3/envs/fyp/lib/python3.7/site-packages/sklearn/model_selection/_validation.py\", line 593, in _fit_and_score\n",
      "    estimator.fit(X_train, y_train, **fit_params)\n",
      "  File \"/home/aizat/anaconda3/envs/fyp/lib/python3.7/site-packages/lightgbm/sklearn.py\", line 895, in fit\n",
      "    callbacks=callbacks, init_model=init_model)\n",
      "  File \"/home/aizat/anaconda3/envs/fyp/lib/python3.7/site-packages/lightgbm/sklearn.py\", line 688, in fit\n",
      "    callbacks=callbacks, init_model=init_model)\n",
      "  File \"/home/aizat/anaconda3/envs/fyp/lib/python3.7/site-packages/lightgbm/engine.py\", line 249, in train\n",
      "    booster.update(fobj=fobj)\n",
      "  File \"/home/aizat/anaconda3/envs/fyp/lib/python3.7/site-packages/lightgbm/basic.py\", line 2645, in update\n",
      "    ctypes.byref(is_finished)))\n",
      "  File \"/home/aizat/anaconda3/envs/fyp/lib/python3.7/site-packages/lightgbm/basic.py\", line 110, in _safe_call\n",
      "    raise LightGBMError(_LIB.LGBM_GetLastError().decode('utf-8'))\n",
      "lightgbm.basic.LightGBMError: Check failed: (best_split_info.left_count) > (0) at /home/aizat/LightGBM/src/treelearner/serial_tree_learner.cpp, line 653 .\n",
      "\n",
      "\n",
      "  FitFailedWarning)\n"
     ]
    },
    {
     "name": "stdout",
     "output_type": "stream",
     "text": [
      "[CV 2/3] END bagging_fraction=0.5, boosting_type=goss, feature_fraction=1.0, learning_rate=0.005, num_iterations=500, num_leaves=4096, objective=binary; total time=  28.2s\n"
     ]
    },
    {
     "name": "stderr",
     "output_type": "stream",
     "text": [
      "/home/aizat/anaconda3/envs/fyp/lib/python3.7/site-packages/lightgbm/engine.py:148: UserWarning: Found `num_iterations` in params. Will use it instead of argument\n",
      "  _log_warning(\"Found `{}` in params. Will use it instead of argument\".format(alias))\n",
      "/home/aizat/anaconda3/envs/fyp/lib/python3.7/site-packages/sklearn/model_selection/_validation.py:614: FitFailedWarning: Estimator fit failed. The score on this train-test partition for these parameters will be set to nan. Details: \n",
      "Traceback (most recent call last):\n",
      "  File \"/home/aizat/anaconda3/envs/fyp/lib/python3.7/site-packages/sklearn/model_selection/_validation.py\", line 593, in _fit_and_score\n",
      "    estimator.fit(X_train, y_train, **fit_params)\n",
      "  File \"/home/aizat/anaconda3/envs/fyp/lib/python3.7/site-packages/lightgbm/sklearn.py\", line 895, in fit\n",
      "    callbacks=callbacks, init_model=init_model)\n",
      "  File \"/home/aizat/anaconda3/envs/fyp/lib/python3.7/site-packages/lightgbm/sklearn.py\", line 688, in fit\n",
      "    callbacks=callbacks, init_model=init_model)\n",
      "  File \"/home/aizat/anaconda3/envs/fyp/lib/python3.7/site-packages/lightgbm/engine.py\", line 249, in train\n",
      "    booster.update(fobj=fobj)\n",
      "  File \"/home/aizat/anaconda3/envs/fyp/lib/python3.7/site-packages/lightgbm/basic.py\", line 2645, in update\n",
      "    ctypes.byref(is_finished)))\n",
      "  File \"/home/aizat/anaconda3/envs/fyp/lib/python3.7/site-packages/lightgbm/basic.py\", line 110, in _safe_call\n",
      "    raise LightGBMError(_LIB.LGBM_GetLastError().decode('utf-8'))\n",
      "lightgbm.basic.LightGBMError: Check failed: (best_split_info.left_count) > (0) at /home/aizat/LightGBM/src/treelearner/serial_tree_learner.cpp, line 653 .\n",
      "\n",
      "\n",
      "  FitFailedWarning)\n"
     ]
    },
    {
     "name": "stdout",
     "output_type": "stream",
     "text": [
      "[CV 3/3] END bagging_fraction=0.5, boosting_type=goss, feature_fraction=1.0, learning_rate=0.005, num_iterations=500, num_leaves=4096, objective=binary; total time=  35.1s\n"
     ]
    },
    {
     "name": "stderr",
     "output_type": "stream",
     "text": [
      "/home/aizat/anaconda3/envs/fyp/lib/python3.7/site-packages/lightgbm/engine.py:148: UserWarning: Found `num_iterations` in params. Will use it instead of argument\n",
      "  _log_warning(\"Found `{}` in params. Will use it instead of argument\".format(alias))\n"
     ]
    },
    {
     "name": "stdout",
     "output_type": "stream",
     "text": [
      "[CV 1/3] END bagging_fraction=0.5, boosting_type=goss, feature_fraction=1.0, learning_rate=0.005, num_iterations=1000, num_leaves=512, objective=binary; total time= 6.6min\n"
     ]
    },
    {
     "name": "stderr",
     "output_type": "stream",
     "text": [
      "/home/aizat/anaconda3/envs/fyp/lib/python3.7/site-packages/lightgbm/engine.py:148: UserWarning: Found `num_iterations` in params. Will use it instead of argument\n",
      "  _log_warning(\"Found `{}` in params. Will use it instead of argument\".format(alias))\n"
     ]
    },
    {
     "name": "stdout",
     "output_type": "stream",
     "text": [
      "[LightGBM] [Warning] feature_fraction is set=1.0, colsample_bytree=1.0 will be ignored. Current value: feature_fraction=1.0\n",
      "[LightGBM] [Warning] bagging_fraction is set=0.5, subsample=1.0 will be ignored. Current value: bagging_fraction=0.5\n",
      "[CV 2/3] END bagging_fraction=0.5, boosting_type=goss, feature_fraction=1.0, learning_rate=0.005, num_iterations=1000, num_leaves=512, objective=binary; total time= 8.4min\n"
     ]
    },
    {
     "name": "stderr",
     "output_type": "stream",
     "text": [
      "/home/aizat/anaconda3/envs/fyp/lib/python3.7/site-packages/lightgbm/engine.py:148: UserWarning: Found `num_iterations` in params. Will use it instead of argument\n",
      "  _log_warning(\"Found `{}` in params. Will use it instead of argument\".format(alias))\n"
     ]
    },
    {
     "name": "stdout",
     "output_type": "stream",
     "text": [
      "[LightGBM] [Warning] feature_fraction is set=1.0, colsample_bytree=1.0 will be ignored. Current value: feature_fraction=1.0\n",
      "[LightGBM] [Warning] bagging_fraction is set=0.5, subsample=1.0 will be ignored. Current value: bagging_fraction=0.5\n"
     ]
    },
    {
     "name": "stderr",
     "output_type": "stream",
     "text": [
      "/home/aizat/anaconda3/envs/fyp/lib/python3.7/site-packages/sklearn/model_selection/_validation.py:614: FitFailedWarning: Estimator fit failed. The score on this train-test partition for these parameters will be set to nan. Details: \n",
      "Traceback (most recent call last):\n",
      "  File \"/home/aizat/anaconda3/envs/fyp/lib/python3.7/site-packages/sklearn/model_selection/_validation.py\", line 593, in _fit_and_score\n",
      "    estimator.fit(X_train, y_train, **fit_params)\n",
      "  File \"/home/aizat/anaconda3/envs/fyp/lib/python3.7/site-packages/lightgbm/sklearn.py\", line 895, in fit\n",
      "    callbacks=callbacks, init_model=init_model)\n",
      "  File \"/home/aizat/anaconda3/envs/fyp/lib/python3.7/site-packages/lightgbm/sklearn.py\", line 688, in fit\n",
      "    callbacks=callbacks, init_model=init_model)\n",
      "  File \"/home/aizat/anaconda3/envs/fyp/lib/python3.7/site-packages/lightgbm/engine.py\", line 249, in train\n",
      "    booster.update(fobj=fobj)\n",
      "  File \"/home/aizat/anaconda3/envs/fyp/lib/python3.7/site-packages/lightgbm/basic.py\", line 2645, in update\n",
      "    ctypes.byref(is_finished)))\n",
      "  File \"/home/aizat/anaconda3/envs/fyp/lib/python3.7/site-packages/lightgbm/basic.py\", line 110, in _safe_call\n",
      "    raise LightGBMError(_LIB.LGBM_GetLastError().decode('utf-8'))\n",
      "lightgbm.basic.LightGBMError: Check failed: (best_split_info.left_count) > (0) at /home/aizat/LightGBM/src/treelearner/serial_tree_learner.cpp, line 653 .\n",
      "\n",
      "\n",
      "  FitFailedWarning)\n"
     ]
    },
    {
     "name": "stdout",
     "output_type": "stream",
     "text": [
      "[CV 3/3] END bagging_fraction=0.5, boosting_type=goss, feature_fraction=1.0, learning_rate=0.005, num_iterations=1000, num_leaves=512, objective=binary; total time= 1.2min\n"
     ]
    },
    {
     "name": "stderr",
     "output_type": "stream",
     "text": [
      "/home/aizat/anaconda3/envs/fyp/lib/python3.7/site-packages/lightgbm/engine.py:148: UserWarning: Found `num_iterations` in params. Will use it instead of argument\n",
      "  _log_warning(\"Found `{}` in params. Will use it instead of argument\".format(alias))\n"
     ]
    },
    {
     "name": "stdout",
     "output_type": "stream",
     "text": [
      "[CV 1/3] END bagging_fraction=0.5, boosting_type=goss, feature_fraction=1.0, learning_rate=0.005, num_iterations=1000, num_leaves=1024, objective=binary; total time=10.9min\n"
     ]
    },
    {
     "name": "stderr",
     "output_type": "stream",
     "text": [
      "/home/aizat/anaconda3/envs/fyp/lib/python3.7/site-packages/lightgbm/engine.py:148: UserWarning: Found `num_iterations` in params. Will use it instead of argument\n",
      "  _log_warning(\"Found `{}` in params. Will use it instead of argument\".format(alias))\n"
     ]
    },
    {
     "name": "stdout",
     "output_type": "stream",
     "text": [
      "[LightGBM] [Warning] feature_fraction is set=1.0, colsample_bytree=1.0 will be ignored. Current value: feature_fraction=1.0\n",
      "[LightGBM] [Warning] bagging_fraction is set=0.5, subsample=1.0 will be ignored. Current value: bagging_fraction=0.5\n"
     ]
    },
    {
     "name": "stderr",
     "output_type": "stream",
     "text": [
      "/home/aizat/anaconda3/envs/fyp/lib/python3.7/site-packages/sklearn/model_selection/_validation.py:614: FitFailedWarning: Estimator fit failed. The score on this train-test partition for these parameters will be set to nan. Details: \n",
      "Traceback (most recent call last):\n",
      "  File \"/home/aizat/anaconda3/envs/fyp/lib/python3.7/site-packages/sklearn/model_selection/_validation.py\", line 593, in _fit_and_score\n",
      "    estimator.fit(X_train, y_train, **fit_params)\n",
      "  File \"/home/aizat/anaconda3/envs/fyp/lib/python3.7/site-packages/lightgbm/sklearn.py\", line 895, in fit\n",
      "    callbacks=callbacks, init_model=init_model)\n",
      "  File \"/home/aizat/anaconda3/envs/fyp/lib/python3.7/site-packages/lightgbm/sklearn.py\", line 688, in fit\n",
      "    callbacks=callbacks, init_model=init_model)\n",
      "  File \"/home/aizat/anaconda3/envs/fyp/lib/python3.7/site-packages/lightgbm/engine.py\", line 249, in train\n",
      "    booster.update(fobj=fobj)\n",
      "  File \"/home/aizat/anaconda3/envs/fyp/lib/python3.7/site-packages/lightgbm/basic.py\", line 2645, in update\n",
      "    ctypes.byref(is_finished)))\n",
      "  File \"/home/aizat/anaconda3/envs/fyp/lib/python3.7/site-packages/lightgbm/basic.py\", line 110, in _safe_call\n",
      "    raise LightGBMError(_LIB.LGBM_GetLastError().decode('utf-8'))\n",
      "lightgbm.basic.LightGBMError: Check failed: (best_split_info.left_count) > (0) at /home/aizat/LightGBM/src/treelearner/serial_tree_learner.cpp, line 653 .\n",
      "\n",
      "\n",
      "  FitFailedWarning)\n"
     ]
    },
    {
     "name": "stdout",
     "output_type": "stream",
     "text": [
      "[CV 2/3] END bagging_fraction=0.5, boosting_type=goss, feature_fraction=1.0, learning_rate=0.005, num_iterations=1000, num_leaves=1024, objective=binary; total time= 1.5min\n"
     ]
    },
    {
     "name": "stderr",
     "output_type": "stream",
     "text": [
      "/home/aizat/anaconda3/envs/fyp/lib/python3.7/site-packages/lightgbm/engine.py:148: UserWarning: Found `num_iterations` in params. Will use it instead of argument\n",
      "  _log_warning(\"Found `{}` in params. Will use it instead of argument\".format(alias))\n",
      "/home/aizat/anaconda3/envs/fyp/lib/python3.7/site-packages/sklearn/model_selection/_validation.py:614: FitFailedWarning: Estimator fit failed. The score on this train-test partition for these parameters will be set to nan. Details: \n",
      "Traceback (most recent call last):\n",
      "  File \"/home/aizat/anaconda3/envs/fyp/lib/python3.7/site-packages/sklearn/model_selection/_validation.py\", line 593, in _fit_and_score\n",
      "    estimator.fit(X_train, y_train, **fit_params)\n",
      "  File \"/home/aizat/anaconda3/envs/fyp/lib/python3.7/site-packages/lightgbm/sklearn.py\", line 895, in fit\n",
      "    callbacks=callbacks, init_model=init_model)\n",
      "  File \"/home/aizat/anaconda3/envs/fyp/lib/python3.7/site-packages/lightgbm/sklearn.py\", line 688, in fit\n",
      "    callbacks=callbacks, init_model=init_model)\n",
      "  File \"/home/aizat/anaconda3/envs/fyp/lib/python3.7/site-packages/lightgbm/engine.py\", line 249, in train\n",
      "    booster.update(fobj=fobj)\n",
      "  File \"/home/aizat/anaconda3/envs/fyp/lib/python3.7/site-packages/lightgbm/basic.py\", line 2645, in update\n",
      "    ctypes.byref(is_finished)))\n",
      "  File \"/home/aizat/anaconda3/envs/fyp/lib/python3.7/site-packages/lightgbm/basic.py\", line 110, in _safe_call\n",
      "    raise LightGBMError(_LIB.LGBM_GetLastError().decode('utf-8'))\n",
      "lightgbm.basic.LightGBMError: Check failed: (best_split_info.left_count) > (0) at /home/aizat/LightGBM/src/treelearner/serial_tree_learner.cpp, line 653 .\n",
      "\n",
      "\n",
      "  FitFailedWarning)\n"
     ]
    },
    {
     "name": "stdout",
     "output_type": "stream",
     "text": [
      "[CV 3/3] END bagging_fraction=0.5, boosting_type=goss, feature_fraction=1.0, learning_rate=0.005, num_iterations=1000, num_leaves=1024, objective=binary; total time=  31.1s\n"
     ]
    },
    {
     "name": "stderr",
     "output_type": "stream",
     "text": [
      "/home/aizat/anaconda3/envs/fyp/lib/python3.7/site-packages/lightgbm/engine.py:148: UserWarning: Found `num_iterations` in params. Will use it instead of argument\n",
      "  _log_warning(\"Found `{}` in params. Will use it instead of argument\".format(alias))\n",
      "/home/aizat/anaconda3/envs/fyp/lib/python3.7/site-packages/sklearn/model_selection/_validation.py:614: FitFailedWarning: Estimator fit failed. The score on this train-test partition for these parameters will be set to nan. Details: \n",
      "Traceback (most recent call last):\n",
      "  File \"/home/aizat/anaconda3/envs/fyp/lib/python3.7/site-packages/sklearn/model_selection/_validation.py\", line 593, in _fit_and_score\n",
      "    estimator.fit(X_train, y_train, **fit_params)\n",
      "  File \"/home/aizat/anaconda3/envs/fyp/lib/python3.7/site-packages/lightgbm/sklearn.py\", line 895, in fit\n",
      "    callbacks=callbacks, init_model=init_model)\n",
      "  File \"/home/aizat/anaconda3/envs/fyp/lib/python3.7/site-packages/lightgbm/sklearn.py\", line 688, in fit\n",
      "    callbacks=callbacks, init_model=init_model)\n",
      "  File \"/home/aizat/anaconda3/envs/fyp/lib/python3.7/site-packages/lightgbm/engine.py\", line 249, in train\n",
      "    booster.update(fobj=fobj)\n",
      "  File \"/home/aizat/anaconda3/envs/fyp/lib/python3.7/site-packages/lightgbm/basic.py\", line 2645, in update\n",
      "    ctypes.byref(is_finished)))\n",
      "  File \"/home/aizat/anaconda3/envs/fyp/lib/python3.7/site-packages/lightgbm/basic.py\", line 110, in _safe_call\n",
      "    raise LightGBMError(_LIB.LGBM_GetLastError().decode('utf-8'))\n",
      "lightgbm.basic.LightGBMError: Check failed: (best_split_info.left_count) > (0) at /home/aizat/LightGBM/src/treelearner/serial_tree_learner.cpp, line 653 .\n",
      "\n",
      "\n",
      "  FitFailedWarning)\n"
     ]
    },
    {
     "name": "stdout",
     "output_type": "stream",
     "text": [
      "[CV 1/3] END bagging_fraction=0.5, boosting_type=goss, feature_fraction=1.0, learning_rate=0.005, num_iterations=1000, num_leaves=2048, objective=binary; total time= 2.4min\n"
     ]
    },
    {
     "name": "stderr",
     "output_type": "stream",
     "text": [
      "/home/aizat/anaconda3/envs/fyp/lib/python3.7/site-packages/lightgbm/engine.py:148: UserWarning: Found `num_iterations` in params. Will use it instead of argument\n",
      "  _log_warning(\"Found `{}` in params. Will use it instead of argument\".format(alias))\n",
      "/home/aizat/anaconda3/envs/fyp/lib/python3.7/site-packages/sklearn/model_selection/_validation.py:614: FitFailedWarning: Estimator fit failed. The score on this train-test partition for these parameters will be set to nan. Details: \n",
      "Traceback (most recent call last):\n",
      "  File \"/home/aizat/anaconda3/envs/fyp/lib/python3.7/site-packages/sklearn/model_selection/_validation.py\", line 593, in _fit_and_score\n",
      "    estimator.fit(X_train, y_train, **fit_params)\n",
      "  File \"/home/aizat/anaconda3/envs/fyp/lib/python3.7/site-packages/lightgbm/sklearn.py\", line 895, in fit\n",
      "    callbacks=callbacks, init_model=init_model)\n",
      "  File \"/home/aizat/anaconda3/envs/fyp/lib/python3.7/site-packages/lightgbm/sklearn.py\", line 688, in fit\n",
      "    callbacks=callbacks, init_model=init_model)\n",
      "  File \"/home/aizat/anaconda3/envs/fyp/lib/python3.7/site-packages/lightgbm/engine.py\", line 249, in train\n",
      "    booster.update(fobj=fobj)\n",
      "  File \"/home/aizat/anaconda3/envs/fyp/lib/python3.7/site-packages/lightgbm/basic.py\", line 2645, in update\n",
      "    ctypes.byref(is_finished)))\n",
      "  File \"/home/aizat/anaconda3/envs/fyp/lib/python3.7/site-packages/lightgbm/basic.py\", line 110, in _safe_call\n",
      "    raise LightGBMError(_LIB.LGBM_GetLastError().decode('utf-8'))\n",
      "lightgbm.basic.LightGBMError: Check failed: (best_split_info.left_count) > (0) at /home/aizat/LightGBM/src/treelearner/serial_tree_learner.cpp, line 653 .\n",
      "\n",
      "\n",
      "  FitFailedWarning)\n"
     ]
    },
    {
     "name": "stdout",
     "output_type": "stream",
     "text": [
      "[CV 2/3] END bagging_fraction=0.5, boosting_type=goss, feature_fraction=1.0, learning_rate=0.005, num_iterations=1000, num_leaves=2048, objective=binary; total time= 1.9min\n"
     ]
    },
    {
     "name": "stderr",
     "output_type": "stream",
     "text": [
      "/home/aizat/anaconda3/envs/fyp/lib/python3.7/site-packages/lightgbm/engine.py:148: UserWarning: Found `num_iterations` in params. Will use it instead of argument\n",
      "  _log_warning(\"Found `{}` in params. Will use it instead of argument\".format(alias))\n",
      "/home/aizat/anaconda3/envs/fyp/lib/python3.7/site-packages/sklearn/model_selection/_validation.py:614: FitFailedWarning: Estimator fit failed. The score on this train-test partition for these parameters will be set to nan. Details: \n",
      "Traceback (most recent call last):\n",
      "  File \"/home/aizat/anaconda3/envs/fyp/lib/python3.7/site-packages/sklearn/model_selection/_validation.py\", line 593, in _fit_and_score\n",
      "    estimator.fit(X_train, y_train, **fit_params)\n",
      "  File \"/home/aizat/anaconda3/envs/fyp/lib/python3.7/site-packages/lightgbm/sklearn.py\", line 895, in fit\n",
      "    callbacks=callbacks, init_model=init_model)\n",
      "  File \"/home/aizat/anaconda3/envs/fyp/lib/python3.7/site-packages/lightgbm/sklearn.py\", line 688, in fit\n",
      "    callbacks=callbacks, init_model=init_model)\n",
      "  File \"/home/aizat/anaconda3/envs/fyp/lib/python3.7/site-packages/lightgbm/engine.py\", line 249, in train\n",
      "    booster.update(fobj=fobj)\n",
      "  File \"/home/aizat/anaconda3/envs/fyp/lib/python3.7/site-packages/lightgbm/basic.py\", line 2645, in update\n",
      "    ctypes.byref(is_finished)))\n",
      "  File \"/home/aizat/anaconda3/envs/fyp/lib/python3.7/site-packages/lightgbm/basic.py\", line 110, in _safe_call\n",
      "    raise LightGBMError(_LIB.LGBM_GetLastError().decode('utf-8'))\n",
      "lightgbm.basic.LightGBMError: Check failed: (best_split_info.left_count) > (0) at /home/aizat/LightGBM/src/treelearner/serial_tree_learner.cpp, line 653 .\n",
      "\n",
      "\n",
      "  FitFailedWarning)\n"
     ]
    },
    {
     "name": "stdout",
     "output_type": "stream",
     "text": [
      "[CV 3/3] END bagging_fraction=0.5, boosting_type=goss, feature_fraction=1.0, learning_rate=0.005, num_iterations=1000, num_leaves=2048, objective=binary; total time=  31.0s\n"
     ]
    },
    {
     "name": "stderr",
     "output_type": "stream",
     "text": [
      "/home/aizat/anaconda3/envs/fyp/lib/python3.7/site-packages/lightgbm/engine.py:148: UserWarning: Found `num_iterations` in params. Will use it instead of argument\n",
      "  _log_warning(\"Found `{}` in params. Will use it instead of argument\".format(alias))\n",
      "/home/aizat/anaconda3/envs/fyp/lib/python3.7/site-packages/sklearn/model_selection/_validation.py:614: FitFailedWarning: Estimator fit failed. The score on this train-test partition for these parameters will be set to nan. Details: \n",
      "Traceback (most recent call last):\n",
      "  File \"/home/aizat/anaconda3/envs/fyp/lib/python3.7/site-packages/sklearn/model_selection/_validation.py\", line 593, in _fit_and_score\n",
      "    estimator.fit(X_train, y_train, **fit_params)\n",
      "  File \"/home/aizat/anaconda3/envs/fyp/lib/python3.7/site-packages/lightgbm/sklearn.py\", line 895, in fit\n",
      "    callbacks=callbacks, init_model=init_model)\n",
      "  File \"/home/aizat/anaconda3/envs/fyp/lib/python3.7/site-packages/lightgbm/sklearn.py\", line 688, in fit\n",
      "    callbacks=callbacks, init_model=init_model)\n",
      "  File \"/home/aizat/anaconda3/envs/fyp/lib/python3.7/site-packages/lightgbm/engine.py\", line 249, in train\n",
      "    booster.update(fobj=fobj)\n",
      "  File \"/home/aizat/anaconda3/envs/fyp/lib/python3.7/site-packages/lightgbm/basic.py\", line 2645, in update\n",
      "    ctypes.byref(is_finished)))\n",
      "  File \"/home/aizat/anaconda3/envs/fyp/lib/python3.7/site-packages/lightgbm/basic.py\", line 110, in _safe_call\n",
      "    raise LightGBMError(_LIB.LGBM_GetLastError().decode('utf-8'))\n",
      "lightgbm.basic.LightGBMError: Check failed: (best_split_info.left_count) > (0) at /home/aizat/LightGBM/src/treelearner/serial_tree_learner.cpp, line 653 .\n",
      "\n",
      "\n",
      "  FitFailedWarning)\n"
     ]
    },
    {
     "name": "stdout",
     "output_type": "stream",
     "text": [
      "[CV 1/3] END bagging_fraction=0.5, boosting_type=goss, feature_fraction=1.0, learning_rate=0.005, num_iterations=1000, num_leaves=4096, objective=binary; total time= 6.6min\n"
     ]
    },
    {
     "name": "stderr",
     "output_type": "stream",
     "text": [
      "/home/aizat/anaconda3/envs/fyp/lib/python3.7/site-packages/lightgbm/engine.py:148: UserWarning: Found `num_iterations` in params. Will use it instead of argument\n",
      "  _log_warning(\"Found `{}` in params. Will use it instead of argument\".format(alias))\n",
      "/home/aizat/anaconda3/envs/fyp/lib/python3.7/site-packages/sklearn/model_selection/_validation.py:614: FitFailedWarning: Estimator fit failed. The score on this train-test partition for these parameters will be set to nan. Details: \n",
      "Traceback (most recent call last):\n",
      "  File \"/home/aizat/anaconda3/envs/fyp/lib/python3.7/site-packages/sklearn/model_selection/_validation.py\", line 593, in _fit_and_score\n",
      "    estimator.fit(X_train, y_train, **fit_params)\n",
      "  File \"/home/aizat/anaconda3/envs/fyp/lib/python3.7/site-packages/lightgbm/sklearn.py\", line 895, in fit\n",
      "    callbacks=callbacks, init_model=init_model)\n",
      "  File \"/home/aizat/anaconda3/envs/fyp/lib/python3.7/site-packages/lightgbm/sklearn.py\", line 688, in fit\n",
      "    callbacks=callbacks, init_model=init_model)\n",
      "  File \"/home/aizat/anaconda3/envs/fyp/lib/python3.7/site-packages/lightgbm/engine.py\", line 249, in train\n",
      "    booster.update(fobj=fobj)\n",
      "  File \"/home/aizat/anaconda3/envs/fyp/lib/python3.7/site-packages/lightgbm/basic.py\", line 2645, in update\n",
      "    ctypes.byref(is_finished)))\n",
      "  File \"/home/aizat/anaconda3/envs/fyp/lib/python3.7/site-packages/lightgbm/basic.py\", line 110, in _safe_call\n",
      "    raise LightGBMError(_LIB.LGBM_GetLastError().decode('utf-8'))\n",
      "lightgbm.basic.LightGBMError: Check failed: (best_split_info.left_count) > (0) at /home/aizat/LightGBM/src/treelearner/serial_tree_learner.cpp, line 653 .\n",
      "\n",
      "\n",
      "  FitFailedWarning)\n"
     ]
    },
    {
     "name": "stdout",
     "output_type": "stream",
     "text": [
      "[CV 2/3] END bagging_fraction=0.5, boosting_type=goss, feature_fraction=1.0, learning_rate=0.005, num_iterations=1000, num_leaves=4096, objective=binary; total time=  27.9s\n"
     ]
    },
    {
     "name": "stderr",
     "output_type": "stream",
     "text": [
      "/home/aizat/anaconda3/envs/fyp/lib/python3.7/site-packages/lightgbm/engine.py:148: UserWarning: Found `num_iterations` in params. Will use it instead of argument\n",
      "  _log_warning(\"Found `{}` in params. Will use it instead of argument\".format(alias))\n",
      "/home/aizat/anaconda3/envs/fyp/lib/python3.7/site-packages/sklearn/model_selection/_validation.py:614: FitFailedWarning: Estimator fit failed. The score on this train-test partition for these parameters will be set to nan. Details: \n",
      "Traceback (most recent call last):\n",
      "  File \"/home/aizat/anaconda3/envs/fyp/lib/python3.7/site-packages/sklearn/model_selection/_validation.py\", line 593, in _fit_and_score\n",
      "    estimator.fit(X_train, y_train, **fit_params)\n",
      "  File \"/home/aizat/anaconda3/envs/fyp/lib/python3.7/site-packages/lightgbm/sklearn.py\", line 895, in fit\n",
      "    callbacks=callbacks, init_model=init_model)\n",
      "  File \"/home/aizat/anaconda3/envs/fyp/lib/python3.7/site-packages/lightgbm/sklearn.py\", line 688, in fit\n",
      "    callbacks=callbacks, init_model=init_model)\n",
      "  File \"/home/aizat/anaconda3/envs/fyp/lib/python3.7/site-packages/lightgbm/engine.py\", line 249, in train\n",
      "    booster.update(fobj=fobj)\n",
      "  File \"/home/aizat/anaconda3/envs/fyp/lib/python3.7/site-packages/lightgbm/basic.py\", line 2645, in update\n",
      "    ctypes.byref(is_finished)))\n",
      "  File \"/home/aizat/anaconda3/envs/fyp/lib/python3.7/site-packages/lightgbm/basic.py\", line 110, in _safe_call\n",
      "    raise LightGBMError(_LIB.LGBM_GetLastError().decode('utf-8'))\n",
      "lightgbm.basic.LightGBMError: Check failed: (best_split_info.left_count) > (0) at /home/aizat/LightGBM/src/treelearner/serial_tree_learner.cpp, line 653 .\n",
      "\n",
      "\n",
      "  FitFailedWarning)\n"
     ]
    },
    {
     "name": "stdout",
     "output_type": "stream",
     "text": [
      "[CV 3/3] END bagging_fraction=0.5, boosting_type=goss, feature_fraction=1.0, learning_rate=0.005, num_iterations=1000, num_leaves=4096, objective=binary; total time=  36.3s\n"
     ]
    },
    {
     "name": "stderr",
     "output_type": "stream",
     "text": [
      "/home/aizat/anaconda3/envs/fyp/lib/python3.7/site-packages/lightgbm/engine.py:148: UserWarning: Found `num_iterations` in params. Will use it instead of argument\n",
      "  _log_warning(\"Found `{}` in params. Will use it instead of argument\".format(alias))\n"
     ]
    },
    {
     "name": "stdout",
     "output_type": "stream",
     "text": [
      "[CV 1/3] END bagging_fraction=0.5, boosting_type=goss, feature_fraction=1.0, learning_rate=0.005, num_iterations=1500, num_leaves=512, objective=binary; total time=10.0min\n"
     ]
    },
    {
     "name": "stderr",
     "output_type": "stream",
     "text": [
      "/home/aizat/anaconda3/envs/fyp/lib/python3.7/site-packages/lightgbm/engine.py:148: UserWarning: Found `num_iterations` in params. Will use it instead of argument\n",
      "  _log_warning(\"Found `{}` in params. Will use it instead of argument\".format(alias))\n"
     ]
    },
    {
     "name": "stdout",
     "output_type": "stream",
     "text": [
      "[LightGBM] [Warning] feature_fraction is set=1.0, colsample_bytree=1.0 will be ignored. Current value: feature_fraction=1.0\n",
      "[LightGBM] [Warning] bagging_fraction is set=0.5, subsample=1.0 will be ignored. Current value: bagging_fraction=0.5\n",
      "[CV 2/3] END bagging_fraction=0.5, boosting_type=goss, feature_fraction=1.0, learning_rate=0.005, num_iterations=1500, num_leaves=512, objective=binary; total time=12.3min\n"
     ]
    },
    {
     "name": "stderr",
     "output_type": "stream",
     "text": [
      "/home/aizat/anaconda3/envs/fyp/lib/python3.7/site-packages/lightgbm/engine.py:148: UserWarning: Found `num_iterations` in params. Will use it instead of argument\n",
      "  _log_warning(\"Found `{}` in params. Will use it instead of argument\".format(alias))\n"
     ]
    },
    {
     "name": "stdout",
     "output_type": "stream",
     "text": [
      "[LightGBM] [Warning] feature_fraction is set=1.0, colsample_bytree=1.0 will be ignored. Current value: feature_fraction=1.0\n",
      "[LightGBM] [Warning] bagging_fraction is set=0.5, subsample=1.0 will be ignored. Current value: bagging_fraction=0.5\n"
     ]
    },
    {
     "name": "stderr",
     "output_type": "stream",
     "text": [
      "/home/aizat/anaconda3/envs/fyp/lib/python3.7/site-packages/sklearn/model_selection/_validation.py:614: FitFailedWarning: Estimator fit failed. The score on this train-test partition for these parameters will be set to nan. Details: \n",
      "Traceback (most recent call last):\n",
      "  File \"/home/aizat/anaconda3/envs/fyp/lib/python3.7/site-packages/sklearn/model_selection/_validation.py\", line 593, in _fit_and_score\n",
      "    estimator.fit(X_train, y_train, **fit_params)\n",
      "  File \"/home/aizat/anaconda3/envs/fyp/lib/python3.7/site-packages/lightgbm/sklearn.py\", line 895, in fit\n",
      "    callbacks=callbacks, init_model=init_model)\n",
      "  File \"/home/aizat/anaconda3/envs/fyp/lib/python3.7/site-packages/lightgbm/sklearn.py\", line 688, in fit\n",
      "    callbacks=callbacks, init_model=init_model)\n",
      "  File \"/home/aizat/anaconda3/envs/fyp/lib/python3.7/site-packages/lightgbm/engine.py\", line 249, in train\n",
      "    booster.update(fobj=fobj)\n",
      "  File \"/home/aizat/anaconda3/envs/fyp/lib/python3.7/site-packages/lightgbm/basic.py\", line 2645, in update\n",
      "    ctypes.byref(is_finished)))\n",
      "  File \"/home/aizat/anaconda3/envs/fyp/lib/python3.7/site-packages/lightgbm/basic.py\", line 110, in _safe_call\n",
      "    raise LightGBMError(_LIB.LGBM_GetLastError().decode('utf-8'))\n",
      "lightgbm.basic.LightGBMError: Check failed: (best_split_info.left_count) > (0) at /home/aizat/LightGBM/src/treelearner/serial_tree_learner.cpp, line 653 .\n",
      "\n",
      "\n",
      "  FitFailedWarning)\n"
     ]
    },
    {
     "name": "stdout",
     "output_type": "stream",
     "text": [
      "[CV 3/3] END bagging_fraction=0.5, boosting_type=goss, feature_fraction=1.0, learning_rate=0.005, num_iterations=1500, num_leaves=512, objective=binary; total time= 1.5min\n"
     ]
    },
    {
     "name": "stderr",
     "output_type": "stream",
     "text": [
      "/home/aizat/anaconda3/envs/fyp/lib/python3.7/site-packages/lightgbm/engine.py:148: UserWarning: Found `num_iterations` in params. Will use it instead of argument\n",
      "  _log_warning(\"Found `{}` in params. Will use it instead of argument\".format(alias))\n"
     ]
    },
    {
     "name": "stdout",
     "output_type": "stream",
     "text": [
      "[CV 1/3] END bagging_fraction=0.5, boosting_type=goss, feature_fraction=1.0, learning_rate=0.005, num_iterations=1500, num_leaves=1024, objective=binary; total time=15.8min\n"
     ]
    },
    {
     "name": "stderr",
     "output_type": "stream",
     "text": [
      "/home/aizat/anaconda3/envs/fyp/lib/python3.7/site-packages/lightgbm/engine.py:148: UserWarning: Found `num_iterations` in params. Will use it instead of argument\n",
      "  _log_warning(\"Found `{}` in params. Will use it instead of argument\".format(alias))\n"
     ]
    },
    {
     "name": "stdout",
     "output_type": "stream",
     "text": [
      "[LightGBM] [Warning] feature_fraction is set=1.0, colsample_bytree=1.0 will be ignored. Current value: feature_fraction=1.0\n",
      "[LightGBM] [Warning] bagging_fraction is set=0.5, subsample=1.0 will be ignored. Current value: bagging_fraction=0.5\n"
     ]
    },
    {
     "name": "stderr",
     "output_type": "stream",
     "text": [
      "/home/aizat/anaconda3/envs/fyp/lib/python3.7/site-packages/sklearn/model_selection/_validation.py:614: FitFailedWarning: Estimator fit failed. The score on this train-test partition for these parameters will be set to nan. Details: \n",
      "Traceback (most recent call last):\n",
      "  File \"/home/aizat/anaconda3/envs/fyp/lib/python3.7/site-packages/sklearn/model_selection/_validation.py\", line 593, in _fit_and_score\n",
      "    estimator.fit(X_train, y_train, **fit_params)\n",
      "  File \"/home/aizat/anaconda3/envs/fyp/lib/python3.7/site-packages/lightgbm/sklearn.py\", line 895, in fit\n",
      "    callbacks=callbacks, init_model=init_model)\n",
      "  File \"/home/aizat/anaconda3/envs/fyp/lib/python3.7/site-packages/lightgbm/sklearn.py\", line 688, in fit\n",
      "    callbacks=callbacks, init_model=init_model)\n",
      "  File \"/home/aizat/anaconda3/envs/fyp/lib/python3.7/site-packages/lightgbm/engine.py\", line 249, in train\n",
      "    booster.update(fobj=fobj)\n",
      "  File \"/home/aizat/anaconda3/envs/fyp/lib/python3.7/site-packages/lightgbm/basic.py\", line 2645, in update\n",
      "    ctypes.byref(is_finished)))\n",
      "  File \"/home/aizat/anaconda3/envs/fyp/lib/python3.7/site-packages/lightgbm/basic.py\", line 110, in _safe_call\n",
      "    raise LightGBMError(_LIB.LGBM_GetLastError().decode('utf-8'))\n",
      "lightgbm.basic.LightGBMError: Check failed: (best_split_info.left_count) > (0) at /home/aizat/LightGBM/src/treelearner/serial_tree_learner.cpp, line 653 .\n",
      "\n",
      "\n",
      "  FitFailedWarning)\n"
     ]
    },
    {
     "name": "stdout",
     "output_type": "stream",
     "text": [
      "[CV 2/3] END bagging_fraction=0.5, boosting_type=goss, feature_fraction=1.0, learning_rate=0.005, num_iterations=1500, num_leaves=1024, objective=binary; total time= 1.3min\n"
     ]
    },
    {
     "name": "stderr",
     "output_type": "stream",
     "text": [
      "/home/aizat/anaconda3/envs/fyp/lib/python3.7/site-packages/lightgbm/engine.py:148: UserWarning: Found `num_iterations` in params. Will use it instead of argument\n",
      "  _log_warning(\"Found `{}` in params. Will use it instead of argument\".format(alias))\n",
      "/home/aizat/anaconda3/envs/fyp/lib/python3.7/site-packages/sklearn/model_selection/_validation.py:614: FitFailedWarning: Estimator fit failed. The score on this train-test partition for these parameters will be set to nan. Details: \n",
      "Traceback (most recent call last):\n",
      "  File \"/home/aizat/anaconda3/envs/fyp/lib/python3.7/site-packages/sklearn/model_selection/_validation.py\", line 593, in _fit_and_score\n",
      "    estimator.fit(X_train, y_train, **fit_params)\n",
      "  File \"/home/aizat/anaconda3/envs/fyp/lib/python3.7/site-packages/lightgbm/sklearn.py\", line 895, in fit\n",
      "    callbacks=callbacks, init_model=init_model)\n",
      "  File \"/home/aizat/anaconda3/envs/fyp/lib/python3.7/site-packages/lightgbm/sklearn.py\", line 688, in fit\n",
      "    callbacks=callbacks, init_model=init_model)\n",
      "  File \"/home/aizat/anaconda3/envs/fyp/lib/python3.7/site-packages/lightgbm/engine.py\", line 249, in train\n",
      "    booster.update(fobj=fobj)\n",
      "  File \"/home/aizat/anaconda3/envs/fyp/lib/python3.7/site-packages/lightgbm/basic.py\", line 2645, in update\n",
      "    ctypes.byref(is_finished)))\n",
      "  File \"/home/aizat/anaconda3/envs/fyp/lib/python3.7/site-packages/lightgbm/basic.py\", line 110, in _safe_call\n",
      "    raise LightGBMError(_LIB.LGBM_GetLastError().decode('utf-8'))\n",
      "lightgbm.basic.LightGBMError: Check failed: (best_split_info.left_count) > (0) at /home/aizat/LightGBM/src/treelearner/serial_tree_learner.cpp, line 653 .\n",
      "\n",
      "\n",
      "  FitFailedWarning)\n"
     ]
    },
    {
     "name": "stdout",
     "output_type": "stream",
     "text": [
      "[CV 3/3] END bagging_fraction=0.5, boosting_type=goss, feature_fraction=1.0, learning_rate=0.005, num_iterations=1500, num_leaves=1024, objective=binary; total time=  29.7s\n"
     ]
    },
    {
     "name": "stderr",
     "output_type": "stream",
     "text": [
      "/home/aizat/anaconda3/envs/fyp/lib/python3.7/site-packages/lightgbm/engine.py:148: UserWarning: Found `num_iterations` in params. Will use it instead of argument\n",
      "  _log_warning(\"Found `{}` in params. Will use it instead of argument\".format(alias))\n",
      "/home/aizat/anaconda3/envs/fyp/lib/python3.7/site-packages/sklearn/model_selection/_validation.py:614: FitFailedWarning: Estimator fit failed. The score on this train-test partition for these parameters will be set to nan. Details: \n",
      "Traceback (most recent call last):\n",
      "  File \"/home/aizat/anaconda3/envs/fyp/lib/python3.7/site-packages/sklearn/model_selection/_validation.py\", line 593, in _fit_and_score\n",
      "    estimator.fit(X_train, y_train, **fit_params)\n",
      "  File \"/home/aizat/anaconda3/envs/fyp/lib/python3.7/site-packages/lightgbm/sklearn.py\", line 895, in fit\n",
      "    callbacks=callbacks, init_model=init_model)\n",
      "  File \"/home/aizat/anaconda3/envs/fyp/lib/python3.7/site-packages/lightgbm/sklearn.py\", line 688, in fit\n",
      "    callbacks=callbacks, init_model=init_model)\n",
      "  File \"/home/aizat/anaconda3/envs/fyp/lib/python3.7/site-packages/lightgbm/engine.py\", line 249, in train\n",
      "    booster.update(fobj=fobj)\n",
      "  File \"/home/aizat/anaconda3/envs/fyp/lib/python3.7/site-packages/lightgbm/basic.py\", line 2645, in update\n",
      "    ctypes.byref(is_finished)))\n",
      "  File \"/home/aizat/anaconda3/envs/fyp/lib/python3.7/site-packages/lightgbm/basic.py\", line 110, in _safe_call\n",
      "    raise LightGBMError(_LIB.LGBM_GetLastError().decode('utf-8'))\n",
      "lightgbm.basic.LightGBMError: Check failed: (best_split_info.left_count) > (0) at /home/aizat/LightGBM/src/treelearner/serial_tree_learner.cpp, line 653 .\n",
      "\n",
      "\n",
      "  FitFailedWarning)\n"
     ]
    },
    {
     "name": "stdout",
     "output_type": "stream",
     "text": [
      "[CV 1/3] END bagging_fraction=0.5, boosting_type=goss, feature_fraction=1.0, learning_rate=0.005, num_iterations=1500, num_leaves=2048, objective=binary; total time= 1.9min\n"
     ]
    },
    {
     "name": "stderr",
     "output_type": "stream",
     "text": [
      "/home/aizat/anaconda3/envs/fyp/lib/python3.7/site-packages/lightgbm/engine.py:148: UserWarning: Found `num_iterations` in params. Will use it instead of argument\n",
      "  _log_warning(\"Found `{}` in params. Will use it instead of argument\".format(alias))\n",
      "/home/aizat/anaconda3/envs/fyp/lib/python3.7/site-packages/sklearn/model_selection/_validation.py:614: FitFailedWarning: Estimator fit failed. The score on this train-test partition for these parameters will be set to nan. Details: \n",
      "Traceback (most recent call last):\n",
      "  File \"/home/aizat/anaconda3/envs/fyp/lib/python3.7/site-packages/sklearn/model_selection/_validation.py\", line 593, in _fit_and_score\n",
      "    estimator.fit(X_train, y_train, **fit_params)\n",
      "  File \"/home/aizat/anaconda3/envs/fyp/lib/python3.7/site-packages/lightgbm/sklearn.py\", line 895, in fit\n",
      "    callbacks=callbacks, init_model=init_model)\n",
      "  File \"/home/aizat/anaconda3/envs/fyp/lib/python3.7/site-packages/lightgbm/sklearn.py\", line 688, in fit\n",
      "    callbacks=callbacks, init_model=init_model)\n",
      "  File \"/home/aizat/anaconda3/envs/fyp/lib/python3.7/site-packages/lightgbm/engine.py\", line 249, in train\n",
      "    booster.update(fobj=fobj)\n",
      "  File \"/home/aizat/anaconda3/envs/fyp/lib/python3.7/site-packages/lightgbm/basic.py\", line 2645, in update\n",
      "    ctypes.byref(is_finished)))\n",
      "  File \"/home/aizat/anaconda3/envs/fyp/lib/python3.7/site-packages/lightgbm/basic.py\", line 110, in _safe_call\n",
      "    raise LightGBMError(_LIB.LGBM_GetLastError().decode('utf-8'))\n",
      "lightgbm.basic.LightGBMError: Check failed: (best_split_info.left_count) > (0) at /home/aizat/LightGBM/src/treelearner/serial_tree_learner.cpp, line 653 .\n",
      "\n",
      "\n",
      "  FitFailedWarning)\n"
     ]
    },
    {
     "name": "stdout",
     "output_type": "stream",
     "text": [
      "[CV 2/3] END bagging_fraction=0.5, boosting_type=goss, feature_fraction=1.0, learning_rate=0.005, num_iterations=1500, num_leaves=2048, objective=binary; total time= 1.9min\n"
     ]
    },
    {
     "name": "stderr",
     "output_type": "stream",
     "text": [
      "/home/aizat/anaconda3/envs/fyp/lib/python3.7/site-packages/lightgbm/engine.py:148: UserWarning: Found `num_iterations` in params. Will use it instead of argument\n",
      "  _log_warning(\"Found `{}` in params. Will use it instead of argument\".format(alias))\n",
      "/home/aizat/anaconda3/envs/fyp/lib/python3.7/site-packages/sklearn/model_selection/_validation.py:614: FitFailedWarning: Estimator fit failed. The score on this train-test partition for these parameters will be set to nan. Details: \n",
      "Traceback (most recent call last):\n",
      "  File \"/home/aizat/anaconda3/envs/fyp/lib/python3.7/site-packages/sklearn/model_selection/_validation.py\", line 593, in _fit_and_score\n",
      "    estimator.fit(X_train, y_train, **fit_params)\n",
      "  File \"/home/aizat/anaconda3/envs/fyp/lib/python3.7/site-packages/lightgbm/sklearn.py\", line 895, in fit\n",
      "    callbacks=callbacks, init_model=init_model)\n",
      "  File \"/home/aizat/anaconda3/envs/fyp/lib/python3.7/site-packages/lightgbm/sklearn.py\", line 688, in fit\n",
      "    callbacks=callbacks, init_model=init_model)\n",
      "  File \"/home/aizat/anaconda3/envs/fyp/lib/python3.7/site-packages/lightgbm/engine.py\", line 249, in train\n",
      "    booster.update(fobj=fobj)\n",
      "  File \"/home/aizat/anaconda3/envs/fyp/lib/python3.7/site-packages/lightgbm/basic.py\", line 2645, in update\n",
      "    ctypes.byref(is_finished)))\n",
      "  File \"/home/aizat/anaconda3/envs/fyp/lib/python3.7/site-packages/lightgbm/basic.py\", line 110, in _safe_call\n",
      "    raise LightGBMError(_LIB.LGBM_GetLastError().decode('utf-8'))\n",
      "lightgbm.basic.LightGBMError: Check failed: (best_split_info.left_count) > (0) at /home/aizat/LightGBM/src/treelearner/serial_tree_learner.cpp, line 653 .\n",
      "\n",
      "\n",
      "  FitFailedWarning)\n"
     ]
    },
    {
     "name": "stdout",
     "output_type": "stream",
     "text": [
      "[CV 3/3] END bagging_fraction=0.5, boosting_type=goss, feature_fraction=1.0, learning_rate=0.005, num_iterations=1500, num_leaves=2048, objective=binary; total time=  30.4s\n"
     ]
    },
    {
     "name": "stderr",
     "output_type": "stream",
     "text": [
      "/home/aizat/anaconda3/envs/fyp/lib/python3.7/site-packages/lightgbm/engine.py:148: UserWarning: Found `num_iterations` in params. Will use it instead of argument\n",
      "  _log_warning(\"Found `{}` in params. Will use it instead of argument\".format(alias))\n",
      "/home/aizat/anaconda3/envs/fyp/lib/python3.7/site-packages/sklearn/model_selection/_validation.py:614: FitFailedWarning: Estimator fit failed. The score on this train-test partition for these parameters will be set to nan. Details: \n",
      "Traceback (most recent call last):\n",
      "  File \"/home/aizat/anaconda3/envs/fyp/lib/python3.7/site-packages/sklearn/model_selection/_validation.py\", line 593, in _fit_and_score\n",
      "    estimator.fit(X_train, y_train, **fit_params)\n",
      "  File \"/home/aizat/anaconda3/envs/fyp/lib/python3.7/site-packages/lightgbm/sklearn.py\", line 895, in fit\n",
      "    callbacks=callbacks, init_model=init_model)\n",
      "  File \"/home/aizat/anaconda3/envs/fyp/lib/python3.7/site-packages/lightgbm/sklearn.py\", line 688, in fit\n",
      "    callbacks=callbacks, init_model=init_model)\n",
      "  File \"/home/aizat/anaconda3/envs/fyp/lib/python3.7/site-packages/lightgbm/engine.py\", line 249, in train\n",
      "    booster.update(fobj=fobj)\n",
      "  File \"/home/aizat/anaconda3/envs/fyp/lib/python3.7/site-packages/lightgbm/basic.py\", line 2645, in update\n",
      "    ctypes.byref(is_finished)))\n",
      "  File \"/home/aizat/anaconda3/envs/fyp/lib/python3.7/site-packages/lightgbm/basic.py\", line 110, in _safe_call\n",
      "    raise LightGBMError(_LIB.LGBM_GetLastError().decode('utf-8'))\n",
      "lightgbm.basic.LightGBMError: Check failed: (best_split_info.left_count) > (0) at /home/aizat/LightGBM/src/treelearner/serial_tree_learner.cpp, line 653 .\n",
      "\n",
      "\n",
      "  FitFailedWarning)\n"
     ]
    },
    {
     "name": "stdout",
     "output_type": "stream",
     "text": [
      "[CV 1/3] END bagging_fraction=0.5, boosting_type=goss, feature_fraction=1.0, learning_rate=0.005, num_iterations=1500, num_leaves=4096, objective=binary; total time= 4.0min\n"
     ]
    },
    {
     "name": "stderr",
     "output_type": "stream",
     "text": [
      "/home/aizat/anaconda3/envs/fyp/lib/python3.7/site-packages/lightgbm/engine.py:148: UserWarning: Found `num_iterations` in params. Will use it instead of argument\n",
      "  _log_warning(\"Found `{}` in params. Will use it instead of argument\".format(alias))\n",
      "/home/aizat/anaconda3/envs/fyp/lib/python3.7/site-packages/sklearn/model_selection/_validation.py:614: FitFailedWarning: Estimator fit failed. The score on this train-test partition for these parameters will be set to nan. Details: \n",
      "Traceback (most recent call last):\n",
      "  File \"/home/aizat/anaconda3/envs/fyp/lib/python3.7/site-packages/sklearn/model_selection/_validation.py\", line 593, in _fit_and_score\n",
      "    estimator.fit(X_train, y_train, **fit_params)\n",
      "  File \"/home/aizat/anaconda3/envs/fyp/lib/python3.7/site-packages/lightgbm/sklearn.py\", line 895, in fit\n",
      "    callbacks=callbacks, init_model=init_model)\n",
      "  File \"/home/aizat/anaconda3/envs/fyp/lib/python3.7/site-packages/lightgbm/sklearn.py\", line 688, in fit\n",
      "    callbacks=callbacks, init_model=init_model)\n",
      "  File \"/home/aizat/anaconda3/envs/fyp/lib/python3.7/site-packages/lightgbm/engine.py\", line 249, in train\n",
      "    booster.update(fobj=fobj)\n",
      "  File \"/home/aizat/anaconda3/envs/fyp/lib/python3.7/site-packages/lightgbm/basic.py\", line 2645, in update\n",
      "    ctypes.byref(is_finished)))\n",
      "  File \"/home/aizat/anaconda3/envs/fyp/lib/python3.7/site-packages/lightgbm/basic.py\", line 110, in _safe_call\n",
      "    raise LightGBMError(_LIB.LGBM_GetLastError().decode('utf-8'))\n",
      "lightgbm.basic.LightGBMError: Check failed: (best_split_info.left_count) > (0) at /home/aizat/LightGBM/src/treelearner/serial_tree_learner.cpp, line 653 .\n",
      "\n",
      "\n",
      "  FitFailedWarning)\n"
     ]
    },
    {
     "name": "stdout",
     "output_type": "stream",
     "text": [
      "[CV 2/3] END bagging_fraction=0.5, boosting_type=goss, feature_fraction=1.0, learning_rate=0.005, num_iterations=1500, num_leaves=4096, objective=binary; total time=  27.8s\n"
     ]
    },
    {
     "name": "stderr",
     "output_type": "stream",
     "text": [
      "/home/aizat/anaconda3/envs/fyp/lib/python3.7/site-packages/lightgbm/engine.py:148: UserWarning: Found `num_iterations` in params. Will use it instead of argument\n",
      "  _log_warning(\"Found `{}` in params. Will use it instead of argument\".format(alias))\n",
      "/home/aizat/anaconda3/envs/fyp/lib/python3.7/site-packages/sklearn/model_selection/_validation.py:614: FitFailedWarning: Estimator fit failed. The score on this train-test partition for these parameters will be set to nan. Details: \n",
      "Traceback (most recent call last):\n",
      "  File \"/home/aizat/anaconda3/envs/fyp/lib/python3.7/site-packages/sklearn/model_selection/_validation.py\", line 593, in _fit_and_score\n",
      "    estimator.fit(X_train, y_train, **fit_params)\n",
      "  File \"/home/aizat/anaconda3/envs/fyp/lib/python3.7/site-packages/lightgbm/sklearn.py\", line 895, in fit\n",
      "    callbacks=callbacks, init_model=init_model)\n",
      "  File \"/home/aizat/anaconda3/envs/fyp/lib/python3.7/site-packages/lightgbm/sklearn.py\", line 688, in fit\n",
      "    callbacks=callbacks, init_model=init_model)\n",
      "  File \"/home/aizat/anaconda3/envs/fyp/lib/python3.7/site-packages/lightgbm/engine.py\", line 249, in train\n",
      "    booster.update(fobj=fobj)\n",
      "  File \"/home/aizat/anaconda3/envs/fyp/lib/python3.7/site-packages/lightgbm/basic.py\", line 2645, in update\n",
      "    ctypes.byref(is_finished)))\n",
      "  File \"/home/aizat/anaconda3/envs/fyp/lib/python3.7/site-packages/lightgbm/basic.py\", line 110, in _safe_call\n",
      "    raise LightGBMError(_LIB.LGBM_GetLastError().decode('utf-8'))\n",
      "lightgbm.basic.LightGBMError: Check failed: (best_split_info.left_count) > (0) at /home/aizat/LightGBM/src/treelearner/serial_tree_learner.cpp, line 653 .\n",
      "\n",
      "\n",
      "  FitFailedWarning)\n"
     ]
    },
    {
     "name": "stdout",
     "output_type": "stream",
     "text": [
      "[CV 3/3] END bagging_fraction=0.5, boosting_type=goss, feature_fraction=1.0, learning_rate=0.005, num_iterations=1500, num_leaves=4096, objective=binary; total time=  34.8s\n"
     ]
    },
    {
     "name": "stderr",
     "output_type": "stream",
     "text": [
      "/home/aizat/anaconda3/envs/fyp/lib/python3.7/site-packages/lightgbm/engine.py:148: UserWarning: Found `num_iterations` in params. Will use it instead of argument\n",
      "  _log_warning(\"Found `{}` in params. Will use it instead of argument\".format(alias))\n"
     ]
    },
    {
     "name": "stdout",
     "output_type": "stream",
     "text": [
      "[CV 1/3] END bagging_fraction=0.5, boosting_type=goss, feature_fraction=1.0, learning_rate=0.05, num_iterations=500, num_leaves=512, objective=binary; total time= 3.6min\n"
     ]
    },
    {
     "name": "stderr",
     "output_type": "stream",
     "text": [
      "/home/aizat/anaconda3/envs/fyp/lib/python3.7/site-packages/lightgbm/engine.py:148: UserWarning: Found `num_iterations` in params. Will use it instead of argument\n",
      "  _log_warning(\"Found `{}` in params. Will use it instead of argument\".format(alias))\n"
     ]
    },
    {
     "name": "stdout",
     "output_type": "stream",
     "text": [
      "[LightGBM] [Warning] feature_fraction is set=1.0, colsample_bytree=1.0 will be ignored. Current value: feature_fraction=1.0\n",
      "[LightGBM] [Warning] bagging_fraction is set=0.5, subsample=1.0 will be ignored. Current value: bagging_fraction=0.5\n",
      "[CV 2/3] END bagging_fraction=0.5, boosting_type=goss, feature_fraction=1.0, learning_rate=0.05, num_iterations=500, num_leaves=512, objective=binary; total time= 4.5min\n"
     ]
    },
    {
     "name": "stderr",
     "output_type": "stream",
     "text": [
      "/home/aizat/anaconda3/envs/fyp/lib/python3.7/site-packages/lightgbm/engine.py:148: UserWarning: Found `num_iterations` in params. Will use it instead of argument\n",
      "  _log_warning(\"Found `{}` in params. Will use it instead of argument\".format(alias))\n"
     ]
    },
    {
     "name": "stdout",
     "output_type": "stream",
     "text": [
      "[LightGBM] [Warning] feature_fraction is set=1.0, colsample_bytree=1.0 will be ignored. Current value: feature_fraction=1.0\n",
      "[LightGBM] [Warning] bagging_fraction is set=0.5, subsample=1.0 will be ignored. Current value: bagging_fraction=0.5\n",
      "[CV 3/3] END bagging_fraction=0.5, boosting_type=goss, feature_fraction=1.0, learning_rate=0.05, num_iterations=500, num_leaves=512, objective=binary; total time= 4.9min\n"
     ]
    },
    {
     "name": "stderr",
     "output_type": "stream",
     "text": [
      "/home/aizat/anaconda3/envs/fyp/lib/python3.7/site-packages/lightgbm/engine.py:148: UserWarning: Found `num_iterations` in params. Will use it instead of argument\n",
      "  _log_warning(\"Found `{}` in params. Will use it instead of argument\".format(alias))\n"
     ]
    },
    {
     "name": "stdout",
     "output_type": "stream",
     "text": [
      "[LightGBM] [Warning] feature_fraction is set=1.0, colsample_bytree=1.0 will be ignored. Current value: feature_fraction=1.0\n",
      "[LightGBM] [Warning] bagging_fraction is set=0.5, subsample=1.0 will be ignored. Current value: bagging_fraction=0.5\n",
      "[CV 1/3] END bagging_fraction=0.5, boosting_type=goss, feature_fraction=1.0, learning_rate=0.05, num_iterations=500, num_leaves=1024, objective=binary; total time= 4.8min\n"
     ]
    },
    {
     "name": "stderr",
     "output_type": "stream",
     "text": [
      "/home/aizat/anaconda3/envs/fyp/lib/python3.7/site-packages/lightgbm/engine.py:148: UserWarning: Found `num_iterations` in params. Will use it instead of argument\n",
      "  _log_warning(\"Found `{}` in params. Will use it instead of argument\".format(alias))\n"
     ]
    },
    {
     "name": "stdout",
     "output_type": "stream",
     "text": [
      "[LightGBM] [Warning] feature_fraction is set=1.0, colsample_bytree=1.0 will be ignored. Current value: feature_fraction=1.0\n",
      "[LightGBM] [Warning] bagging_fraction is set=0.5, subsample=1.0 will be ignored. Current value: bagging_fraction=0.5\n",
      "[CV 2/3] END bagging_fraction=0.5, boosting_type=goss, feature_fraction=1.0, learning_rate=0.05, num_iterations=500, num_leaves=1024, objective=binary; total time= 7.0min\n"
     ]
    },
    {
     "name": "stderr",
     "output_type": "stream",
     "text": [
      "/home/aizat/anaconda3/envs/fyp/lib/python3.7/site-packages/lightgbm/engine.py:148: UserWarning: Found `num_iterations` in params. Will use it instead of argument\n",
      "  _log_warning(\"Found `{}` in params. Will use it instead of argument\".format(alias))\n"
     ]
    },
    {
     "name": "stdout",
     "output_type": "stream",
     "text": [
      "[LightGBM] [Warning] feature_fraction is set=1.0, colsample_bytree=1.0 will be ignored. Current value: feature_fraction=1.0\n",
      "[LightGBM] [Warning] bagging_fraction is set=0.5, subsample=1.0 will be ignored. Current value: bagging_fraction=0.5\n"
     ]
    },
    {
     "name": "stderr",
     "output_type": "stream",
     "text": [
      "/home/aizat/anaconda3/envs/fyp/lib/python3.7/site-packages/sklearn/model_selection/_validation.py:614: FitFailedWarning: Estimator fit failed. The score on this train-test partition for these parameters will be set to nan. Details: \n",
      "Traceback (most recent call last):\n",
      "  File \"/home/aizat/anaconda3/envs/fyp/lib/python3.7/site-packages/sklearn/model_selection/_validation.py\", line 593, in _fit_and_score\n",
      "    estimator.fit(X_train, y_train, **fit_params)\n",
      "  File \"/home/aizat/anaconda3/envs/fyp/lib/python3.7/site-packages/lightgbm/sklearn.py\", line 895, in fit\n",
      "    callbacks=callbacks, init_model=init_model)\n",
      "  File \"/home/aizat/anaconda3/envs/fyp/lib/python3.7/site-packages/lightgbm/sklearn.py\", line 688, in fit\n",
      "    callbacks=callbacks, init_model=init_model)\n",
      "  File \"/home/aizat/anaconda3/envs/fyp/lib/python3.7/site-packages/lightgbm/engine.py\", line 249, in train\n",
      "    booster.update(fobj=fobj)\n",
      "  File \"/home/aizat/anaconda3/envs/fyp/lib/python3.7/site-packages/lightgbm/basic.py\", line 2645, in update\n",
      "    ctypes.byref(is_finished)))\n",
      "  File \"/home/aizat/anaconda3/envs/fyp/lib/python3.7/site-packages/lightgbm/basic.py\", line 110, in _safe_call\n",
      "    raise LightGBMError(_LIB.LGBM_GetLastError().decode('utf-8'))\n",
      "lightgbm.basic.LightGBMError: Check failed: (best_split_info.left_count) > (0) at /home/aizat/LightGBM/src/treelearner/serial_tree_learner.cpp, line 653 .\n",
      "\n",
      "\n",
      "  FitFailedWarning)\n"
     ]
    },
    {
     "name": "stdout",
     "output_type": "stream",
     "text": [
      "[CV 3/3] END bagging_fraction=0.5, boosting_type=goss, feature_fraction=1.0, learning_rate=0.05, num_iterations=500, num_leaves=1024, objective=binary; total time=  30.0s\n"
     ]
    },
    {
     "name": "stderr",
     "output_type": "stream",
     "text": [
      "/home/aizat/anaconda3/envs/fyp/lib/python3.7/site-packages/lightgbm/engine.py:148: UserWarning: Found `num_iterations` in params. Will use it instead of argument\n",
      "  _log_warning(\"Found `{}` in params. Will use it instead of argument\".format(alias))\n",
      "/home/aizat/anaconda3/envs/fyp/lib/python3.7/site-packages/sklearn/model_selection/_validation.py:614: FitFailedWarning: Estimator fit failed. The score on this train-test partition for these parameters will be set to nan. Details: \n",
      "Traceback (most recent call last):\n",
      "  File \"/home/aizat/anaconda3/envs/fyp/lib/python3.7/site-packages/sklearn/model_selection/_validation.py\", line 593, in _fit_and_score\n",
      "    estimator.fit(X_train, y_train, **fit_params)\n",
      "  File \"/home/aizat/anaconda3/envs/fyp/lib/python3.7/site-packages/lightgbm/sklearn.py\", line 895, in fit\n",
      "    callbacks=callbacks, init_model=init_model)\n",
      "  File \"/home/aizat/anaconda3/envs/fyp/lib/python3.7/site-packages/lightgbm/sklearn.py\", line 688, in fit\n",
      "    callbacks=callbacks, init_model=init_model)\n",
      "  File \"/home/aizat/anaconda3/envs/fyp/lib/python3.7/site-packages/lightgbm/engine.py\", line 249, in train\n",
      "    booster.update(fobj=fobj)\n",
      "  File \"/home/aizat/anaconda3/envs/fyp/lib/python3.7/site-packages/lightgbm/basic.py\", line 2645, in update\n",
      "    ctypes.byref(is_finished)))\n",
      "  File \"/home/aizat/anaconda3/envs/fyp/lib/python3.7/site-packages/lightgbm/basic.py\", line 110, in _safe_call\n",
      "    raise LightGBMError(_LIB.LGBM_GetLastError().decode('utf-8'))\n",
      "lightgbm.basic.LightGBMError: Check failed: (best_split_info.left_count) > (0) at /home/aizat/LightGBM/src/treelearner/serial_tree_learner.cpp, line 653 .\n",
      "\n",
      "\n",
      "  FitFailedWarning)\n"
     ]
    },
    {
     "name": "stdout",
     "output_type": "stream",
     "text": [
      "[CV 1/3] END bagging_fraction=0.5, boosting_type=goss, feature_fraction=1.0, learning_rate=0.05, num_iterations=500, num_leaves=2048, objective=binary; total time=  31.8s\n"
     ]
    },
    {
     "name": "stderr",
     "output_type": "stream",
     "text": [
      "/home/aizat/anaconda3/envs/fyp/lib/python3.7/site-packages/lightgbm/engine.py:148: UserWarning: Found `num_iterations` in params. Will use it instead of argument\n",
      "  _log_warning(\"Found `{}` in params. Will use it instead of argument\".format(alias))\n",
      "/home/aizat/anaconda3/envs/fyp/lib/python3.7/site-packages/sklearn/model_selection/_validation.py:614: FitFailedWarning: Estimator fit failed. The score on this train-test partition for these parameters will be set to nan. Details: \n",
      "Traceback (most recent call last):\n",
      "  File \"/home/aizat/anaconda3/envs/fyp/lib/python3.7/site-packages/sklearn/model_selection/_validation.py\", line 593, in _fit_and_score\n",
      "    estimator.fit(X_train, y_train, **fit_params)\n",
      "  File \"/home/aizat/anaconda3/envs/fyp/lib/python3.7/site-packages/lightgbm/sklearn.py\", line 895, in fit\n",
      "    callbacks=callbacks, init_model=init_model)\n",
      "  File \"/home/aizat/anaconda3/envs/fyp/lib/python3.7/site-packages/lightgbm/sklearn.py\", line 688, in fit\n",
      "    callbacks=callbacks, init_model=init_model)\n",
      "  File \"/home/aizat/anaconda3/envs/fyp/lib/python3.7/site-packages/lightgbm/engine.py\", line 249, in train\n",
      "    booster.update(fobj=fobj)\n",
      "  File \"/home/aizat/anaconda3/envs/fyp/lib/python3.7/site-packages/lightgbm/basic.py\", line 2645, in update\n",
      "    ctypes.byref(is_finished)))\n",
      "  File \"/home/aizat/anaconda3/envs/fyp/lib/python3.7/site-packages/lightgbm/basic.py\", line 110, in _safe_call\n",
      "    raise LightGBMError(_LIB.LGBM_GetLastError().decode('utf-8'))\n",
      "lightgbm.basic.LightGBMError: Check failed: (best_split_info.left_count) > (0) at /home/aizat/LightGBM/src/treelearner/serial_tree_learner.cpp, line 653 .\n",
      "\n",
      "\n",
      "  FitFailedWarning)\n"
     ]
    },
    {
     "name": "stdout",
     "output_type": "stream",
     "text": [
      "[CV 2/3] END bagging_fraction=0.5, boosting_type=goss, feature_fraction=1.0, learning_rate=0.05, num_iterations=500, num_leaves=2048, objective=binary; total time=  36.1s\n"
     ]
    },
    {
     "name": "stderr",
     "output_type": "stream",
     "text": [
      "/home/aizat/anaconda3/envs/fyp/lib/python3.7/site-packages/lightgbm/engine.py:148: UserWarning: Found `num_iterations` in params. Will use it instead of argument\n",
      "  _log_warning(\"Found `{}` in params. Will use it instead of argument\".format(alias))\n",
      "/home/aizat/anaconda3/envs/fyp/lib/python3.7/site-packages/sklearn/model_selection/_validation.py:614: FitFailedWarning: Estimator fit failed. The score on this train-test partition for these parameters will be set to nan. Details: \n",
      "Traceback (most recent call last):\n",
      "  File \"/home/aizat/anaconda3/envs/fyp/lib/python3.7/site-packages/sklearn/model_selection/_validation.py\", line 593, in _fit_and_score\n",
      "    estimator.fit(X_train, y_train, **fit_params)\n",
      "  File \"/home/aizat/anaconda3/envs/fyp/lib/python3.7/site-packages/lightgbm/sklearn.py\", line 895, in fit\n",
      "    callbacks=callbacks, init_model=init_model)\n",
      "  File \"/home/aizat/anaconda3/envs/fyp/lib/python3.7/site-packages/lightgbm/sklearn.py\", line 688, in fit\n",
      "    callbacks=callbacks, init_model=init_model)\n",
      "  File \"/home/aizat/anaconda3/envs/fyp/lib/python3.7/site-packages/lightgbm/engine.py\", line 249, in train\n",
      "    booster.update(fobj=fobj)\n",
      "  File \"/home/aizat/anaconda3/envs/fyp/lib/python3.7/site-packages/lightgbm/basic.py\", line 2645, in update\n",
      "    ctypes.byref(is_finished)))\n",
      "  File \"/home/aizat/anaconda3/envs/fyp/lib/python3.7/site-packages/lightgbm/basic.py\", line 110, in _safe_call\n",
      "    raise LightGBMError(_LIB.LGBM_GetLastError().decode('utf-8'))\n",
      "lightgbm.basic.LightGBMError: Check failed: (best_split_info.left_count) > (0) at /home/aizat/LightGBM/src/treelearner/serial_tree_learner.cpp, line 653 .\n",
      "\n",
      "\n",
      "  FitFailedWarning)\n"
     ]
    },
    {
     "name": "stdout",
     "output_type": "stream",
     "text": [
      "[CV 3/3] END bagging_fraction=0.5, boosting_type=goss, feature_fraction=1.0, learning_rate=0.05, num_iterations=500, num_leaves=2048, objective=binary; total time=  29.4s\n"
     ]
    },
    {
     "name": "stderr",
     "output_type": "stream",
     "text": [
      "/home/aizat/anaconda3/envs/fyp/lib/python3.7/site-packages/lightgbm/engine.py:148: UserWarning: Found `num_iterations` in params. Will use it instead of argument\n",
      "  _log_warning(\"Found `{}` in params. Will use it instead of argument\".format(alias))\n"
     ]
    },
    {
     "name": "stdout",
     "output_type": "stream",
     "text": [
      "[CV 1/3] END bagging_fraction=0.5, boosting_type=goss, feature_fraction=1.0, learning_rate=0.05, num_iterations=500, num_leaves=4096, objective=binary; total time= 7.7min\n"
     ]
    },
    {
     "name": "stderr",
     "output_type": "stream",
     "text": [
      "/home/aizat/anaconda3/envs/fyp/lib/python3.7/site-packages/lightgbm/engine.py:148: UserWarning: Found `num_iterations` in params. Will use it instead of argument\n",
      "  _log_warning(\"Found `{}` in params. Will use it instead of argument\".format(alias))\n"
     ]
    },
    {
     "name": "stdout",
     "output_type": "stream",
     "text": [
      "[LightGBM] [Warning] feature_fraction is set=1.0, colsample_bytree=1.0 will be ignored. Current value: feature_fraction=1.0\n",
      "[LightGBM] [Warning] bagging_fraction is set=0.5, subsample=1.0 will be ignored. Current value: bagging_fraction=0.5\n"
     ]
    },
    {
     "name": "stderr",
     "output_type": "stream",
     "text": [
      "/home/aizat/anaconda3/envs/fyp/lib/python3.7/site-packages/sklearn/model_selection/_validation.py:614: FitFailedWarning: Estimator fit failed. The score on this train-test partition for these parameters will be set to nan. Details: \n",
      "Traceback (most recent call last):\n",
      "  File \"/home/aizat/anaconda3/envs/fyp/lib/python3.7/site-packages/sklearn/model_selection/_validation.py\", line 593, in _fit_and_score\n",
      "    estimator.fit(X_train, y_train, **fit_params)\n",
      "  File \"/home/aizat/anaconda3/envs/fyp/lib/python3.7/site-packages/lightgbm/sklearn.py\", line 895, in fit\n",
      "    callbacks=callbacks, init_model=init_model)\n",
      "  File \"/home/aizat/anaconda3/envs/fyp/lib/python3.7/site-packages/lightgbm/sklearn.py\", line 688, in fit\n",
      "    callbacks=callbacks, init_model=init_model)\n",
      "  File \"/home/aizat/anaconda3/envs/fyp/lib/python3.7/site-packages/lightgbm/engine.py\", line 249, in train\n",
      "    booster.update(fobj=fobj)\n",
      "  File \"/home/aizat/anaconda3/envs/fyp/lib/python3.7/site-packages/lightgbm/basic.py\", line 2645, in update\n",
      "    ctypes.byref(is_finished)))\n",
      "  File \"/home/aizat/anaconda3/envs/fyp/lib/python3.7/site-packages/lightgbm/basic.py\", line 110, in _safe_call\n",
      "    raise LightGBMError(_LIB.LGBM_GetLastError().decode('utf-8'))\n",
      "lightgbm.basic.LightGBMError: Check failed: (best_split_info.left_count) > (0) at /home/aizat/LightGBM/src/treelearner/serial_tree_learner.cpp, line 653 .\n",
      "\n",
      "\n",
      "  FitFailedWarning)\n"
     ]
    },
    {
     "name": "stdout",
     "output_type": "stream",
     "text": [
      "[CV 2/3] END bagging_fraction=0.5, boosting_type=goss, feature_fraction=1.0, learning_rate=0.05, num_iterations=500, num_leaves=4096, objective=binary; total time=  27.8s\n"
     ]
    },
    {
     "name": "stderr",
     "output_type": "stream",
     "text": [
      "/home/aizat/anaconda3/envs/fyp/lib/python3.7/site-packages/lightgbm/engine.py:148: UserWarning: Found `num_iterations` in params. Will use it instead of argument\n",
      "  _log_warning(\"Found `{}` in params. Will use it instead of argument\".format(alias))\n",
      "/home/aizat/anaconda3/envs/fyp/lib/python3.7/site-packages/sklearn/model_selection/_validation.py:614: FitFailedWarning: Estimator fit failed. The score on this train-test partition for these parameters will be set to nan. Details: \n",
      "Traceback (most recent call last):\n",
      "  File \"/home/aizat/anaconda3/envs/fyp/lib/python3.7/site-packages/sklearn/model_selection/_validation.py\", line 593, in _fit_and_score\n",
      "    estimator.fit(X_train, y_train, **fit_params)\n",
      "  File \"/home/aizat/anaconda3/envs/fyp/lib/python3.7/site-packages/lightgbm/sklearn.py\", line 895, in fit\n",
      "    callbacks=callbacks, init_model=init_model)\n",
      "  File \"/home/aizat/anaconda3/envs/fyp/lib/python3.7/site-packages/lightgbm/sklearn.py\", line 688, in fit\n",
      "    callbacks=callbacks, init_model=init_model)\n",
      "  File \"/home/aizat/anaconda3/envs/fyp/lib/python3.7/site-packages/lightgbm/engine.py\", line 249, in train\n",
      "    booster.update(fobj=fobj)\n",
      "  File \"/home/aizat/anaconda3/envs/fyp/lib/python3.7/site-packages/lightgbm/basic.py\", line 2645, in update\n",
      "    ctypes.byref(is_finished)))\n",
      "  File \"/home/aizat/anaconda3/envs/fyp/lib/python3.7/site-packages/lightgbm/basic.py\", line 110, in _safe_call\n",
      "    raise LightGBMError(_LIB.LGBM_GetLastError().decode('utf-8'))\n",
      "lightgbm.basic.LightGBMError: Check failed: (best_split_info.left_count) > (0) at /home/aizat/LightGBM/src/treelearner/serial_tree_learner.cpp, line 653 .\n",
      "\n",
      "\n",
      "  FitFailedWarning)\n"
     ]
    },
    {
     "name": "stdout",
     "output_type": "stream",
     "text": [
      "[CV 3/3] END bagging_fraction=0.5, boosting_type=goss, feature_fraction=1.0, learning_rate=0.05, num_iterations=500, num_leaves=4096, objective=binary; total time=  44.9s\n"
     ]
    },
    {
     "name": "stderr",
     "output_type": "stream",
     "text": [
      "/home/aizat/anaconda3/envs/fyp/lib/python3.7/site-packages/lightgbm/engine.py:148: UserWarning: Found `num_iterations` in params. Will use it instead of argument\n",
      "  _log_warning(\"Found `{}` in params. Will use it instead of argument\".format(alias))\n"
     ]
    },
    {
     "name": "stdout",
     "output_type": "stream",
     "text": [
      "[CV 1/3] END bagging_fraction=0.5, boosting_type=goss, feature_fraction=1.0, learning_rate=0.05, num_iterations=1000, num_leaves=512, objective=binary; total time= 4.9min\n"
     ]
    },
    {
     "name": "stderr",
     "output_type": "stream",
     "text": [
      "/home/aizat/anaconda3/envs/fyp/lib/python3.7/site-packages/lightgbm/engine.py:148: UserWarning: Found `num_iterations` in params. Will use it instead of argument\n",
      "  _log_warning(\"Found `{}` in params. Will use it instead of argument\".format(alias))\n"
     ]
    },
    {
     "name": "stdout",
     "output_type": "stream",
     "text": [
      "[LightGBM] [Warning] feature_fraction is set=1.0, colsample_bytree=1.0 will be ignored. Current value: feature_fraction=1.0\n",
      "[LightGBM] [Warning] bagging_fraction is set=0.5, subsample=1.0 will be ignored. Current value: bagging_fraction=0.5\n",
      "[CV 2/3] END bagging_fraction=0.5, boosting_type=goss, feature_fraction=1.0, learning_rate=0.05, num_iterations=1000, num_leaves=512, objective=binary; total time= 8.1min\n"
     ]
    },
    {
     "name": "stderr",
     "output_type": "stream",
     "text": [
      "/home/aizat/anaconda3/envs/fyp/lib/python3.7/site-packages/lightgbm/engine.py:148: UserWarning: Found `num_iterations` in params. Will use it instead of argument\n",
      "  _log_warning(\"Found `{}` in params. Will use it instead of argument\".format(alias))\n"
     ]
    },
    {
     "name": "stdout",
     "output_type": "stream",
     "text": [
      "[LightGBM] [Warning] feature_fraction is set=1.0, colsample_bytree=1.0 will be ignored. Current value: feature_fraction=1.0\n",
      "[LightGBM] [Warning] bagging_fraction is set=0.5, subsample=1.0 will be ignored. Current value: bagging_fraction=0.5\n",
      "[CV 3/3] END bagging_fraction=0.5, boosting_type=goss, feature_fraction=1.0, learning_rate=0.05, num_iterations=1000, num_leaves=512, objective=binary; total time= 9.2min\n"
     ]
    },
    {
     "name": "stderr",
     "output_type": "stream",
     "text": [
      "/home/aizat/anaconda3/envs/fyp/lib/python3.7/site-packages/lightgbm/engine.py:148: UserWarning: Found `num_iterations` in params. Will use it instead of argument\n",
      "  _log_warning(\"Found `{}` in params. Will use it instead of argument\".format(alias))\n"
     ]
    },
    {
     "name": "stdout",
     "output_type": "stream",
     "text": [
      "[LightGBM] [Warning] feature_fraction is set=1.0, colsample_bytree=1.0 will be ignored. Current value: feature_fraction=1.0\n",
      "[LightGBM] [Warning] bagging_fraction is set=0.5, subsample=1.0 will be ignored. Current value: bagging_fraction=0.5\n",
      "[CV 1/3] END bagging_fraction=0.5, boosting_type=goss, feature_fraction=1.0, learning_rate=0.05, num_iterations=1000, num_leaves=1024, objective=binary; total time= 5.7min\n"
     ]
    },
    {
     "name": "stderr",
     "output_type": "stream",
     "text": [
      "/home/aizat/anaconda3/envs/fyp/lib/python3.7/site-packages/lightgbm/engine.py:148: UserWarning: Found `num_iterations` in params. Will use it instead of argument\n",
      "  _log_warning(\"Found `{}` in params. Will use it instead of argument\".format(alias))\n"
     ]
    },
    {
     "name": "stdout",
     "output_type": "stream",
     "text": [
      "[LightGBM] [Warning] feature_fraction is set=1.0, colsample_bytree=1.0 will be ignored. Current value: feature_fraction=1.0\n",
      "[LightGBM] [Warning] bagging_fraction is set=0.5, subsample=1.0 will be ignored. Current value: bagging_fraction=0.5\n",
      "[CV 2/3] END bagging_fraction=0.5, boosting_type=goss, feature_fraction=1.0, learning_rate=0.05, num_iterations=1000, num_leaves=1024, objective=binary; total time= 9.4min\n"
     ]
    },
    {
     "name": "stderr",
     "output_type": "stream",
     "text": [
      "/home/aizat/anaconda3/envs/fyp/lib/python3.7/site-packages/lightgbm/engine.py:148: UserWarning: Found `num_iterations` in params. Will use it instead of argument\n",
      "  _log_warning(\"Found `{}` in params. Will use it instead of argument\".format(alias))\n"
     ]
    },
    {
     "name": "stdout",
     "output_type": "stream",
     "text": [
      "[LightGBM] [Warning] feature_fraction is set=1.0, colsample_bytree=1.0 will be ignored. Current value: feature_fraction=1.0\n",
      "[LightGBM] [Warning] bagging_fraction is set=0.5, subsample=1.0 will be ignored. Current value: bagging_fraction=0.5\n"
     ]
    },
    {
     "name": "stderr",
     "output_type": "stream",
     "text": [
      "/home/aizat/anaconda3/envs/fyp/lib/python3.7/site-packages/sklearn/model_selection/_validation.py:614: FitFailedWarning: Estimator fit failed. The score on this train-test partition for these parameters will be set to nan. Details: \n",
      "Traceback (most recent call last):\n",
      "  File \"/home/aizat/anaconda3/envs/fyp/lib/python3.7/site-packages/sklearn/model_selection/_validation.py\", line 593, in _fit_and_score\n",
      "    estimator.fit(X_train, y_train, **fit_params)\n",
      "  File \"/home/aizat/anaconda3/envs/fyp/lib/python3.7/site-packages/lightgbm/sklearn.py\", line 895, in fit\n",
      "    callbacks=callbacks, init_model=init_model)\n",
      "  File \"/home/aizat/anaconda3/envs/fyp/lib/python3.7/site-packages/lightgbm/sklearn.py\", line 688, in fit\n",
      "    callbacks=callbacks, init_model=init_model)\n",
      "  File \"/home/aizat/anaconda3/envs/fyp/lib/python3.7/site-packages/lightgbm/engine.py\", line 249, in train\n",
      "    booster.update(fobj=fobj)\n",
      "  File \"/home/aizat/anaconda3/envs/fyp/lib/python3.7/site-packages/lightgbm/basic.py\", line 2645, in update\n",
      "    ctypes.byref(is_finished)))\n",
      "  File \"/home/aizat/anaconda3/envs/fyp/lib/python3.7/site-packages/lightgbm/basic.py\", line 110, in _safe_call\n",
      "    raise LightGBMError(_LIB.LGBM_GetLastError().decode('utf-8'))\n",
      "lightgbm.basic.LightGBMError: Check failed: (best_split_info.left_count) > (0) at /home/aizat/LightGBM/src/treelearner/serial_tree_learner.cpp, line 653 .\n",
      "\n",
      "\n",
      "  FitFailedWarning)\n"
     ]
    },
    {
     "name": "stdout",
     "output_type": "stream",
     "text": [
      "[CV 3/3] END bagging_fraction=0.5, boosting_type=goss, feature_fraction=1.0, learning_rate=0.05, num_iterations=1000, num_leaves=1024, objective=binary; total time=  34.9s\n"
     ]
    },
    {
     "name": "stderr",
     "output_type": "stream",
     "text": [
      "/home/aizat/anaconda3/envs/fyp/lib/python3.7/site-packages/lightgbm/engine.py:148: UserWarning: Found `num_iterations` in params. Will use it instead of argument\n",
      "  _log_warning(\"Found `{}` in params. Will use it instead of argument\".format(alias))\n",
      "/home/aizat/anaconda3/envs/fyp/lib/python3.7/site-packages/sklearn/model_selection/_validation.py:614: FitFailedWarning: Estimator fit failed. The score on this train-test partition for these parameters will be set to nan. Details: \n",
      "Traceback (most recent call last):\n",
      "  File \"/home/aizat/anaconda3/envs/fyp/lib/python3.7/site-packages/sklearn/model_selection/_validation.py\", line 593, in _fit_and_score\n",
      "    estimator.fit(X_train, y_train, **fit_params)\n",
      "  File \"/home/aizat/anaconda3/envs/fyp/lib/python3.7/site-packages/lightgbm/sklearn.py\", line 895, in fit\n",
      "    callbacks=callbacks, init_model=init_model)\n",
      "  File \"/home/aizat/anaconda3/envs/fyp/lib/python3.7/site-packages/lightgbm/sklearn.py\", line 688, in fit\n",
      "    callbacks=callbacks, init_model=init_model)\n",
      "  File \"/home/aizat/anaconda3/envs/fyp/lib/python3.7/site-packages/lightgbm/engine.py\", line 249, in train\n",
      "    booster.update(fobj=fobj)\n",
      "  File \"/home/aizat/anaconda3/envs/fyp/lib/python3.7/site-packages/lightgbm/basic.py\", line 2645, in update\n",
      "    ctypes.byref(is_finished)))\n",
      "  File \"/home/aizat/anaconda3/envs/fyp/lib/python3.7/site-packages/lightgbm/basic.py\", line 110, in _safe_call\n",
      "    raise LightGBMError(_LIB.LGBM_GetLastError().decode('utf-8'))\n",
      "lightgbm.basic.LightGBMError: Check failed: (best_split_info.left_count) > (0) at /home/aizat/LightGBM/src/treelearner/serial_tree_learner.cpp, line 653 .\n",
      "\n",
      "\n",
      "  FitFailedWarning)\n"
     ]
    },
    {
     "name": "stdout",
     "output_type": "stream",
     "text": [
      "[CV 1/3] END bagging_fraction=0.5, boosting_type=goss, feature_fraction=1.0, learning_rate=0.05, num_iterations=1000, num_leaves=2048, objective=binary; total time=  42.2s\n"
     ]
    },
    {
     "name": "stderr",
     "output_type": "stream",
     "text": [
      "/home/aizat/anaconda3/envs/fyp/lib/python3.7/site-packages/lightgbm/engine.py:148: UserWarning: Found `num_iterations` in params. Will use it instead of argument\n",
      "  _log_warning(\"Found `{}` in params. Will use it instead of argument\".format(alias))\n"
     ]
    },
    {
     "name": "stdout",
     "output_type": "stream",
     "text": [
      "[CV 2/3] END bagging_fraction=0.5, boosting_type=goss, feature_fraction=1.0, learning_rate=0.05, num_iterations=1000, num_leaves=2048, objective=binary; total time=11.3min\n"
     ]
    },
    {
     "name": "stderr",
     "output_type": "stream",
     "text": [
      "/home/aizat/anaconda3/envs/fyp/lib/python3.7/site-packages/lightgbm/engine.py:148: UserWarning: Found `num_iterations` in params. Will use it instead of argument\n",
      "  _log_warning(\"Found `{}` in params. Will use it instead of argument\".format(alias))\n"
     ]
    },
    {
     "name": "stdout",
     "output_type": "stream",
     "text": [
      "[LightGBM] [Warning] feature_fraction is set=1.0, colsample_bytree=1.0 will be ignored. Current value: feature_fraction=1.0\n",
      "[LightGBM] [Warning] bagging_fraction is set=0.5, subsample=1.0 will be ignored. Current value: bagging_fraction=0.5\n"
     ]
    },
    {
     "name": "stderr",
     "output_type": "stream",
     "text": [
      "/home/aizat/anaconda3/envs/fyp/lib/python3.7/site-packages/sklearn/model_selection/_validation.py:614: FitFailedWarning: Estimator fit failed. The score on this train-test partition for these parameters will be set to nan. Details: \n",
      "Traceback (most recent call last):\n",
      "  File \"/home/aizat/anaconda3/envs/fyp/lib/python3.7/site-packages/sklearn/model_selection/_validation.py\", line 593, in _fit_and_score\n",
      "    estimator.fit(X_train, y_train, **fit_params)\n",
      "  File \"/home/aizat/anaconda3/envs/fyp/lib/python3.7/site-packages/lightgbm/sklearn.py\", line 895, in fit\n",
      "    callbacks=callbacks, init_model=init_model)\n",
      "  File \"/home/aizat/anaconda3/envs/fyp/lib/python3.7/site-packages/lightgbm/sklearn.py\", line 688, in fit\n",
      "    callbacks=callbacks, init_model=init_model)\n",
      "  File \"/home/aizat/anaconda3/envs/fyp/lib/python3.7/site-packages/lightgbm/engine.py\", line 249, in train\n",
      "    booster.update(fobj=fobj)\n",
      "  File \"/home/aizat/anaconda3/envs/fyp/lib/python3.7/site-packages/lightgbm/basic.py\", line 2645, in update\n",
      "    ctypes.byref(is_finished)))\n",
      "  File \"/home/aizat/anaconda3/envs/fyp/lib/python3.7/site-packages/lightgbm/basic.py\", line 110, in _safe_call\n",
      "    raise LightGBMError(_LIB.LGBM_GetLastError().decode('utf-8'))\n",
      "lightgbm.basic.LightGBMError: Check failed: (best_split_info.left_count) > (0) at /home/aizat/LightGBM/src/treelearner/serial_tree_learner.cpp, line 653 .\n",
      "\n",
      "\n",
      "  FitFailedWarning)\n"
     ]
    },
    {
     "name": "stdout",
     "output_type": "stream",
     "text": [
      "[CV 3/3] END bagging_fraction=0.5, boosting_type=goss, feature_fraction=1.0, learning_rate=0.05, num_iterations=1000, num_leaves=2048, objective=binary; total time=  35.3s\n"
     ]
    },
    {
     "name": "stderr",
     "output_type": "stream",
     "text": [
      "/home/aizat/anaconda3/envs/fyp/lib/python3.7/site-packages/lightgbm/engine.py:148: UserWarning: Found `num_iterations` in params. Will use it instead of argument\n",
      "  _log_warning(\"Found `{}` in params. Will use it instead of argument\".format(alias))\n"
     ]
    },
    {
     "name": "stdout",
     "output_type": "stream",
     "text": [
      "[CV 1/3] END bagging_fraction=0.5, boosting_type=goss, feature_fraction=1.0, learning_rate=0.05, num_iterations=1000, num_leaves=4096, objective=binary; total time= 8.6min\n"
     ]
    },
    {
     "name": "stderr",
     "output_type": "stream",
     "text": [
      "/home/aizat/anaconda3/envs/fyp/lib/python3.7/site-packages/lightgbm/engine.py:148: UserWarning: Found `num_iterations` in params. Will use it instead of argument\n",
      "  _log_warning(\"Found `{}` in params. Will use it instead of argument\".format(alias))\n"
     ]
    },
    {
     "name": "stdout",
     "output_type": "stream",
     "text": [
      "[LightGBM] [Warning] feature_fraction is set=1.0, colsample_bytree=1.0 will be ignored. Current value: feature_fraction=1.0\n",
      "[LightGBM] [Warning] bagging_fraction is set=0.5, subsample=1.0 will be ignored. Current value: bagging_fraction=0.5\n"
     ]
    },
    {
     "name": "stderr",
     "output_type": "stream",
     "text": [
      "/home/aizat/anaconda3/envs/fyp/lib/python3.7/site-packages/sklearn/model_selection/_validation.py:614: FitFailedWarning: Estimator fit failed. The score on this train-test partition for these parameters will be set to nan. Details: \n",
      "Traceback (most recent call last):\n",
      "  File \"/home/aizat/anaconda3/envs/fyp/lib/python3.7/site-packages/sklearn/model_selection/_validation.py\", line 593, in _fit_and_score\n",
      "    estimator.fit(X_train, y_train, **fit_params)\n",
      "  File \"/home/aizat/anaconda3/envs/fyp/lib/python3.7/site-packages/lightgbm/sklearn.py\", line 895, in fit\n",
      "    callbacks=callbacks, init_model=init_model)\n",
      "  File \"/home/aizat/anaconda3/envs/fyp/lib/python3.7/site-packages/lightgbm/sklearn.py\", line 688, in fit\n",
      "    callbacks=callbacks, init_model=init_model)\n",
      "  File \"/home/aizat/anaconda3/envs/fyp/lib/python3.7/site-packages/lightgbm/engine.py\", line 249, in train\n",
      "    booster.update(fobj=fobj)\n",
      "  File \"/home/aizat/anaconda3/envs/fyp/lib/python3.7/site-packages/lightgbm/basic.py\", line 2645, in update\n",
      "    ctypes.byref(is_finished)))\n",
      "  File \"/home/aizat/anaconda3/envs/fyp/lib/python3.7/site-packages/lightgbm/basic.py\", line 110, in _safe_call\n",
      "    raise LightGBMError(_LIB.LGBM_GetLastError().decode('utf-8'))\n",
      "lightgbm.basic.LightGBMError: Check failed: (best_split_info.left_count) > (0) at /home/aizat/LightGBM/src/treelearner/serial_tree_learner.cpp, line 653 .\n",
      "\n",
      "\n",
      "  FitFailedWarning)\n"
     ]
    },
    {
     "name": "stdout",
     "output_type": "stream",
     "text": [
      "[CV 2/3] END bagging_fraction=0.5, boosting_type=goss, feature_fraction=1.0, learning_rate=0.05, num_iterations=1000, num_leaves=4096, objective=binary; total time=  28.7s\n"
     ]
    },
    {
     "name": "stderr",
     "output_type": "stream",
     "text": [
      "/home/aizat/anaconda3/envs/fyp/lib/python3.7/site-packages/lightgbm/engine.py:148: UserWarning: Found `num_iterations` in params. Will use it instead of argument\n",
      "  _log_warning(\"Found `{}` in params. Will use it instead of argument\".format(alias))\n",
      "/home/aizat/anaconda3/envs/fyp/lib/python3.7/site-packages/sklearn/model_selection/_validation.py:614: FitFailedWarning: Estimator fit failed. The score on this train-test partition for these parameters will be set to nan. Details: \n",
      "Traceback (most recent call last):\n",
      "  File \"/home/aizat/anaconda3/envs/fyp/lib/python3.7/site-packages/sklearn/model_selection/_validation.py\", line 593, in _fit_and_score\n",
      "    estimator.fit(X_train, y_train, **fit_params)\n",
      "  File \"/home/aizat/anaconda3/envs/fyp/lib/python3.7/site-packages/lightgbm/sklearn.py\", line 895, in fit\n",
      "    callbacks=callbacks, init_model=init_model)\n",
      "  File \"/home/aizat/anaconda3/envs/fyp/lib/python3.7/site-packages/lightgbm/sklearn.py\", line 688, in fit\n",
      "    callbacks=callbacks, init_model=init_model)\n",
      "  File \"/home/aizat/anaconda3/envs/fyp/lib/python3.7/site-packages/lightgbm/engine.py\", line 249, in train\n",
      "    booster.update(fobj=fobj)\n",
      "  File \"/home/aizat/anaconda3/envs/fyp/lib/python3.7/site-packages/lightgbm/basic.py\", line 2645, in update\n",
      "    ctypes.byref(is_finished)))\n",
      "  File \"/home/aizat/anaconda3/envs/fyp/lib/python3.7/site-packages/lightgbm/basic.py\", line 110, in _safe_call\n",
      "    raise LightGBMError(_LIB.LGBM_GetLastError().decode('utf-8'))\n",
      "lightgbm.basic.LightGBMError: Check failed: (best_split_info.left_count) > (0) at /home/aizat/LightGBM/src/treelearner/serial_tree_learner.cpp, line 653 .\n",
      "\n",
      "\n",
      "  FitFailedWarning)\n"
     ]
    },
    {
     "name": "stdout",
     "output_type": "stream",
     "text": [
      "[CV 3/3] END bagging_fraction=0.5, boosting_type=goss, feature_fraction=1.0, learning_rate=0.05, num_iterations=1000, num_leaves=4096, objective=binary; total time=  43.9s\n"
     ]
    },
    {
     "name": "stderr",
     "output_type": "stream",
     "text": [
      "/home/aizat/anaconda3/envs/fyp/lib/python3.7/site-packages/lightgbm/engine.py:148: UserWarning: Found `num_iterations` in params. Will use it instead of argument\n",
      "  _log_warning(\"Found `{}` in params. Will use it instead of argument\".format(alias))\n"
     ]
    },
    {
     "name": "stdout",
     "output_type": "stream",
     "text": [
      "[CV 1/3] END bagging_fraction=0.5, boosting_type=goss, feature_fraction=1.0, learning_rate=0.05, num_iterations=1500, num_leaves=512, objective=binary; total time= 5.6min\n"
     ]
    },
    {
     "name": "stderr",
     "output_type": "stream",
     "text": [
      "/home/aizat/anaconda3/envs/fyp/lib/python3.7/site-packages/lightgbm/engine.py:148: UserWarning: Found `num_iterations` in params. Will use it instead of argument\n",
      "  _log_warning(\"Found `{}` in params. Will use it instead of argument\".format(alias))\n"
     ]
    },
    {
     "name": "stdout",
     "output_type": "stream",
     "text": [
      "[LightGBM] [Warning] feature_fraction is set=1.0, colsample_bytree=1.0 will be ignored. Current value: feature_fraction=1.0\n",
      "[LightGBM] [Warning] bagging_fraction is set=0.5, subsample=1.0 will be ignored. Current value: bagging_fraction=0.5\n"
     ]
    }
   ],
   "source": [
    "from sklearn.metrics import (roc_auc_score, make_scorer)\n",
    "from sklearn.metrics import roc_auc_score, roc_curve\n",
    "from sklearn.model_selection import GridSearchCV\n",
    "from sklearn.model_selection import TimeSeriesSplit\n",
    "\n",
    "params = {\n",
    "    'boosting_type': ['goss','gdbt','dart'],\n",
    "    'objective': ['binary'],\n",
    "    'num_iterations': [500, 1000, 1500],\n",
    "    'learning_rate': [0.005, 0.05, 0.5],\n",
    "    'num_leaves': [512, 1024, 2048, 4096],\n",
    "    'feature_fraction': [0.5, 0.8, 1.0, 1.3],\n",
    "    'bagging_fraction': [0.5, 0.8, 1.0, 1.3]\n",
    "}\n",
    "\n",
    "mlflow.sklearn.autolog()\n",
    "\n",
    "score = make_scorer(roc_auc_score, max_fpr=5e-3)\n",
    "model = lgb.LGBMClassifier(boosting_type=\"gbdt\", n_jobs=-1, silent=True)\n",
    "progressive_cv = TimeSeriesSplit(n_splits=3).split(X_train)\n",
    "grid = GridSearchCV(estimator=model, cv=progressive_cv, param_grid=params, scoring=score, n_jobs=1, verbose=3)\n",
    "grid.fit(X_train, y_train)\n",
    "\n",
    "\n",
    "\n"
   ]
  },
  {
   "cell_type": "code",
   "execution_count": null,
   "metadata": {},
   "outputs": [],
   "source": [
    "lgbm_dataset = lgb.Dataset(X_train, y_train)\n",
    "lgbm_model = lgb.train(grid.best_params_, lgbm_dataset)"
   ]
  },
  {
   "cell_type": "code",
   "execution_count": null,
   "metadata": {},
   "outputs": [],
   "source": [
    "import joblib\n",
    "joblib.dump(lgbm_model, './model/opt_search_params_12_4.pkl')\n",
    "#joblib.dump(grid, 'griddefaultparams_11_4.pkl')"
   ]
  },
  {
   "cell_type": "code",
   "execution_count": null,
   "metadata": {},
   "outputs": [],
   "source": [
    "print(grid.best_params_)"
   ]
  },
  {
   "cell_type": "code",
   "execution_count": null,
   "metadata": {},
   "outputs": [],
   "source": []
  },
  {
   "cell_type": "code",
   "execution_count": null,
   "metadata": {},
   "outputs": [],
   "source": []
  }
 ],
 "metadata": {
  "kernelspec": {
   "display_name": "Python 3",
   "language": "python",
   "name": "python3"
  },
  "language_info": {
   "codemirror_mode": {
    "name": "ipython",
    "version": 3
   },
   "file_extension": ".py",
   "mimetype": "text/x-python",
   "name": "python",
   "nbconvert_exporter": "python",
   "pygments_lexer": "ipython3",
   "version": "3.8.8"
  }
 },
 "nbformat": 4,
 "nbformat_minor": 1
}
