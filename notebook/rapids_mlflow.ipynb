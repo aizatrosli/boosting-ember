{
 "cells": [
  {
   "cell_type": "code",
   "execution_count": 1,
   "id": "3f8d6674",
   "metadata": {},
   "outputs": [
    {
     "data": {
      "text/plain": [
       "True"
      ]
     },
     "execution_count": 1,
     "metadata": {},
     "output_type": "execute_result"
    }
   ],
   "source": [
    "import shap\n",
    "import joblib\n",
    "import sys,os,time,platform\n",
    "\n",
    "if platform.node() == 'aizat-fyp':\n",
    "    sys.path.append(r'/home/aizat/ember')\n",
    "    sys.path.append(r'/home/aizat/OneDrive/Master Project/Workspace/boosting-ember')\n",
    "    datasetpath = '/home/aizat/OneDrive/Master Project/Workspace/dataset/ember2018'\n",
    "else:\n",
    "    sys.path.append(r'/root/ember')\n",
    "    sys.path.append(r'/root/boosting-ember')\n",
    "    datasetpath = '/root/dataset/ember2018/'\n",
    "import mlflow    \n",
    "import ember\n",
    "import pandas as pd\n",
    "import numpy as np\n",
    "import lightgbm as lgb\n",
    "import boostember\n",
    "from boostember.features_extended import *\n",
    "\n",
    "boostember.mlflowsetup('/root/boosting-ember/mlflow')"
   ]
  },
  {
   "cell_type": "code",
   "execution_count": 2,
   "id": "987d4b0a",
   "metadata": {},
   "outputs": [
    {
     "name": "stdout",
     "output_type": "stream",
     "text": [
      "WARNING: EMBER feature version 2 were computed using lief version 0.9.0-\n",
      "WARNING:   lief version 0.11.4-dd13711 found instead. There may be slight inconsistencies\n",
      "WARNING:   in the feature calculations.\n"
     ]
    },
    {
     "data": {
      "text/plain": [
       "((600000, 2381), (600000,))"
      ]
     },
     "execution_count": 2,
     "metadata": {},
     "output_type": "execute_result"
    }
   ],
   "source": [
    "X_train, y_train, X_test, y_test = ember.read_vectorized_features(datasetpath)\n",
    "delunlabel = (y_train != -1)\n",
    "\n",
    "X_train = X_train[delunlabel]\n",
    "#X_train = pd.DataFrame(X_train, columns=emberfeaturesheader())\n",
    "y_train = y_train[delunlabel]\n",
    "X_train.shape, y_train.shape"
   ]
  },
  {
   "cell_type": "code",
   "execution_count": 3,
   "id": "175ead20",
   "metadata": {},
   "outputs": [],
   "source": [
    "mlflow.set_tracking_uri(\"https://atlascompanion.live/\")\n",
    "#mlflow.create_experiment(\"\", artifact_location=\"gs://mlflow_aizat\")\n",
    "mlflow.set_experiment(\"Demo\")"
   ]
  },
  {
   "cell_type": "code",
   "execution_count": 4,
   "id": "c4b6bc0a",
   "metadata": {},
   "outputs": [],
   "source": [
    "def fetch_logged_data(run_id):\n",
    "    client = mlflow.tracking.MlflowClient()\n",
    "    data = client.get_run(run_id).data\n",
    "    tags = {k: v for k, v in data.tags.items() if not k.startswith(\"mlflow.\")}\n",
    "    artifacts = [f.path for f in client.list_artifacts(run_id, \"model\")]\n",
    "    return data.params, data.metrics, tags, artifacts"
   ]
  },
  {
   "cell_type": "code",
   "execution_count": 5,
   "id": "5bd1e810",
   "metadata": {},
   "outputs": [],
   "source": [
    "from mlflow.tracking import MlflowClient\n",
    "import mlflow.pyfunc\n",
    "\n",
    "client = MlflowClient()\n",
    "client.list_artifacts(\"e82bce1a1b6542b88c982ef9302e7daf\")\n",
    "client.download_artifacts(\"e82bce1a1b6542b88c982ef9302e7daf\", \"best_estimator/model.pkl\", \"model\")\n",
    "\n",
    "model = joblib.load('./model/best_estimator/model.pkl')\n",
    "#model = mlflow.pyfunc.load_model(model_uri=f\"models:/Demo/1\")\n"
   ]
  },
  {
   "cell_type": "code",
   "execution_count": 6,
   "id": "ecdcacbd",
   "metadata": {},
   "outputs": [
    {
     "ename": "ModuleNotFoundError",
     "evalue": "No module named 'cuml.explainer'",
     "output_type": "error",
     "traceback": [
      "\u001b[0;31m---------------------------------------------------------------------------\u001b[0m",
      "\u001b[0;31mModuleNotFoundError\u001b[0m                       Traceback (most recent call last)",
      "\u001b[0;32m<ipython-input-6-82a89547bdb3>\u001b[0m in \u001b[0;36m<module>\u001b[0;34m\u001b[0m\n\u001b[0;32m----> 1\u001b[0;31m \u001b[0;32mfrom\u001b[0m \u001b[0mcuml\u001b[0m\u001b[0;34m.\u001b[0m\u001b[0mexplainer\u001b[0m \u001b[0;32mimport\u001b[0m \u001b[0mKernelExplainer\u001b[0m\u001b[0;34m\u001b[0m\u001b[0;34m\u001b[0m\u001b[0m\n\u001b[0m\u001b[1;32m      2\u001b[0m \u001b[0;34m\u001b[0m\u001b[0m\n\u001b[1;32m      3\u001b[0m \u001b[0mcu_explainer\u001b[0m \u001b[0;34m=\u001b[0m \u001b[0mKernelExplainer\u001b[0m\u001b[0;34m(\u001b[0m\u001b[0mmodel\u001b[0m\u001b[0;34m=\u001b[0m\u001b[0mmodel\u001b[0m\u001b[0;34m.\u001b[0m\u001b[0mpredict\u001b[0m\u001b[0;34m,\u001b[0m \u001b[0mdata\u001b[0m\u001b[0;34m=\u001b[0m\u001b[0mX_train\u001b[0m\u001b[0;34m,\u001b[0m \u001b[0mgpu_model\u001b[0m\u001b[0;34m=\u001b[0m\u001b[0;32mTrue\u001b[0m\u001b[0;34m)\u001b[0m\u001b[0;34m\u001b[0m\u001b[0;34m\u001b[0m\u001b[0m\n",
      "\u001b[0;31mModuleNotFoundError\u001b[0m: No module named 'cuml.explainer'"
     ]
    }
   ],
   "source": [
    "from cuml.explainer import KernelExplainer\n",
    "\n",
    "cu_explainer = KernelExplainer(model=model.predict, data=X_train, gpu_model=True)"
   ]
  },
  {
   "cell_type": "code",
   "execution_count": null,
   "id": "a8306eb8",
   "metadata": {},
   "outputs": [],
   "source": [
    "cu_shap_values = cu_explainer.shap_values(X_test)\n",
    "import "
   ]
  }
 ],
 "metadata": {
  "kernelspec": {
   "display_name": "Python 3",
   "language": "python",
   "name": "python3"
  },
  "language_info": {
   "codemirror_mode": {
    "name": "ipython",
    "version": 3
   },
   "file_extension": ".py",
   "mimetype": "text/x-python",
   "name": "python",
   "nbconvert_exporter": "python",
   "pygments_lexer": "ipython3",
   "version": "3.8.8"
  }
 },
 "nbformat": 4,
 "nbformat_minor": 5
}
